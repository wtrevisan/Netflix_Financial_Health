{
 "cells": [
  {
   "cell_type": "markdown",
   "metadata": {},
   "source": [
    "***\n",
    "# `Projeto:` Análise da Saúde Financeira da Empresa Netflix\n",
    "\n",
    "## `Data:` novembro, 2020\n",
    "\n",
    "## `Cientista de Dados:` Walter Trevisan\n",
    "***"
   ]
  },
  {
   "cell_type": "markdown",
   "metadata": {},
   "source": [
    "## `01-` Perfil da Empresa:\n",
    "\n",
    "A **Netflix** é o maior serviço de entretenimento de streaming do mundo, com mais de **195 milhões** de *clientes pagantes* em **mais de 190 países**, desfrutando de séries de TV, documentários e filmes de longa-metragem numa grande variedade de géneros e línguas. Os clientes podem assistir o quanto quiserem, a qualquer hora, em qualquer lugar, em qualquer tela ligada à Internet. Os clientes podem reproduzir, pausar e recomeçar a assistir, tudo sem anúncios ou compromissos."
   ]
  },
  {
   "cell_type": "markdown",
   "metadata": {},
   "source": [
    "## `02-` Problema de Negócio:\n",
    "\n",
    "O objetivo deste projeto é preparar um resumo estatístico dos dados da empresa **Netflix**, demonstrando sua saúde financeira e outras informações relevantes, que poderão ajudar potenciais investidores a decidir sobre investir ou não na companhia.\n",
    "Então, vamos analisar o volume de `Clientes`, as `Receitas`, os `Custos` e os `Rendimentos` no período compreendido de **2012 até 2018** para o segmento ***Domestic Streaming*** (**Transmissão Doméstica**)."
   ]
  },
  {
   "cell_type": "markdown",
   "metadata": {},
   "source": [
    "## Referências:\n",
    "\n",
    "**01:** Projeto da ***`FAECD - Formação Análise Estatística Para Cientista de Dados`*** da **[Data Science Academy](https://www.datascienceacademy.com.br/)**;\n",
    "\n",
    "**02:** Maiores detalhes sobre o projeto poderão se encontrados no documento **`Netflix-Analise_Saude_Financeira.pdf`**, localizado na pasta **`BusinessProblem`**;\n",
    "\n",
    "**03:** Fonte dos dados: **[clique aqui](https://www.netflixinvestor.com/financials/quarterly-earnings/default.aspx)**."
   ]
  },
  {
   "cell_type": "markdown",
   "metadata": {},
   "source": [
    "***\n",
    "# <font color='black'>FIM</font>"
   ]
  }
 ],
 "metadata": {
  "kernelspec": {
   "display_name": "R",
   "language": "R",
   "name": "ir"
  },
  "language_info": {
   "codemirror_mode": "r",
   "file_extension": ".r",
   "mimetype": "text/x-r-source",
   "name": "R",
   "pygments_lexer": "r",
   "version": "3.6.1"
  }
 },
 "nbformat": 4,
 "nbformat_minor": 2
}
