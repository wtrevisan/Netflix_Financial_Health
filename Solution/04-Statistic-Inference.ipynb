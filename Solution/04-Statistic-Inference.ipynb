{
 "cells": [
  {
   "cell_type": "markdown",
   "metadata": {},
   "source": [
    "***\n",
    "![Netflix-Logo.png](..\\Images\\Netflix-Logo.png)\n",
    "# `Projeto:` Análise da Saúde Financeira da Empresa Netflix\n",
    "\n",
    "## `Data:` novembro, 2020\n",
    "\n",
    "## `Cientista de Dados:` Walter Trevisan"
   ]
  },
  {
   "cell_type": "markdown",
   "metadata": {},
   "source": [
    "***\n",
    "## `04-` Statistic Inference:\n",
    "\n",
    "Nesta fase, vamos realizar as seguintes atividades:\n",
    "\n",
    "1. **Carregar** o *dataset* transformado que foi salvo na fase **`02- Get The Data`**;\n",
    "\n",
    "\n",
    "2. Nesta fase realizaremos alguns **testes estatísticos** para fazermos algumas **inferências** sobre os dados. Estas inferências nos auxiliarão a responder algumas questões sobre a saúde financeira da empresa Netflix."
   ]
  },
  {
   "cell_type": "markdown",
   "metadata": {},
   "source": [
    "***\n",
    "## Setup\n",
    ">### Pacotes e Funções"
   ]
  },
  {
   "cell_type": "code",
   "execution_count": 1,
   "metadata": {},
   "outputs": [
    {
     "data": {
      "text/html": [
       "'Loading \"feather\" package...'"
      ],
      "text/latex": [
       "'Loading \"feather\" package...'"
      ],
      "text/markdown": [
       "'Loading \"feather\" package...'"
      ],
      "text/plain": [
       "[1] \"Loading \\\"feather\\\" package...\""
      ]
     },
     "metadata": {},
     "output_type": "display_data"
    },
    {
     "data": {
      "text/html": [
       "'Loading \"tidyverse\" package...'"
      ],
      "text/latex": [
       "'Loading \"tidyverse\" package...'"
      ],
      "text/markdown": [
       "'Loading \"tidyverse\" package...'"
      ],
      "text/plain": [
       "[1] \"Loading \\\"tidyverse\\\" package...\""
      ]
     },
     "metadata": {},
     "output_type": "display_data"
    },
    {
     "name": "stderr",
     "output_type": "stream",
     "text": [
      "Registered S3 method overwritten by 'rvest':\n",
      "  method            from\n",
      "  read_xml.response xml2\n",
      "-- Attaching packages --------------------------------------- tidyverse 1.2.1 --\n",
      "v ggplot2 3.3.2     v purrr   0.3.4\n",
      "v tibble  3.0.1     v dplyr   1.0.0\n",
      "v tidyr   0.8.3     v stringr 1.4.0\n",
      "v readr   1.3.1     v forcats 0.4.0\n",
      "Warning message:\n",
      "\"package 'ggplot2' was built under R version 3.6.3\"Warning message:\n",
      "\"package 'tibble' was built under R version 3.6.3\"Warning message:\n",
      "\"package 'purrr' was built under R version 3.6.3\"Warning message:\n",
      "\"package 'dplyr' was built under R version 3.6.3\"-- Conflicts ------------------------------------------ tidyverse_conflicts() --\n",
      "x dplyr::filter() masks stats::filter()\n",
      "x dplyr::lag()    masks stats::lag()\n"
     ]
    },
    {
     "data": {
      "text/html": [
       "'Loading \"ggplot2\" package...'"
      ],
      "text/latex": [
       "'Loading \"ggplot2\" package...'"
      ],
      "text/markdown": [
       "'Loading \"ggplot2\" package...'"
      ],
      "text/plain": [
       "[1] \"Loading \\\"ggplot2\\\" package...\""
      ]
     },
     "metadata": {},
     "output_type": "display_data"
    },
    {
     "data": {
      "text/html": [
       "'Loading \"gridExtra\" package...'"
      ],
      "text/latex": [
       "'Loading \"gridExtra\" package...'"
      ],
      "text/markdown": [
       "'Loading \"gridExtra\" package...'"
      ],
      "text/plain": [
       "[1] \"Loading \\\"gridExtra\\\" package...\""
      ]
     },
     "metadata": {},
     "output_type": "display_data"
    },
    {
     "name": "stderr",
     "output_type": "stream",
     "text": [
      "\n",
      "Attaching package: 'gridExtra'\n",
      "\n",
      "The following object is masked from 'package:dplyr':\n",
      "\n",
      "    combine\n",
      "\n"
     ]
    },
    {
     "data": {
      "text/html": [
       "'Diretórios do projeto:'"
      ],
      "text/latex": [
       "'Diretórios do projeto:'"
      ],
      "text/markdown": [
       "'Diretórios do projeto:'"
      ],
      "text/plain": [
       "[1] \"Diretórios do projeto:\""
      ]
     },
     "metadata": {},
     "output_type": "display_data"
    },
    {
     "data": {
      "text/html": [
       "<ol class=list-inline>\n",
       "\t<li>'..'</li>\n",
       "\t<li>'../BusinessProblem'</li>\n",
       "\t<li>'../Datasets'</li>\n",
       "\t<li>'../Images'</li>\n",
       "\t<li>'../Solution'</li>\n",
       "\t<li>'../Solution/.ipynb_checkpoints'</li>\n",
       "\t<li>'../Solution/Data'</li>\n",
       "\t<li>'../Solution/Images'</li>\n",
       "\t<li>'../Solution/Images/03-Explore_The_Data'</li>\n",
       "\t<li>'../Solution/Images/04-Statistic_Inference'</li>\n",
       "\t<li>'../StoryTelling'</li>\n",
       "</ol>\n"
      ],
      "text/latex": [
       "\\begin{enumerate*}\n",
       "\\item '..'\n",
       "\\item '../BusinessProblem'\n",
       "\\item '../Datasets'\n",
       "\\item '../Images'\n",
       "\\item '../Solution'\n",
       "\\item '../Solution/.ipynb\\_checkpoints'\n",
       "\\item '../Solution/Data'\n",
       "\\item '../Solution/Images'\n",
       "\\item '../Solution/Images/03-Explore\\_The\\_Data'\n",
       "\\item '../Solution/Images/04-Statistic\\_Inference'\n",
       "\\item '../StoryTelling'\n",
       "\\end{enumerate*}\n"
      ],
      "text/markdown": [
       "1. '..'\n",
       "2. '../BusinessProblem'\n",
       "3. '../Datasets'\n",
       "4. '../Images'\n",
       "5. '../Solution'\n",
       "6. '../Solution/.ipynb_checkpoints'\n",
       "7. '../Solution/Data'\n",
       "8. '../Solution/Images'\n",
       "9. '../Solution/Images/03-Explore_The_Data'\n",
       "10. '../Solution/Images/04-Statistic_Inference'\n",
       "11. '../StoryTelling'\n",
       "\n",
       "\n"
      ],
      "text/plain": [
       " [1] \"..\"                                       \n",
       " [2] \"../BusinessProblem\"                       \n",
       " [3] \"../Datasets\"                              \n",
       " [4] \"../Images\"                                \n",
       " [5] \"../Solution\"                              \n",
       " [6] \"../Solution/.ipynb_checkpoints\"           \n",
       " [7] \"../Solution/Data\"                         \n",
       " [8] \"../Solution/Images\"                       \n",
       " [9] \"../Solution/Images/03-Explore_The_Data\"   \n",
       "[10] \"../Solution/Images/04-Statistic_Inference\"\n",
       "[11] \"../StoryTelling\"                          "
      ]
     },
     "metadata": {},
     "output_type": "display_data"
    },
    {
     "data": {
      "text/html": [
       "'Setup Complete!'"
      ],
      "text/latex": [
       "'Setup Complete!'"
      ],
      "text/markdown": [
       "'Setup Complete!'"
      ],
      "text/plain": [
       "[1] \"Setup Complete!\""
      ]
     },
     "metadata": {},
     "output_type": "display_data"
    }
   ],
   "source": [
    "# Carregando os pacotes:\n",
    "sprintf('Loading \"feather\" package...')\n",
    "library(feather)\n",
    "\n",
    "sprintf('Loading \"tidyverse\" package...')\n",
    "library(tidyverse)\n",
    "\n",
    "sprintf('Loading \"ggplot2\" package...')\n",
    "library(ggplot2)\n",
    "\n",
    "sprintf('Loading \"gridExtra\" package...')\n",
    "library(gridExtra)\n",
    "\n",
    "# Configurando o diretório de trabalho:\n",
    "setwd(\"D:/Portfolio/Netflix-Analise_Saude_Financeira/Solution\")\n",
    "\n",
    "# Definindo o diretório e o nome onde está armazenado o dataset transformado do projeto:\n",
    "PROJECT_DATASET_DIR = \"./Data/\"\n",
    "PROJECT_DATASET_FILE = \"netflix_df.feather\"\n",
    "\n",
    "# Definindo o nome completo (path) onde está armazenado o dataset transformado do projeto:\n",
    "PROJECT_DATASET_PATH = paste(PROJECT_DATASET_DIR,PROJECT_DATASET_FILE, sep = \"\")\n",
    "\n",
    "# Definindo o diretório raiz onde ficarão armazenadas todas as \"Imagens\" (Gráficos) do Projeto:\n",
    "PROJECT_IMG_PATH = \"./Images/\"\n",
    "# Criando o diretório, se ele não existir:\n",
    "if (dir.exists(PROJECT_IMG_PATH) == FALSE){\n",
    "    dir.create(PROJECT_IMG_PATH)\n",
    "}\n",
    "\n",
    "# Definindo o diretório onde ficarão armazenadas as \"Imagens\" (Gráficos) desta fase do Projeto:\n",
    "PROJECT_IMG_PATH = \"./Images/04-Statistic_Inference/\"\n",
    "# Criando o diretório, se ele não existir:\n",
    "if (dir.exists(PROJECT_IMG_PATH) == FALSE){\n",
    "    dir.create(PROJECT_IMG_PATH)\n",
    "}\n",
    "\n",
    "# Definindo o diretório onde ficará armazenado o \"dataset\" do projeto como um objeto \"dataframe\":\n",
    "PROJECT_DATA_PATH = \"./Data/\"\n",
    "# Criando o diretório, se ele não existir:\n",
    "if (dir.exists(PROJECT_DATA_PATH) == FALSE){\n",
    "    dir.create(PROJECT_DATA_PATH)\n",
    "}\n",
    "\n",
    "sprintf(\"Diretórios do projeto:\")\n",
    "list.dirs(path = \"..\", full.names = TRUE, recursive = TRUE)\n",
    "\n",
    "# Configura a linguagem para o ambiente de desenvolvimento:\n",
    "Sys.setenv(LANGUAGE = \"en\")\n",
    "\n",
    "sprintf(\"Setup Complete!\")"
   ]
  },
  {
   "cell_type": "markdown",
   "metadata": {},
   "source": [
    "***\n",
    "## Funções:"
   ]
  },
  {
   "cell_type": "code",
   "execution_count": 2,
   "metadata": {},
   "outputs": [],
   "source": [
    "# Função para criar um dataframe onde serão definidos os parâmetros e resultados do teste-t:\n",
    "data.frame.t_teste <- function(ano1, ano2, feature, H1, NC = 0.95){\n",
    "    # Criando o data frame:\n",
    "    df_teste_t = data.frame(ano2, ano1, stringsAsFactors = FALSE)\n",
    "\n",
    "    # Definindo a variável (feature) utilizada no teste-t:\n",
    "    df_teste_t$feature = feature\n",
    "\n",
    "    # Definindo a hipótese alternativa (H1) do teste-t:\n",
    "    df_teste_t$H1 = H1\n",
    "\n",
    "    # Definindo o nível de confiança (NC) do teste-t:\n",
    "    df_teste_t$NC = NC # 95% é o default, ou seja, alpha = 5%.\n",
    "\n",
    "    # Criando a variável \"valor_p\" onde será armazenado o resultado do teste-t:\n",
    "    df_teste_t$valor_p = 0\n",
    "    \n",
    "    return (df_teste_t)\n",
    "}"
   ]
  },
  {
   "cell_type": "code",
   "execution_count": 3,
   "metadata": {},
   "outputs": [],
   "source": [
    "# Função para realizarmos o \"teste-t\" com mais de duas amostras:\n",
    "teste_t <- function(ano1, ano2, feature, H1, NC = 0.95){\n",
    "    # Criando o data frame onde serão armazenados os parâmetros e resultados do teste-t:\n",
    "    df_teste_t = data.frame.t_teste(ano1, ano2, feature, H1, NC = 0.95)\n",
    "    \n",
    "    # Realizando o teste-t em cada linha do data frame:\n",
    "    for (i in 1:dim(df_teste_t)[1]){\n",
    "        \n",
    "        # Define os vetores com os dados que serão testados:\n",
    "        data1 = subset(df_data, ano == df_teste_t[i, \"ano1\"])[, feature]\n",
    "        data2 = subset(df_data, ano == df_teste_t[i, \"ano2\"])[, feature]\n",
    "        \n",
    "        # Realiza o teste-t:\n",
    "        resultado = t.test(x = data2, y = data1, alternative = df_teste_t[i, \"H1\"], conf.level = df_teste_t[i, \"NC\"])\n",
    "        \n",
    "        # Armazena o \"valor-p\" no data frame:\n",
    "        df_teste_t[i, \"valor_p\"] = resultado$p.value\n",
    "    }\n",
    "    \n",
    "    # Retorna os resultados do teste-t:\n",
    "    return(df_teste_t)\n",
    "}"
   ]
  },
  {
   "cell_type": "markdown",
   "metadata": {},
   "source": [
    "***\n",
    "## `01-` Carregando o *dataset* em um objeto `dataframe`:"
   ]
  },
  {
   "cell_type": "code",
   "execution_count": 4,
   "metadata": {},
   "outputs": [
    {
     "data": {
      "text/html": [
       "<table>\n",
       "<thead><tr><th scope=col>data</th><th scope=col>total_clientes</th><th scope=col>clientes_atuais</th><th scope=col>clientes_novos</th><th scope=col>receita_total</th><th scope=col>custo_da_receita</th><th scope=col>custo_marketing</th><th scope=col>lucro_de_contribuicao</th><th scope=col>margem_de_contribuicao</th><th scope=col>custo_por_cliente</th><th scope=col>receita_por_cliente</th><th scope=col>rendimento_por_cliente</th><th scope=col>segmento</th><th scope=col>trimestre</th><th scope=col>ano</th><th scope=col>custo_total</th><th scope=col>prop_clientes_novos</th><th scope=col>trimestre_cat</th><th scope=col>ano_cat</th></tr></thead>\n",
       "<tbody>\n",
       "\t<tr><td>2012-03-31</td><td>23410     </td><td>22022     </td><td>1388      </td><td>506665    </td><td>360776    </td><td>79381     </td><td> 66508    </td><td>0.131     </td><td>15.41119  </td><td>21.64310  </td><td>6.231909  </td><td>Streaming </td><td>1         </td><td>2012      </td><td>440157    </td><td>0.05929090</td><td>Q1        </td><td>2012      </td></tr>\n",
       "\t<tr><td>2012-06-30</td><td>23938     </td><td>22686     </td><td>1252      </td><td>532705    </td><td>378574    </td><td>70959     </td><td> 83172    </td><td>0.156     </td><td>15.81477  </td><td>22.25353  </td><td>6.438758  </td><td>Streaming </td><td>2         </td><td>2012      </td><td>449533    </td><td>0.05230178</td><td>Q2        </td><td>2012      </td></tr>\n",
       "\t<tr><td>2012-09-30</td><td>25101     </td><td>23801     </td><td>1300      </td><td>556027    </td><td>399124    </td><td>65955     </td><td> 90948    </td><td>0.164     </td><td>15.90072  </td><td>22.15159  </td><td>6.250866  </td><td>Streaming </td><td>3         </td><td>2012      </td><td>465079    </td><td>0.05179077</td><td>Q3        </td><td>2012      </td></tr>\n",
       "\t<tr><td>2012-12-31</td><td>27146     </td><td>25471     </td><td>1675      </td><td>589471    </td><td>420390    </td><td>59777     </td><td>109304    </td><td>0.185     </td><td>15.48626  </td><td>21.71484  </td><td>6.228579  </td><td>Streaming </td><td>4         </td><td>2012      </td><td>480167    </td><td>0.06170338</td><td>Q4        </td><td>2012      </td></tr>\n",
       "\t<tr><td>2013-03-31</td><td>29174     </td><td>27913     </td><td>1261      </td><td>638649    </td><td>440334    </td><td>66965     </td><td>131350    </td><td>0.206     </td><td>15.09337  </td><td>21.89103  </td><td>6.797662  </td><td>Streaming </td><td>1         </td><td>2013      </td><td>507299    </td><td>0.04322342</td><td>Q1        </td><td>2013      </td></tr>\n",
       "\t<tr><td>2013-06-30</td><td>29807     </td><td>28624     </td><td>1183      </td><td>671089    </td><td>452598    </td><td>67177     </td><td>151314    </td><td>0.225     </td><td>15.18429  </td><td>22.51448  </td><td>7.330191  </td><td>Streaming </td><td>2         </td><td>2013      </td><td>519775    </td><td>0.03968866</td><td>Q2        </td><td>2013      </td></tr>\n",
       "</tbody>\n",
       "</table>\n"
      ],
      "text/latex": [
       "\\begin{tabular}{r|lllllllllllllllllll}\n",
       " data & total\\_clientes & clientes\\_atuais & clientes\\_novos & receita\\_total & custo\\_da\\_receita & custo\\_marketing & lucro\\_de\\_contribuicao & margem\\_de\\_contribuicao & custo\\_por\\_cliente & receita\\_por\\_cliente & rendimento\\_por\\_cliente & segmento & trimestre & ano & custo\\_total & prop\\_clientes\\_novos & trimestre\\_cat & ano\\_cat\\\\\n",
       "\\hline\n",
       "\t 2012-03-31 & 23410      & 22022      & 1388       & 506665     & 360776     & 79381      &  66508     & 0.131      & 15.41119   & 21.64310   & 6.231909   & Streaming  & 1          & 2012       & 440157     & 0.05929090 & Q1         & 2012      \\\\\n",
       "\t 2012-06-30 & 23938      & 22686      & 1252       & 532705     & 378574     & 70959      &  83172     & 0.156      & 15.81477   & 22.25353   & 6.438758   & Streaming  & 2          & 2012       & 449533     & 0.05230178 & Q2         & 2012      \\\\\n",
       "\t 2012-09-30 & 25101      & 23801      & 1300       & 556027     & 399124     & 65955      &  90948     & 0.164      & 15.90072   & 22.15159   & 6.250866   & Streaming  & 3          & 2012       & 465079     & 0.05179077 & Q3         & 2012      \\\\\n",
       "\t 2012-12-31 & 27146      & 25471      & 1675       & 589471     & 420390     & 59777      & 109304     & 0.185      & 15.48626   & 21.71484   & 6.228579   & Streaming  & 4          & 2012       & 480167     & 0.06170338 & Q4         & 2012      \\\\\n",
       "\t 2013-03-31 & 29174      & 27913      & 1261       & 638649     & 440334     & 66965      & 131350     & 0.206      & 15.09337   & 21.89103   & 6.797662   & Streaming  & 1          & 2013       & 507299     & 0.04322342 & Q1         & 2013      \\\\\n",
       "\t 2013-06-30 & 29807      & 28624      & 1183       & 671089     & 452598     & 67177      & 151314     & 0.225      & 15.18429   & 22.51448   & 7.330191   & Streaming  & 2          & 2013       & 519775     & 0.03968866 & Q2         & 2013      \\\\\n",
       "\\end{tabular}\n"
      ],
      "text/markdown": [
       "\n",
       "| data | total_clientes | clientes_atuais | clientes_novos | receita_total | custo_da_receita | custo_marketing | lucro_de_contribuicao | margem_de_contribuicao | custo_por_cliente | receita_por_cliente | rendimento_por_cliente | segmento | trimestre | ano | custo_total | prop_clientes_novos | trimestre_cat | ano_cat |\n",
       "|---|---|---|---|---|---|---|---|---|---|---|---|---|---|---|---|---|---|---|\n",
       "| 2012-03-31 | 23410      | 22022      | 1388       | 506665     | 360776     | 79381      |  66508     | 0.131      | 15.41119   | 21.64310   | 6.231909   | Streaming  | 1          | 2012       | 440157     | 0.05929090 | Q1         | 2012       |\n",
       "| 2012-06-30 | 23938      | 22686      | 1252       | 532705     | 378574     | 70959      |  83172     | 0.156      | 15.81477   | 22.25353   | 6.438758   | Streaming  | 2          | 2012       | 449533     | 0.05230178 | Q2         | 2012       |\n",
       "| 2012-09-30 | 25101      | 23801      | 1300       | 556027     | 399124     | 65955      |  90948     | 0.164      | 15.90072   | 22.15159   | 6.250866   | Streaming  | 3          | 2012       | 465079     | 0.05179077 | Q3         | 2012       |\n",
       "| 2012-12-31 | 27146      | 25471      | 1675       | 589471     | 420390     | 59777      | 109304     | 0.185      | 15.48626   | 21.71484   | 6.228579   | Streaming  | 4          | 2012       | 480167     | 0.06170338 | Q4         | 2012       |\n",
       "| 2013-03-31 | 29174      | 27913      | 1261       | 638649     | 440334     | 66965      | 131350     | 0.206      | 15.09337   | 21.89103   | 6.797662   | Streaming  | 1          | 2013       | 507299     | 0.04322342 | Q1         | 2013       |\n",
       "| 2013-06-30 | 29807      | 28624      | 1183       | 671089     | 452598     | 67177      | 151314     | 0.225      | 15.18429   | 22.51448   | 7.330191   | Streaming  | 2          | 2013       | 519775     | 0.03968866 | Q2         | 2013       |\n",
       "\n"
      ],
      "text/plain": [
       "  data       total_clientes clientes_atuais clientes_novos receita_total\n",
       "1 2012-03-31 23410          22022           1388           506665       \n",
       "2 2012-06-30 23938          22686           1252           532705       \n",
       "3 2012-09-30 25101          23801           1300           556027       \n",
       "4 2012-12-31 27146          25471           1675           589471       \n",
       "5 2013-03-31 29174          27913           1261           638649       \n",
       "6 2013-06-30 29807          28624           1183           671089       \n",
       "  custo_da_receita custo_marketing lucro_de_contribuicao margem_de_contribuicao\n",
       "1 360776           79381            66508                0.131                 \n",
       "2 378574           70959            83172                0.156                 \n",
       "3 399124           65955            90948                0.164                 \n",
       "4 420390           59777           109304                0.185                 \n",
       "5 440334           66965           131350                0.206                 \n",
       "6 452598           67177           151314                0.225                 \n",
       "  custo_por_cliente receita_por_cliente rendimento_por_cliente segmento \n",
       "1 15.41119          21.64310            6.231909               Streaming\n",
       "2 15.81477          22.25353            6.438758               Streaming\n",
       "3 15.90072          22.15159            6.250866               Streaming\n",
       "4 15.48626          21.71484            6.228579               Streaming\n",
       "5 15.09337          21.89103            6.797662               Streaming\n",
       "6 15.18429          22.51448            7.330191               Streaming\n",
       "  trimestre ano  custo_total prop_clientes_novos trimestre_cat ano_cat\n",
       "1 1         2012 440157      0.05929090          Q1            2012   \n",
       "2 2         2012 449533      0.05230178          Q2            2012   \n",
       "3 3         2012 465079      0.05179077          Q3            2012   \n",
       "4 4         2012 480167      0.06170338          Q4            2012   \n",
       "5 1         2013 507299      0.04322342          Q1            2013   \n",
       "6 2         2013 519775      0.03968866          Q2            2013   "
      ]
     },
     "metadata": {},
     "output_type": "display_data"
    }
   ],
   "source": [
    "# Fazendo a leitura do dataset, salvando os dados em um objeto \"dataframe\":\n",
    "df_data <- read_feather(path = PROJECT_DATASET_PATH)\n",
    "head(df_data)"
   ]
  },
  {
   "cell_type": "markdown",
   "metadata": {},
   "source": [
    "***\n",
    "## `02-` Inferência Estatística:"
   ]
  },
  {
   "cell_type": "markdown",
   "metadata": {},
   "source": [
    "### `2.1-` Verificar se existe alguma relação de dependência (considerando todo o período) entre a *receita total da empresa* e o volume *total de clientes*, o volume de *clientes atuais* e o volume de *novos clientes*.\n",
    "\n",
    "Para fazermos esta análise, vamos plotar alguns **gráficos de dispersão** e em seguida calcular/testar os *coeficientes de correlação* entre as variáveis:"
   ]
  },
  {
   "cell_type": "markdown",
   "metadata": {},
   "source": [
    "### Clientes versus Receita Total:"
   ]
  },
  {
   "cell_type": "code",
   "execution_count": 5,
   "metadata": {},
   "outputs": [
    {
     "name": "stderr",
     "output_type": "stream",
     "text": [
      "Saving 6.67 x 6.67 in image\n"
     ]
    },
    {
     "data": {
      "image/png": "[encoded data removed]",
      "text/plain": [
       "plot without title"
      ]
     },
     "metadata": {},
     "output_type": "display_data"
    }
   ],
   "source": [
    "# Volume total de clientes vs receita total:\n",
    "p1 <- ggplot(data = df_data, aes(x = total_clientes, y = receita_total)) +\n",
    "            # Aumentando um pouco o tamanho dos pontos:\n",
    "            geom_point(size = 2, color = 'blue') +\n",
    "\n",
    "            # Definindo labels para os eixos \"x\" e \"y\" e um título para o gráfico:\n",
    "            labs(x = \"Total Clientes(Qtde) x 1k\", y = \"Valor($) x 1k\")\n",
    "\n",
    "# Volume de clientes atuais vs receita total:\n",
    "p2 <- ggplot(data = df_data, aes(x = clientes_atuais, y = receita_total)) +\n",
    "            # Aumentando um pouco o tamanho dos pontos:\n",
    "            geom_point(size = 2, color = 'darkgreen') +\n",
    "\n",
    "            # Definindo labels para os eixos \"x\" e \"y\" e um título para o gráfico:\n",
    "            labs(x = \"Clientes Atuais(Qtde) x 1k\", y = \"Valor($) x 1k\")\n",
    "\n",
    "# Volume de clientes novos vs receita total:\n",
    "p3 <- ggplot(data = df_data, aes(x = clientes_novos, y = receita_total)) +\n",
    "            # Aumentando um pouco o tamanho dos pontos:\n",
    "            geom_point(size = 2, color = 'black') +\n",
    "\n",
    "            # Definindo labels para os eixos \"x\" e \"y\" e um título para o gráfico:\n",
    "            labs(x = \"Clientes Novos(Qtde) x 1k\", y = \"Valor($) x 1k\")\n",
    "\n",
    "# Combina os 3 gráficos na mesma área:\n",
    "g <- arrangeGrob(p1, p2, p3, nrow=2, ncol=2, top = \"Volume de Clientes vs Receita Total\")\n",
    "\n",
    "# Plot dos gráficos:\n",
    "grid.arrange(g)\n",
    "\n",
    "# Salva os gráficos:\n",
    "ggsave(filename = \"scatter_plot_clientes_vs_receita_total.pdf\", plot = g, device = \"pdf\", path = PROJECT_IMG_PATH, dpi = 300)"
   ]
  },
  {
   "cell_type": "markdown",
   "metadata": {},
   "source": [
    "**Análise:**\n",
    "\n",
    "* Para os gráficos `Total Clientes vc Receita Total` e `Clientes Atuais vc Receita Total`, observamos uma forte **correlação positiva** entre os clientes e a receita total da empresa;\n",
    "\n",
    "\n",
    "* Entretanto, para o gráfico `Clientes Novos vc Receita Total`, observamos uma correlação positiva entre os clientes novos e a receita total da empresa.\n",
    "\n",
    "Então, vamos realizar *testes de hipóteses* para calcularmos as correlações e verificarmos se existe alguma dependência entre as variáveis."
   ]
  },
  {
   "cell_type": "code",
   "execution_count": 6,
   "metadata": {},
   "outputs": [
    {
     "data": {
      "text/html": [
       "'Testando coeficiente de correlação: Total Clientes vs Receita Total'"
      ],
      "text/latex": [
       "'Testando coeficiente de correlação: Total Clientes vs Receita Total'"
      ],
      "text/markdown": [
       "'Testando coeficiente de correlação: Total Clientes vs Receita Total'"
      ],
      "text/plain": [
       "[1] \"Testando coeficiente de correlação: Total Clientes vs Receita Total\""
      ]
     },
     "metadata": {},
     "output_type": "display_data"
    },
    {
     "data": {
      "text/plain": [
       "\n",
       "\tPearson's product-moment correlation\n",
       "\n",
       "data:  total_clientes and receita_total\n",
       "t = 21.912, df = 26, p-value < 2.2e-16\n",
       "alternative hypothesis: true correlation is greater than 0\n",
       "95 percent confidence interval:\n",
       " 0.9503558 1.0000000\n",
       "sample estimates:\n",
       "      cor \n",
       "0.9739771 \n"
      ]
     },
     "metadata": {},
     "output_type": "display_data"
    },
    {
     "data": {
      "text/html": [
       "'Testando coeficiente de correlação: Clientes Atuais vs Receita Total'"
      ],
      "text/latex": [
       "'Testando coeficiente de correlação: Clientes Atuais vs Receita Total'"
      ],
      "text/markdown": [
       "'Testando coeficiente de correlação: Clientes Atuais vs Receita Total'"
      ],
      "text/plain": [
       "[1] \"Testando coeficiente de correlação: Clientes Atuais vs Receita Total\""
      ]
     },
     "metadata": {},
     "output_type": "display_data"
    },
    {
     "data": {
      "text/plain": [
       "\n",
       "\tPearson's product-moment correlation\n",
       "\n",
       "data:  clientes_atuais and receita_total\n",
       "t = 20.735, df = 26, p-value < 2.2e-16\n",
       "alternative hypothesis: true correlation is greater than 0\n",
       "95 percent confidence interval:\n",
       " 0.94488 1.00000\n",
       "sample estimates:\n",
       "      cor \n",
       "0.9710681 \n"
      ]
     },
     "metadata": {},
     "output_type": "display_data"
    },
    {
     "data": {
      "text/html": [
       "'Testando coeficiente de correlação: Clientes Novos vs Receita Total'"
      ],
      "text/latex": [
       "'Testando coeficiente de correlação: Clientes Novos vs Receita Total'"
      ],
      "text/markdown": [
       "'Testando coeficiente de correlação: Clientes Novos vs Receita Total'"
      ],
      "text/plain": [
       "[1] \"Testando coeficiente de correlação: Clientes Novos vs Receita Total\""
      ]
     },
     "metadata": {},
     "output_type": "display_data"
    },
    {
     "data": {
      "text/plain": [
       "\n",
       "\tPearson's product-moment correlation\n",
       "\n",
       "data:  clientes_novos and receita_total\n",
       "t = 2.8284, df = 26, p-value = 0.004445\n",
       "alternative hypothesis: true correlation is greater than 0\n",
       "95 percent confidence interval:\n",
       " 0.1979726 1.0000000\n",
       "sample estimates:\n",
       "      cor \n",
       "0.4850694 \n"
      ]
     },
     "metadata": {},
     "output_type": "display_data"
    }
   ],
   "source": [
    "# Testes de hipóteses:\n",
    "# 01- Vamos calcular e testar a \"correlação\" entre o volume \"Total Clientes\" e a \"Receita Total\" da empresa:\n",
    "sprintf(\"Testando coeficiente de correlação: Total Clientes vs Receita Total\")\n",
    "with(df_data, cor.test(total_clientes, receita_total, alternative = \"greater\"))\n",
    "\n",
    "# 02- Vamos calcular e testar a \"correlação\" entre o volume de \"Clientes Atuais\" e a \"Receita Total\" da empresa:\n",
    "sprintf(\"Testando coeficiente de correlação: Clientes Atuais vs Receita Total\")\n",
    "with(df_data, cor.test(clientes_atuais, receita_total, alternative = \"greater\"))\n",
    "\n",
    "# 03- Vamos calcular e testar a \"correlação\" entre o volume de \"Clientes Novos\" e a \"Receita Total\" da empresa:\n",
    "sprintf(\"Testando coeficiente de correlação: Clientes Novos vs Receita Total\")\n",
    "with(df_data, cor.test(clientes_novos, receita_total, alternative = \"greater\"))"
   ]
  },
  {
   "cell_type": "markdown",
   "metadata": {},
   "source": [
    "**Conclusão:**\n",
    "\n",
    "* **`Total Clientes vs Receita Total`**: como `p-value < 0.05` rejeitamos a hipótese nula (H0) e confirmamos que existe uma forte correlação positiva (`cor = 0.974`) entre as variáveis, ou seja, **a medida que aumenta o volume total de clientes aumenta a receita total da empresa**. Portanto, **a receita total é dependente do volume total de clientes**;\n",
    "\n",
    "\n",
    "* **`Clientes Atuais vs Receita Total`**: como `p-value < 0.05` rejeitamos a hipótese nula (H0) e confirmamos que existe uma forte correlação positiva (`cor = 0.971`) entre as variáveis, ou seja, **a medida que aumenta o volume de clientes atuais aumenta a receita total da empresa**. Portanto, **a receita total é dependente do volume de clientes atuais**;\n",
    "\n",
    "\n",
    "* **`Clientes Novos vs Receita Total`**: como `p-value < 0.05` rejeitamos a hipótese nula (H0) e confirmamos que existe uma correlação positiva (`cor = 0.485`) entre as variáveis, ou seja, **a medida que aumenta o volume de clientes novos aumenta a receita total da empresa**. Portanto, **a receita total é dependente do volume de clientes novos**."
   ]
  },
  {
   "cell_type": "markdown",
   "metadata": {},
   "source": [
    "### `2.2-` Verificar se existe alguma relação de dependência (considerando todo o período) entre o *custo total da empresa* e o volume *total de clientes*, o volume de *clientes atuais* e o volume de *novos clientes*.\n",
    "\n",
    "Para fazermos esta análise, vamos plotar alguns **gráficos de dispersão** e em seguida calcular/testar os *coeficientes de correlação* entre as variáveis:"
   ]
  },
  {
   "cell_type": "markdown",
   "metadata": {},
   "source": [
    "### Clientes versus Custo Total:"
   ]
  },
  {
   "cell_type": "code",
   "execution_count": 7,
   "metadata": {},
   "outputs": [
    {
     "name": "stderr",
     "output_type": "stream",
     "text": [
      "Saving 6.67 x 6.67 in image\n"
     ]
    },
    {
     "data": {
      "image/png": "[encoded data removed]",
      "text/plain": [
       "plot without title"
      ]
     },
     "metadata": {},
     "output_type": "display_data"
    }
   ],
   "source": [
    "# Volume total de clientes vs custo total:\n",
    "p1 <- ggplot(data = df_data, aes(x = total_clientes, y = custo_total)) +\n",
    "            # Aumentando um pouco o tamanho dos pontos:\n",
    "            geom_point(size = 2, color = 'blue') +\n",
    "\n",
    "            # Definindo labels para os eixos \"x\" e \"y\" e um título para o gráfico:\n",
    "            labs(x = \"Total Clientes(Qtde) x 1k\", y = \"Valor($) x 1k\")\n",
    "\n",
    "# Volume de clientes atuais vs custo total:\n",
    "p2 <- ggplot(data = df_data, aes(x = clientes_atuais, y = custo_total)) +\n",
    "            # Aumentando um pouco o tamanho dos pontos:\n",
    "            geom_point(size = 2, color = 'darkgreen') +\n",
    "\n",
    "            # Definindo labels para os eixos \"x\" e \"y\" e um título para o gráfico:\n",
    "            labs(x = \"Clientes Atuais(Qtde) x 1k\", y = \"Valor($) x 1k\")\n",
    "\n",
    "# Volume de clientes novos vs custo total:\n",
    "p3 <- ggplot(data = df_data, aes(x = clientes_novos, y = custo_total)) +\n",
    "            # Aumentando um pouco o tamanho dos pontos:\n",
    "            geom_point(size = 2, color = 'black') +\n",
    "\n",
    "            # Definindo labels para os eixos \"x\" e \"y\" e um título para o gráfico:\n",
    "            labs(x = \"Clientes Novos(Qtde) x 1k\", y = \"Valor($) x 1k\")\n",
    "\n",
    "# Combina os 3 gráficos na mesma área:\n",
    "g <- arrangeGrob(p1, p2, p3, nrow=2, ncol=2, top = \"Volume de Clientes vs Custo Total\")\n",
    "\n",
    "# Plot dos gráficos:\n",
    "grid.arrange(g)\n",
    "\n",
    "# Salva os gráficos:\n",
    "ggsave(filename = \"scatter_plot_clientes_vs_custo_total.pdf\", plot = g, device = \"pdf\", path = PROJECT_IMG_PATH, dpi = 300)"
   ]
  },
  {
   "cell_type": "markdown",
   "metadata": {},
   "source": [
    "**Análise:**\n",
    "\n",
    "* Para os gráficos `Total Clientes vc Custo Total` e `Clientes Atuais vc Custo Total`, observamos uma forte **correlação positiva** entre os clientes e o custo total da empresa;\n",
    "\n",
    "\n",
    "* Entretanto, para o gráfico `Clientes Novos vc Custo Total`, observamos uma correlação positiva entre os clientes novos e o custo total da empresa.\n",
    "\n",
    "Então, vamos realizar *testes de hipóteses* para calcularmos as correlações e verificarmos se existe alguma dependência entre as variáveis."
   ]
  },
  {
   "cell_type": "code",
   "execution_count": 8,
   "metadata": {},
   "outputs": [
    {
     "data": {
      "text/html": [
       "'Testando coeficiente de correlação: Total Clientes vs Custo Total'"
      ],
      "text/latex": [
       "'Testando coeficiente de correlação: Total Clientes vs Custo Total'"
      ],
      "text/markdown": [
       "'Testando coeficiente de correlação: Total Clientes vs Custo Total'"
      ],
      "text/plain": [
       "[1] \"Testando coeficiente de correlação: Total Clientes vs Custo Total\""
      ]
     },
     "metadata": {},
     "output_type": "display_data"
    },
    {
     "data": {
      "text/plain": [
       "\n",
       "\tPearson's product-moment correlation\n",
       "\n",
       "data:  total_clientes and custo_total\n",
       "t = 16.027, df = 26, p-value = 2.709e-15\n",
       "alternative hypothesis: true correlation is greater than 0\n",
       "95 percent confidence interval:\n",
       " 0.9110706 1.0000000\n",
       "sample estimates:\n",
       "      cor \n",
       "0.9529331 \n"
      ]
     },
     "metadata": {},
     "output_type": "display_data"
    },
    {
     "data": {
      "text/html": [
       "'Testando coeficiente de correlação: Clientes Atuais vs Custo Total'"
      ],
      "text/latex": [
       "'Testando coeficiente de correlação: Clientes Atuais vs Custo Total'"
      ],
      "text/markdown": [
       "'Testando coeficiente de correlação: Clientes Atuais vs Custo Total'"
      ],
      "text/plain": [
       "[1] \"Testando coeficiente de correlação: Clientes Atuais vs Custo Total\""
      ]
     },
     "metadata": {},
     "output_type": "display_data"
    },
    {
     "data": {
      "text/plain": [
       "\n",
       "\tPearson's product-moment correlation\n",
       "\n",
       "data:  clientes_atuais and custo_total\n",
       "t = 15.244, df = 26, p-value = 8.834e-15\n",
       "alternative hypothesis: true correlation is greater than 0\n",
       "95 percent confidence interval:\n",
       " 0.9026139 1.0000000\n",
       "sample estimates:\n",
       "      cor \n",
       "0.9483497 \n"
      ]
     },
     "metadata": {},
     "output_type": "display_data"
    },
    {
     "data": {
      "text/html": [
       "'Testando coeficiente de correlação: Clientes Novos vs Custo Total'"
      ],
      "text/latex": [
       "'Testando coeficiente de correlação: Clientes Novos vs Custo Total'"
      ],
      "text/markdown": [
       "'Testando coeficiente de correlação: Clientes Novos vs Custo Total'"
      ],
      "text/plain": [
       "[1] \"Testando coeficiente de correlação: Clientes Novos vs Custo Total\""
      ]
     },
     "metadata": {},
     "output_type": "display_data"
    },
    {
     "data": {
      "text/plain": [
       "\n",
       "\tPearson's product-moment correlation\n",
       "\n",
       "data:  clientes_novos and custo_total\n",
       "t = 3.3054, df = 26, p-value = 0.001385\n",
       "alternative hypothesis: true correlation is greater than 0\n",
       "95 percent confidence interval:\n",
       " 0.2736295 1.0000000\n",
       "sample estimates:\n",
       "      cor \n",
       "0.5439537 \n"
      ]
     },
     "metadata": {},
     "output_type": "display_data"
    }
   ],
   "source": [
    "# Testes de hipóteses:\n",
    "# 01- Vamos calcular e testar a \"correlação\" entre o volume \"Total Clientes\" e o \"Custo Total\" da empresa:\n",
    "sprintf(\"Testando coeficiente de correlação: Total Clientes vs Custo Total\")\n",
    "with(df_data, cor.test(total_clientes, custo_total, alternative = \"greater\"))\n",
    "\n",
    "# 02- Vamos calcular e testar a \"correlação\" entre o volume de \"Clientes Atuais\" e o \"Custo Total\" da empresa:\n",
    "sprintf(\"Testando coeficiente de correlação: Clientes Atuais vs Custo Total\")\n",
    "with(df_data, cor.test(clientes_atuais, custo_total, alternative = \"greater\"))\n",
    "\n",
    "# 03- Vamos calcular e testar a \"correlação\" entre o volume de \"Clientes Novos\" e o \"Custo Total\" da empresa:\n",
    "sprintf(\"Testando coeficiente de correlação: Clientes Novos vs Custo Total\")\n",
    "with(df_data, cor.test(clientes_novos, custo_total, alternative = \"greater\"))"
   ]
  },
  {
   "cell_type": "markdown",
   "metadata": {},
   "source": [
    "**Conclusão:**\n",
    "\n",
    "* **`Total Clientes vs Custo Total`**: como `p-value < 0.05` rejeitamos a hipótese nula (H0) e confirmamos que existe uma forte correlação positiva (`cor = 0.953`) entre as variáveis, ou seja, **a medida que aumenta o volume total de clientes aumenta o custo total da empresa**. Portanto, **o custo total é dependente do volume total de clientes**;\n",
    "\n",
    "\n",
    "* **`Clientes Atuais vs Custo Total`**: como `p-value < 0.05` rejeitamos a hipótese nula (H0) e confirmamos que existe uma forte correlação positiva (`cor = 0.948`) entre as variáveis, ou seja, **a medida que aumenta o volume de clientes atuais aumenta o custo total da empresa**. Portanto, **o custo total é dependente do volume de clientes atuais**;\n",
    "\n",
    "\n",
    "* **`Clientes Novos vs Custo Total`**: como `p-value < 0.05` rejeitamos a hipótese nula (H0) e confirmamos que existe uma correlação positiva (`cor = 0.544`) entre as variáveis, ou seja, **a medida que aumenta o volume de clientes novos aumenta o custo total da empresa**. Portanto, **o custo total é dependente do volume de clientes novos**."
   ]
  },
  {
   "cell_type": "markdown",
   "metadata": {},
   "source": [
    "### `2.3-` Verificar se existe alguma relação de dependência (considerando todo o período) entre o *custo da receita da empresa* e o volume *total de clientes*, o volume de *clientes atuais* e o volume de *novos clientes*.\n",
    "\n",
    "Para fazermos esta análise, vamos plotar alguns **gráficos de dispersão** e em seguida calcular/testar os *coeficientes de correlação* entre as variáveis:"
   ]
  },
  {
   "cell_type": "markdown",
   "metadata": {},
   "source": [
    "### Clientes versus Custo da Receita:"
   ]
  },
  {
   "cell_type": "code",
   "execution_count": 9,
   "metadata": {},
   "outputs": [
    {
     "name": "stderr",
     "output_type": "stream",
     "text": [
      "Saving 6.67 x 6.67 in image\n"
     ]
    },
    {
     "data": {
      "image/png": "[encoded data removed]",
      "text/plain": [
       "plot without title"
      ]
     },
     "metadata": {},
     "output_type": "display_data"
    }
   ],
   "source": [
    "# Volume total de clientes vs custo da receita:\n",
    "p1 <- ggplot(data = df_data, aes(x = total_clientes, y = custo_da_receita)) +\n",
    "            # Aumentando um pouco o tamanho dos pontos:\n",
    "            geom_point(size = 2, color = 'blue') +\n",
    "\n",
    "            # Definindo labels para os eixos \"x\" e \"y\" e um título para o gráfico:\n",
    "            labs(x = \"Total Clientes(Qtde) x 1k\", y = \"Valor($) x 1k\")\n",
    "\n",
    "# Volume de clientes atuais vs custo da receita:\n",
    "p2 <- ggplot(data = df_data, aes(x = clientes_atuais, y = custo_da_receita)) +\n",
    "            # Aumentando um pouco o tamanho dos pontos:\n",
    "            geom_point(size = 2, color = 'darkgreen') +\n",
    "\n",
    "            # Definindo labels para os eixos \"x\" e \"y\" e um título para o gráfico:\n",
    "            labs(x = \"Clientes Atuais(Qtde) x 1k\", y = \"Valor($) x 1k\")\n",
    "\n",
    "# Volume de clientes novos vs custo da receita:\n",
    "p3 <- ggplot(data = df_data, aes(x = clientes_novos, y = custo_da_receita)) +\n",
    "            # Aumentando um pouco o tamanho dos pontos:\n",
    "            geom_point(size = 2, color = 'black') +\n",
    "\n",
    "            # Definindo labels para os eixos \"x\" e \"y\" e um título para o gráfico:\n",
    "            labs(x = \"Clientes Novos(Qtde) x 1k\", y = \"Valor($) x 1k\")\n",
    "\n",
    "# Combina os 3 gráficos na mesma área:\n",
    "g <- arrangeGrob(p1, p2, p3, nrow=2, ncol=2, top = \"Volume de Clientes vs Custo da Receita\")\n",
    "\n",
    "# Plot dos gráficos:\n",
    "grid.arrange(g)\n",
    "\n",
    "# Salva os gráficos:\n",
    "ggsave(filename = \"scatter_plot_clientes_vs_custo_receita.pdf\", plot = g, device = \"pdf\", path = PROJECT_IMG_PATH, dpi = 300)"
   ]
  },
  {
   "cell_type": "markdown",
   "metadata": {},
   "source": [
    "**Análise:**\n",
    "\n",
    "* Para os gráficos `Total Clientes vc Custo da Receita` e `Clientes Atuais vc Custo da Receita`, observamos uma forte **correlação positiva** entre os clientes e o custo da receita da empresa;\n",
    "\n",
    "\n",
    "* Entretanto, para o gráfico `Clientes Novos vc Custo da Receita`, observamos uma correlação positiva entre os clientes novos e o custo da receita da empresa.\n",
    "\n",
    "Então, vamos realizar *testes de hipóteses* para calcularmos as correlações e verificarmos se existe alguma dependência entre as variáveis."
   ]
  },
  {
   "cell_type": "code",
   "execution_count": 10,
   "metadata": {},
   "outputs": [
    {
     "data": {
      "text/html": [
       "'Testando coeficiente de correlação: Total Clientes vs Custo da Receita'"
      ],
      "text/latex": [
       "'Testando coeficiente de correlação: Total Clientes vs Custo da Receita'"
      ],
      "text/markdown": [
       "'Testando coeficiente de correlação: Total Clientes vs Custo da Receita'"
      ],
      "text/plain": [
       "[1] \"Testando coeficiente de correlação: Total Clientes vs Custo da Receita\""
      ]
     },
     "metadata": {},
     "output_type": "display_data"
    },
    {
     "data": {
      "text/plain": [
       "\n",
       "\tPearson's product-moment correlation\n",
       "\n",
       "data:  total_clientes and custo_da_receita\n",
       "t = 22.566, df = 26, p-value < 2.2e-16\n",
       "alternative hypothesis: true correlation is greater than 0\n",
       "95 percent confidence interval:\n",
       " 0.9530546 1.0000000\n",
       "sample estimates:\n",
       "      cor \n",
       "0.9754079 \n"
      ]
     },
     "metadata": {},
     "output_type": "display_data"
    },
    {
     "data": {
      "text/html": [
       "'Testando coeficiente de correlação: Clientes Atuais vs Custo da Receita'"
      ],
      "text/latex": [
       "'Testando coeficiente de correlação: Clientes Atuais vs Custo da Receita'"
      ],
      "text/markdown": [
       "'Testando coeficiente de correlação: Clientes Atuais vs Custo da Receita'"
      ],
      "text/plain": [
       "[1] \"Testando coeficiente de correlação: Clientes Atuais vs Custo da Receita\""
      ]
     },
     "metadata": {},
     "output_type": "display_data"
    },
    {
     "data": {
      "text/plain": [
       "\n",
       "\tPearson's product-moment correlation\n",
       "\n",
       "data:  clientes_atuais and custo_da_receita\n",
       "t = 21.218, df = 26, p-value < 2.2e-16\n",
       "alternative hypothesis: true correlation is greater than 0\n",
       "95 percent confidence interval:\n",
       " 0.9472326 1.0000000\n",
       "sample estimates:\n",
       "      cor \n",
       "0.9723188 \n"
      ]
     },
     "metadata": {},
     "output_type": "display_data"
    },
    {
     "data": {
      "text/html": [
       "'Testando coeficiente de correlação: Clientes Novos vs Custo da Receita'"
      ],
      "text/latex": [
       "'Testando coeficiente de correlação: Clientes Novos vs Custo da Receita'"
      ],
      "text/markdown": [
       "'Testando coeficiente de correlação: Clientes Novos vs Custo da Receita'"
      ],
      "text/plain": [
       "[1] \"Testando coeficiente de correlação: Clientes Novos vs Custo da Receita\""
      ]
     },
     "metadata": {},
     "output_type": "display_data"
    },
    {
     "data": {
      "text/plain": [
       "\n",
       "\tPearson's product-moment correlation\n",
       "\n",
       "data:  clientes_novos and custo_da_receita\n",
       "t = 2.8878, df = 26, p-value = 0.003857\n",
       "alternative hypothesis: true correlation is greater than 0\n",
       "95 percent confidence interval:\n",
       " 0.2077179 1.0000000\n",
       "sample estimates:\n",
       "      cor \n",
       "0.4928032 \n"
      ]
     },
     "metadata": {},
     "output_type": "display_data"
    }
   ],
   "source": [
    "# Testes de hipóteses:\n",
    "# 01- Vamos calcular e testar a \"correlação\" entre o volume \"Total Clientes\" e o \"Custo da Receita\" da empresa:\n",
    "sprintf(\"Testando coeficiente de correlação: Total Clientes vs Custo da Receita\")\n",
    "with(df_data, cor.test(total_clientes, custo_da_receita, alternative = \"greater\"))\n",
    "\n",
    "# 02- Vamos calcular e testar a \"correlação\" entre o volume de \"Clientes Atuais\" e o \"Custo da Receita\" da empresa:\n",
    "sprintf(\"Testando coeficiente de correlação: Clientes Atuais vs Custo da Receita\")\n",
    "with(df_data, cor.test(clientes_atuais, custo_da_receita, alternative = \"greater\"))\n",
    "\n",
    "# 03- Vamos calcular e testar a \"correlação\" entre o volume de \"Clientes Novos\" e o \"Custo da Receita\" da empresa:\n",
    "sprintf(\"Testando coeficiente de correlação: Clientes Novos vs Custo da Receita\")\n",
    "with(df_data, cor.test(clientes_novos, custo_da_receita, alternative = \"greater\"))"
   ]
  },
  {
   "cell_type": "markdown",
   "metadata": {},
   "source": [
    "**Conclusão:**\n",
    "\n",
    "* **`Total Clientes vs Custo da Receita`**: como `p-value < 0.05` rejeitamos a hipótese nula (H0) e confirmamos que existe uma forte correlação positiva (`cor = 0.975`) entre as variáveis, ou seja, **a medida que aumenta o volume total de clientes aumenta o custo da receita**. Portanto, **o custo da receita é dependente do volume total de clientes**;\n",
    "\n",
    "\n",
    "* **`Clientes Atuais vs Custo da Receita`**: como `p-value < 0.05` rejeitamos a hipótese nula (H0) e confirmamos que existe uma forte correlação positiva (`cor = 0.972`) entre as variáveis, ou seja, **a medida que aumenta o volume de clientes atuais aumenta o custo da receita**. Portanto, **o custo da receita é dependente do volume de clientes atuais**;\n",
    "\n",
    "\n",
    "* **`Clientes Novos vs Custo da Receita`**: como `p-value < 0.05` rejeitamos a hipótese nula (H0) e confirmamos que existe uma correlação positiva (`cor = 0.493`) entre as variáveis, ou seja, **a medida que aumenta o volume de clientes novos aumenta o custo da receita**. Portanto, **o custo da receita é dependente do volume de clientes novos**."
   ]
  },
  {
   "cell_type": "markdown",
   "metadata": {},
   "source": [
    "### `2.4-` Verificar se existe alguma relação de dependência (considerando todo o período) entre o *custo de marketing da empresa* e o volume *total de clientes*, o volume de *clientes atuais* e o volume de *novos clientes*.\n",
    "\n",
    "Para fazermos esta análise, vamos plotar alguns **gráficos de dispersão** e em seguida calcular/testar os *coeficientes de correlação* entre as variáveis:"
   ]
  },
  {
   "cell_type": "markdown",
   "metadata": {},
   "source": [
    "### Clientes versus Custo de Marketing:"
   ]
  },
  {
   "cell_type": "code",
   "execution_count": 11,
   "metadata": {},
   "outputs": [
    {
     "name": "stderr",
     "output_type": "stream",
     "text": [
      "Saving 6.67 x 6.67 in image\n"
     ]
    },
    {
     "data": {
      "image/png": "[encoded data removed]",
      "text/plain": [
       "plot without title"
      ]
     },
     "metadata": {},
     "output_type": "display_data"
    }
   ],
   "source": [
    "# Volume total de clientes vs custo de marketing:\n",
    "p1 <- ggplot(data = df_data, aes(x = total_clientes, y = custo_marketing)) +\n",
    "            # Aumentando um pouco o tamanho dos pontos:\n",
    "            geom_point(size = 2, color = 'blue') +\n",
    "\n",
    "            # Definindo labels para os eixos \"x\" e \"y\" e um título para o gráfico:\n",
    "            labs(x = \"Total Clientes(Qtde) x 1k\", y = \"Valor($) x 1k\")\n",
    "\n",
    "# Volume de clientes atuais vs custo de marketing:\n",
    "p2 <- ggplot(data = df_data, aes(x = clientes_atuais, y = custo_marketing)) +\n",
    "            # Aumentando um pouco o tamanho dos pontos:\n",
    "            geom_point(size = 2, color = 'darkgreen') +\n",
    "\n",
    "            # Definindo labels para os eixos \"x\" e \"y\" e um título para o gráfico:\n",
    "            labs(x = \"Clientes Atuais(Qtde) x 1k\", y = \"Valor($) x 1k\")\n",
    "\n",
    "# Volume de clientes novos vs custo de marketing:\n",
    "p3 <- ggplot(data = df_data, aes(x = clientes_novos, y = custo_marketing)) +\n",
    "            # Aumentando um pouco o tamanho dos pontos:\n",
    "            geom_point(size = 2, color = 'black') +\n",
    "\n",
    "            # Definindo labels para os eixos \"x\" e \"y\" e um título para o gráfico:\n",
    "            labs(x = \"Clientes Novos(Qtde) x 1k\", y = \"Valor($) x 1k\")\n",
    "\n",
    "# Combina os 3 gráficos na mesma área:\n",
    "g <- arrangeGrob(p1, p2, p3, nrow=2, ncol=2, top = \"Volume de Clientes vs Custo de Marketing\")\n",
    "\n",
    "# Plot dos gráficos:\n",
    "grid.arrange(g)\n",
    "\n",
    "# Salva os gráficos:\n",
    "ggsave(filename = \"scatter_plot_clientes_vs_custo_marketing.pdf\", plot = g, device = \"pdf\", path = PROJECT_IMG_PATH, dpi = 300)"
   ]
  },
  {
   "cell_type": "markdown",
   "metadata": {},
   "source": [
    "**Análise:**\n",
    "\n",
    "* Para os gráficos `Total Clientes vc Custo de Marketing`, `Clientes Atuais vc Custo de Marketing` e `Clientes Novos vc Custo de Marketing`, observamos uma **correlação positiva** entre os clientes e o custo de marketing da empresa.\n",
    "\n",
    "Então, vamos realizar *testes de hipóteses* para calcularmos as correlações e verificarmos se existe alguma dependência entre as variáveis."
   ]
  },
  {
   "cell_type": "code",
   "execution_count": 12,
   "metadata": {},
   "outputs": [
    {
     "data": {
      "text/html": [
       "'Testando coeficiente de correlação: Total Clientes vs Custo de Marketing'"
      ],
      "text/latex": [
       "'Testando coeficiente de correlação: Total Clientes vs Custo de Marketing'"
      ],
      "text/markdown": [
       "'Testando coeficiente de correlação: Total Clientes vs Custo de Marketing'"
      ],
      "text/plain": [
       "[1] \"Testando coeficiente de correlação: Total Clientes vs Custo de Marketing\""
      ]
     },
     "metadata": {},
     "output_type": "display_data"
    },
    {
     "data": {
      "text/plain": [
       "\n",
       "\tPearson's product-moment correlation\n",
       "\n",
       "data:  total_clientes and custo_marketing\n",
       "t = 6.5814, df = 26, p-value = 2.795e-07\n",
       "alternative hypothesis: true correlation is greater than 0\n",
       "95 percent confidence interval:\n",
       " 0.6314412 1.0000000\n",
       "sample estimates:\n",
       "      cor \n",
       "0.7905063 \n"
      ]
     },
     "metadata": {},
     "output_type": "display_data"
    },
    {
     "data": {
      "text/html": [
       "'Testando coeficiente de correlação: Clientes Atuais vs Custo de Marketing'"
      ],
      "text/latex": [
       "'Testando coeficiente de correlação: Clientes Atuais vs Custo de Marketing'"
      ],
      "text/markdown": [
       "'Testando coeficiente de correlação: Clientes Atuais vs Custo de Marketing'"
      ],
      "text/plain": [
       "[1] \"Testando coeficiente de correlação: Clientes Atuais vs Custo de Marketing\""
      ]
     },
     "metadata": {},
     "output_type": "display_data"
    },
    {
     "data": {
      "text/plain": [
       "\n",
       "\tPearson's product-moment correlation\n",
       "\n",
       "data:  clientes_atuais and custo_marketing\n",
       "t = 6.3921, df = 26, p-value = 4.512e-07\n",
       "alternative hypothesis: true correlation is greater than 0\n",
       "95 percent confidence interval:\n",
       " 0.6174437 1.0000000\n",
       "sample estimates:\n",
       "      cor \n",
       "0.7817418 \n"
      ]
     },
     "metadata": {},
     "output_type": "display_data"
    },
    {
     "data": {
      "text/html": [
       "'Testando coeficiente de correlação: Clientes Novos vs Custo de Marketing'"
      ],
      "text/latex": [
       "'Testando coeficiente de correlação: Clientes Novos vs Custo de Marketing'"
      ],
      "text/markdown": [
       "'Testando coeficiente de correlação: Clientes Novos vs Custo de Marketing'"
      ],
      "text/plain": [
       "[1] \"Testando coeficiente de correlação: Clientes Novos vs Custo de Marketing\""
      ]
     },
     "metadata": {},
     "output_type": "display_data"
    },
    {
     "data": {
      "text/plain": [
       "\n",
       "\tPearson's product-moment correlation\n",
       "\n",
       "data:  clientes_novos and custo_marketing\n",
       "t = 4.3541, df = 26, p-value = 9.239e-05\n",
       "alternative hypothesis: true correlation is greater than 0\n",
       "95 percent confidence interval:\n",
       " 0.4179819 1.0000000\n",
       "sample estimates:\n",
       "      cor \n",
       "0.6493737 \n"
      ]
     },
     "metadata": {},
     "output_type": "display_data"
    }
   ],
   "source": [
    "# Testes de hipóteses:\n",
    "# 01- Vamos calcular e testar a \"correlação\" entre o volume \"Total Clientes\" e o \"Custo de Marketing\" da empresa:\n",
    "sprintf(\"Testando coeficiente de correlação: Total Clientes vs Custo de Marketing\")\n",
    "with(df_data, cor.test(total_clientes, custo_marketing, alternative = \"greater\"))\n",
    "\n",
    "# 02- Vamos calcular e testar a \"correlação\" entre o volume de \"Clientes Atuais\" e o \"Custo de Marketing\" da empresa:\n",
    "sprintf(\"Testando coeficiente de correlação: Clientes Atuais vs Custo de Marketing\")\n",
    "with(df_data, cor.test(clientes_atuais, custo_marketing, alternative = \"greater\"))\n",
    "\n",
    "# 03- Vamos calcular e testar a \"correlação\" entre o volume de \"Clientes Novos\" e o \"Custo de Marketing\" da empresa:\n",
    "sprintf(\"Testando coeficiente de correlação: Clientes Novos vs Custo de Marketing\")\n",
    "with(df_data, cor.test(clientes_novos, custo_marketing, alternative = \"greater\"))"
   ]
  },
  {
   "cell_type": "markdown",
   "metadata": {},
   "source": [
    "**Conclusão:**\n",
    "\n",
    "* **`Total Clientes vs Custo de marketing`**: como `p-value < 0.05` rejeitamos a hipótese nula (H0) e confirmamos que existe uma correlação positiva (`cor = 0.790`) entre as variáveis, ou seja, **a medida que aumenta o volume total de clientes aumenta o custo de marketing da empresa**. Portanto, **o custo de marketing é dependente do volume total de clientes**;\n",
    "\n",
    "\n",
    "* **`Clientes Atuais vs Custo de marketing`**: como `p-value < 0.05` rejeitamos a hipótese nula (H0) e confirmamos que existe uma correlação positiva (`cor = 0.782`) entre as variáveis, ou seja, **a medida que aumenta o volume de clientes atuais aumenta o custo de marketing da empresa**. Portanto, **o custo de marketing é dependente do volume de clientes atuais**;\n",
    "\n",
    "\n",
    "* **`Clientes Novos vs Custo de marketing`**: como `p-value < 0.05` rejeitamos a hipótese nula (H0) e confirmamos que existe uma correlação positiva (`cor = 0.649`) entre as variáveis, ou seja, **a medida que aumenta o volume de clientes novos aumenta o custo de marketing da empresa**. Portanto, **o custo de marketing é dependente do volume de clientes novos**."
   ]
  },
  {
   "cell_type": "markdown",
   "metadata": {},
   "source": [
    "### `2.5-` Verificar se existe alguma relação de dependência (considerando todo o período) entre o *custo de marketing da empresa* com a *receita total*, com a *margem de contribuição* e com os *rendimentos por cliente*.\n",
    "\n",
    "Para fazermos esta análise, vamos plotar alguns **gráficos de dispersão** e em seguida calcular/testar os *coeficientes de correlação* entre as variáveis:"
   ]
  },
  {
   "cell_type": "code",
   "execution_count": 13,
   "metadata": {},
   "outputs": [
    {
     "name": "stderr",
     "output_type": "stream",
     "text": [
      "Saving 6.67 x 6.67 in image\n"
     ]
    },
    {
     "data": {
      "image/png": "[encoded data removed]",
      "text/plain": [
       "plot without title"
      ]
     },
     "metadata": {},
     "output_type": "display_data"
    }
   ],
   "source": [
    "# Custo de Marketing vs Receita Total:\n",
    "p1 <- ggplot(data = df_data, aes(x = receita_total, y = custo_marketing)) +\n",
    "            # Aumentando um pouco o tamanho dos pontos:\n",
    "            geom_point(size = 2, color = 'darkred') +\n",
    "\n",
    "            # Definindo labels para os eixos \"x\" e \"y\":\n",
    "            labs(x = \"Receita Total($) x 1k\", y = \"Custo Marketing($) x 1k\")\n",
    "\n",
    "# Custo de Marketing vs Rendimentos por Cliente:\n",
    "p2 <- ggplot(data = df_data, aes(x = rendimento_por_cliente, y = custo_marketing)) +\n",
    "            # Aumentando um pouco o tamanho dos pontos:\n",
    "            geom_point(size = 2, color = 'orange') +\n",
    "\n",
    "            # Definindo labels para os eixos \"x\" e \"y\":\n",
    "            labs(x = \"Rendimentos por Cliente($) x 1k\", y = \"Custo Marketing($) x 1k\")\n",
    "\n",
    "# Custo de Marketing vs Margem de Contribuição:\n",
    "p3 <- ggplot(data = df_data, aes(x = margem_de_contribuicao, y = custo_marketing)) +\n",
    "            # Aumentando um pouco o tamanho dos pontos:\n",
    "            geom_point(size = 2, color = 'darkgreen') +\n",
    "\n",
    "            # Definindo labels para os eixos \"x\" e \"y\":\n",
    "            labs(x = \"Margem de Contribuição\", y = \"Custo Marketing($) x 1k\") +\n",
    "\n",
    "            # Formatando os valores em \"%\" para o eixo \"x\":\n",
    "            scale_x_continuous(labels = scales::percent)\n",
    "\n",
    "# Combina os 3 gráficos na mesma área:\n",
    "g <- arrangeGrob(p1, p2, p3, nrow=2, ncol=2)\n",
    "\n",
    "# Plot dos gráficos:\n",
    "grid.arrange(g)\n",
    "\n",
    "# Salva os gráficos:\n",
    "ggsave(filename = \"scatter_plot_custo_marketing.pdf\", plot = g, device = \"pdf\", path = PROJECT_IMG_PATH, dpi = 300)"
   ]
  },
  {
   "cell_type": "markdown",
   "metadata": {},
   "source": [
    "**Análise:**\n",
    "\n",
    "* Para os gráficos `Custo Marketing vc Receita Total` e `Custo Marketing vc Rendimentos por Cliente`, observamos uma forte **correlação positiva**;\n",
    "\n",
    "\n",
    "* Entretanto, para o gráfico `Custo Marketing vc Margem de Contribuição`, observamos uma correlação positiva.\n",
    "\n",
    "Então, vamos realizar *testes de hipóteses* para calcularmos as correlações e verificarmos se existe alguma dependência entre as variáveis."
   ]
  },
  {
   "cell_type": "code",
   "execution_count": 14,
   "metadata": {},
   "outputs": [
    {
     "data": {
      "text/html": [
       "'Testando coeficiente de correlação: Receita Total vs Custo de Marketing'"
      ],
      "text/latex": [
       "'Testando coeficiente de correlação: Receita Total vs Custo de Marketing'"
      ],
      "text/markdown": [
       "'Testando coeficiente de correlação: Receita Total vs Custo de Marketing'"
      ],
      "text/plain": [
       "[1] \"Testando coeficiente de correlação: Receita Total vs Custo de Marketing\""
      ]
     },
     "metadata": {},
     "output_type": "display_data"
    },
    {
     "data": {
      "text/plain": [
       "\n",
       "\tPearson's product-moment correlation\n",
       "\n",
       "data:  receita_total and custo_marketing\n",
       "t = 9.8648, df = 26, p-value = 1.406e-10\n",
       "alternative hypothesis: true correlation is greater than 0\n",
       "95 percent confidence interval:\n",
       " 0.7950633 1.0000000\n",
       "sample estimates:\n",
       "      cor \n",
       "0.8883443 \n"
      ]
     },
     "metadata": {},
     "output_type": "display_data"
    },
    {
     "data": {
      "text/html": [
       "'Testando coeficiente de correlação: Rendimentos por Cliente vs Custo de Marketing'"
      ],
      "text/latex": [
       "'Testando coeficiente de correlação: Rendimentos por Cliente vs Custo de Marketing'"
      ],
      "text/markdown": [
       "'Testando coeficiente de correlação: Rendimentos por Cliente vs Custo de Marketing'"
      ],
      "text/plain": [
       "[1] \"Testando coeficiente de correlação: Rendimentos por Cliente vs Custo de Marketing\""
      ]
     },
     "metadata": {},
     "output_type": "display_data"
    },
    {
     "data": {
      "text/plain": [
       "\n",
       "\tPearson's product-moment correlation\n",
       "\n",
       "data:  rendimento_por_cliente and custo_marketing\n",
       "t = 9.2357, df = 26, p-value = 5.404e-10\n",
       "alternative hypothesis: true correlation is greater than 0\n",
       "95 percent confidence interval:\n",
       " 0.7726735 1.0000000\n",
       "sample estimates:\n",
       "      cor \n",
       "0.8754385 \n"
      ]
     },
     "metadata": {},
     "output_type": "display_data"
    },
    {
     "data": {
      "text/html": [
       "'Testando coeficiente de correlação: Margem de Contribuição vs Custo de Marketing'"
      ],
      "text/latex": [
       "'Testando coeficiente de correlação: Margem de Contribuição vs Custo de Marketing'"
      ],
      "text/markdown": [
       "'Testando coeficiente de correlação: Margem de Contribuição vs Custo de Marketing'"
      ],
      "text/plain": [
       "[1] \"Testando coeficiente de correlação: Margem de Contribuição vs Custo de Marketing\""
      ]
     },
     "metadata": {},
     "output_type": "display_data"
    },
    {
     "data": {
      "text/plain": [
       "\n",
       "\tPearson's product-moment correlation\n",
       "\n",
       "data:  margem_de_contribuicao and custo_marketing\n",
       "t = 2.6949, df = 26, p-value = 0.006088\n",
       "alternative hypothesis: true correlation is greater than 0\n",
       "95 percent confidence interval:\n",
       " 0.1757498 1.0000000\n",
       "sample estimates:\n",
       "     cor \n",
       "0.467264 \n"
      ]
     },
     "metadata": {},
     "output_type": "display_data"
    }
   ],
   "source": [
    "# Testes de hipóteses:\n",
    "# 01- Vamos calcular e testar a \"correlação\" entre a \"Receita Total\" e o \"Custo de Marketing\" da empresa:\n",
    "sprintf(\"Testando coeficiente de correlação: Receita Total vs Custo de Marketing\")\n",
    "with(df_data, cor.test(receita_total, custo_marketing, alternative = \"greater\"))\n",
    "\n",
    "# 02- Vamos calcular e testar a \"correlação\" entre os \"Rendimentos por Cliente\" e o \"Custo de Marketing\" da empresa:\n",
    "sprintf(\"Testando coeficiente de correlação: Rendimentos por Cliente vs Custo de Marketing\")\n",
    "with(df_data, cor.test(rendimento_por_cliente, custo_marketing, alternative = \"greater\"))\n",
    "\n",
    "# 03- Vamos calcular e testar a \"correlação\" entre a \"Margem de Contribuição\" e o \"Custo de Marketing\" da empresa:\n",
    "sprintf(\"Testando coeficiente de correlação: Margem de Contribuição vs Custo de Marketing\")\n",
    "with(df_data, cor.test(margem_de_contribuicao, custo_marketing, alternative = \"greater\"))"
   ]
  },
  {
   "cell_type": "markdown",
   "metadata": {},
   "source": [
    "**Conclusão:**\n",
    "\n",
    "* **`Receita Total vs Custo de Marketing`**: como `p-value < 0.05` rejeitamos a hipótese nula (H0) e confirmamos que existe uma forte correlação positiva (`cor = 0.888`) entre as variáveis, ou seja, **a medida que aumenta a receita total aumenta o custo de marketing da empresa**. Portanto, **o custo de marketing é dependente da receita total**;\n",
    "\n",
    "\n",
    "* **`Rendimentos por Cliente vs Custo de Marketing`**: como `p-value < 0.05` rejeitamos a hipótese nula (H0) e confirmamos que existe uma forte correlação positiva (`cor = 0.875`) entre as variáveis, ou seja, **a medida que aumenta os rendimentos por cliente aumenta o custo de marketing da empresa**. Portanto, **o custo de marketing é dependente dos rendimentos por cliente**;\n",
    "\n",
    "\n",
    "* **`Margem de Contribuição vs Custo de Marketing`**: como `p-value < 0.05` rejeitamos a hipótese nula (H0) e confirmamos que existe uma correlação positiva (`cor = 0.467`) entre as variáveis, ou seja, **a medida que aumenta a margem de contribuição aumenta o custo de marketing da empresa**. Portanto, **o custo de marketing é dependente da margem de contribuição**."
   ]
  },
  {
   "cell_type": "markdown",
   "metadata": {},
   "source": [
    "### `2.6-` Considerando todo o período (`2012 a 2018`), o *volume total de clientes aumentou e/ou diminuiu*?\n",
    "\n",
    "Para fazermos esta análise, vamos realizar um teste de **Análise de Variância (`ANOVA`)** para concluir se devemos rejeitar ou não a hipótese nula.\n",
    "\n",
    "Então, para realizarmos o *teste de hipóteses* definimos as duas hipóteses:\n",
    "\n",
    ">1. **`H0`:** VTMC1 = VTMC2 = VTMC3 = VTMC4 = VTMC5 = VTMC6 = VTMC7, ou seja, os volumes totais médios de clientes (por ano) não diferem entre cada um dos anos, ou seja, em todo o período. \n",
    ">2. **`H1`:** o volume total médio de clientes (por ano) é diferente em pelo menos um ano dentro do período.\n",
    "\n",
    "Onde:\n",
    "\n",
    ">* **`VTMC1`:** volume total médio de clientes (por ano) para o ano de ***`2012`***;\n",
    ">* **`VTMC2`:** volume total médio de clientes (por ano) para o ano de ***`2013`***;\n",
    ">* **`VTMC3`:** volume total médio de clientes (por ano) para o ano de ***`2014`***;\n",
    ">* **`VTMC4`:** volume total médio de clientes (por ano) para o ano de ***`2015`***;\n",
    ">* **`VTMC5`:** volume total médio de clientes (por ano) para o ano de ***`2016`***;\n",
    ">* **`VTMC6`:** volume total médio de clientes (por ano) para o ano de ***`2017`***;\n",
    ">* **`VTMC7`:** volume total médio de clientes (por ano) para o ano de ***`2018`***."
   ]
  },
  {
   "cell_type": "code",
   "execution_count": 15,
   "metadata": {},
   "outputs": [
    {
     "data": {
      "text/html": [
       "<table>\n",
       "<thead><tr><th></th><th scope=col>Df</th><th scope=col>Sum Sq</th><th scope=col>Mean Sq</th><th scope=col>F value</th><th scope=col>Pr(&gt;F)</th></tr></thead>\n",
       "<tbody>\n",
       "\t<tr><th scope=row>ano_cat    </th><td> 6         </td><td>3014482052 </td><td>502413675  </td><td>222.576    </td><td>6.87472e-18</td></tr>\n",
       "\t<tr><th scope=row>Residuals  </th><td>21         </td><td>  47402619 </td><td>  2257268  </td><td>     NA    </td><td>         NA</td></tr>\n",
       "</tbody>\n",
       "</table>\n"
      ],
      "text/latex": [
       "\\begin{tabular}{r|lllll}\n",
       "  & Df & Sum Sq & Mean Sq & F value & Pr(>F)\\\\\n",
       "\\hline\n",
       "\tano\\_cat     &  6          & 3014482052  & 502413675   & 222.576     & 6.87472e-18\\\\\n",
       "\tResiduals   & 21          &   47402619  &   2257268   &      NA     &          NA\\\\\n",
       "\\end{tabular}\n"
      ],
      "text/markdown": [
       "\n",
       "| <!--/--> | Df | Sum Sq | Mean Sq | F value | Pr(>F) |\n",
       "|---|---|---|---|---|---|\n",
       "| ano_cat     |  6          | 3014482052  | 502413675   | 222.576     | 6.87472e-18 |\n",
       "| Residuals   | 21          |   47402619  |   2257268   |      NA     |          NA |\n",
       "\n"
      ],
      "text/plain": [
       "            Df Sum Sq     Mean Sq   F value Pr(>F)     \n",
       "ano_cat      6 3014482052 502413675 222.576 6.87472e-18\n",
       "Residuals   21   47402619   2257268      NA          NA"
      ]
     },
     "metadata": {},
     "output_type": "display_data"
    },
    {
     "data": {
      "text/html": [
       "'valor-p do teste: 0.00000000000000000687'"
      ],
      "text/latex": [
       "'valor-p do teste: 0.00000000000000000687'"
      ],
      "text/markdown": [
       "'valor-p do teste: 0.00000000000000000687'"
      ],
      "text/plain": [
       "[1] \"valor-p do teste: 0.00000000000000000687\""
      ]
     },
     "metadata": {},
     "output_type": "display_data"
    }
   ],
   "source": [
    "# Aplicanto análise de variância (ANOVA):\n",
    "resultado_anova <- aov(formula = total_clientes ~ ano_cat, data = df_data)\n",
    "\n",
    "# Resumo estatístico do teste ANOVA:\n",
    "anova_table = summary(resultado_anova)\n",
    "anova_table[[1]]\n",
    "\n",
    "# Obtendo o \"valor-p\" do teste:\n",
    "sprintf(\"valor-p do teste: %.20f\", anova_table[[1]]$Pr[[1]])"
   ]
  },
  {
   "cell_type": "markdown",
   "metadata": {},
   "source": [
    "**Conclusão:**\n",
    "\n",
    "Se **`valor-p < 0.05`**: rejeitamos a hipótese nula (**H0**), caso contrário falhamos em rejeitar a a hipótese nula.\n",
    "\n",
    "O **valor-p é menor que 0.05**. Portanto, os resultados não ocorreram por variação aleatória e a hipótese nula é rejeitada, ou seja, há um efeito significativo do ano (variável independente) no volume total de clientes (variável dependente) por ano."
   ]
  },
  {
   "cell_type": "markdown",
   "metadata": {},
   "source": [
    "### `Comparações Não Planejadas`:\n",
    "\n",
    "Estas comparações também são chamadas de *testes a posteriori*, *testes post hoc* ou simplesmente *comparações não planejadas*.\n",
    "\n",
    "Um dos membros mais conhecidos do mundo *post-hoc* é o **teste HSD** (*Honest Significant Difference* ou Diferença Honestamente Significativa). Esse teste realiza todas as comparações emparelháveis possíveis entre as médias amostrais."
   ]
  },
  {
   "cell_type": "code",
   "execution_count": 16,
   "metadata": {},
   "outputs": [
    {
     "data": {
      "text/plain": [
       "  Tukey multiple comparisons of means\n",
       "    95% family-wise confidence level\n",
       "\n",
       "Fit: aov(formula = total_clientes ~ ano_cat, data = df_data)\n",
       "\n",
       "$ano_cat\n",
       "              diff        lwr      upr     p adj\n",
       "2013-2012  5974.50  2520.9597  9428.04 0.0002436\n",
       "2014-2012 12164.00  8710.4597 15617.54 0.0000000\n",
       "2015-2012 18005.25 14551.7097 21458.79 0.0000000\n",
       "2016-2012 21626.75 18173.2097 25080.29 0.0000000\n",
       "2017-2012 26064.50 22610.9597 29518.04 0.0000000\n",
       "2018-2012 31723.50 28269.9597 35177.04 0.0000000\n",
       "2014-2013  6189.50  2735.9597  9643.04 0.0001546\n",
       "2015-2013 12030.75  8577.2097 15484.29 0.0000000\n",
       "2016-2013 15652.25 12198.7097 19105.79 0.0000000\n",
       "2017-2013 20090.00 16636.4597 23543.54 0.0000000\n",
       "2018-2013 25749.00 22295.4597 29202.54 0.0000000\n",
       "2015-2014  5841.25  2387.7097  9294.79 0.0003234\n",
       "2016-2014  9462.75  6009.2097 12916.29 0.0000003\n",
       "2017-2014 13900.50 10446.9597 17354.04 0.0000000\n",
       "2018-2014 19559.50 16105.9597 23013.04 0.0000000\n",
       "2016-2015  3621.50   167.9597  7075.04 0.0358797\n",
       "2017-2015  8059.25  4605.7097 11512.79 0.0000035\n",
       "2018-2015 13718.25 10264.7097 17171.79 0.0000000\n",
       "2017-2016  4437.75   984.2097  7891.29 0.0065869\n",
       "2018-2016 10096.75  6643.2097 13550.29 0.0000001\n",
       "2018-2017  5659.00  2205.4597  9112.54 0.0004774\n"
      ]
     },
     "metadata": {},
     "output_type": "display_data"
    }
   ],
   "source": [
    "# Realizando o teste de \"Tukey\":\n",
    "TukeyHSD(resultado_anova, ordered = FALSE, conf.level = 0.95)"
   ]
  },
  {
   "cell_type": "markdown",
   "metadata": {},
   "source": [
    "**Conclusão:**\n",
    "\n",
    "De acordo com os resultados do **`teste-HSD`**, todos os pares de anos têm um **valor-p < 0.05**. Isso significa que **há diferença estatisticamente significativa** nos volumes totais de clientes (por ano) entre cada um dos anos."
   ]
  },
  {
   "cell_type": "markdown",
   "metadata": {},
   "source": [
    "### Vamos agora, verificar se o *volume total de clientes* aumentou com o passar dos anos:"
   ]
  },
  {
   "cell_type": "markdown",
   "metadata": {},
   "source": [
    "Então, realizaremos um `teste-t unicaudal direito` para verificarmos esta condição.\n",
    "\n",
    "Definindo as duas hipóteses:\n",
    "\n",
    ">1. **`H0`:** VTMC2 - VTMC1 = 0, ou seja, o volume total médio de clientes (por ano) não difere entre cada um dos anos \"1\" e \"2\";\n",
    ">2. **`H1`:** VTMC2 - VTMC1 > 0, ou seja, o volume total médio de clientes (por ano) do ano \"2\" é MAIOR que o volume total médio de clientes (por ano) do ano \"1\".\n",
    "\n",
    "Onde:\n",
    "\n",
    ">* **`VTMC1`:** volume total médio de clientes (por ano) para o ano ***`1`***;\n",
    ">* **`VTMC2`:** volume total médio de clientes (por ano) para o ano ***`2`***."
   ]
  },
  {
   "cell_type": "code",
   "execution_count": 17,
   "metadata": {
    "scrolled": true
   },
   "outputs": [
    {
     "data": {
      "text/html": [
       "'Resultados para Valor-p &lt; 0.05'"
      ],
      "text/latex": [
       "'Resultados para Valor-p < 0.05'"
      ],
      "text/markdown": [
       "'Resultados para Valor-p &lt; 0.05'"
      ],
      "text/plain": [
       "[1] \"Resultados para Valor-p < 0.05\""
      ]
     },
     "metadata": {},
     "output_type": "display_data"
    },
    {
     "data": {
      "text/html": [
       "<table>\n",
       "<thead><tr><th scope=col>ano2</th><th scope=col>ano1</th><th scope=col>feature</th><th scope=col>H1</th><th scope=col>NC</th><th scope=col>valor_p</th></tr></thead>\n",
       "<tbody>\n",
       "\t<tr><td>2013          </td><td>2012          </td><td>total_clientes</td><td>greater       </td><td>0.95          </td><td>1.604165e-03  </td></tr>\n",
       "\t<tr><td>2014          </td><td>2012          </td><td>total_clientes</td><td>greater       </td><td>0.95          </td><td>1.914553e-05  </td></tr>\n",
       "\t<tr><td>2015          </td><td>2012          </td><td>total_clientes</td><td>greater       </td><td>0.95          </td><td>1.937620e-06  </td></tr>\n",
       "\t<tr><td>2016          </td><td>2012          </td><td>total_clientes</td><td>greater       </td><td>0.95          </td><td>2.147461e-06  </td></tr>\n",
       "\t<tr><td>2017          </td><td>2012          </td><td>total_clientes</td><td>greater       </td><td>0.95          </td><td>2.251485e-07  </td></tr>\n",
       "\t<tr><td>2018          </td><td>2012          </td><td>total_clientes</td><td>greater       </td><td>0.95          </td><td>7.120383e-08  </td></tr>\n",
       "\t<tr><td>2014          </td><td>2013          </td><td>total_clientes</td><td>greater       </td><td>0.95          </td><td>1.218758e-03  </td></tr>\n",
       "\t<tr><td>2015          </td><td>2013          </td><td>total_clientes</td><td>greater       </td><td>0.95          </td><td>3.959190e-05  </td></tr>\n",
       "\t<tr><td>2016          </td><td>2013          </td><td>total_clientes</td><td>greater       </td><td>0.95          </td><td>2.710337e-05  </td></tr>\n",
       "\t<tr><td>2017          </td><td>2013          </td><td>total_clientes</td><td>greater       </td><td>0.95          </td><td>2.292182e-06  </td></tr>\n",
       "\t<tr><td>2018          </td><td>2013          </td><td>total_clientes</td><td>greater       </td><td>0.95          </td><td>5.818658e-07  </td></tr>\n",
       "\t<tr><td>2015          </td><td>2014          </td><td>total_clientes</td><td>greater       </td><td>0.95          </td><td>6.780654e-04  </td></tr>\n",
       "\t<tr><td>2016          </td><td>2014          </td><td>total_clientes</td><td>greater       </td><td>0.95          </td><td>5.727125e-05  </td></tr>\n",
       "\t<tr><td>2017          </td><td>2014          </td><td>total_clientes</td><td>greater       </td><td>0.95          </td><td>5.883077e-06  </td></tr>\n",
       "\t<tr><td>2018          </td><td>2014          </td><td>total_clientes</td><td>greater       </td><td>0.95          </td><td>7.780019e-07  </td></tr>\n",
       "\t<tr><td>2016          </td><td>2015          </td><td>total_clientes</td><td>greater       </td><td>0.95          </td><td>3.729294e-03  </td></tr>\n",
       "\t<tr><td>2017          </td><td>2015          </td><td>total_clientes</td><td>greater       </td><td>0.95          </td><td>1.115261e-04  </td></tr>\n",
       "\t<tr><td>2018          </td><td>2015          </td><td>total_clientes</td><td>greater       </td><td>0.95          </td><td>5.227280e-06  </td></tr>\n",
       "\t<tr><td>2017          </td><td>2016          </td><td>total_clientes</td><td>greater       </td><td>0.95          </td><td>1.783572e-03  </td></tr>\n",
       "\t<tr><td>2018          </td><td>2016          </td><td>total_clientes</td><td>greater       </td><td>0.95          </td><td>3.255937e-05  </td></tr>\n",
       "\t<tr><td>2018          </td><td>2017          </td><td>total_clientes</td><td>greater       </td><td>0.95          </td><td>7.834238e-04  </td></tr>\n",
       "</tbody>\n",
       "</table>\n"
      ],
      "text/latex": [
       "\\begin{tabular}{r|llllll}\n",
       " ano2 & ano1 & feature & H1 & NC & valor\\_p\\\\\n",
       "\\hline\n",
       "\t 2013             & 2012             & total\\_clientes & greater          & 0.95             & 1.604165e-03    \\\\\n",
       "\t 2014             & 2012             & total\\_clientes & greater          & 0.95             & 1.914553e-05    \\\\\n",
       "\t 2015             & 2012             & total\\_clientes & greater          & 0.95             & 1.937620e-06    \\\\\n",
       "\t 2016             & 2012             & total\\_clientes & greater          & 0.95             & 2.147461e-06    \\\\\n",
       "\t 2017             & 2012             & total\\_clientes & greater          & 0.95             & 2.251485e-07    \\\\\n",
       "\t 2018             & 2012             & total\\_clientes & greater          & 0.95             & 7.120383e-08    \\\\\n",
       "\t 2014             & 2013             & total\\_clientes & greater          & 0.95             & 1.218758e-03    \\\\\n",
       "\t 2015             & 2013             & total\\_clientes & greater          & 0.95             & 3.959190e-05    \\\\\n",
       "\t 2016             & 2013             & total\\_clientes & greater          & 0.95             & 2.710337e-05    \\\\\n",
       "\t 2017             & 2013             & total\\_clientes & greater          & 0.95             & 2.292182e-06    \\\\\n",
       "\t 2018             & 2013             & total\\_clientes & greater          & 0.95             & 5.818658e-07    \\\\\n",
       "\t 2015             & 2014             & total\\_clientes & greater          & 0.95             & 6.780654e-04    \\\\\n",
       "\t 2016             & 2014             & total\\_clientes & greater          & 0.95             & 5.727125e-05    \\\\\n",
       "\t 2017             & 2014             & total\\_clientes & greater          & 0.95             & 5.883077e-06    \\\\\n",
       "\t 2018             & 2014             & total\\_clientes & greater          & 0.95             & 7.780019e-07    \\\\\n",
       "\t 2016             & 2015             & total\\_clientes & greater          & 0.95             & 3.729294e-03    \\\\\n",
       "\t 2017             & 2015             & total\\_clientes & greater          & 0.95             & 1.115261e-04    \\\\\n",
       "\t 2018             & 2015             & total\\_clientes & greater          & 0.95             & 5.227280e-06    \\\\\n",
       "\t 2017             & 2016             & total\\_clientes & greater          & 0.95             & 1.783572e-03    \\\\\n",
       "\t 2018             & 2016             & total\\_clientes & greater          & 0.95             & 3.255937e-05    \\\\\n",
       "\t 2018             & 2017             & total\\_clientes & greater          & 0.95             & 7.834238e-04    \\\\\n",
       "\\end{tabular}\n"
      ],
      "text/markdown": [
       "\n",
       "| ano2 | ano1 | feature | H1 | NC | valor_p |\n",
       "|---|---|---|---|---|---|\n",
       "| 2013           | 2012           | total_clientes | greater        | 0.95           | 1.604165e-03   |\n",
       "| 2014           | 2012           | total_clientes | greater        | 0.95           | 1.914553e-05   |\n",
       "| 2015           | 2012           | total_clientes | greater        | 0.95           | 1.937620e-06   |\n",
       "| 2016           | 2012           | total_clientes | greater        | 0.95           | 2.147461e-06   |\n",
       "| 2017           | 2012           | total_clientes | greater        | 0.95           | 2.251485e-07   |\n",
       "| 2018           | 2012           | total_clientes | greater        | 0.95           | 7.120383e-08   |\n",
       "| 2014           | 2013           | total_clientes | greater        | 0.95           | 1.218758e-03   |\n",
       "| 2015           | 2013           | total_clientes | greater        | 0.95           | 3.959190e-05   |\n",
       "| 2016           | 2013           | total_clientes | greater        | 0.95           | 2.710337e-05   |\n",
       "| 2017           | 2013           | total_clientes | greater        | 0.95           | 2.292182e-06   |\n",
       "| 2018           | 2013           | total_clientes | greater        | 0.95           | 5.818658e-07   |\n",
       "| 2015           | 2014           | total_clientes | greater        | 0.95           | 6.780654e-04   |\n",
       "| 2016           | 2014           | total_clientes | greater        | 0.95           | 5.727125e-05   |\n",
       "| 2017           | 2014           | total_clientes | greater        | 0.95           | 5.883077e-06   |\n",
       "| 2018           | 2014           | total_clientes | greater        | 0.95           | 7.780019e-07   |\n",
       "| 2016           | 2015           | total_clientes | greater        | 0.95           | 3.729294e-03   |\n",
       "| 2017           | 2015           | total_clientes | greater        | 0.95           | 1.115261e-04   |\n",
       "| 2018           | 2015           | total_clientes | greater        | 0.95           | 5.227280e-06   |\n",
       "| 2017           | 2016           | total_clientes | greater        | 0.95           | 1.783572e-03   |\n",
       "| 2018           | 2016           | total_clientes | greater        | 0.95           | 3.255937e-05   |\n",
       "| 2018           | 2017           | total_clientes | greater        | 0.95           | 7.834238e-04   |\n",
       "\n"
      ],
      "text/plain": [
       "   ano2 ano1 feature        H1      NC   valor_p     \n",
       "1  2013 2012 total_clientes greater 0.95 1.604165e-03\n",
       "2  2014 2012 total_clientes greater 0.95 1.914553e-05\n",
       "3  2015 2012 total_clientes greater 0.95 1.937620e-06\n",
       "4  2016 2012 total_clientes greater 0.95 2.147461e-06\n",
       "5  2017 2012 total_clientes greater 0.95 2.251485e-07\n",
       "6  2018 2012 total_clientes greater 0.95 7.120383e-08\n",
       "7  2014 2013 total_clientes greater 0.95 1.218758e-03\n",
       "8  2015 2013 total_clientes greater 0.95 3.959190e-05\n",
       "9  2016 2013 total_clientes greater 0.95 2.710337e-05\n",
       "10 2017 2013 total_clientes greater 0.95 2.292182e-06\n",
       "11 2018 2013 total_clientes greater 0.95 5.818658e-07\n",
       "12 2015 2014 total_clientes greater 0.95 6.780654e-04\n",
       "13 2016 2014 total_clientes greater 0.95 5.727125e-05\n",
       "14 2017 2014 total_clientes greater 0.95 5.883077e-06\n",
       "15 2018 2014 total_clientes greater 0.95 7.780019e-07\n",
       "16 2016 2015 total_clientes greater 0.95 3.729294e-03\n",
       "17 2017 2015 total_clientes greater 0.95 1.115261e-04\n",
       "18 2018 2015 total_clientes greater 0.95 5.227280e-06\n",
       "19 2017 2016 total_clientes greater 0.95 1.783572e-03\n",
       "20 2018 2016 total_clientes greater 0.95 3.255937e-05\n",
       "21 2018 2017 total_clientes greater 0.95 7.834238e-04"
      ]
     },
     "metadata": {},
     "output_type": "display_data"
    },
    {
     "data": {
      "text/html": [
       "'Resultados para Valor-p &gt;= 0.05'"
      ],
      "text/latex": [
       "'Resultados para Valor-p >= 0.05'"
      ],
      "text/markdown": [
       "'Resultados para Valor-p &gt;= 0.05'"
      ],
      "text/plain": [
       "[1] \"Resultados para Valor-p >= 0.05\""
      ]
     },
     "metadata": {},
     "output_type": "display_data"
    },
    {
     "data": {
      "text/html": [
       "<table>\n",
       "<thead><tr><th scope=col>ano2</th><th scope=col>ano1</th><th scope=col>feature</th><th scope=col>H1</th><th scope=col>NC</th><th scope=col>valor_p</th></tr></thead>\n",
       "<tbody>\n",
       "</tbody>\n",
       "</table>\n"
      ],
      "text/latex": [
       "\\begin{tabular}{r|llllll}\n",
       " ano2 & ano1 & feature & H1 & NC & valor\\_p\\\\\n",
       "\\hline\n",
       "\\end{tabular}\n"
      ],
      "text/markdown": [
       "\n",
       "| ano2 | ano1 | feature | H1 | NC | valor_p |\n",
       "|---|---|---|---|---|---|\n",
       "\n"
      ],
      "text/plain": [
       "     ano2 ano1 feature H1 NC valor_p"
      ]
     },
     "metadata": {},
     "output_type": "display_data"
    }
   ],
   "source": [
    "# Teste-t Unicaudal Direito:\n",
    "# Definindo um vetor para o primeiro ano do teste:\n",
    "ano1 = c('2012', '2012', '2012','2012', '2012', '2012', '2013', '2013', '2013', '2013', '2013',\n",
    "         '2014', '2014', '2014', '2014', '2015', '2015', '2015', '2016', '2016', '2017')\n",
    "\n",
    "# Definindo um vetor para o segundo ano do teste:\n",
    "ano2 = c('2013', '2014', '2015','2016', '2017', '2018', '2014', '2015', '2016', '2017', '2018',\n",
    "         '2015', '2016', '2017', '2018', '2016', '2017', '2018', '2017', '2018', '2018')\n",
    "\n",
    "# Realizando o teste-t unicaudal direito:\n",
    "df_teste_t = teste_t(ano1, ano2, feature = \"total_clientes\", H1 = \"greater\", NC = 0.95)\n",
    "\n",
    "# Filtrando os resultados onde \"valor_p < 0.05\":\n",
    "sprintf(\"Resultados para Valor-p < %.2f\", 1 - 0.95)\n",
    "filter(df_teste_t, valor_p < 0.05)\n",
    "\n",
    "# Filtrando os resultados onde \"valor_p >= 0.05\":\n",
    "sprintf(\"Resultados para Valor-p >= %.2f\", 1 - 0.95)\n",
    "filter(df_teste_t, valor_p >= 0.05)"
   ]
  },
  {
   "cell_type": "markdown",
   "metadata": {},
   "source": [
    "**Conclusão:**\n",
    "\n",
    "Se **`valor-p < 0.05`**: rejeitamos a hipótese nula (**H0**), caso contrário falhamos em rejeitar a a hipótese nula.\n",
    "\n",
    "Como o **valor-p é menor que 0.05** em todos os testes (21), podemos rejeitar a hipótese nula do `teste-t unicaudal direito`. Portanto, podemos concluir, por exemplo, que o ano de **2013** possui um MAIOR volume total de clientes (em média, por ano) do que o ano de **2012**. Esta mesma explicação é válida para os demais pares de anos onde tivemos como resultado o **`valor-p < 0.05`**.\n",
    "\n",
    "Portanto, concluimos que **o *volume total de clientes (em média, por ano)* aumentou significativamente em todos os anos!**"
   ]
  },
  {
   "cell_type": "markdown",
   "metadata": {},
   "source": [
    "### O quanto que o *volume total de clientes* aumentou (em média) entre os anos de `2012 e 2018`?"
   ]
  },
  {
   "cell_type": "markdown",
   "metadata": {},
   "source": [
    "Primeiro, vamos calcular as médias por ano do *volume total de clientes*:"
   ]
  },
  {
   "cell_type": "code",
   "execution_count": 18,
   "metadata": {
    "scrolled": true
   },
   "outputs": [
    {
     "data": {
      "text/html": [
       "<table>\n",
       "<thead><tr><th scope=col>Ano</th><th scope=col>Media_Total_Clientes</th></tr></thead>\n",
       "<tbody>\n",
       "\t<tr><td>2012    </td><td>24898.75</td></tr>\n",
       "\t<tr><td>2013    </td><td>30873.25</td></tr>\n",
       "\t<tr><td>2014    </td><td>37062.75</td></tr>\n",
       "\t<tr><td>2015    </td><td>42904.00</td></tr>\n",
       "\t<tr><td>2016    </td><td>46525.50</td></tr>\n",
       "\t<tr><td>2017    </td><td>50963.25</td></tr>\n",
       "\t<tr><td>2018    </td><td>56622.25</td></tr>\n",
       "</tbody>\n",
       "</table>\n"
      ],
      "text/latex": [
       "\\begin{tabular}{r|ll}\n",
       " Ano & Media\\_Total\\_Clientes\\\\\n",
       "\\hline\n",
       "\t 2012     & 24898.75\\\\\n",
       "\t 2013     & 30873.25\\\\\n",
       "\t 2014     & 37062.75\\\\\n",
       "\t 2015     & 42904.00\\\\\n",
       "\t 2016     & 46525.50\\\\\n",
       "\t 2017     & 50963.25\\\\\n",
       "\t 2018     & 56622.25\\\\\n",
       "\\end{tabular}\n"
      ],
      "text/markdown": [
       "\n",
       "| Ano | Media_Total_Clientes |\n",
       "|---|---|\n",
       "| 2012     | 24898.75 |\n",
       "| 2013     | 30873.25 |\n",
       "| 2014     | 37062.75 |\n",
       "| 2015     | 42904.00 |\n",
       "| 2016     | 46525.50 |\n",
       "| 2017     | 50963.25 |\n",
       "| 2018     | 56622.25 |\n",
       "\n"
      ],
      "text/plain": [
       "  Ano  Media_Total_Clientes\n",
       "1 2012 24898.75            \n",
       "2 2013 30873.25            \n",
       "3 2014 37062.75            \n",
       "4 2015 42904.00            \n",
       "5 2016 46525.50            \n",
       "6 2017 50963.25            \n",
       "7 2018 56622.25            "
      ]
     },
     "metadata": {},
     "output_type": "display_data"
    }
   ],
   "source": [
    "# Calculando as médias do volume total de clientes por ano:\n",
    "media_vol_tot_cli = aggregate(df_data[, \"total_clientes\"], list(df_data$ano_cat), mean)\n",
    "colnames(media_vol_tot_cli) <- c(\"Ano\", \"Media_Total_Clientes\")\n",
    "media_vol_tot_cli"
   ]
  },
  {
   "cell_type": "markdown",
   "metadata": {},
   "source": [
    "Em seguida, vamos criar um data frame com os cálculos necessários para identificarmos o *aumento* no volume total de clientes (em média, por ano) entre os anos de 2012 e 2018:"
   ]
  },
  {
   "cell_type": "code",
   "execution_count": 19,
   "metadata": {
    "scrolled": true
   },
   "outputs": [
    {
     "data": {
      "text/html": [
       "<table>\n",
       "<thead><tr><th scope=col>ano2</th><th scope=col>ano1</th><th scope=col>valor_p</th><th scope=col>media_ano2</th><th scope=col>media_ano1</th><th scope=col>aumento</th></tr></thead>\n",
       "<tbody>\n",
       "\t<tr><td>2018        </td><td>2012        </td><td>7.120383e-08</td><td>56622.25    </td><td>24898.75    </td><td>1.27410011  </td></tr>\n",
       "\t<tr><td>2017        </td><td>2012        </td><td>2.251485e-07</td><td>50963.25    </td><td>24898.75    </td><td>1.04681962  </td></tr>\n",
       "\t<tr><td>2016        </td><td>2012        </td><td>2.147461e-06</td><td>46525.50    </td><td>24898.75    </td><td>0.86858778  </td></tr>\n",
       "\t<tr><td>2018        </td><td>2013        </td><td>5.818658e-07</td><td>56622.25    </td><td>30873.25    </td><td>0.83402298  </td></tr>\n",
       "\t<tr><td>2015        </td><td>2012        </td><td>1.937620e-06</td><td>42904.00    </td><td>24898.75    </td><td>0.72313871  </td></tr>\n",
       "\t<tr><td>2017        </td><td>2013        </td><td>2.292182e-06</td><td>50963.25    </td><td>30873.25    </td><td>0.65072514  </td></tr>\n",
       "\t<tr><td>2018        </td><td>2014        </td><td>7.780019e-07</td><td>56622.25    </td><td>37062.75    </td><td>0.52774012  </td></tr>\n",
       "\t<tr><td>2016        </td><td>2013        </td><td>2.710337e-05</td><td>46525.50    </td><td>30873.25    </td><td>0.50698420  </td></tr>\n",
       "\t<tr><td>2014        </td><td>2012        </td><td>1.914553e-05</td><td>37062.75    </td><td>24898.75    </td><td>0.48853858  </td></tr>\n",
       "\t<tr><td>2015        </td><td>2013        </td><td>3.959190e-05</td><td>42904.00    </td><td>30873.25    </td><td>0.38968201  </td></tr>\n",
       "\t<tr><td>2017        </td><td>2014        </td><td>5.883077e-06</td><td>50963.25    </td><td>37062.75    </td><td>0.37505312  </td></tr>\n",
       "\t<tr><td>2018        </td><td>2015        </td><td>5.227280e-06</td><td>56622.25    </td><td>42904.00    </td><td>0.31974291  </td></tr>\n",
       "\t<tr><td>2016        </td><td>2014        </td><td>5.727125e-05</td><td>46525.50    </td><td>37062.75    </td><td>0.25531700  </td></tr>\n",
       "\t<tr><td>2013        </td><td>2012        </td><td>1.604165e-03</td><td>30873.25    </td><td>24898.75    </td><td>0.23995180  </td></tr>\n",
       "\t<tr><td>2018        </td><td>2016        </td><td>3.255937e-05</td><td>56622.25    </td><td>46525.50    </td><td>0.21701540  </td></tr>\n",
       "\t<tr><td>2014        </td><td>2013        </td><td>1.218758e-03</td><td>37062.75    </td><td>30873.25    </td><td>0.20048100  </td></tr>\n",
       "\t<tr><td>2017        </td><td>2015        </td><td>1.115261e-04</td><td>50963.25    </td><td>42904.00    </td><td>0.18784379  </td></tr>\n",
       "\t<tr><td>2015        </td><td>2014        </td><td>6.780654e-04</td><td>42904.00    </td><td>37062.75    </td><td>0.15760433  </td></tr>\n",
       "\t<tr><td>2018        </td><td>2017        </td><td>7.834238e-04</td><td>56622.25    </td><td>50963.25    </td><td>0.11104080  </td></tr>\n",
       "\t<tr><td>2017        </td><td>2016        </td><td>1.783572e-03</td><td>50963.25    </td><td>46525.50    </td><td>0.09538318  </td></tr>\n",
       "\t<tr><td>2016        </td><td>2015        </td><td>3.729294e-03</td><td>46525.50    </td><td>42904.00    </td><td>0.08440938  </td></tr>\n",
       "</tbody>\n",
       "</table>\n"
      ],
      "text/latex": [
       "\\begin{tabular}{r|llllll}\n",
       " ano2 & ano1 & valor\\_p & media\\_ano2 & media\\_ano1 & aumento\\\\\n",
       "\\hline\n",
       "\t 2018         & 2012         & 7.120383e-08 & 56622.25     & 24898.75     & 1.27410011  \\\\\n",
       "\t 2017         & 2012         & 2.251485e-07 & 50963.25     & 24898.75     & 1.04681962  \\\\\n",
       "\t 2016         & 2012         & 2.147461e-06 & 46525.50     & 24898.75     & 0.86858778  \\\\\n",
       "\t 2018         & 2013         & 5.818658e-07 & 56622.25     & 30873.25     & 0.83402298  \\\\\n",
       "\t 2015         & 2012         & 1.937620e-06 & 42904.00     & 24898.75     & 0.72313871  \\\\\n",
       "\t 2017         & 2013         & 2.292182e-06 & 50963.25     & 30873.25     & 0.65072514  \\\\\n",
       "\t 2018         & 2014         & 7.780019e-07 & 56622.25     & 37062.75     & 0.52774012  \\\\\n",
       "\t 2016         & 2013         & 2.710337e-05 & 46525.50     & 30873.25     & 0.50698420  \\\\\n",
       "\t 2014         & 2012         & 1.914553e-05 & 37062.75     & 24898.75     & 0.48853858  \\\\\n",
       "\t 2015         & 2013         & 3.959190e-05 & 42904.00     & 30873.25     & 0.38968201  \\\\\n",
       "\t 2017         & 2014         & 5.883077e-06 & 50963.25     & 37062.75     & 0.37505312  \\\\\n",
       "\t 2018         & 2015         & 5.227280e-06 & 56622.25     & 42904.00     & 0.31974291  \\\\\n",
       "\t 2016         & 2014         & 5.727125e-05 & 46525.50     & 37062.75     & 0.25531700  \\\\\n",
       "\t 2013         & 2012         & 1.604165e-03 & 30873.25     & 24898.75     & 0.23995180  \\\\\n",
       "\t 2018         & 2016         & 3.255937e-05 & 56622.25     & 46525.50     & 0.21701540  \\\\\n",
       "\t 2014         & 2013         & 1.218758e-03 & 37062.75     & 30873.25     & 0.20048100  \\\\\n",
       "\t 2017         & 2015         & 1.115261e-04 & 50963.25     & 42904.00     & 0.18784379  \\\\\n",
       "\t 2015         & 2014         & 6.780654e-04 & 42904.00     & 37062.75     & 0.15760433  \\\\\n",
       "\t 2018         & 2017         & 7.834238e-04 & 56622.25     & 50963.25     & 0.11104080  \\\\\n",
       "\t 2017         & 2016         & 1.783572e-03 & 50963.25     & 46525.50     & 0.09538318  \\\\\n",
       "\t 2016         & 2015         & 3.729294e-03 & 46525.50     & 42904.00     & 0.08440938  \\\\\n",
       "\\end{tabular}\n"
      ],
      "text/markdown": [
       "\n",
       "| ano2 | ano1 | valor_p | media_ano2 | media_ano1 | aumento |\n",
       "|---|---|---|---|---|---|\n",
       "| 2018         | 2012         | 7.120383e-08 | 56622.25     | 24898.75     | 1.27410011   |\n",
       "| 2017         | 2012         | 2.251485e-07 | 50963.25     | 24898.75     | 1.04681962   |\n",
       "| 2016         | 2012         | 2.147461e-06 | 46525.50     | 24898.75     | 0.86858778   |\n",
       "| 2018         | 2013         | 5.818658e-07 | 56622.25     | 30873.25     | 0.83402298   |\n",
       "| 2015         | 2012         | 1.937620e-06 | 42904.00     | 24898.75     | 0.72313871   |\n",
       "| 2017         | 2013         | 2.292182e-06 | 50963.25     | 30873.25     | 0.65072514   |\n",
       "| 2018         | 2014         | 7.780019e-07 | 56622.25     | 37062.75     | 0.52774012   |\n",
       "| 2016         | 2013         | 2.710337e-05 | 46525.50     | 30873.25     | 0.50698420   |\n",
       "| 2014         | 2012         | 1.914553e-05 | 37062.75     | 24898.75     | 0.48853858   |\n",
       "| 2015         | 2013         | 3.959190e-05 | 42904.00     | 30873.25     | 0.38968201   |\n",
       "| 2017         | 2014         | 5.883077e-06 | 50963.25     | 37062.75     | 0.37505312   |\n",
       "| 2018         | 2015         | 5.227280e-06 | 56622.25     | 42904.00     | 0.31974291   |\n",
       "| 2016         | 2014         | 5.727125e-05 | 46525.50     | 37062.75     | 0.25531700   |\n",
       "| 2013         | 2012         | 1.604165e-03 | 30873.25     | 24898.75     | 0.23995180   |\n",
       "| 2018         | 2016         | 3.255937e-05 | 56622.25     | 46525.50     | 0.21701540   |\n",
       "| 2014         | 2013         | 1.218758e-03 | 37062.75     | 30873.25     | 0.20048100   |\n",
       "| 2017         | 2015         | 1.115261e-04 | 50963.25     | 42904.00     | 0.18784379   |\n",
       "| 2015         | 2014         | 6.780654e-04 | 42904.00     | 37062.75     | 0.15760433   |\n",
       "| 2018         | 2017         | 7.834238e-04 | 56622.25     | 50963.25     | 0.11104080   |\n",
       "| 2017         | 2016         | 1.783572e-03 | 50963.25     | 46525.50     | 0.09538318   |\n",
       "| 2016         | 2015         | 3.729294e-03 | 46525.50     | 42904.00     | 0.08440938   |\n",
       "\n"
      ],
      "text/plain": [
       "   ano2 ano1 valor_p      media_ano2 media_ano1 aumento   \n",
       "1  2018 2012 7.120383e-08 56622.25   24898.75   1.27410011\n",
       "2  2017 2012 2.251485e-07 50963.25   24898.75   1.04681962\n",
       "3  2016 2012 2.147461e-06 46525.50   24898.75   0.86858778\n",
       "4  2018 2013 5.818658e-07 56622.25   30873.25   0.83402298\n",
       "5  2015 2012 1.937620e-06 42904.00   24898.75   0.72313871\n",
       "6  2017 2013 2.292182e-06 50963.25   30873.25   0.65072514\n",
       "7  2018 2014 7.780019e-07 56622.25   37062.75   0.52774012\n",
       "8  2016 2013 2.710337e-05 46525.50   30873.25   0.50698420\n",
       "9  2014 2012 1.914553e-05 37062.75   24898.75   0.48853858\n",
       "10 2015 2013 3.959190e-05 42904.00   30873.25   0.38968201\n",
       "11 2017 2014 5.883077e-06 50963.25   37062.75   0.37505312\n",
       "12 2018 2015 5.227280e-06 56622.25   42904.00   0.31974291\n",
       "13 2016 2014 5.727125e-05 46525.50   37062.75   0.25531700\n",
       "14 2013 2012 1.604165e-03 30873.25   24898.75   0.23995180\n",
       "15 2018 2016 3.255937e-05 56622.25   46525.50   0.21701540\n",
       "16 2014 2013 1.218758e-03 37062.75   30873.25   0.20048100\n",
       "17 2017 2015 1.115261e-04 50963.25   42904.00   0.18784379\n",
       "18 2015 2014 6.780654e-04 42904.00   37062.75   0.15760433\n",
       "19 2018 2017 7.834238e-04 56622.25   50963.25   0.11104080\n",
       "20 2017 2016 1.783572e-03 50963.25   46525.50   0.09538318\n",
       "21 2016 2015 3.729294e-03 46525.50   42904.00   0.08440938"
      ]
     },
     "metadata": {},
     "output_type": "display_data"
    }
   ],
   "source": [
    "# Selecionando os pares de anos que no teste-t apresentaram \"valor-p < 0.05\":\n",
    "df_volume = select(filter(df_teste_t, valor_p < 0.05), ano2, ano1, valor_p)\n",
    "# Criando variáveis para os cálculos:\n",
    "df_volume$media_ano2 = 0\n",
    "df_volume$media_ano1 = 0\n",
    "df_volume$aumento = 0\n",
    "\n",
    "# Realizando os cálculos:\n",
    "for (i in 1:dim(df_volume)[1]){\n",
    "    # Obtendo a média para o \"ano1\" e \"ano2\":\n",
    "    df_volume[i, \"media_ano1\"] = filter(media_vol_tot_cli, Ano == df_volume[i, \"ano1\"])$Media_Total_Clientes\n",
    "    df_volume[i, \"media_ano2\"] = filter(media_vol_tot_cli, Ano == df_volume[i, \"ano2\"])$Media_Total_Clientes\n",
    "    \n",
    "    # Calculando o \"aumento\" do volume total médio de clientes:\n",
    "    df_volume[i, \"aumento\"] = (df_volume[i, \"media_ano2\"] - df_volume[i, \"media_ano1\"])/df_volume[i, \"media_ano1\"]\n",
    "}\n",
    "\n",
    "# Classificando o resultado em ordem \"decrescente\":\n",
    "arrange(df_volume, desc(aumento))"
   ]
  },
  {
   "cell_type": "markdown",
   "metadata": {},
   "source": [
    "**Conclusão:** o ***`volume total de clientes`*** *aumentou (em média)* **`~127.4%`** em **7 anos**, ou seja, de **`~25 milhões`** em **`2012`** para **`~56.6 milhões`** em **`2018`**."
   ]
  },
  {
   "cell_type": "markdown",
   "metadata": {},
   "source": [
    "### Vamos agora, verificar se o *volume total de clientes* diminuiu com o passar dos anos:"
   ]
  },
  {
   "cell_type": "markdown",
   "metadata": {},
   "source": [
    "Então, realizaremos um `teste-t unicaudal esquerdo` para verificarmos esta condição.\n",
    "\n",
    "Definindo as duas hipóteses:\n",
    "\n",
    ">1. **`H0`:** VTMC2 - VTMC1 = 0, ou seja, o volume total médio de clientes (por ano) não difere entre cada um dos anos \"1\" e \"2\";\n",
    ">2. **`H1`:** VTMC2 - VTMC1 < 0, ou seja, o volume total médio de clientes (por ano) do ano \"2\" é MENOR que o volume total médio de clientes (por ano) do ano \"1\".\n",
    "\n",
    "Onde:\n",
    "\n",
    ">* **`VTMC1`:** volume total médio de clientes (por ano) para o ano ***`1`***;\n",
    ">* **`VTMC2`:** volume total médio de clientes (por ano) para o ano ***`2`***."
   ]
  },
  {
   "cell_type": "code",
   "execution_count": 20,
   "metadata": {
    "scrolled": true
   },
   "outputs": [
    {
     "data": {
      "text/html": [
       "'Resultados para Valor-p &lt; 0.05'"
      ],
      "text/latex": [
       "'Resultados para Valor-p < 0.05'"
      ],
      "text/markdown": [
       "'Resultados para Valor-p &lt; 0.05'"
      ],
      "text/plain": [
       "[1] \"Resultados para Valor-p < 0.05\""
      ]
     },
     "metadata": {},
     "output_type": "display_data"
    },
    {
     "data": {
      "text/html": [
       "<table>\n",
       "<thead><tr><th scope=col>ano2</th><th scope=col>ano1</th><th scope=col>feature</th><th scope=col>H1</th><th scope=col>NC</th><th scope=col>valor_p</th></tr></thead>\n",
       "<tbody>\n",
       "</tbody>\n",
       "</table>\n"
      ],
      "text/latex": [
       "\\begin{tabular}{r|llllll}\n",
       " ano2 & ano1 & feature & H1 & NC & valor\\_p\\\\\n",
       "\\hline\n",
       "\\end{tabular}\n"
      ],
      "text/markdown": [
       "\n",
       "| ano2 | ano1 | feature | H1 | NC | valor_p |\n",
       "|---|---|---|---|---|---|\n",
       "\n"
      ],
      "text/plain": [
       "     ano2 ano1 feature H1 NC valor_p"
      ]
     },
     "metadata": {},
     "output_type": "display_data"
    },
    {
     "data": {
      "text/html": [
       "'Resultados para Valor-p &gt;= 0.05'"
      ],
      "text/latex": [
       "'Resultados para Valor-p >= 0.05'"
      ],
      "text/markdown": [
       "'Resultados para Valor-p &gt;= 0.05'"
      ],
      "text/plain": [
       "[1] \"Resultados para Valor-p >= 0.05\""
      ]
     },
     "metadata": {},
     "output_type": "display_data"
    },
    {
     "data": {
      "text/html": [
       "<table>\n",
       "<thead><tr><th scope=col>ano2</th><th scope=col>ano1</th><th scope=col>feature</th><th scope=col>H1</th><th scope=col>NC</th><th scope=col>valor_p</th></tr></thead>\n",
       "<tbody>\n",
       "\t<tr><td>2013          </td><td>2012          </td><td>total_clientes</td><td>less          </td><td>0.95          </td><td>0.9983958     </td></tr>\n",
       "\t<tr><td>2014          </td><td>2012          </td><td>total_clientes</td><td>less          </td><td>0.95          </td><td>0.9999809     </td></tr>\n",
       "\t<tr><td>2015          </td><td>2012          </td><td>total_clientes</td><td>less          </td><td>0.95          </td><td>0.9999981     </td></tr>\n",
       "\t<tr><td>2016          </td><td>2012          </td><td>total_clientes</td><td>less          </td><td>0.95          </td><td>0.9999979     </td></tr>\n",
       "\t<tr><td>2017          </td><td>2012          </td><td>total_clientes</td><td>less          </td><td>0.95          </td><td>0.9999998     </td></tr>\n",
       "\t<tr><td>2018          </td><td>2012          </td><td>total_clientes</td><td>less          </td><td>0.95          </td><td>0.9999999     </td></tr>\n",
       "\t<tr><td>2014          </td><td>2013          </td><td>total_clientes</td><td>less          </td><td>0.95          </td><td>0.9987812     </td></tr>\n",
       "\t<tr><td>2015          </td><td>2013          </td><td>total_clientes</td><td>less          </td><td>0.95          </td><td>0.9999604     </td></tr>\n",
       "\t<tr><td>2016          </td><td>2013          </td><td>total_clientes</td><td>less          </td><td>0.95          </td><td>0.9999729     </td></tr>\n",
       "\t<tr><td>2017          </td><td>2013          </td><td>total_clientes</td><td>less          </td><td>0.95          </td><td>0.9999977     </td></tr>\n",
       "\t<tr><td>2018          </td><td>2013          </td><td>total_clientes</td><td>less          </td><td>0.95          </td><td>0.9999994     </td></tr>\n",
       "\t<tr><td>2015          </td><td>2014          </td><td>total_clientes</td><td>less          </td><td>0.95          </td><td>0.9993219     </td></tr>\n",
       "\t<tr><td>2016          </td><td>2014          </td><td>total_clientes</td><td>less          </td><td>0.95          </td><td>0.9999427     </td></tr>\n",
       "\t<tr><td>2017          </td><td>2014          </td><td>total_clientes</td><td>less          </td><td>0.95          </td><td>0.9999941     </td></tr>\n",
       "\t<tr><td>2018          </td><td>2014          </td><td>total_clientes</td><td>less          </td><td>0.95          </td><td>0.9999992     </td></tr>\n",
       "\t<tr><td>2016          </td><td>2015          </td><td>total_clientes</td><td>less          </td><td>0.95          </td><td>0.9962707     </td></tr>\n",
       "\t<tr><td>2017          </td><td>2015          </td><td>total_clientes</td><td>less          </td><td>0.95          </td><td>0.9998885     </td></tr>\n",
       "\t<tr><td>2018          </td><td>2015          </td><td>total_clientes</td><td>less          </td><td>0.95          </td><td>0.9999948     </td></tr>\n",
       "\t<tr><td>2017          </td><td>2016          </td><td>total_clientes</td><td>less          </td><td>0.95          </td><td>0.9982164     </td></tr>\n",
       "\t<tr><td>2018          </td><td>2016          </td><td>total_clientes</td><td>less          </td><td>0.95          </td><td>0.9999674     </td></tr>\n",
       "\t<tr><td>2018          </td><td>2017          </td><td>total_clientes</td><td>less          </td><td>0.95          </td><td>0.9992166     </td></tr>\n",
       "</tbody>\n",
       "</table>\n"
      ],
      "text/latex": [
       "\\begin{tabular}{r|llllll}\n",
       " ano2 & ano1 & feature & H1 & NC & valor\\_p\\\\\n",
       "\\hline\n",
       "\t 2013             & 2012             & total\\_clientes & less             & 0.95             & 0.9983958       \\\\\n",
       "\t 2014             & 2012             & total\\_clientes & less             & 0.95             & 0.9999809       \\\\\n",
       "\t 2015             & 2012             & total\\_clientes & less             & 0.95             & 0.9999981       \\\\\n",
       "\t 2016             & 2012             & total\\_clientes & less             & 0.95             & 0.9999979       \\\\\n",
       "\t 2017             & 2012             & total\\_clientes & less             & 0.95             & 0.9999998       \\\\\n",
       "\t 2018             & 2012             & total\\_clientes & less             & 0.95             & 0.9999999       \\\\\n",
       "\t 2014             & 2013             & total\\_clientes & less             & 0.95             & 0.9987812       \\\\\n",
       "\t 2015             & 2013             & total\\_clientes & less             & 0.95             & 0.9999604       \\\\\n",
       "\t 2016             & 2013             & total\\_clientes & less             & 0.95             & 0.9999729       \\\\\n",
       "\t 2017             & 2013             & total\\_clientes & less             & 0.95             & 0.9999977       \\\\\n",
       "\t 2018             & 2013             & total\\_clientes & less             & 0.95             & 0.9999994       \\\\\n",
       "\t 2015             & 2014             & total\\_clientes & less             & 0.95             & 0.9993219       \\\\\n",
       "\t 2016             & 2014             & total\\_clientes & less             & 0.95             & 0.9999427       \\\\\n",
       "\t 2017             & 2014             & total\\_clientes & less             & 0.95             & 0.9999941       \\\\\n",
       "\t 2018             & 2014             & total\\_clientes & less             & 0.95             & 0.9999992       \\\\\n",
       "\t 2016             & 2015             & total\\_clientes & less             & 0.95             & 0.9962707       \\\\\n",
       "\t 2017             & 2015             & total\\_clientes & less             & 0.95             & 0.9998885       \\\\\n",
       "\t 2018             & 2015             & total\\_clientes & less             & 0.95             & 0.9999948       \\\\\n",
       "\t 2017             & 2016             & total\\_clientes & less             & 0.95             & 0.9982164       \\\\\n",
       "\t 2018             & 2016             & total\\_clientes & less             & 0.95             & 0.9999674       \\\\\n",
       "\t 2018             & 2017             & total\\_clientes & less             & 0.95             & 0.9992166       \\\\\n",
       "\\end{tabular}\n"
      ],
      "text/markdown": [
       "\n",
       "| ano2 | ano1 | feature | H1 | NC | valor_p |\n",
       "|---|---|---|---|---|---|\n",
       "| 2013           | 2012           | total_clientes | less           | 0.95           | 0.9983958      |\n",
       "| 2014           | 2012           | total_clientes | less           | 0.95           | 0.9999809      |\n",
       "| 2015           | 2012           | total_clientes | less           | 0.95           | 0.9999981      |\n",
       "| 2016           | 2012           | total_clientes | less           | 0.95           | 0.9999979      |\n",
       "| 2017           | 2012           | total_clientes | less           | 0.95           | 0.9999998      |\n",
       "| 2018           | 2012           | total_clientes | less           | 0.95           | 0.9999999      |\n",
       "| 2014           | 2013           | total_clientes | less           | 0.95           | 0.9987812      |\n",
       "| 2015           | 2013           | total_clientes | less           | 0.95           | 0.9999604      |\n",
       "| 2016           | 2013           | total_clientes | less           | 0.95           | 0.9999729      |\n",
       "| 2017           | 2013           | total_clientes | less           | 0.95           | 0.9999977      |\n",
       "| 2018           | 2013           | total_clientes | less           | 0.95           | 0.9999994      |\n",
       "| 2015           | 2014           | total_clientes | less           | 0.95           | 0.9993219      |\n",
       "| 2016           | 2014           | total_clientes | less           | 0.95           | 0.9999427      |\n",
       "| 2017           | 2014           | total_clientes | less           | 0.95           | 0.9999941      |\n",
       "| 2018           | 2014           | total_clientes | less           | 0.95           | 0.9999992      |\n",
       "| 2016           | 2015           | total_clientes | less           | 0.95           | 0.9962707      |\n",
       "| 2017           | 2015           | total_clientes | less           | 0.95           | 0.9998885      |\n",
       "| 2018           | 2015           | total_clientes | less           | 0.95           | 0.9999948      |\n",
       "| 2017           | 2016           | total_clientes | less           | 0.95           | 0.9982164      |\n",
       "| 2018           | 2016           | total_clientes | less           | 0.95           | 0.9999674      |\n",
       "| 2018           | 2017           | total_clientes | less           | 0.95           | 0.9992166      |\n",
       "\n"
      ],
      "text/plain": [
       "   ano2 ano1 feature        H1   NC   valor_p  \n",
       "1  2013 2012 total_clientes less 0.95 0.9983958\n",
       "2  2014 2012 total_clientes less 0.95 0.9999809\n",
       "3  2015 2012 total_clientes less 0.95 0.9999981\n",
       "4  2016 2012 total_clientes less 0.95 0.9999979\n",
       "5  2017 2012 total_clientes less 0.95 0.9999998\n",
       "6  2018 2012 total_clientes less 0.95 0.9999999\n",
       "7  2014 2013 total_clientes less 0.95 0.9987812\n",
       "8  2015 2013 total_clientes less 0.95 0.9999604\n",
       "9  2016 2013 total_clientes less 0.95 0.9999729\n",
       "10 2017 2013 total_clientes less 0.95 0.9999977\n",
       "11 2018 2013 total_clientes less 0.95 0.9999994\n",
       "12 2015 2014 total_clientes less 0.95 0.9993219\n",
       "13 2016 2014 total_clientes less 0.95 0.9999427\n",
       "14 2017 2014 total_clientes less 0.95 0.9999941\n",
       "15 2018 2014 total_clientes less 0.95 0.9999992\n",
       "16 2016 2015 total_clientes less 0.95 0.9962707\n",
       "17 2017 2015 total_clientes less 0.95 0.9998885\n",
       "18 2018 2015 total_clientes less 0.95 0.9999948\n",
       "19 2017 2016 total_clientes less 0.95 0.9982164\n",
       "20 2018 2016 total_clientes less 0.95 0.9999674\n",
       "21 2018 2017 total_clientes less 0.95 0.9992166"
      ]
     },
     "metadata": {},
     "output_type": "display_data"
    }
   ],
   "source": [
    "# Teste-t Unicaudal Esquerdo:\n",
    "# Definindo um vetor para o primeiro ano do teste:\n",
    "ano1 = c('2012', '2012', '2012','2012', '2012', '2012', '2013', '2013', '2013', '2013', '2013',\n",
    "         '2014', '2014', '2014', '2014', '2015', '2015', '2015', '2016', '2016', '2017')\n",
    "\n",
    "# Definindo um vetor para o segundo ano do teste:\n",
    "ano2 = c('2013', '2014', '2015','2016', '2017', '2018', '2014', '2015', '2016', '2017', '2018',\n",
    "         '2015', '2016', '2017', '2018', '2016', '2017', '2018', '2017', '2018', '2018')\n",
    "\n",
    "# Realizando o teste-t unicaudal esquerdo:\n",
    "df_teste_t = teste_t(ano1, ano2, feature = \"total_clientes\", H1 = \"less\", NC = 0.95)\n",
    "\n",
    "# Filtrando os resultados onde \"valor_p < 0.05\":\n",
    "sprintf(\"Resultados para Valor-p < %.2f\", 1 - 0.95)\n",
    "filter(df_teste_t, valor_p < 0.05)\n",
    "\n",
    "# Filtrando os resultados onde \"valor_p >= 0.05\":\n",
    "sprintf(\"Resultados para Valor-p >= %.2f\", 1 - 0.95)\n",
    "filter(df_teste_t, valor_p >= 0.05)"
   ]
  },
  {
   "cell_type": "markdown",
   "metadata": {},
   "source": [
    "**Conclusão:**\n",
    "\n",
    "Se **`valor-p < 0.05`**: rejeitamos a hipótese nula (**H0**), caso contrário falhamos em rejeitar a a hipótese nula.\n",
    "\n",
    "Como o **valor-p é maior ou igual que 0.05** em todos os testes (21), os dados falharam em fornecer evidências suficientes para rejeitarmos a hipótese nula do `teste-t unicaudal esquerdo`. Portanto, não podemos concluir, por exemplo, que o ano de **2013** possui um MENOR volume total de clientes (em média, por ano) do que o ano de **2012**. Esta mesma explicação é válida para os demais pares de anos onde tivemos como resultado o **`valor-p >= 0.05`**.\n",
    "\n",
    "Portanto, concluimos que **o *volume total de clientes (em média, por ano)* NÃO diminuiu significativamente com o passar dos anos!**"
   ]
  },
  {
   "cell_type": "markdown",
   "metadata": {},
   "source": [
    "### Visualizando os resultados:\n",
    "\n",
    "Agora, vamos apresentar os resultados utilizando um ***Boxplot*** e um ***Barplot***."
   ]
  },
  {
   "cell_type": "code",
   "execution_count": 21,
   "metadata": {},
   "outputs": [
    {
     "name": "stderr",
     "output_type": "stream",
     "text": [
      "Saving 6.67 x 6.67 in image\n"
     ]
    },
    {
     "data": {
      "image/png": "[encoded data removed]",
      "text/plain": [
       "plot without title"
      ]
     },
     "metadata": {},
     "output_type": "display_data"
    }
   ],
   "source": [
    "# Definindo as cores para cada ano:\n",
    "cores = c(\"#EDEDAA\", \"#B4AC45\", \"#AFCAB1\", \"#C2BFB1\", \"#DDEDAA\", \"#F4AC45\", \"#FFCAB1\")\n",
    "# Boxplot:\n",
    "p1 = ggplot(df_data, aes(x = ano_cat, y = total_clientes)) +\n",
    "        geom_boxplot(color = \"black\", fill = cores) +\n",
    "        # Definindo os labels e o título do gráfico:\n",
    "        labs(x = \"Ano\", y = \"Quantidade x 1k\", title = \"Volume Total de Clientes por Ano\") +\n",
    "        \n",
    "        # Definindo alguns elementos do \"título\" e dos eixos \"x\" e \"y\":\n",
    "        theme(\n",
    "            plot.title = element_text(color = \"Black\", size = 14, face = \"bold.italic\", hjust = 0.5),\n",
    "            axis.title.x = element_text(color = \"Black\", size = 12, face = \"bold\"),\n",
    "            axis.title.y = element_text(color = \"Black\", size = 12, face = \"bold\")\n",
    "        )\n",
    "\n",
    "print(p1)\n",
    "\n",
    "# Salvando o gráfico:\n",
    "ggsave(filename = \"boxplot_total_clientes.pdf\", plot = p1, device = \"pdf\", path = PROJECT_IMG_PATH, dpi = 300)"
   ]
  },
  {
   "cell_type": "code",
   "execution_count": 22,
   "metadata": {},
   "outputs": [
    {
     "name": "stderr",
     "output_type": "stream",
     "text": [
      "Saving 6.67 x 6.67 in image\n"
     ]
    },
    {
     "data": {
      "image/png": "[encoded data removed]",
      "text/plain": [
       "plot without title"
      ]
     },
     "metadata": {},
     "output_type": "display_data"
    }
   ],
   "source": [
    "# Barplot:\n",
    "p1 <- ggplot(media_vol_tot_cli, aes(x = Ano, y = Media_Total_Clientes)) +\n",
    "            geom_bar(stat = 'identity', col = \"black\", fill = cores) + theme(axis.text.x = element_text(angle = 0,\n",
    "                                                                                                        hjust = 0.5)) +\n",
    "            guides(fill = FALSE) + coord_cartesian(ylim = c(20000, 60000)) +\n",
    "            ggtitle(\"Volume Total de Clientes (Média) por Ano\") + xlab(\"Ano\") + ylab(\"Quantidade x 1k\") + \n",
    "            theme(\n",
    "                plot.title = element_text(color = \"Black\", size = 14, face = \"bold.italic\", hjust = 0.5),\n",
    "                axis.title.x = element_text(color = \"Black\", size = 12, face = \"bold\"),\n",
    "                axis.title.y = element_text(color = \"Black\", size = 12, face = \"bold\")\n",
    "            )\n",
    "\n",
    "print(p1)\n",
    "\n",
    "# Salvando o gráfico:\n",
    "ggsave(filename = \"barplot_media_total_clientes.pdf\", plot = p1, device = \"pdf\", path = PROJECT_IMG_PATH, dpi = 300)"
   ]
  },
  {
   "cell_type": "markdown",
   "metadata": {},
   "source": [
    "**Análise:**\n",
    "\n",
    "* O gráfico acima (***Boxplot***) confirma todos os testes estatísticos realizados, ou seja, que **o *volume total de clientes (em média, por ano)* aumentou significativamente em todos os anos**;\n",
    "\n",
    "\n",
    "* O gráfico acima (***Barplot***) apresenta a **`média`** do **`Volume Total de Clientes`** (acumulada) por **`Ano`**."
   ]
  },
  {
   "cell_type": "markdown",
   "metadata": {},
   "source": [
    "### `2.7-` Considerando todo o período (`2012 a 2018`), o *volume de clientes novos aumentou e/ou diminuiu*?\n",
    "\n",
    "Para fazermos esta análise, vamos realizar um teste de **Análise de Variância (`ANOVA`)** para concluir se devemos rejeitar ou não a hipótese nula.\n",
    "\n",
    "Então, para realizarmos o *teste de hipóteses* definimos as duas hipóteses:\n",
    "\n",
    ">1. **`H0`:** VMCN1 = VMCN2 = VMCN3 = VMCN4 = VMCN5 = VMCN6 = VMCN7, ou seja, os volumes médios de clientes novos (por ano) não diferem entre cada um dos anos, ou seja, em todo o período. \n",
    ">2. **`H1`:** o volume médio de clientes novos (por ano) é diferente em pelo menos um ano dentro do período.\n",
    "\n",
    "Onde:\n",
    "\n",
    ">* **`VMCN1`:** volume médio de clientes novos (por ano) para o ano de ***`2012`***;\n",
    ">* **`VMCN2`:** volume médio de clientes novos (por ano) para o ano de ***`2013`***;\n",
    ">* **`VMCN3`:** volume médio de clientes novos (por ano) para o ano de ***`2014`***;\n",
    ">* **`VMCN4`:** volume médio de clientes novos (por ano) para o ano de ***`2015`***;\n",
    ">* **`VMCN5`:** volume médio de clientes novos (por ano) para o ano de ***`2016`***;\n",
    ">* **`VMCN6`:** volume médio de clientes novos (por ano) para o ano de ***`2017`***;\n",
    ">* **`VMCN7`:** volume médio de clientes novos (por ano) para o ano de ***`2018`***."
   ]
  },
  {
   "cell_type": "code",
   "execution_count": 23,
   "metadata": {},
   "outputs": [
    {
     "data": {
      "text/html": [
       "<table>\n",
       "<thead><tr><th></th><th scope=col>Df</th><th scope=col>Sum Sq</th><th scope=col>Mean Sq</th><th scope=col>F value</th><th scope=col>Pr(&gt;F)</th></tr></thead>\n",
       "<tbody>\n",
       "\t<tr><th scope=row>ano_cat    </th><td> 6       </td><td> 870797.4</td><td>145132.9 </td><td>3.006116 </td><td>0.027901 </td></tr>\n",
       "\t<tr><th scope=row>Residuals  </th><td>21       </td><td>1013863.2</td><td> 48279.2 </td><td>      NA </td><td>      NA </td></tr>\n",
       "</tbody>\n",
       "</table>\n"
      ],
      "text/latex": [
       "\\begin{tabular}{r|lllll}\n",
       "  & Df & Sum Sq & Mean Sq & F value & Pr(>F)\\\\\n",
       "\\hline\n",
       "\tano\\_cat     &  6        &  870797.4 & 145132.9  & 3.006116  & 0.027901 \\\\\n",
       "\tResiduals   & 21        & 1013863.2 &  48279.2  &       NA  &       NA \\\\\n",
       "\\end{tabular}\n"
      ],
      "text/markdown": [
       "\n",
       "| <!--/--> | Df | Sum Sq | Mean Sq | F value | Pr(>F) |\n",
       "|---|---|---|---|---|---|\n",
       "| ano_cat     |  6        |  870797.4 | 145132.9  | 3.006116  | 0.027901  |\n",
       "| Residuals   | 21        | 1013863.2 |  48279.2  |       NA  |       NA  |\n",
       "\n"
      ],
      "text/plain": [
       "            Df Sum Sq    Mean Sq  F value  Pr(>F)  \n",
       "ano_cat      6  870797.4 145132.9 3.006116 0.027901\n",
       "Residuals   21 1013863.2  48279.2       NA       NA"
      ]
     },
     "metadata": {},
     "output_type": "display_data"
    },
    {
     "data": {
      "text/html": [
       "'valor-p do teste: 0.0279010'"
      ],
      "text/latex": [
       "'valor-p do teste: 0.0279010'"
      ],
      "text/markdown": [
       "'valor-p do teste: 0.0279010'"
      ],
      "text/plain": [
       "[1] \"valor-p do teste: 0.0279010\""
      ]
     },
     "metadata": {},
     "output_type": "display_data"
    }
   ],
   "source": [
    "# Aplicanto análise de variância (ANOVA):\n",
    "resultado_anova <- aov(formula = clientes_novos ~ ano_cat, data = df_data)\n",
    "\n",
    "# Resumo estatístico do teste ANOVA:\n",
    "anova_table = summary(resultado_anova)\n",
    "anova_table[[1]]\n",
    "\n",
    "# Obtendo o \"valor-p\" do teste:\n",
    "sprintf(\"valor-p do teste: %.7f\", anova_table[[1]]$Pr[[1]])"
   ]
  },
  {
   "cell_type": "markdown",
   "metadata": {},
   "source": [
    "**Conclusão:**\n",
    "\n",
    "Se **`valor-p < 0.05`**: rejeitamos a hipótese nula (**H0**), caso contrário falhamos em rejeitar a a hipótese nula.\n",
    "\n",
    "O **valor-p é menor que 0.05**. Portanto, os resultados não ocorreram por variação aleatória e a hipótese nula é rejeitada, ou seja, há um efeito significativo do ano (variável independente) no volume de clientes novos (variável dependente) por ano."
   ]
  },
  {
   "cell_type": "markdown",
   "metadata": {},
   "source": [
    "### `Comparações Não Planejadas`:\n",
    "\n",
    "Estas comparações também são chamadas de *testes a posteriori*, *testes post hoc* ou simplesmente *comparações não planejadas*.\n",
    "\n",
    "Um dos membros mais conhecidos do mundo *post-hoc* é o **teste HSD** (*Honest Significant Difference* ou Diferença Honestamente Significativa). Esse teste realiza todas as comparações emparelháveis possíveis entre as médias amostrais."
   ]
  },
  {
   "cell_type": "code",
   "execution_count": 24,
   "metadata": {},
   "outputs": [
    {
     "data": {
      "text/plain": [
       "  Tukey multiple comparisons of means\n",
       "    95% family-wise confidence level\n",
       "\n",
       "Fit: aov(formula = clientes_novos ~ ano_cat, data = df_data)\n",
       "\n",
       "$ano_cat\n",
       "             diff        lwr      upr     p adj\n",
       "2013-2012  -74.00 -579.07172 431.0717 0.9989198\n",
       "2014-2012 -197.25 -702.32172 307.8217 0.8579482\n",
       "2015-2012 -210.00 -715.07172 295.0717 0.8201000\n",
       "2016-2012 -173.25 -678.32172 331.8217 0.9163863\n",
       "2017-2012  207.25 -297.82172 712.3217 0.8286297\n",
       "2018-2012  248.75 -256.32172 753.8217 0.6831679\n",
       "2014-2013 -123.25 -628.32172 381.8217 0.9831218\n",
       "2015-2013 -136.00 -641.07172 369.0717 0.9724891\n",
       "2016-2013  -99.25 -604.32172 405.8217 0.9945490\n",
       "2017-2013  281.25 -223.82172 786.3217 0.5559388\n",
       "2018-2013  322.75 -182.32172 827.8217 0.4001732\n",
       "2015-2014  -12.75 -517.82172 492.3217 1.0000000\n",
       "2016-2014   24.00 -481.07172 529.0717 0.9999985\n",
       "2017-2014  404.50 -100.57172 909.5717 0.1748237\n",
       "2018-2014  446.00  -59.07172 951.0717 0.1068958\n",
       "2016-2015   36.75 -468.32172 541.8217 0.9999814\n",
       "2017-2015  417.25  -87.82172 922.3217 0.1509541\n",
       "2018-2015  458.75  -46.32172 963.8217 0.0912090\n",
       "2017-2016  380.50 -124.57172 885.5717 0.2277853\n",
       "2018-2016  422.00  -83.07172 927.0717 0.1427736\n",
       "2018-2017   41.50 -463.57172 546.5717 0.9999619\n"
      ]
     },
     "metadata": {},
     "output_type": "display_data"
    }
   ],
   "source": [
    "# Realizando o teste de \"Tukey\":\n",
    "TukeyHSD(resultado_anova, ordered = FALSE, conf.level = 0.95)"
   ]
  },
  {
   "cell_type": "markdown",
   "metadata": {},
   "source": [
    "**Conclusão:**\n",
    "\n",
    "De acordo com os resultados do **`teste-HSD`**, todos os pares de anos têm um **valor-p >= 0.05**. Isso significa que **não há diferença estatisticamente significativa** nos volumes de clientes novos (por ano) entre cada um dos anos."
   ]
  },
  {
   "cell_type": "markdown",
   "metadata": {},
   "source": [
    "### Vamos agora, verificar se o *volume de clientes novos* aumentou com o passar dos anos:"
   ]
  },
  {
   "cell_type": "markdown",
   "metadata": {},
   "source": [
    "Então, realizaremos um `teste-t unicaudal direito` para verificarmos esta condição.\n",
    "\n",
    "Definindo as duas hipóteses:\n",
    "\n",
    ">1. **`H0`:** VMCN2 - VMCN1 = 0, ou seja, o volume médio de clientes novos (por ano) não difere entre cada um dos anos \"1\" e \"2\";\n",
    ">2. **`H1`:** VMCN2 - VMCN1 > 0, ou seja, o volume médio de clientes novos (por ano) do ano \"2\" é MAIOR que o volume médio de clientes novos (por ano) do ano \"1\".\n",
    "\n",
    "Onde:\n",
    "\n",
    ">* **`VMCN1`:** volume médio de clientes novos (por ano) para o ano ***`1`***;\n",
    ">* **`VMCN2`:** volume médio de clientes novos (por ano) para o ano ***`2`***."
   ]
  },
  {
   "cell_type": "code",
   "execution_count": 25,
   "metadata": {
    "scrolled": true
   },
   "outputs": [
    {
     "data": {
      "text/html": [
       "'Resultados para Valor-p &lt; 0.05'"
      ],
      "text/latex": [
       "'Resultados para Valor-p < 0.05'"
      ],
      "text/markdown": [
       "'Resultados para Valor-p &lt; 0.05'"
      ],
      "text/plain": [
       "[1] \"Resultados para Valor-p < 0.05\""
      ]
     },
     "metadata": {},
     "output_type": "display_data"
    },
    {
     "data": {
      "text/html": [
       "<table>\n",
       "<thead><tr><th scope=col>ano2</th><th scope=col>ano1</th><th scope=col>feature</th><th scope=col>H1</th><th scope=col>NC</th><th scope=col>valor_p</th></tr></thead>\n",
       "<tbody>\n",
       "\t<tr><td>2017          </td><td>2014          </td><td>clientes_novos</td><td>greater       </td><td>0.95          </td><td>0.01920193    </td></tr>\n",
       "\t<tr><td>2018          </td><td>2014          </td><td>clientes_novos</td><td>greater       </td><td>0.95          </td><td>0.02388773    </td></tr>\n",
       "\t<tr><td>2017          </td><td>2015          </td><td>clientes_novos</td><td>greater       </td><td>0.95          </td><td>0.01376473    </td></tr>\n",
       "\t<tr><td>2018          </td><td>2015          </td><td>clientes_novos</td><td>greater       </td><td>0.95          </td><td>0.02085883    </td></tr>\n",
       "\t<tr><td>2017          </td><td>2016          </td><td>clientes_novos</td><td>greater       </td><td>0.95          </td><td>0.02701657    </td></tr>\n",
       "\t<tr><td>2018          </td><td>2016          </td><td>clientes_novos</td><td>greater       </td><td>0.95          </td><td>0.03043097    </td></tr>\n",
       "</tbody>\n",
       "</table>\n"
      ],
      "text/latex": [
       "\\begin{tabular}{r|llllll}\n",
       " ano2 & ano1 & feature & H1 & NC & valor\\_p\\\\\n",
       "\\hline\n",
       "\t 2017             & 2014             & clientes\\_novos & greater          & 0.95             & 0.01920193      \\\\\n",
       "\t 2018             & 2014             & clientes\\_novos & greater          & 0.95             & 0.02388773      \\\\\n",
       "\t 2017             & 2015             & clientes\\_novos & greater          & 0.95             & 0.01376473      \\\\\n",
       "\t 2018             & 2015             & clientes\\_novos & greater          & 0.95             & 0.02085883      \\\\\n",
       "\t 2017             & 2016             & clientes\\_novos & greater          & 0.95             & 0.02701657      \\\\\n",
       "\t 2018             & 2016             & clientes\\_novos & greater          & 0.95             & 0.03043097      \\\\\n",
       "\\end{tabular}\n"
      ],
      "text/markdown": [
       "\n",
       "| ano2 | ano1 | feature | H1 | NC | valor_p |\n",
       "|---|---|---|---|---|---|\n",
       "| 2017           | 2014           | clientes_novos | greater        | 0.95           | 0.01920193     |\n",
       "| 2018           | 2014           | clientes_novos | greater        | 0.95           | 0.02388773     |\n",
       "| 2017           | 2015           | clientes_novos | greater        | 0.95           | 0.01376473     |\n",
       "| 2018           | 2015           | clientes_novos | greater        | 0.95           | 0.02085883     |\n",
       "| 2017           | 2016           | clientes_novos | greater        | 0.95           | 0.02701657     |\n",
       "| 2018           | 2016           | clientes_novos | greater        | 0.95           | 0.03043097     |\n",
       "\n"
      ],
      "text/plain": [
       "  ano2 ano1 feature        H1      NC   valor_p   \n",
       "1 2017 2014 clientes_novos greater 0.95 0.01920193\n",
       "2 2018 2014 clientes_novos greater 0.95 0.02388773\n",
       "3 2017 2015 clientes_novos greater 0.95 0.01376473\n",
       "4 2018 2015 clientes_novos greater 0.95 0.02085883\n",
       "5 2017 2016 clientes_novos greater 0.95 0.02701657\n",
       "6 2018 2016 clientes_novos greater 0.95 0.03043097"
      ]
     },
     "metadata": {},
     "output_type": "display_data"
    },
    {
     "data": {
      "text/html": [
       "'Resultados para Valor-p &gt;= 0.05'"
      ],
      "text/latex": [
       "'Resultados para Valor-p >= 0.05'"
      ],
      "text/markdown": [
       "'Resultados para Valor-p &gt;= 0.05'"
      ],
      "text/plain": [
       "[1] \"Resultados para Valor-p >= 0.05\""
      ]
     },
     "metadata": {},
     "output_type": "display_data"
    },
    {
     "data": {
      "text/html": [
       "<table>\n",
       "<thead><tr><th scope=col>ano2</th><th scope=col>ano1</th><th scope=col>feature</th><th scope=col>H1</th><th scope=col>NC</th><th scope=col>valor_p</th></tr></thead>\n",
       "<tbody>\n",
       "\t<tr><td>2013          </td><td>2012          </td><td>clientes_novos</td><td>greater       </td><td>0.95          </td><td>0.67028748    </td></tr>\n",
       "\t<tr><td>2014          </td><td>2012          </td><td>clientes_novos</td><td>greater       </td><td>0.95          </td><td>0.89974346    </td></tr>\n",
       "\t<tr><td>2015          </td><td>2012          </td><td>clientes_novos</td><td>greater       </td><td>0.95          </td><td>0.94081297    </td></tr>\n",
       "\t<tr><td>2016          </td><td>2012          </td><td>clientes_novos</td><td>greater       </td><td>0.95          </td><td>0.86117538    </td></tr>\n",
       "\t<tr><td>2017          </td><td>2012          </td><td>clientes_novos</td><td>greater       </td><td>0.95          </td><td>0.10804495    </td></tr>\n",
       "\t<tr><td>2018          </td><td>2012          </td><td>clientes_novos</td><td>greater       </td><td>0.95          </td><td>0.10256742    </td></tr>\n",
       "\t<tr><td>2014          </td><td>2013          </td><td>clientes_novos</td><td>greater       </td><td>0.95          </td><td>0.76169063    </td></tr>\n",
       "\t<tr><td>2015          </td><td>2013          </td><td>clientes_novos</td><td>greater       </td><td>0.95          </td><td>0.80704440    </td></tr>\n",
       "\t<tr><td>2016          </td><td>2013          </td><td>clientes_novos</td><td>greater       </td><td>0.95          </td><td>0.71130242    </td></tr>\n",
       "\t<tr><td>2017          </td><td>2013          </td><td>clientes_novos</td><td>greater       </td><td>0.95          </td><td>0.07694246    </td></tr>\n",
       "\t<tr><td>2018          </td><td>2013          </td><td>clientes_novos</td><td>greater       </td><td>0.95          </td><td>0.07221200    </td></tr>\n",
       "\t<tr><td>2015          </td><td>2014          </td><td>clientes_novos</td><td>greater       </td><td>0.95          </td><td>0.54176208    </td></tr>\n",
       "\t<tr><td>2016          </td><td>2014          </td><td>clientes_novos</td><td>greater       </td><td>0.95          </td><td>0.43820139    </td></tr>\n",
       "\t<tr><td>2016          </td><td>2015          </td><td>clientes_novos</td><td>greater       </td><td>0.95          </td><td>0.39035933    </td></tr>\n",
       "\t<tr><td>2018          </td><td>2017          </td><td>clientes_novos</td><td>greater       </td><td>0.95          </td><td>0.41468624    </td></tr>\n",
       "</tbody>\n",
       "</table>\n"
      ],
      "text/latex": [
       "\\begin{tabular}{r|llllll}\n",
       " ano2 & ano1 & feature & H1 & NC & valor\\_p\\\\\n",
       "\\hline\n",
       "\t 2013             & 2012             & clientes\\_novos & greater          & 0.95             & 0.67028748      \\\\\n",
       "\t 2014             & 2012             & clientes\\_novos & greater          & 0.95             & 0.89974346      \\\\\n",
       "\t 2015             & 2012             & clientes\\_novos & greater          & 0.95             & 0.94081297      \\\\\n",
       "\t 2016             & 2012             & clientes\\_novos & greater          & 0.95             & 0.86117538      \\\\\n",
       "\t 2017             & 2012             & clientes\\_novos & greater          & 0.95             & 0.10804495      \\\\\n",
       "\t 2018             & 2012             & clientes\\_novos & greater          & 0.95             & 0.10256742      \\\\\n",
       "\t 2014             & 2013             & clientes\\_novos & greater          & 0.95             & 0.76169063      \\\\\n",
       "\t 2015             & 2013             & clientes\\_novos & greater          & 0.95             & 0.80704440      \\\\\n",
       "\t 2016             & 2013             & clientes\\_novos & greater          & 0.95             & 0.71130242      \\\\\n",
       "\t 2017             & 2013             & clientes\\_novos & greater          & 0.95             & 0.07694246      \\\\\n",
       "\t 2018             & 2013             & clientes\\_novos & greater          & 0.95             & 0.07221200      \\\\\n",
       "\t 2015             & 2014             & clientes\\_novos & greater          & 0.95             & 0.54176208      \\\\\n",
       "\t 2016             & 2014             & clientes\\_novos & greater          & 0.95             & 0.43820139      \\\\\n",
       "\t 2016             & 2015             & clientes\\_novos & greater          & 0.95             & 0.39035933      \\\\\n",
       "\t 2018             & 2017             & clientes\\_novos & greater          & 0.95             & 0.41468624      \\\\\n",
       "\\end{tabular}\n"
      ],
      "text/markdown": [
       "\n",
       "| ano2 | ano1 | feature | H1 | NC | valor_p |\n",
       "|---|---|---|---|---|---|\n",
       "| 2013           | 2012           | clientes_novos | greater        | 0.95           | 0.67028748     |\n",
       "| 2014           | 2012           | clientes_novos | greater        | 0.95           | 0.89974346     |\n",
       "| 2015           | 2012           | clientes_novos | greater        | 0.95           | 0.94081297     |\n",
       "| 2016           | 2012           | clientes_novos | greater        | 0.95           | 0.86117538     |\n",
       "| 2017           | 2012           | clientes_novos | greater        | 0.95           | 0.10804495     |\n",
       "| 2018           | 2012           | clientes_novos | greater        | 0.95           | 0.10256742     |\n",
       "| 2014           | 2013           | clientes_novos | greater        | 0.95           | 0.76169063     |\n",
       "| 2015           | 2013           | clientes_novos | greater        | 0.95           | 0.80704440     |\n",
       "| 2016           | 2013           | clientes_novos | greater        | 0.95           | 0.71130242     |\n",
       "| 2017           | 2013           | clientes_novos | greater        | 0.95           | 0.07694246     |\n",
       "| 2018           | 2013           | clientes_novos | greater        | 0.95           | 0.07221200     |\n",
       "| 2015           | 2014           | clientes_novos | greater        | 0.95           | 0.54176208     |\n",
       "| 2016           | 2014           | clientes_novos | greater        | 0.95           | 0.43820139     |\n",
       "| 2016           | 2015           | clientes_novos | greater        | 0.95           | 0.39035933     |\n",
       "| 2018           | 2017           | clientes_novos | greater        | 0.95           | 0.41468624     |\n",
       "\n"
      ],
      "text/plain": [
       "   ano2 ano1 feature        H1      NC   valor_p   \n",
       "1  2013 2012 clientes_novos greater 0.95 0.67028748\n",
       "2  2014 2012 clientes_novos greater 0.95 0.89974346\n",
       "3  2015 2012 clientes_novos greater 0.95 0.94081297\n",
       "4  2016 2012 clientes_novos greater 0.95 0.86117538\n",
       "5  2017 2012 clientes_novos greater 0.95 0.10804495\n",
       "6  2018 2012 clientes_novos greater 0.95 0.10256742\n",
       "7  2014 2013 clientes_novos greater 0.95 0.76169063\n",
       "8  2015 2013 clientes_novos greater 0.95 0.80704440\n",
       "9  2016 2013 clientes_novos greater 0.95 0.71130242\n",
       "10 2017 2013 clientes_novos greater 0.95 0.07694246\n",
       "11 2018 2013 clientes_novos greater 0.95 0.07221200\n",
       "12 2015 2014 clientes_novos greater 0.95 0.54176208\n",
       "13 2016 2014 clientes_novos greater 0.95 0.43820139\n",
       "14 2016 2015 clientes_novos greater 0.95 0.39035933\n",
       "15 2018 2017 clientes_novos greater 0.95 0.41468624"
      ]
     },
     "metadata": {},
     "output_type": "display_data"
    }
   ],
   "source": [
    "# Teste-t Unicaudal Direito:\n",
    "# Definindo um vetor para o primeiro ano do teste:\n",
    "ano1 = c('2012', '2012', '2012','2012', '2012', '2012', '2013', '2013', '2013', '2013', '2013',\n",
    "         '2014', '2014', '2014', '2014', '2015', '2015', '2015', '2016', '2016', '2017')\n",
    "\n",
    "# Definindo um vetor para o segundo ano do teste:\n",
    "ano2 = c('2013', '2014', '2015','2016', '2017', '2018', '2014', '2015', '2016', '2017', '2018',\n",
    "         '2015', '2016', '2017', '2018', '2016', '2017', '2018', '2017', '2018', '2018')\n",
    "\n",
    "# Realizando o teste-t unicaudal direito:\n",
    "df_teste_t = teste_t(ano1, ano2, feature = \"clientes_novos\", H1 = \"greater\", NC = 0.95)\n",
    "\n",
    "# Filtrando os resultados onde \"valor_p < 0.05\":\n",
    "sprintf(\"Resultados para Valor-p < %.2f\", 1 - 0.95)\n",
    "filter(df_teste_t, valor_p < 0.05)\n",
    "\n",
    "# Filtrando os resultados onde \"valor_p >= 0.05\":\n",
    "sprintf(\"Resultados para Valor-p >= %.2f\", 1 - 0.95)\n",
    "filter(df_teste_t, valor_p >= 0.05)"
   ]
  },
  {
   "cell_type": "markdown",
   "metadata": {},
   "source": [
    "**Conclusão:**\n",
    "\n",
    "Se **`valor-p < 0.05`**: rejeitamos a hipótese nula (**H0**), caso contrário falhamos em rejeitar a a hipótese nula. Sendo assim:\n",
    "\n",
    "* Observamos que o **valor-p é maior ou igual a 0.05** na maioria dos testes (15), ou seja, os dados falharam em fornecer evidências suficientes para rejeitarmos a hipótese nula do `teste-t unicaudal direito`. Portanto, não podemos concluir, por exemplo, que o ano de **2013** possui um MAIOR volume de clientes novos (em média, por ano) do que o ano de **2012**. Esta mesma explicação é válida para os demais pares de anos onde tivemos como resultado o **`valor-p >= 0.05`**;\n",
    "\n",
    "\n",
    "* Observamos também que o **valor-p é menor que 0.05** em alguns testes (05), ou seja, para estes testes podemos rejeitar a hipótese nula do `teste-t unicaudal direito` e concluir, por exemplo, que o ano de **2017** possui um MAIOR volume de clientes novos (em média, por ano) do que o volume de clientes novos no ano de **2014**. Esta mesma explicação é válida para os demais pares de anos onde tivemos como resultado o **`valor-p < 0.05`**.\n",
    "\n",
    "Portanto, concluimos que **o *volume de clientes novos (em média, por ano)* aumentou significativamente a partir de 2017!**"
   ]
  },
  {
   "cell_type": "markdown",
   "metadata": {},
   "source": [
    "### O quanto que o *volume de clientes novos* aumentou (em média) entre os anos de `2015 e 2018`?"
   ]
  },
  {
   "cell_type": "markdown",
   "metadata": {},
   "source": [
    "Primeiro, vamos calcular as médias por ano do *volume de clientes novos*:"
   ]
  },
  {
   "cell_type": "code",
   "execution_count": 26,
   "metadata": {
    "scrolled": true
   },
   "outputs": [
    {
     "data": {
      "text/html": [
       "<table>\n",
       "<thead><tr><th scope=col>Ano</th><th scope=col>Media_Clientes_Novos</th></tr></thead>\n",
       "<tbody>\n",
       "\t<tr><td>2012   </td><td>1403.75</td></tr>\n",
       "\t<tr><td>2013   </td><td>1329.75</td></tr>\n",
       "\t<tr><td>2014   </td><td>1206.50</td></tr>\n",
       "\t<tr><td>2015   </td><td>1193.75</td></tr>\n",
       "\t<tr><td>2016   </td><td>1230.50</td></tr>\n",
       "\t<tr><td>2017   </td><td>1611.00</td></tr>\n",
       "\t<tr><td>2018   </td><td>1652.50</td></tr>\n",
       "</tbody>\n",
       "</table>\n"
      ],
      "text/latex": [
       "\\begin{tabular}{r|ll}\n",
       " Ano & Media\\_Clientes\\_Novos\\\\\n",
       "\\hline\n",
       "\t 2012    & 1403.75\\\\\n",
       "\t 2013    & 1329.75\\\\\n",
       "\t 2014    & 1206.50\\\\\n",
       "\t 2015    & 1193.75\\\\\n",
       "\t 2016    & 1230.50\\\\\n",
       "\t 2017    & 1611.00\\\\\n",
       "\t 2018    & 1652.50\\\\\n",
       "\\end{tabular}\n"
      ],
      "text/markdown": [
       "\n",
       "| Ano | Media_Clientes_Novos |\n",
       "|---|---|\n",
       "| 2012    | 1403.75 |\n",
       "| 2013    | 1329.75 |\n",
       "| 2014    | 1206.50 |\n",
       "| 2015    | 1193.75 |\n",
       "| 2016    | 1230.50 |\n",
       "| 2017    | 1611.00 |\n",
       "| 2018    | 1652.50 |\n",
       "\n"
      ],
      "text/plain": [
       "  Ano  Media_Clientes_Novos\n",
       "1 2012 1403.75             \n",
       "2 2013 1329.75             \n",
       "3 2014 1206.50             \n",
       "4 2015 1193.75             \n",
       "5 2016 1230.50             \n",
       "6 2017 1611.00             \n",
       "7 2018 1652.50             "
      ]
     },
     "metadata": {},
     "output_type": "display_data"
    }
   ],
   "source": [
    "# Calculando as médias do volume de clientes novos por ano:\n",
    "media_vol_cli_novos = aggregate(df_data[, \"clientes_novos\"], list(df_data$ano_cat), mean)\n",
    "colnames(media_vol_cli_novos) <- c(\"Ano\", \"Media_Clientes_Novos\")\n",
    "media_vol_cli_novos"
   ]
  },
  {
   "cell_type": "markdown",
   "metadata": {},
   "source": [
    "Em seguida, vamos criar um data frame com os cálculos necessários para identificarmos o *aumento* no volume de clientes novos (em média, por ano) entre os anos de 2014 e 2018:"
   ]
  },
  {
   "cell_type": "code",
   "execution_count": 27,
   "metadata": {},
   "outputs": [
    {
     "data": {
      "text/html": [
       "<table>\n",
       "<thead><tr><th scope=col>ano2</th><th scope=col>ano1</th><th scope=col>valor_p</th><th scope=col>media_ano2</th><th scope=col>media_ano1</th><th scope=col>aumento</th></tr></thead>\n",
       "<tbody>\n",
       "\t<tr><td>2018      </td><td>2015      </td><td>0.02085883</td><td>1652.5    </td><td>1193.75   </td><td>0.3842932 </td></tr>\n",
       "\t<tr><td>2018      </td><td>2014      </td><td>0.02388773</td><td>1652.5    </td><td>1206.50   </td><td>0.3696643 </td></tr>\n",
       "\t<tr><td>2017      </td><td>2015      </td><td>0.01376473</td><td>1611.0    </td><td>1193.75   </td><td>0.3495288 </td></tr>\n",
       "\t<tr><td>2018      </td><td>2016      </td><td>0.03043097</td><td>1652.5    </td><td>1230.50   </td><td>0.3429500 </td></tr>\n",
       "\t<tr><td>2017      </td><td>2014      </td><td>0.01920193</td><td>1611.0    </td><td>1206.50   </td><td>0.3352673 </td></tr>\n",
       "\t<tr><td>2017      </td><td>2016      </td><td>0.02701657</td><td>1611.0    </td><td>1230.50   </td><td>0.3092239 </td></tr>\n",
       "</tbody>\n",
       "</table>\n"
      ],
      "text/latex": [
       "\\begin{tabular}{r|llllll}\n",
       " ano2 & ano1 & valor\\_p & media\\_ano2 & media\\_ano1 & aumento\\\\\n",
       "\\hline\n",
       "\t 2018       & 2015       & 0.02085883 & 1652.5     & 1193.75    & 0.3842932 \\\\\n",
       "\t 2018       & 2014       & 0.02388773 & 1652.5     & 1206.50    & 0.3696643 \\\\\n",
       "\t 2017       & 2015       & 0.01376473 & 1611.0     & 1193.75    & 0.3495288 \\\\\n",
       "\t 2018       & 2016       & 0.03043097 & 1652.5     & 1230.50    & 0.3429500 \\\\\n",
       "\t 2017       & 2014       & 0.01920193 & 1611.0     & 1206.50    & 0.3352673 \\\\\n",
       "\t 2017       & 2016       & 0.02701657 & 1611.0     & 1230.50    & 0.3092239 \\\\\n",
       "\\end{tabular}\n"
      ],
      "text/markdown": [
       "\n",
       "| ano2 | ano1 | valor_p | media_ano2 | media_ano1 | aumento |\n",
       "|---|---|---|---|---|---|\n",
       "| 2018       | 2015       | 0.02085883 | 1652.5     | 1193.75    | 0.3842932  |\n",
       "| 2018       | 2014       | 0.02388773 | 1652.5     | 1206.50    | 0.3696643  |\n",
       "| 2017       | 2015       | 0.01376473 | 1611.0     | 1193.75    | 0.3495288  |\n",
       "| 2018       | 2016       | 0.03043097 | 1652.5     | 1230.50    | 0.3429500  |\n",
       "| 2017       | 2014       | 0.01920193 | 1611.0     | 1206.50    | 0.3352673  |\n",
       "| 2017       | 2016       | 0.02701657 | 1611.0     | 1230.50    | 0.3092239  |\n",
       "\n"
      ],
      "text/plain": [
       "  ano2 ano1 valor_p    media_ano2 media_ano1 aumento  \n",
       "1 2018 2015 0.02085883 1652.5     1193.75    0.3842932\n",
       "2 2018 2014 0.02388773 1652.5     1206.50    0.3696643\n",
       "3 2017 2015 0.01376473 1611.0     1193.75    0.3495288\n",
       "4 2018 2016 0.03043097 1652.5     1230.50    0.3429500\n",
       "5 2017 2014 0.01920193 1611.0     1206.50    0.3352673\n",
       "6 2017 2016 0.02701657 1611.0     1230.50    0.3092239"
      ]
     },
     "metadata": {},
     "output_type": "display_data"
    }
   ],
   "source": [
    "# Selecionando os pares de anos que no teste-t apresentaram \"valor-p < 0.05\":\n",
    "df_volume = select(filter(df_teste_t, valor_p < 0.05), ano2, ano1, valor_p)\n",
    "# Criando variáveis para os cálculos:\n",
    "df_volume$media_ano2 = 0\n",
    "df_volume$media_ano1 = 0\n",
    "df_volume$aumento = 0\n",
    "\n",
    "# Realizando os cálculos:\n",
    "for (i in 1:dim(df_volume)[1]){\n",
    "    # Obtendo a média para o \"ano1\" e \"ano2\":\n",
    "    df_volume[i, \"media_ano1\"] = filter(media_vol_cli_novos, Ano == df_volume[i, \"ano1\"])$Media_Clientes_Novos\n",
    "    df_volume[i, \"media_ano2\"] = filter(media_vol_cli_novos, Ano == df_volume[i, \"ano2\"])$Media_Clientes_Novos\n",
    "    \n",
    "    # Calculando o \"aumento\" do volume médio de clientes novos:\n",
    "    df_volume[i, \"aumento\"] = (df_volume[i, \"media_ano2\"] - df_volume[i, \"media_ano1\"])/df_volume[i, \"media_ano1\"]\n",
    "}\n",
    "\n",
    "# Classificando o resultado em ordem \"decrescente\":\n",
    "arrange(df_volume, desc(aumento))"
   ]
  },
  {
   "cell_type": "markdown",
   "metadata": {},
   "source": [
    "**Conclusão:**\n",
    "\n",
    "* o ***`volume de clientes novos`*** *aumentou (em média)* **`~38.0%`** em **3 anos**, ou seja, de **`~1.2 milhões`** em **`2015`** para **`~1.65 milhões`** em **`2018`**."
   ]
  },
  {
   "cell_type": "markdown",
   "metadata": {},
   "source": [
    "### Vamos agora, verificar se o *volume de clientes novos* diminuiu com o passar dos anos:"
   ]
  },
  {
   "cell_type": "markdown",
   "metadata": {},
   "source": [
    "Então, realizaremos um `teste-t unicaudal esquerdo` para verificarmos esta condição.\n",
    "\n",
    "Definindo as duas hipóteses:\n",
    "\n",
    ">1. **`H0`:** VMCN2 - VMCN1 = 0, ou seja, o volume médio de clientes novos (por ano) não difere entre cada um dos anos \"1\" e \"2\";\n",
    ">2. **`H1`:** VMCN2 - VMCN1 < 0, ou seja, o volume médio de clientes novos (por ano) do ano \"2\" é MENOR que o volume médio de clientes novos (por ano) do ano \"1\".\n",
    "\n",
    "Onde:\n",
    "\n",
    ">* **`VMCN1`:** volume médio de clientes novos (por ano) para o ano ***`1`***;\n",
    ">* **`VMCN2`:** volume médio de clientes novos (por ano) para o ano ***`2`***."
   ]
  },
  {
   "cell_type": "code",
   "execution_count": 28,
   "metadata": {
    "scrolled": true
   },
   "outputs": [
    {
     "data": {
      "text/html": [
       "'Resultados para Valor-p &lt; 0.05'"
      ],
      "text/latex": [
       "'Resultados para Valor-p < 0.05'"
      ],
      "text/markdown": [
       "'Resultados para Valor-p &lt; 0.05'"
      ],
      "text/plain": [
       "[1] \"Resultados para Valor-p < 0.05\""
      ]
     },
     "metadata": {},
     "output_type": "display_data"
    },
    {
     "data": {
      "text/html": [
       "<table>\n",
       "<thead><tr><th scope=col>ano2</th><th scope=col>ano1</th><th scope=col>feature</th><th scope=col>H1</th><th scope=col>NC</th><th scope=col>valor_p</th></tr></thead>\n",
       "<tbody>\n",
       "</tbody>\n",
       "</table>\n"
      ],
      "text/latex": [
       "\\begin{tabular}{r|llllll}\n",
       " ano2 & ano1 & feature & H1 & NC & valor\\_p\\\\\n",
       "\\hline\n",
       "\\end{tabular}\n"
      ],
      "text/markdown": [
       "\n",
       "| ano2 | ano1 | feature | H1 | NC | valor_p |\n",
       "|---|---|---|---|---|---|\n",
       "\n"
      ],
      "text/plain": [
       "     ano2 ano1 feature H1 NC valor_p"
      ]
     },
     "metadata": {},
     "output_type": "display_data"
    },
    {
     "data": {
      "text/html": [
       "'Resultados para Valor-p &gt;= 0.05'"
      ],
      "text/latex": [
       "'Resultados para Valor-p >= 0.05'"
      ],
      "text/markdown": [
       "'Resultados para Valor-p &gt;= 0.05'"
      ],
      "text/plain": [
       "[1] \"Resultados para Valor-p >= 0.05\""
      ]
     },
     "metadata": {},
     "output_type": "display_data"
    },
    {
     "data": {
      "text/html": [
       "<table>\n",
       "<thead><tr><th scope=col>ano2</th><th scope=col>ano1</th><th scope=col>feature</th><th scope=col>H1</th><th scope=col>NC</th><th scope=col>valor_p</th></tr></thead>\n",
       "<tbody>\n",
       "\t<tr><td>2013          </td><td>2012          </td><td>clientes_novos</td><td>less          </td><td>0.95          </td><td>0.32971252    </td></tr>\n",
       "\t<tr><td>2014          </td><td>2012          </td><td>clientes_novos</td><td>less          </td><td>0.95          </td><td>0.10025654    </td></tr>\n",
       "\t<tr><td>2015          </td><td>2012          </td><td>clientes_novos</td><td>less          </td><td>0.95          </td><td>0.05918703    </td></tr>\n",
       "\t<tr><td>2016          </td><td>2012          </td><td>clientes_novos</td><td>less          </td><td>0.95          </td><td>0.13882462    </td></tr>\n",
       "\t<tr><td>2017          </td><td>2012          </td><td>clientes_novos</td><td>less          </td><td>0.95          </td><td>0.89195505    </td></tr>\n",
       "\t<tr><td>2018          </td><td>2012          </td><td>clientes_novos</td><td>less          </td><td>0.95          </td><td>0.89743258    </td></tr>\n",
       "\t<tr><td>2014          </td><td>2013          </td><td>clientes_novos</td><td>less          </td><td>0.95          </td><td>0.23830937    </td></tr>\n",
       "\t<tr><td>2015          </td><td>2013          </td><td>clientes_novos</td><td>less          </td><td>0.95          </td><td>0.19295560    </td></tr>\n",
       "\t<tr><td>2016          </td><td>2013          </td><td>clientes_novos</td><td>less          </td><td>0.95          </td><td>0.28869758    </td></tr>\n",
       "\t<tr><td>2017          </td><td>2013          </td><td>clientes_novos</td><td>less          </td><td>0.95          </td><td>0.92305754    </td></tr>\n",
       "\t<tr><td>2018          </td><td>2013          </td><td>clientes_novos</td><td>less          </td><td>0.95          </td><td>0.92778800    </td></tr>\n",
       "\t<tr><td>2015          </td><td>2014          </td><td>clientes_novos</td><td>less          </td><td>0.95          </td><td>0.45823792    </td></tr>\n",
       "\t<tr><td>2016          </td><td>2014          </td><td>clientes_novos</td><td>less          </td><td>0.95          </td><td>0.56179861    </td></tr>\n",
       "\t<tr><td>2017          </td><td>2014          </td><td>clientes_novos</td><td>less          </td><td>0.95          </td><td>0.98079807    </td></tr>\n",
       "\t<tr><td>2018          </td><td>2014          </td><td>clientes_novos</td><td>less          </td><td>0.95          </td><td>0.97611227    </td></tr>\n",
       "\t<tr><td>2016          </td><td>2015          </td><td>clientes_novos</td><td>less          </td><td>0.95          </td><td>0.60964067    </td></tr>\n",
       "\t<tr><td>2017          </td><td>2015          </td><td>clientes_novos</td><td>less          </td><td>0.95          </td><td>0.98623527    </td></tr>\n",
       "\t<tr><td>2018          </td><td>2015          </td><td>clientes_novos</td><td>less          </td><td>0.95          </td><td>0.97914117    </td></tr>\n",
       "\t<tr><td>2017          </td><td>2016          </td><td>clientes_novos</td><td>less          </td><td>0.95          </td><td>0.97298343    </td></tr>\n",
       "\t<tr><td>2018          </td><td>2016          </td><td>clientes_novos</td><td>less          </td><td>0.95          </td><td>0.96956903    </td></tr>\n",
       "\t<tr><td>2018          </td><td>2017          </td><td>clientes_novos</td><td>less          </td><td>0.95          </td><td>0.58531376    </td></tr>\n",
       "</tbody>\n",
       "</table>\n"
      ],
      "text/latex": [
       "\\begin{tabular}{r|llllll}\n",
       " ano2 & ano1 & feature & H1 & NC & valor\\_p\\\\\n",
       "\\hline\n",
       "\t 2013             & 2012             & clientes\\_novos & less             & 0.95             & 0.32971252      \\\\\n",
       "\t 2014             & 2012             & clientes\\_novos & less             & 0.95             & 0.10025654      \\\\\n",
       "\t 2015             & 2012             & clientes\\_novos & less             & 0.95             & 0.05918703      \\\\\n",
       "\t 2016             & 2012             & clientes\\_novos & less             & 0.95             & 0.13882462      \\\\\n",
       "\t 2017             & 2012             & clientes\\_novos & less             & 0.95             & 0.89195505      \\\\\n",
       "\t 2018             & 2012             & clientes\\_novos & less             & 0.95             & 0.89743258      \\\\\n",
       "\t 2014             & 2013             & clientes\\_novos & less             & 0.95             & 0.23830937      \\\\\n",
       "\t 2015             & 2013             & clientes\\_novos & less             & 0.95             & 0.19295560      \\\\\n",
       "\t 2016             & 2013             & clientes\\_novos & less             & 0.95             & 0.28869758      \\\\\n",
       "\t 2017             & 2013             & clientes\\_novos & less             & 0.95             & 0.92305754      \\\\\n",
       "\t 2018             & 2013             & clientes\\_novos & less             & 0.95             & 0.92778800      \\\\\n",
       "\t 2015             & 2014             & clientes\\_novos & less             & 0.95             & 0.45823792      \\\\\n",
       "\t 2016             & 2014             & clientes\\_novos & less             & 0.95             & 0.56179861      \\\\\n",
       "\t 2017             & 2014             & clientes\\_novos & less             & 0.95             & 0.98079807      \\\\\n",
       "\t 2018             & 2014             & clientes\\_novos & less             & 0.95             & 0.97611227      \\\\\n",
       "\t 2016             & 2015             & clientes\\_novos & less             & 0.95             & 0.60964067      \\\\\n",
       "\t 2017             & 2015             & clientes\\_novos & less             & 0.95             & 0.98623527      \\\\\n",
       "\t 2018             & 2015             & clientes\\_novos & less             & 0.95             & 0.97914117      \\\\\n",
       "\t 2017             & 2016             & clientes\\_novos & less             & 0.95             & 0.97298343      \\\\\n",
       "\t 2018             & 2016             & clientes\\_novos & less             & 0.95             & 0.96956903      \\\\\n",
       "\t 2018             & 2017             & clientes\\_novos & less             & 0.95             & 0.58531376      \\\\\n",
       "\\end{tabular}\n"
      ],
      "text/markdown": [
       "\n",
       "| ano2 | ano1 | feature | H1 | NC | valor_p |\n",
       "|---|---|---|---|---|---|\n",
       "| 2013           | 2012           | clientes_novos | less           | 0.95           | 0.32971252     |\n",
       "| 2014           | 2012           | clientes_novos | less           | 0.95           | 0.10025654     |\n",
       "| 2015           | 2012           | clientes_novos | less           | 0.95           | 0.05918703     |\n",
       "| 2016           | 2012           | clientes_novos | less           | 0.95           | 0.13882462     |\n",
       "| 2017           | 2012           | clientes_novos | less           | 0.95           | 0.89195505     |\n",
       "| 2018           | 2012           | clientes_novos | less           | 0.95           | 0.89743258     |\n",
       "| 2014           | 2013           | clientes_novos | less           | 0.95           | 0.23830937     |\n",
       "| 2015           | 2013           | clientes_novos | less           | 0.95           | 0.19295560     |\n",
       "| 2016           | 2013           | clientes_novos | less           | 0.95           | 0.28869758     |\n",
       "| 2017           | 2013           | clientes_novos | less           | 0.95           | 0.92305754     |\n",
       "| 2018           | 2013           | clientes_novos | less           | 0.95           | 0.92778800     |\n",
       "| 2015           | 2014           | clientes_novos | less           | 0.95           | 0.45823792     |\n",
       "| 2016           | 2014           | clientes_novos | less           | 0.95           | 0.56179861     |\n",
       "| 2017           | 2014           | clientes_novos | less           | 0.95           | 0.98079807     |\n",
       "| 2018           | 2014           | clientes_novos | less           | 0.95           | 0.97611227     |\n",
       "| 2016           | 2015           | clientes_novos | less           | 0.95           | 0.60964067     |\n",
       "| 2017           | 2015           | clientes_novos | less           | 0.95           | 0.98623527     |\n",
       "| 2018           | 2015           | clientes_novos | less           | 0.95           | 0.97914117     |\n",
       "| 2017           | 2016           | clientes_novos | less           | 0.95           | 0.97298343     |\n",
       "| 2018           | 2016           | clientes_novos | less           | 0.95           | 0.96956903     |\n",
       "| 2018           | 2017           | clientes_novos | less           | 0.95           | 0.58531376     |\n",
       "\n"
      ],
      "text/plain": [
       "   ano2 ano1 feature        H1   NC   valor_p   \n",
       "1  2013 2012 clientes_novos less 0.95 0.32971252\n",
       "2  2014 2012 clientes_novos less 0.95 0.10025654\n",
       "3  2015 2012 clientes_novos less 0.95 0.05918703\n",
       "4  2016 2012 clientes_novos less 0.95 0.13882462\n",
       "5  2017 2012 clientes_novos less 0.95 0.89195505\n",
       "6  2018 2012 clientes_novos less 0.95 0.89743258\n",
       "7  2014 2013 clientes_novos less 0.95 0.23830937\n",
       "8  2015 2013 clientes_novos less 0.95 0.19295560\n",
       "9  2016 2013 clientes_novos less 0.95 0.28869758\n",
       "10 2017 2013 clientes_novos less 0.95 0.92305754\n",
       "11 2018 2013 clientes_novos less 0.95 0.92778800\n",
       "12 2015 2014 clientes_novos less 0.95 0.45823792\n",
       "13 2016 2014 clientes_novos less 0.95 0.56179861\n",
       "14 2017 2014 clientes_novos less 0.95 0.98079807\n",
       "15 2018 2014 clientes_novos less 0.95 0.97611227\n",
       "16 2016 2015 clientes_novos less 0.95 0.60964067\n",
       "17 2017 2015 clientes_novos less 0.95 0.98623527\n",
       "18 2018 2015 clientes_novos less 0.95 0.97914117\n",
       "19 2017 2016 clientes_novos less 0.95 0.97298343\n",
       "20 2018 2016 clientes_novos less 0.95 0.96956903\n",
       "21 2018 2017 clientes_novos less 0.95 0.58531376"
      ]
     },
     "metadata": {},
     "output_type": "display_data"
    }
   ],
   "source": [
    "# Teste-t Unicaudal Esquerdo:\n",
    "# Definindo um vetor para o primeiro ano do teste:\n",
    "ano1 = c('2012', '2012', '2012','2012', '2012', '2012', '2013', '2013', '2013', '2013', '2013',\n",
    "         '2014', '2014', '2014', '2014', '2015', '2015', '2015', '2016', '2016', '2017')\n",
    "\n",
    "# Definindo um vetor para o segundo ano do teste:\n",
    "ano2 = c('2013', '2014', '2015','2016', '2017', '2018', '2014', '2015', '2016', '2017', '2018',\n",
    "         '2015', '2016', '2017', '2018', '2016', '2017', '2018', '2017', '2018', '2018')\n",
    "\n",
    "# Realizando o teste-t unicaudal esquerdo:\n",
    "df_teste_t = teste_t(ano1, ano2, feature = \"clientes_novos\", H1 = \"less\", NC = 0.95)\n",
    "\n",
    "# Filtrando os resultados onde \"valor_p < 0.05\":\n",
    "sprintf(\"Resultados para Valor-p < %.2f\", 1 - 0.95)\n",
    "filter(df_teste_t, valor_p < 0.05)\n",
    "\n",
    "# Filtrando os resultados onde \"valor_p >= 0.05\":\n",
    "sprintf(\"Resultados para Valor-p >= %.2f\", 1 - 0.95)\n",
    "filter(df_teste_t, valor_p >= 0.05)"
   ]
  },
  {
   "cell_type": "markdown",
   "metadata": {},
   "source": [
    "**Conclusão:**\n",
    "\n",
    "Se **`valor-p < 0.05`**: rejeitamos a hipótese nula (**H0**), caso contrário falhamos em rejeitar a a hipótese nula.\n",
    "\n",
    "Como o **valor-p é maior ou igual que 0.05** em todos os testes, os dados falharam em fornecer evidências suficientes para rejeitarmos a hipótese nula do `teste-t unicaudal esquerdo`. Portanto, não podemos concluir, por exemplo, que o ano de **2013** possui um MENOR volume de clientes novos (em média, por ano) do que o ano de **2012**. Esta mesma explicação é válida para os demais pares de anos onde tivemos como resultado o **`valor-p >= 0.05`**.\n",
    "\n",
    "Portanto, concluimos que **o *volume de clientes novos (em média, por ano)* NÃO diminuiu significativamente com o passar dos anos!**"
   ]
  },
  {
   "cell_type": "markdown",
   "metadata": {},
   "source": [
    "### Visualizando os resultados:\n",
    "\n",
    "Agora, vamos apresentar os resultados utilizando um ***Boxplot*** e um ***Barplot***."
   ]
  },
  {
   "cell_type": "code",
   "execution_count": 29,
   "metadata": {},
   "outputs": [
    {
     "name": "stderr",
     "output_type": "stream",
     "text": [
      "Saving 6.67 x 6.67 in image\n"
     ]
    },
    {
     "data": {
      "image/png": "[encoded data removed]",
      "text/plain": [
       "plot without title"
      ]
     },
     "metadata": {},
     "output_type": "display_data"
    }
   ],
   "source": [
    "# Definindo as cores para cada ano:\n",
    "cores = c(\"lightblue\", \"lightpink\", \"lightcoral\", \"lightgoldenrod\", \"lightsalmon\", \"lightgray\", \"lightgreen\")\n",
    "# Boxplot:\n",
    "p1 = ggplot(df_data, aes(x = ano_cat, y = clientes_novos)) +\n",
    "        geom_boxplot(color = \"black\", fill = cores) +\n",
    "        # Definindo os labels e o título do gráfico:\n",
    "        labs(x = \"Ano\", y = \"Quantidade x 1k\", title = \"Volume de Clientes Novos por Ano\") +\n",
    "        \n",
    "        # Definindo alguns elementos do \"título\" e dos eixos \"x\" e \"y\":\n",
    "        theme(\n",
    "            plot.title = element_text(color = \"Black\", size = 14, face = \"bold.italic\", hjust = 0.5),\n",
    "            axis.title.x = element_text(color = \"Black\", size = 12, face = \"bold\"),\n",
    "            axis.title.y = element_text(color = \"Black\", size = 12, face = \"bold\")\n",
    "        )\n",
    "\n",
    "print(p1)\n",
    "\n",
    "# Salvando o gráfico:\n",
    "ggsave(filename = \"boxplot_clientes_novos.pdf\", plot = p1, device = \"pdf\", path = PROJECT_IMG_PATH, dpi = 300)"
   ]
  },
  {
   "cell_type": "code",
   "execution_count": 30,
   "metadata": {},
   "outputs": [
    {
     "name": "stderr",
     "output_type": "stream",
     "text": [
      "Saving 6.67 x 6.67 in image\n"
     ]
    },
    {
     "data": {
      "image/png": "[encoded data removed]",
      "text/plain": [
       "plot without title"
      ]
     },
     "metadata": {},
     "output_type": "display_data"
    }
   ],
   "source": [
    "# Barplot:\n",
    "p1 <- ggplot(media_vol_cli_novos, aes(x = Ano, y = Media_Clientes_Novos)) +\n",
    "            geom_bar(stat = 'identity', col = \"black\", fill = cores) + theme(axis.text.x = element_text(angle = 0,\n",
    "                                                                                                        hjust = 0.5)) +\n",
    "            guides(fill = FALSE) + coord_cartesian(ylim = c(1150, 1700)) +\n",
    "            ggtitle(\"Volume de Clientes Novos (Média) por Ano\") + xlab(\"Ano\") + ylab(\"Quantidade x 1k\") + \n",
    "            theme(\n",
    "                plot.title = element_text(color = \"Black\", size = 14, face = \"bold.italic\", hjust = 0.5),\n",
    "                axis.title.x = element_text(color = \"Black\", size = 12, face = \"bold\"),\n",
    "                axis.title.y = element_text(color = \"Black\", size = 12, face = \"bold\")\n",
    "            )\n",
    "\n",
    "print(p1)\n",
    "\n",
    "# Salvando o gráfico:\n",
    "ggsave(filename = \"barplot_media_clientes_novos.pdf\", plot = p1, device = \"pdf\", path = PROJECT_IMG_PATH, dpi = 300)"
   ]
  },
  {
   "cell_type": "markdown",
   "metadata": {},
   "source": [
    "**Análise:**\n",
    "\n",
    "* O gráfico acima (***Boxplot***) confirma todos os testes estatísticos realizados, ou seja, que **o *volume de clientes novos (em média, por ano)* aumentou significativamente a partir de 2016** e também que **o *volume de clientes novos (em média, por ano)* NÃO diminuiu significativamente no período entre 2012 e 2015!**;\n",
    "\n",
    "\n",
    "* O gráfico acima (***Barplot***) apresenta a **`média`** do **`Volume de Clientes Novos`** (acumulada) por **`Ano`**."
   ]
  },
  {
   "cell_type": "markdown",
   "metadata": {},
   "source": [
    "### `2.8-` Considerando todo o período (`2012 a 2018`), a *receita total da empresa aumentou e/ou diminuiu*?\n",
    "\n",
    "Para fazermos esta análise, vamos realizar um teste de **Análise de Variância (`ANOVA`)** para concluir se devemos rejeitar ou não a hipótese nula.\n",
    "\n",
    "Então, para realizarmos o *teste de hipóteses* definimos as duas hipóteses:\n",
    "\n",
    ">1. **`H0`:** RTM1 = RTM2 = RTM3 = RTM4 = RTM5 = RTM6 = RTM7, ou seja, a receita total média (por trimestre) da empresa não difere entre cada um dos anos, ou seja, em todo o período.\n",
    ">2. **`H1`:** a receita total média (por trimestre) da empresa é diferente em pelo menos um ano dentro do período.\n",
    "\n",
    "Onde:\n",
    "\n",
    ">* **`RTM1`:** receita total média (por trimestre) da empresa para o ano de ***`2012`***;\n",
    ">* **`RTM2`:** receita total média (por trimestre) da empresa para o ano de ***`2013`***;\n",
    ">* **`RTM3`:** receita total média (por trimestre) da empresa para o ano de ***`2014`***;\n",
    ">* **`RTM4`:** receita total média (por trimestre) da empresa para o ano de ***`2015`***;\n",
    ">* **`RTM5`:** receita total média (por trimestre) da empresa para o ano de ***`2016`***;\n",
    ">* **`RTM6`:** receita total média (por trimestre) da empresa para o ano de ***`2017`***;\n",
    ">* **`RTM7`:** receita total média (por trimestre) da empresa para o ano de ***`2018`***;"
   ]
  },
  {
   "cell_type": "code",
   "execution_count": 31,
   "metadata": {},
   "outputs": [
    {
     "data": {
      "text/html": [
       "<table>\n",
       "<thead><tr><th></th><th scope=col>Df</th><th scope=col>Sum Sq</th><th scope=col>Mean Sq</th><th scope=col>F value</th><th scope=col>Pr(&gt;F)</th></tr></thead>\n",
       "<tbody>\n",
       "\t<tr><th scope=row>ano_cat    </th><td> 6          </td><td>5.656975e+12</td><td>942829196093</td><td>218.2822    </td><td>8.403435e-18</td></tr>\n",
       "\t<tr><th scope=row>Residuals  </th><td>21          </td><td>9.070559e+10</td><td>  4319313754</td><td>      NA    </td><td>          NA</td></tr>\n",
       "</tbody>\n",
       "</table>\n"
      ],
      "text/latex": [
       "\\begin{tabular}{r|lllll}\n",
       "  & Df & Sum Sq & Mean Sq & F value & Pr(>F)\\\\\n",
       "\\hline\n",
       "\tano\\_cat     &  6           & 5.656975e+12 & 942829196093 & 218.2822     & 8.403435e-18\\\\\n",
       "\tResiduals   & 21           & 9.070559e+10 &   4319313754 &       NA     &           NA\\\\\n",
       "\\end{tabular}\n"
      ],
      "text/markdown": [
       "\n",
       "| <!--/--> | Df | Sum Sq | Mean Sq | F value | Pr(>F) |\n",
       "|---|---|---|---|---|---|\n",
       "| ano_cat     |  6           | 5.656975e+12 | 942829196093 | 218.2822     | 8.403435e-18 |\n",
       "| Residuals   | 21           | 9.070559e+10 |   4319313754 |       NA     |           NA |\n",
       "\n"
      ],
      "text/plain": [
       "            Df Sum Sq       Mean Sq      F value  Pr(>F)      \n",
       "ano_cat      6 5.656975e+12 942829196093 218.2822 8.403435e-18\n",
       "Residuals   21 9.070559e+10   4319313754       NA           NA"
      ]
     },
     "metadata": {},
     "output_type": "display_data"
    },
    {
     "data": {
      "text/html": [
       "'valor-p do teste: 0.00000000000000000840'"
      ],
      "text/latex": [
       "'valor-p do teste: 0.00000000000000000840'"
      ],
      "text/markdown": [
       "'valor-p do teste: 0.00000000000000000840'"
      ],
      "text/plain": [
       "[1] \"valor-p do teste: 0.00000000000000000840\""
      ]
     },
     "metadata": {},
     "output_type": "display_data"
    }
   ],
   "source": [
    "# Aplicanto análise de variância (ANOVA):\n",
    "resultado_anova <- aov(formula = receita_total ~ ano_cat, data = df_data)\n",
    "\n",
    "# Resumo estatístico do teste ANOVA:\n",
    "anova_table = summary(resultado_anova)\n",
    "anova_table[[1]]\n",
    "\n",
    "# Obtendo o \"valor-p\" do teste:\n",
    "sprintf(\"valor-p do teste: %.20f\", anova_table[[1]]$Pr[[1]])"
   ]
  },
  {
   "cell_type": "markdown",
   "metadata": {},
   "source": [
    "**Conclusão:**\n",
    "\n",
    "Se **`valor-p < 0.05`**: rejeitamos a hipótese nula (**H0**), caso contrário falhamos em rejeitar a a hipótese nula.\n",
    "\n",
    "O **valor-p é menor que 0.05**. Portanto, os resultados não ocorreram por variação aleatória e a hipótese nula é rejeitada, ou seja, há um efeito significativo do ano (variável independente) na receita total (por trimestre) da empresa (variável dependente)."
   ]
  },
  {
   "cell_type": "markdown",
   "metadata": {},
   "source": [
    "### `Comparações Não Planejadas`:\n",
    "\n",
    "Estas comparações também são chamadas de *testes a posteriori*, *testes post hoc* ou simplesmente *comparações não planejadas*.\n",
    "\n",
    "Um dos membros mais conhecidos do mundo *post-hoc* é o **teste HSD** (*Honest Significant Difference* ou Diferença Honestamente Significativa). Esse teste realiza todas as comparações emparelháveis possíveis entre as médias amostrais."
   ]
  },
  {
   "cell_type": "code",
   "execution_count": 32,
   "metadata": {},
   "outputs": [
    {
     "data": {
      "text/plain": [
       "  Tukey multiple comparisons of means\n",
       "    95% family-wise confidence level\n",
       "\n",
       "Fit: aov(formula = receita_total ~ ano_cat, data = df_data)\n",
       "\n",
       "$ano_cat\n",
       "               diff         lwr       upr     p adj\n",
       "2013-2012  141626.8   -9444.001  292697.5 0.0756192\n",
       "2014-2012  311641.5  160570.749  462712.3 0.0000224\n",
       "2015-2012  498867.7  347796.999  649938.5 0.0000000\n",
       "2016-2012  723109.7  572038.999  874180.5 0.0000000\n",
       "2017-2012  992039.2  840968.499 1143110.0 0.0000000\n",
       "2018-2012 1365444.8 1214373.999 1516515.5 0.0000000\n",
       "2014-2013  170014.7   18943.999  321085.5 0.0209491\n",
       "2015-2013  357241.0  206170.249  508311.8 0.0000029\n",
       "2016-2013  581483.0  430412.249  732553.8 0.0000000\n",
       "2017-2013  850412.5  699341.749 1001483.3 0.0000000\n",
       "2018-2013 1223818.0 1072747.249 1374888.8 0.0000000\n",
       "2015-2014  187226.2   36155.499  338297.0 0.0092071\n",
       "2016-2014  411468.2  260397.499  562539.0 0.0000003\n",
       "2017-2014  680397.8  529326.999  831468.5 0.0000000\n",
       "2018-2014 1053803.2  902732.499 1204874.0 0.0000000\n",
       "2016-2015  224242.0   73171.249  375312.8 0.0015007\n",
       "2017-2015  493171.5  342100.749  644242.3 0.0000000\n",
       "2018-2015  866577.0  715506.249 1017647.8 0.0000000\n",
       "2017-2016  268929.5  117858.749  420000.3 0.0001688\n",
       "2018-2016  642335.0  491264.249  793405.8 0.0000000\n",
       "2018-2017  373405.5  222334.749  524476.3 0.0000014\n"
      ]
     },
     "metadata": {},
     "output_type": "display_data"
    }
   ],
   "source": [
    "# Realizando o teste de \"Tukey\":\n",
    "TukeyHSD(resultado_anova, ordered = FALSE, conf.level = 0.95, )"
   ]
  },
  {
   "cell_type": "markdown",
   "metadata": {},
   "source": [
    "**Conclusão:**\n",
    "\n",
    "* De acordo com os resultados do **`teste-HSD`**, quase todos os pares de anos têm um **valor-p < 0.05**. Isso significa que **há diferença estatisticamente significativa** na receita total (por trimestre) da empresa entre cada um dos anos;\n",
    "\n",
    "\n",
    "* De acordo com os resultados do **`teste-HSD`**, o par de anos **2013-2012** têm um **valor-p >= 0.05**. Isso significa que **não há diferença estatisticamente significativa** na receita total (por trimestre) da empresa entre o ano de 2012 e o ano de 2013."
   ]
  },
  {
   "cell_type": "markdown",
   "metadata": {},
   "source": [
    "### Vamos agora, verificar se a *receita total da empresa* aumentou com o passar dos anos:"
   ]
  },
  {
   "cell_type": "markdown",
   "metadata": {},
   "source": [
    "Então, realizaremos um `teste-t unicaudal direito` para verificarmos esta condição.\n",
    "\n",
    "Definindo as duas hipóteses:\n",
    "\n",
    ">1. **`H0`:** RTM2 - RTM1 = 0, ou seja, a receita total média (por trimestre) da empresa não difere entre cada um dos anos \"1\" e \"2\";\n",
    ">2. **`H1`:** RTM2 - RTM1 > 0, ou seja, a receita total média (por trimestre) da empresa no ano \"2\" é MAIOR que a receita total média (por trimestre) da empresa no ano \"1\".\n",
    "\n",
    "Onde:\n",
    "\n",
    ">* **`RTM1`:** receita total média (por trimestre) da empresa para o ano ***`1`***;\n",
    ">* **`RTM2`:** receita total média (por trimestre) da empresa para o ano ***`2`***."
   ]
  },
  {
   "cell_type": "code",
   "execution_count": 33,
   "metadata": {
    "scrolled": true
   },
   "outputs": [
    {
     "data": {
      "text/html": [
       "'Resultados para Valor-p &lt; 0.05'"
      ],
      "text/latex": [
       "'Resultados para Valor-p < 0.05'"
      ],
      "text/markdown": [
       "'Resultados para Valor-p &lt; 0.05'"
      ],
      "text/plain": [
       "[1] \"Resultados para Valor-p < 0.05\""
      ]
     },
     "metadata": {},
     "output_type": "display_data"
    },
    {
     "data": {
      "text/html": [
       "<table>\n",
       "<thead><tr><th scope=col>ano2</th><th scope=col>ano1</th><th scope=col>feature</th><th scope=col>H1</th><th scope=col>NC</th><th scope=col>valor_p</th></tr></thead>\n",
       "<tbody>\n",
       "\t<tr><td>2013         </td><td>2012         </td><td>receita_total</td><td>greater      </td><td>0.95         </td><td>1.294877e-03 </td></tr>\n",
       "\t<tr><td>2014         </td><td>2012         </td><td>receita_total</td><td>greater      </td><td>0.95         </td><td>5.786397e-05 </td></tr>\n",
       "\t<tr><td>2015         </td><td>2012         </td><td>receita_total</td><td>greater      </td><td>0.95         </td><td>5.837002e-06 </td></tr>\n",
       "\t<tr><td>2016         </td><td>2012         </td><td>receita_total</td><td>greater      </td><td>0.95         </td><td>1.866287e-04 </td></tr>\n",
       "\t<tr><td>2017         </td><td>2012         </td><td>receita_total</td><td>greater      </td><td>0.95         </td><td>2.570615e-06 </td></tr>\n",
       "\t<tr><td>2018         </td><td>2012         </td><td>receita_total</td><td>greater      </td><td>0.95         </td><td>1.233986e-06 </td></tr>\n",
       "\t<tr><td>2014         </td><td>2013         </td><td>receita_total</td><td>greater      </td><td>0.95         </td><td>1.227485e-03 </td></tr>\n",
       "\t<tr><td>2015         </td><td>2013         </td><td>receita_total</td><td>greater      </td><td>0.95         </td><td>2.598156e-05 </td></tr>\n",
       "\t<tr><td>2016         </td><td>2013         </td><td>receita_total</td><td>greater      </td><td>0.95         </td><td>2.935242e-04 </td></tr>\n",
       "\t<tr><td>2017         </td><td>2013         </td><td>receita_total</td><td>greater      </td><td>0.95         </td><td>2.117854e-06 </td></tr>\n",
       "\t<tr><td>2018         </td><td>2013         </td><td>receita_total</td><td>greater      </td><td>0.95         </td><td>7.099076e-07 </td></tr>\n",
       "\t<tr><td>2015         </td><td>2014         </td><td>receita_total</td><td>greater      </td><td>0.95         </td><td>1.067068e-03 </td></tr>\n",
       "\t<tr><td>2016         </td><td>2014         </td><td>receita_total</td><td>greater      </td><td>0.95         </td><td>8.823678e-04 </td></tr>\n",
       "\t<tr><td>2017         </td><td>2014         </td><td>receita_total</td><td>greater      </td><td>0.95         </td><td>4.027655e-06 </td></tr>\n",
       "\t<tr><td>2018         </td><td>2014         </td><td>receita_total</td><td>greater      </td><td>0.95         </td><td>7.169685e-07 </td></tr>\n",
       "\t<tr><td>2016         </td><td>2015         </td><td>receita_total</td><td>greater      </td><td>0.95         </td><td>8.577920e-03 </td></tr>\n",
       "\t<tr><td>2017         </td><td>2015         </td><td>receita_total</td><td>greater      </td><td>0.95         </td><td>2.227192e-05 </td></tr>\n",
       "\t<tr><td>2018         </td><td>2015         </td><td>receita_total</td><td>greater      </td><td>0.95         </td><td>1.896637e-06 </td></tr>\n",
       "\t<tr><td>2017         </td><td>2016         </td><td>receita_total</td><td>greater      </td><td>0.95         </td><td>3.990896e-03 </td></tr>\n",
       "\t<tr><td>2018         </td><td>2016         </td><td>receita_total</td><td>greater      </td><td>0.95         </td><td>6.414075e-05 </td></tr>\n",
       "\t<tr><td>2018         </td><td>2017         </td><td>receita_total</td><td>greater      </td><td>0.95         </td><td>1.638202e-04 </td></tr>\n",
       "</tbody>\n",
       "</table>\n"
      ],
      "text/latex": [
       "\\begin{tabular}{r|llllll}\n",
       " ano2 & ano1 & feature & H1 & NC & valor\\_p\\\\\n",
       "\\hline\n",
       "\t 2013            & 2012            & receita\\_total & greater         & 0.95            & 1.294877e-03   \\\\\n",
       "\t 2014            & 2012            & receita\\_total & greater         & 0.95            & 5.786397e-05   \\\\\n",
       "\t 2015            & 2012            & receita\\_total & greater         & 0.95            & 5.837002e-06   \\\\\n",
       "\t 2016            & 2012            & receita\\_total & greater         & 0.95            & 1.866287e-04   \\\\\n",
       "\t 2017            & 2012            & receita\\_total & greater         & 0.95            & 2.570615e-06   \\\\\n",
       "\t 2018            & 2012            & receita\\_total & greater         & 0.95            & 1.233986e-06   \\\\\n",
       "\t 2014            & 2013            & receita\\_total & greater         & 0.95            & 1.227485e-03   \\\\\n",
       "\t 2015            & 2013            & receita\\_total & greater         & 0.95            & 2.598156e-05   \\\\\n",
       "\t 2016            & 2013            & receita\\_total & greater         & 0.95            & 2.935242e-04   \\\\\n",
       "\t 2017            & 2013            & receita\\_total & greater         & 0.95            & 2.117854e-06   \\\\\n",
       "\t 2018            & 2013            & receita\\_total & greater         & 0.95            & 7.099076e-07   \\\\\n",
       "\t 2015            & 2014            & receita\\_total & greater         & 0.95            & 1.067068e-03   \\\\\n",
       "\t 2016            & 2014            & receita\\_total & greater         & 0.95            & 8.823678e-04   \\\\\n",
       "\t 2017            & 2014            & receita\\_total & greater         & 0.95            & 4.027655e-06   \\\\\n",
       "\t 2018            & 2014            & receita\\_total & greater         & 0.95            & 7.169685e-07   \\\\\n",
       "\t 2016            & 2015            & receita\\_total & greater         & 0.95            & 8.577920e-03   \\\\\n",
       "\t 2017            & 2015            & receita\\_total & greater         & 0.95            & 2.227192e-05   \\\\\n",
       "\t 2018            & 2015            & receita\\_total & greater         & 0.95            & 1.896637e-06   \\\\\n",
       "\t 2017            & 2016            & receita\\_total & greater         & 0.95            & 3.990896e-03   \\\\\n",
       "\t 2018            & 2016            & receita\\_total & greater         & 0.95            & 6.414075e-05   \\\\\n",
       "\t 2018            & 2017            & receita\\_total & greater         & 0.95            & 1.638202e-04   \\\\\n",
       "\\end{tabular}\n"
      ],
      "text/markdown": [
       "\n",
       "| ano2 | ano1 | feature | H1 | NC | valor_p |\n",
       "|---|---|---|---|---|---|\n",
       "| 2013          | 2012          | receita_total | greater       | 0.95          | 1.294877e-03  |\n",
       "| 2014          | 2012          | receita_total | greater       | 0.95          | 5.786397e-05  |\n",
       "| 2015          | 2012          | receita_total | greater       | 0.95          | 5.837002e-06  |\n",
       "| 2016          | 2012          | receita_total | greater       | 0.95          | 1.866287e-04  |\n",
       "| 2017          | 2012          | receita_total | greater       | 0.95          | 2.570615e-06  |\n",
       "| 2018          | 2012          | receita_total | greater       | 0.95          | 1.233986e-06  |\n",
       "| 2014          | 2013          | receita_total | greater       | 0.95          | 1.227485e-03  |\n",
       "| 2015          | 2013          | receita_total | greater       | 0.95          | 2.598156e-05  |\n",
       "| 2016          | 2013          | receita_total | greater       | 0.95          | 2.935242e-04  |\n",
       "| 2017          | 2013          | receita_total | greater       | 0.95          | 2.117854e-06  |\n",
       "| 2018          | 2013          | receita_total | greater       | 0.95          | 7.099076e-07  |\n",
       "| 2015          | 2014          | receita_total | greater       | 0.95          | 1.067068e-03  |\n",
       "| 2016          | 2014          | receita_total | greater       | 0.95          | 8.823678e-04  |\n",
       "| 2017          | 2014          | receita_total | greater       | 0.95          | 4.027655e-06  |\n",
       "| 2018          | 2014          | receita_total | greater       | 0.95          | 7.169685e-07  |\n",
       "| 2016          | 2015          | receita_total | greater       | 0.95          | 8.577920e-03  |\n",
       "| 2017          | 2015          | receita_total | greater       | 0.95          | 2.227192e-05  |\n",
       "| 2018          | 2015          | receita_total | greater       | 0.95          | 1.896637e-06  |\n",
       "| 2017          | 2016          | receita_total | greater       | 0.95          | 3.990896e-03  |\n",
       "| 2018          | 2016          | receita_total | greater       | 0.95          | 6.414075e-05  |\n",
       "| 2018          | 2017          | receita_total | greater       | 0.95          | 1.638202e-04  |\n",
       "\n"
      ],
      "text/plain": [
       "   ano2 ano1 feature       H1      NC   valor_p     \n",
       "1  2013 2012 receita_total greater 0.95 1.294877e-03\n",
       "2  2014 2012 receita_total greater 0.95 5.786397e-05\n",
       "3  2015 2012 receita_total greater 0.95 5.837002e-06\n",
       "4  2016 2012 receita_total greater 0.95 1.866287e-04\n",
       "5  2017 2012 receita_total greater 0.95 2.570615e-06\n",
       "6  2018 2012 receita_total greater 0.95 1.233986e-06\n",
       "7  2014 2013 receita_total greater 0.95 1.227485e-03\n",
       "8  2015 2013 receita_total greater 0.95 2.598156e-05\n",
       "9  2016 2013 receita_total greater 0.95 2.935242e-04\n",
       "10 2017 2013 receita_total greater 0.95 2.117854e-06\n",
       "11 2018 2013 receita_total greater 0.95 7.099076e-07\n",
       "12 2015 2014 receita_total greater 0.95 1.067068e-03\n",
       "13 2016 2014 receita_total greater 0.95 8.823678e-04\n",
       "14 2017 2014 receita_total greater 0.95 4.027655e-06\n",
       "15 2018 2014 receita_total greater 0.95 7.169685e-07\n",
       "16 2016 2015 receita_total greater 0.95 8.577920e-03\n",
       "17 2017 2015 receita_total greater 0.95 2.227192e-05\n",
       "18 2018 2015 receita_total greater 0.95 1.896637e-06\n",
       "19 2017 2016 receita_total greater 0.95 3.990896e-03\n",
       "20 2018 2016 receita_total greater 0.95 6.414075e-05\n",
       "21 2018 2017 receita_total greater 0.95 1.638202e-04"
      ]
     },
     "metadata": {},
     "output_type": "display_data"
    },
    {
     "data": {
      "text/html": [
       "'Resultados para Valor-p &gt;= 0.05'"
      ],
      "text/latex": [
       "'Resultados para Valor-p >= 0.05'"
      ],
      "text/markdown": [
       "'Resultados para Valor-p &gt;= 0.05'"
      ],
      "text/plain": [
       "[1] \"Resultados para Valor-p >= 0.05\""
      ]
     },
     "metadata": {},
     "output_type": "display_data"
    },
    {
     "data": {
      "text/html": [
       "<table>\n",
       "<thead><tr><th scope=col>ano2</th><th scope=col>ano1</th><th scope=col>feature</th><th scope=col>H1</th><th scope=col>NC</th><th scope=col>valor_p</th></tr></thead>\n",
       "<tbody>\n",
       "</tbody>\n",
       "</table>\n"
      ],
      "text/latex": [
       "\\begin{tabular}{r|llllll}\n",
       " ano2 & ano1 & feature & H1 & NC & valor\\_p\\\\\n",
       "\\hline\n",
       "\\end{tabular}\n"
      ],
      "text/markdown": [
       "\n",
       "| ano2 | ano1 | feature | H1 | NC | valor_p |\n",
       "|---|---|---|---|---|---|\n",
       "\n"
      ],
      "text/plain": [
       "     ano2 ano1 feature H1 NC valor_p"
      ]
     },
     "metadata": {},
     "output_type": "display_data"
    }
   ],
   "source": [
    "# Teste-t Unicaudal Direito:\n",
    "# Definindo um vetor para o primeiro ano do teste:\n",
    "ano1 = c('2012', '2012', '2012','2012', '2012', '2012', '2013', '2013', '2013', '2013', '2013',\n",
    "         '2014', '2014', '2014', '2014', '2015', '2015', '2015', '2016', '2016', '2017')\n",
    "\n",
    "# Definindo um vetor para o segundo ano do teste:\n",
    "ano2 = c('2013', '2014', '2015','2016', '2017', '2018', '2014', '2015', '2016', '2017', '2018',\n",
    "         '2015', '2016', '2017', '2018', '2016', '2017', '2018', '2017', '2018', '2018')\n",
    "\n",
    "# Realizando o teste-t unicaudal direito:\n",
    "df_teste_t = teste_t(ano1, ano2, feature = \"receita_total\", H1 = \"greater\", NC = 0.95)\n",
    "\n",
    "# Filtrando os resultados onde \"valor_p < 0.05\":\n",
    "sprintf(\"Resultados para Valor-p < %.2f\", 1 - 0.95)\n",
    "filter(df_teste_t, valor_p < 0.05)\n",
    "\n",
    "# Filtrando os resultados onde \"valor_p >= 0.05\":\n",
    "sprintf(\"Resultados para Valor-p >= %.2f\", 1 - 0.95)\n",
    "filter(df_teste_t, valor_p >= 0.05)"
   ]
  },
  {
   "cell_type": "markdown",
   "metadata": {},
   "source": [
    "**Conclusão:**\n",
    "\n",
    "Se **`valor-p < 0.05`**: rejeitamos a hipótese nula (**H0**), caso contrário falhamos em rejeitar a a hipótese nula.\n",
    "\n",
    "Como o **valor-p é menor que 0.05** em todos os testes, podemos rejeitar a hipótese nula do `teste-t unicaudal direito`. Portanto, podemos concluir, por exemplo, que o ano de **2013** possui uma receita total (em média, por trimestre) MAIOR que a do ano de **2012**. Esta mesma explicação é válida para os demais pares de anos onde tivemos como resultado o **`valor-p < 0.05`**.\n",
    "\n",
    "Portanto, concluimos que **a *receita total (em média, por trimestre) da empresa* aumentou significativamente com o passar dos anos!**"
   ]
  },
  {
   "cell_type": "markdown",
   "metadata": {},
   "source": [
    "### O quanto que a *receita total da empresa* aumentou (em média, por trimestre) entre os anos de `2012 e 2018`?"
   ]
  },
  {
   "cell_type": "markdown",
   "metadata": {},
   "source": [
    "Primeiro, vamos calcular as médias por trimestre da *receita total da empresa* em cada um dos anos:"
   ]
  },
  {
   "cell_type": "code",
   "execution_count": 34,
   "metadata": {
    "scrolled": true
   },
   "outputs": [
    {
     "data": {
      "text/html": [
       "<table>\n",
       "<thead><tr><th scope=col>Ano</th><th scope=col>Media_Receita_Total</th></tr></thead>\n",
       "<tbody>\n",
       "\t<tr><td>2012     </td><td> 546217.0</td></tr>\n",
       "\t<tr><td>2013     </td><td> 687843.8</td></tr>\n",
       "\t<tr><td>2014     </td><td> 857858.5</td></tr>\n",
       "\t<tr><td>2015     </td><td>1045084.8</td></tr>\n",
       "\t<tr><td>2016     </td><td>1269326.8</td></tr>\n",
       "\t<tr><td>2017     </td><td>1538256.2</td></tr>\n",
       "\t<tr><td>2018     </td><td>1911661.8</td></tr>\n",
       "</tbody>\n",
       "</table>\n"
      ],
      "text/latex": [
       "\\begin{tabular}{r|ll}\n",
       " Ano & Media\\_Receita\\_Total\\\\\n",
       "\\hline\n",
       "\t 2012      &  546217.0\\\\\n",
       "\t 2013      &  687843.8\\\\\n",
       "\t 2014      &  857858.5\\\\\n",
       "\t 2015      & 1045084.8\\\\\n",
       "\t 2016      & 1269326.8\\\\\n",
       "\t 2017      & 1538256.2\\\\\n",
       "\t 2018      & 1911661.8\\\\\n",
       "\\end{tabular}\n"
      ],
      "text/markdown": [
       "\n",
       "| Ano | Media_Receita_Total |\n",
       "|---|---|\n",
       "| 2012      |  546217.0 |\n",
       "| 2013      |  687843.8 |\n",
       "| 2014      |  857858.5 |\n",
       "| 2015      | 1045084.8 |\n",
       "| 2016      | 1269326.8 |\n",
       "| 2017      | 1538256.2 |\n",
       "| 2018      | 1911661.8 |\n",
       "\n"
      ],
      "text/plain": [
       "  Ano  Media_Receita_Total\n",
       "1 2012  546217.0          \n",
       "2 2013  687843.8          \n",
       "3 2014  857858.5          \n",
       "4 2015 1045084.8          \n",
       "5 2016 1269326.8          \n",
       "6 2017 1538256.2          \n",
       "7 2018 1911661.8          "
      ]
     },
     "metadata": {},
     "output_type": "display_data"
    }
   ],
   "source": [
    "# Calculando as médias da receita total da empresa por ano:\n",
    "media_rec_tot = aggregate(df_data[, \"receita_total\"], list(df_data$ano_cat), mean)\n",
    "colnames(media_rec_tot) <- c(\"Ano\", \"Media_Receita_Total\")\n",
    "media_rec_tot"
   ]
  },
  {
   "cell_type": "markdown",
   "metadata": {},
   "source": [
    "Em seguida, vamos criar um data frame com os cálculos necessários para identificarmos o *aumento* da receita total da empresa (em média, por trimestre) entre os anos de 2012 e 2018:"
   ]
  },
  {
   "cell_type": "code",
   "execution_count": 35,
   "metadata": {
    "scrolled": true
   },
   "outputs": [
    {
     "data": {
      "text/html": [
       "<table>\n",
       "<thead><tr><th scope=col>ano2</th><th scope=col>ano1</th><th scope=col>valor_p</th><th scope=col>media_ano2</th><th scope=col>media_ano1</th><th scope=col>aumento</th></tr></thead>\n",
       "<tbody>\n",
       "\t<tr><td>2018        </td><td>2012        </td><td>1.233986e-06</td><td>1911661.8   </td><td> 546217.0   </td><td>2.4998210   </td></tr>\n",
       "\t<tr><td>2017        </td><td>2012        </td><td>2.570615e-06</td><td>1538256.2   </td><td> 546217.0   </td><td>1.8161999   </td></tr>\n",
       "\t<tr><td>2018        </td><td>2013        </td><td>7.099076e-07</td><td>1911661.8   </td><td> 687843.8   </td><td>1.7792093   </td></tr>\n",
       "\t<tr><td>2016        </td><td>2012        </td><td>1.866287e-04</td><td>1269326.8   </td><td> 546217.0   </td><td>1.3238507   </td></tr>\n",
       "\t<tr><td>2017        </td><td>2013        </td><td>2.117854e-06</td><td>1538256.2   </td><td> 687843.8   </td><td>1.2363455   </td></tr>\n",
       "\t<tr><td>2018        </td><td>2014        </td><td>7.169685e-07</td><td>1911661.8   </td><td> 857858.5   </td><td>1.2284115   </td></tr>\n",
       "\t<tr><td>2015        </td><td>2012        </td><td>5.837002e-06</td><td>1045084.8   </td><td> 546217.0   </td><td>0.9133142   </td></tr>\n",
       "\t<tr><td>2016        </td><td>2013        </td><td>2.935242e-04</td><td>1269326.8   </td><td> 687843.8   </td><td>0.8453708   </td></tr>\n",
       "\t<tr><td>2018        </td><td>2015        </td><td>1.896637e-06</td><td>1911661.8   </td><td>1045084.8   </td><td>0.8291930   </td></tr>\n",
       "\t<tr><td>2017        </td><td>2014        </td><td>4.027655e-06</td><td>1538256.2   </td><td> 857858.5   </td><td>0.7931352   </td></tr>\n",
       "\t<tr><td>2014        </td><td>2012        </td><td>5.786397e-05</td><td> 857858.5   </td><td> 546217.0   </td><td>0.5705452   </td></tr>\n",
       "\t<tr><td>2015        </td><td>2013        </td><td>2.598156e-05</td><td>1045084.8   </td><td> 687843.8   </td><td>0.5193636   </td></tr>\n",
       "\t<tr><td>2018        </td><td>2016        </td><td>6.414075e-05</td><td>1911661.8   </td><td>1269326.8   </td><td>0.5060439   </td></tr>\n",
       "\t<tr><td>2016        </td><td>2014        </td><td>8.823678e-04</td><td>1269326.8   </td><td> 857858.5   </td><td>0.4796458   </td></tr>\n",
       "\t<tr><td>2017        </td><td>2015        </td><td>2.227192e-05</td><td>1538256.2   </td><td>1045084.8   </td><td>0.4718962   </td></tr>\n",
       "\t<tr><td>2013        </td><td>2012        </td><td>1.294877e-03</td><td> 687843.8   </td><td> 546217.0   </td><td>0.2592866   </td></tr>\n",
       "\t<tr><td>2014        </td><td>2013        </td><td>1.227485e-03</td><td> 857858.5   </td><td> 687843.8   </td><td>0.2471706   </td></tr>\n",
       "\t<tr><td>2018        </td><td>2017        </td><td>1.638202e-04</td><td>1911661.8   </td><td>1538256.2   </td><td>0.2427460   </td></tr>\n",
       "\t<tr><td>2015        </td><td>2014        </td><td>1.067068e-03</td><td>1045084.8   </td><td> 857858.5   </td><td>0.2182484   </td></tr>\n",
       "\t<tr><td>2016        </td><td>2015        </td><td>8.577920e-03</td><td>1269326.8   </td><td>1045084.8   </td><td>0.2145682   </td></tr>\n",
       "\t<tr><td>2017        </td><td>2016        </td><td>3.990896e-03</td><td>1538256.2   </td><td>1269326.8   </td><td>0.2118678   </td></tr>\n",
       "</tbody>\n",
       "</table>\n"
      ],
      "text/latex": [
       "\\begin{tabular}{r|llllll}\n",
       " ano2 & ano1 & valor\\_p & media\\_ano2 & media\\_ano1 & aumento\\\\\n",
       "\\hline\n",
       "\t 2018         & 2012         & 1.233986e-06 & 1911661.8    &  546217.0    & 2.4998210   \\\\\n",
       "\t 2017         & 2012         & 2.570615e-06 & 1538256.2    &  546217.0    & 1.8161999   \\\\\n",
       "\t 2018         & 2013         & 7.099076e-07 & 1911661.8    &  687843.8    & 1.7792093   \\\\\n",
       "\t 2016         & 2012         & 1.866287e-04 & 1269326.8    &  546217.0    & 1.3238507   \\\\\n",
       "\t 2017         & 2013         & 2.117854e-06 & 1538256.2    &  687843.8    & 1.2363455   \\\\\n",
       "\t 2018         & 2014         & 7.169685e-07 & 1911661.8    &  857858.5    & 1.2284115   \\\\\n",
       "\t 2015         & 2012         & 5.837002e-06 & 1045084.8    &  546217.0    & 0.9133142   \\\\\n",
       "\t 2016         & 2013         & 2.935242e-04 & 1269326.8    &  687843.8    & 0.8453708   \\\\\n",
       "\t 2018         & 2015         & 1.896637e-06 & 1911661.8    & 1045084.8    & 0.8291930   \\\\\n",
       "\t 2017         & 2014         & 4.027655e-06 & 1538256.2    &  857858.5    & 0.7931352   \\\\\n",
       "\t 2014         & 2012         & 5.786397e-05 &  857858.5    &  546217.0    & 0.5705452   \\\\\n",
       "\t 2015         & 2013         & 2.598156e-05 & 1045084.8    &  687843.8    & 0.5193636   \\\\\n",
       "\t 2018         & 2016         & 6.414075e-05 & 1911661.8    & 1269326.8    & 0.5060439   \\\\\n",
       "\t 2016         & 2014         & 8.823678e-04 & 1269326.8    &  857858.5    & 0.4796458   \\\\\n",
       "\t 2017         & 2015         & 2.227192e-05 & 1538256.2    & 1045084.8    & 0.4718962   \\\\\n",
       "\t 2013         & 2012         & 1.294877e-03 &  687843.8    &  546217.0    & 0.2592866   \\\\\n",
       "\t 2014         & 2013         & 1.227485e-03 &  857858.5    &  687843.8    & 0.2471706   \\\\\n",
       "\t 2018         & 2017         & 1.638202e-04 & 1911661.8    & 1538256.2    & 0.2427460   \\\\\n",
       "\t 2015         & 2014         & 1.067068e-03 & 1045084.8    &  857858.5    & 0.2182484   \\\\\n",
       "\t 2016         & 2015         & 8.577920e-03 & 1269326.8    & 1045084.8    & 0.2145682   \\\\\n",
       "\t 2017         & 2016         & 3.990896e-03 & 1538256.2    & 1269326.8    & 0.2118678   \\\\\n",
       "\\end{tabular}\n"
      ],
      "text/markdown": [
       "\n",
       "| ano2 | ano1 | valor_p | media_ano2 | media_ano1 | aumento |\n",
       "|---|---|---|---|---|---|\n",
       "| 2018         | 2012         | 1.233986e-06 | 1911661.8    |  546217.0    | 2.4998210    |\n",
       "| 2017         | 2012         | 2.570615e-06 | 1538256.2    |  546217.0    | 1.8161999    |\n",
       "| 2018         | 2013         | 7.099076e-07 | 1911661.8    |  687843.8    | 1.7792093    |\n",
       "| 2016         | 2012         | 1.866287e-04 | 1269326.8    |  546217.0    | 1.3238507    |\n",
       "| 2017         | 2013         | 2.117854e-06 | 1538256.2    |  687843.8    | 1.2363455    |\n",
       "| 2018         | 2014         | 7.169685e-07 | 1911661.8    |  857858.5    | 1.2284115    |\n",
       "| 2015         | 2012         | 5.837002e-06 | 1045084.8    |  546217.0    | 0.9133142    |\n",
       "| 2016         | 2013         | 2.935242e-04 | 1269326.8    |  687843.8    | 0.8453708    |\n",
       "| 2018         | 2015         | 1.896637e-06 | 1911661.8    | 1045084.8    | 0.8291930    |\n",
       "| 2017         | 2014         | 4.027655e-06 | 1538256.2    |  857858.5    | 0.7931352    |\n",
       "| 2014         | 2012         | 5.786397e-05 |  857858.5    |  546217.0    | 0.5705452    |\n",
       "| 2015         | 2013         | 2.598156e-05 | 1045084.8    |  687843.8    | 0.5193636    |\n",
       "| 2018         | 2016         | 6.414075e-05 | 1911661.8    | 1269326.8    | 0.5060439    |\n",
       "| 2016         | 2014         | 8.823678e-04 | 1269326.8    |  857858.5    | 0.4796458    |\n",
       "| 2017         | 2015         | 2.227192e-05 | 1538256.2    | 1045084.8    | 0.4718962    |\n",
       "| 2013         | 2012         | 1.294877e-03 |  687843.8    |  546217.0    | 0.2592866    |\n",
       "| 2014         | 2013         | 1.227485e-03 |  857858.5    |  687843.8    | 0.2471706    |\n",
       "| 2018         | 2017         | 1.638202e-04 | 1911661.8    | 1538256.2    | 0.2427460    |\n",
       "| 2015         | 2014         | 1.067068e-03 | 1045084.8    |  857858.5    | 0.2182484    |\n",
       "| 2016         | 2015         | 8.577920e-03 | 1269326.8    | 1045084.8    | 0.2145682    |\n",
       "| 2017         | 2016         | 3.990896e-03 | 1538256.2    | 1269326.8    | 0.2118678    |\n",
       "\n"
      ],
      "text/plain": [
       "   ano2 ano1 valor_p      media_ano2 media_ano1 aumento  \n",
       "1  2018 2012 1.233986e-06 1911661.8   546217.0  2.4998210\n",
       "2  2017 2012 2.570615e-06 1538256.2   546217.0  1.8161999\n",
       "3  2018 2013 7.099076e-07 1911661.8   687843.8  1.7792093\n",
       "4  2016 2012 1.866287e-04 1269326.8   546217.0  1.3238507\n",
       "5  2017 2013 2.117854e-06 1538256.2   687843.8  1.2363455\n",
       "6  2018 2014 7.169685e-07 1911661.8   857858.5  1.2284115\n",
       "7  2015 2012 5.837002e-06 1045084.8   546217.0  0.9133142\n",
       "8  2016 2013 2.935242e-04 1269326.8   687843.8  0.8453708\n",
       "9  2018 2015 1.896637e-06 1911661.8  1045084.8  0.8291930\n",
       "10 2017 2014 4.027655e-06 1538256.2   857858.5  0.7931352\n",
       "11 2014 2012 5.786397e-05  857858.5   546217.0  0.5705452\n",
       "12 2015 2013 2.598156e-05 1045084.8   687843.8  0.5193636\n",
       "13 2018 2016 6.414075e-05 1911661.8  1269326.8  0.5060439\n",
       "14 2016 2014 8.823678e-04 1269326.8   857858.5  0.4796458\n",
       "15 2017 2015 2.227192e-05 1538256.2  1045084.8  0.4718962\n",
       "16 2013 2012 1.294877e-03  687843.8   546217.0  0.2592866\n",
       "17 2014 2013 1.227485e-03  857858.5   687843.8  0.2471706\n",
       "18 2018 2017 1.638202e-04 1911661.8  1538256.2  0.2427460\n",
       "19 2015 2014 1.067068e-03 1045084.8   857858.5  0.2182484\n",
       "20 2016 2015 8.577920e-03 1269326.8  1045084.8  0.2145682\n",
       "21 2017 2016 3.990896e-03 1538256.2  1269326.8  0.2118678"
      ]
     },
     "metadata": {},
     "output_type": "display_data"
    }
   ],
   "source": [
    "# Selecionando os pares de anos que no teste-t apresentaram \"valor-p < 0.05\":\n",
    "df_volume = select(filter(df_teste_t, valor_p < 0.05), ano2, ano1, valor_p)\n",
    "# Criando variáveis para os cálculos:\n",
    "df_volume$media_ano2 = 0\n",
    "df_volume$media_ano1 = 0\n",
    "df_volume$aumento = 0\n",
    "\n",
    "# Realizando os cálculos:\n",
    "for (i in 1:dim(df_volume)[1]){\n",
    "    # Obtendo a média para o \"ano1\" e \"ano2\":\n",
    "    df_volume[i, \"media_ano1\"] = filter(media_rec_tot, Ano == df_volume[i, \"ano1\"])$Media_Receita_Total\n",
    "    df_volume[i, \"media_ano2\"] = filter(media_rec_tot, Ano == df_volume[i, \"ano2\"])$Media_Receita_Total\n",
    "    \n",
    "    # Calculando o \"aumento\" da receita total média da empresa:\n",
    "    df_volume[i, \"aumento\"] = (df_volume[i, \"media_ano2\"] - df_volume[i, \"media_ano1\"])/df_volume[i, \"media_ano1\"]\n",
    "}\n",
    "\n",
    "# Classificando o resultado em ordem \"decrescente\":\n",
    "arrange(df_volume, desc(aumento))"
   ]
  },
  {
   "cell_type": "markdown",
   "metadata": {},
   "source": [
    "**Conclusão:** a *`receita total da empresa`* *aumentou (em média, por trimestre)* **`~250.0%`** em **7 anos**, ou seja, de **`~546 milhões`** em **`2012`** para **`~1.9 bilhões`** em **`2018`**."
   ]
  },
  {
   "cell_type": "markdown",
   "metadata": {},
   "source": [
    "### Vamos agora, verificar se a *receita total da empresa* diminuiu com o passar dos anos:"
   ]
  },
  {
   "cell_type": "markdown",
   "metadata": {},
   "source": [
    "Então, realizaremos um `teste-t unicaudal esquerdo` para verificarmos esta condição.\n",
    "\n",
    "Definindo as duas hipóteses:\n",
    "\n",
    ">1. **`H0`:** RTM2 - RTM1 = 0, ou seja, a receita total média (por trimestre) da empresa não difere entre cada um dos anos \"1\" e \"2\";\n",
    ">2. **`H1`:** RTM2 - RTM1 < 0, ou seja, a receita total média (por trimestre) da empresa no ano \"2\" é MENOR que a receita total média (por trimestre) da empresa no ano \"1\".\n",
    "\n",
    "Onde:\n",
    "\n",
    ">* **`RTM1`:** receita total média (por trimestre) da empresa para o ano ***`1`***;\n",
    ">* **`RTM2`:** receita total média (por trimestre) da empresa para o ano ***`2`***."
   ]
  },
  {
   "cell_type": "code",
   "execution_count": 36,
   "metadata": {
    "scrolled": true
   },
   "outputs": [
    {
     "data": {
      "text/html": [
       "'Resultados para Valor-p &lt; 0.05'"
      ],
      "text/latex": [
       "'Resultados para Valor-p < 0.05'"
      ],
      "text/markdown": [
       "'Resultados para Valor-p &lt; 0.05'"
      ],
      "text/plain": [
       "[1] \"Resultados para Valor-p < 0.05\""
      ]
     },
     "metadata": {},
     "output_type": "display_data"
    },
    {
     "data": {
      "text/html": [
       "<table>\n",
       "<thead><tr><th scope=col>ano2</th><th scope=col>ano1</th><th scope=col>feature</th><th scope=col>H1</th><th scope=col>NC</th><th scope=col>valor_p</th></tr></thead>\n",
       "<tbody>\n",
       "</tbody>\n",
       "</table>\n"
      ],
      "text/latex": [
       "\\begin{tabular}{r|llllll}\n",
       " ano2 & ano1 & feature & H1 & NC & valor\\_p\\\\\n",
       "\\hline\n",
       "\\end{tabular}\n"
      ],
      "text/markdown": [
       "\n",
       "| ano2 | ano1 | feature | H1 | NC | valor_p |\n",
       "|---|---|---|---|---|---|\n",
       "\n"
      ],
      "text/plain": [
       "     ano2 ano1 feature H1 NC valor_p"
      ]
     },
     "metadata": {},
     "output_type": "display_data"
    },
    {
     "data": {
      "text/html": [
       "'Resultados para Valor-p &gt;= 0.05'"
      ],
      "text/latex": [
       "'Resultados para Valor-p >= 0.05'"
      ],
      "text/markdown": [
       "'Resultados para Valor-p &gt;= 0.05'"
      ],
      "text/plain": [
       "[1] \"Resultados para Valor-p >= 0.05\""
      ]
     },
     "metadata": {},
     "output_type": "display_data"
    },
    {
     "data": {
      "text/html": [
       "<table>\n",
       "<thead><tr><th scope=col>ano2</th><th scope=col>ano1</th><th scope=col>feature</th><th scope=col>H1</th><th scope=col>NC</th><th scope=col>valor_p</th></tr></thead>\n",
       "<tbody>\n",
       "\t<tr><td>2013         </td><td>2012         </td><td>receita_total</td><td>less         </td><td>0.95         </td><td>0.9987051    </td></tr>\n",
       "\t<tr><td>2014         </td><td>2012         </td><td>receita_total</td><td>less         </td><td>0.95         </td><td>0.9999421    </td></tr>\n",
       "\t<tr><td>2015         </td><td>2012         </td><td>receita_total</td><td>less         </td><td>0.95         </td><td>0.9999942    </td></tr>\n",
       "\t<tr><td>2016         </td><td>2012         </td><td>receita_total</td><td>less         </td><td>0.95         </td><td>0.9998134    </td></tr>\n",
       "\t<tr><td>2017         </td><td>2012         </td><td>receita_total</td><td>less         </td><td>0.95         </td><td>0.9999974    </td></tr>\n",
       "\t<tr><td>2018         </td><td>2012         </td><td>receita_total</td><td>less         </td><td>0.95         </td><td>0.9999988    </td></tr>\n",
       "\t<tr><td>2014         </td><td>2013         </td><td>receita_total</td><td>less         </td><td>0.95         </td><td>0.9987725    </td></tr>\n",
       "\t<tr><td>2015         </td><td>2013         </td><td>receita_total</td><td>less         </td><td>0.95         </td><td>0.9999740    </td></tr>\n",
       "\t<tr><td>2016         </td><td>2013         </td><td>receita_total</td><td>less         </td><td>0.95         </td><td>0.9997065    </td></tr>\n",
       "\t<tr><td>2017         </td><td>2013         </td><td>receita_total</td><td>less         </td><td>0.95         </td><td>0.9999979    </td></tr>\n",
       "\t<tr><td>2018         </td><td>2013         </td><td>receita_total</td><td>less         </td><td>0.95         </td><td>0.9999993    </td></tr>\n",
       "\t<tr><td>2015         </td><td>2014         </td><td>receita_total</td><td>less         </td><td>0.95         </td><td>0.9989329    </td></tr>\n",
       "\t<tr><td>2016         </td><td>2014         </td><td>receita_total</td><td>less         </td><td>0.95         </td><td>0.9991176    </td></tr>\n",
       "\t<tr><td>2017         </td><td>2014         </td><td>receita_total</td><td>less         </td><td>0.95         </td><td>0.9999960    </td></tr>\n",
       "\t<tr><td>2018         </td><td>2014         </td><td>receita_total</td><td>less         </td><td>0.95         </td><td>0.9999993    </td></tr>\n",
       "\t<tr><td>2016         </td><td>2015         </td><td>receita_total</td><td>less         </td><td>0.95         </td><td>0.9914221    </td></tr>\n",
       "\t<tr><td>2017         </td><td>2015         </td><td>receita_total</td><td>less         </td><td>0.95         </td><td>0.9999777    </td></tr>\n",
       "\t<tr><td>2018         </td><td>2015         </td><td>receita_total</td><td>less         </td><td>0.95         </td><td>0.9999981    </td></tr>\n",
       "\t<tr><td>2017         </td><td>2016         </td><td>receita_total</td><td>less         </td><td>0.95         </td><td>0.9960091    </td></tr>\n",
       "\t<tr><td>2018         </td><td>2016         </td><td>receita_total</td><td>less         </td><td>0.95         </td><td>0.9999359    </td></tr>\n",
       "\t<tr><td>2018         </td><td>2017         </td><td>receita_total</td><td>less         </td><td>0.95         </td><td>0.9998362    </td></tr>\n",
       "</tbody>\n",
       "</table>\n"
      ],
      "text/latex": [
       "\\begin{tabular}{r|llllll}\n",
       " ano2 & ano1 & feature & H1 & NC & valor\\_p\\\\\n",
       "\\hline\n",
       "\t 2013            & 2012            & receita\\_total & less            & 0.95            & 0.9987051      \\\\\n",
       "\t 2014            & 2012            & receita\\_total & less            & 0.95            & 0.9999421      \\\\\n",
       "\t 2015            & 2012            & receita\\_total & less            & 0.95            & 0.9999942      \\\\\n",
       "\t 2016            & 2012            & receita\\_total & less            & 0.95            & 0.9998134      \\\\\n",
       "\t 2017            & 2012            & receita\\_total & less            & 0.95            & 0.9999974      \\\\\n",
       "\t 2018            & 2012            & receita\\_total & less            & 0.95            & 0.9999988      \\\\\n",
       "\t 2014            & 2013            & receita\\_total & less            & 0.95            & 0.9987725      \\\\\n",
       "\t 2015            & 2013            & receita\\_total & less            & 0.95            & 0.9999740      \\\\\n",
       "\t 2016            & 2013            & receita\\_total & less            & 0.95            & 0.9997065      \\\\\n",
       "\t 2017            & 2013            & receita\\_total & less            & 0.95            & 0.9999979      \\\\\n",
       "\t 2018            & 2013            & receita\\_total & less            & 0.95            & 0.9999993      \\\\\n",
       "\t 2015            & 2014            & receita\\_total & less            & 0.95            & 0.9989329      \\\\\n",
       "\t 2016            & 2014            & receita\\_total & less            & 0.95            & 0.9991176      \\\\\n",
       "\t 2017            & 2014            & receita\\_total & less            & 0.95            & 0.9999960      \\\\\n",
       "\t 2018            & 2014            & receita\\_total & less            & 0.95            & 0.9999993      \\\\\n",
       "\t 2016            & 2015            & receita\\_total & less            & 0.95            & 0.9914221      \\\\\n",
       "\t 2017            & 2015            & receita\\_total & less            & 0.95            & 0.9999777      \\\\\n",
       "\t 2018            & 2015            & receita\\_total & less            & 0.95            & 0.9999981      \\\\\n",
       "\t 2017            & 2016            & receita\\_total & less            & 0.95            & 0.9960091      \\\\\n",
       "\t 2018            & 2016            & receita\\_total & less            & 0.95            & 0.9999359      \\\\\n",
       "\t 2018            & 2017            & receita\\_total & less            & 0.95            & 0.9998362      \\\\\n",
       "\\end{tabular}\n"
      ],
      "text/markdown": [
       "\n",
       "| ano2 | ano1 | feature | H1 | NC | valor_p |\n",
       "|---|---|---|---|---|---|\n",
       "| 2013          | 2012          | receita_total | less          | 0.95          | 0.9987051     |\n",
       "| 2014          | 2012          | receita_total | less          | 0.95          | 0.9999421     |\n",
       "| 2015          | 2012          | receita_total | less          | 0.95          | 0.9999942     |\n",
       "| 2016          | 2012          | receita_total | less          | 0.95          | 0.9998134     |\n",
       "| 2017          | 2012          | receita_total | less          | 0.95          | 0.9999974     |\n",
       "| 2018          | 2012          | receita_total | less          | 0.95          | 0.9999988     |\n",
       "| 2014          | 2013          | receita_total | less          | 0.95          | 0.9987725     |\n",
       "| 2015          | 2013          | receita_total | less          | 0.95          | 0.9999740     |\n",
       "| 2016          | 2013          | receita_total | less          | 0.95          | 0.9997065     |\n",
       "| 2017          | 2013          | receita_total | less          | 0.95          | 0.9999979     |\n",
       "| 2018          | 2013          | receita_total | less          | 0.95          | 0.9999993     |\n",
       "| 2015          | 2014          | receita_total | less          | 0.95          | 0.9989329     |\n",
       "| 2016          | 2014          | receita_total | less          | 0.95          | 0.9991176     |\n",
       "| 2017          | 2014          | receita_total | less          | 0.95          | 0.9999960     |\n",
       "| 2018          | 2014          | receita_total | less          | 0.95          | 0.9999993     |\n",
       "| 2016          | 2015          | receita_total | less          | 0.95          | 0.9914221     |\n",
       "| 2017          | 2015          | receita_total | less          | 0.95          | 0.9999777     |\n",
       "| 2018          | 2015          | receita_total | less          | 0.95          | 0.9999981     |\n",
       "| 2017          | 2016          | receita_total | less          | 0.95          | 0.9960091     |\n",
       "| 2018          | 2016          | receita_total | less          | 0.95          | 0.9999359     |\n",
       "| 2018          | 2017          | receita_total | less          | 0.95          | 0.9998362     |\n",
       "\n"
      ],
      "text/plain": [
       "   ano2 ano1 feature       H1   NC   valor_p  \n",
       "1  2013 2012 receita_total less 0.95 0.9987051\n",
       "2  2014 2012 receita_total less 0.95 0.9999421\n",
       "3  2015 2012 receita_total less 0.95 0.9999942\n",
       "4  2016 2012 receita_total less 0.95 0.9998134\n",
       "5  2017 2012 receita_total less 0.95 0.9999974\n",
       "6  2018 2012 receita_total less 0.95 0.9999988\n",
       "7  2014 2013 receita_total less 0.95 0.9987725\n",
       "8  2015 2013 receita_total less 0.95 0.9999740\n",
       "9  2016 2013 receita_total less 0.95 0.9997065\n",
       "10 2017 2013 receita_total less 0.95 0.9999979\n",
       "11 2018 2013 receita_total less 0.95 0.9999993\n",
       "12 2015 2014 receita_total less 0.95 0.9989329\n",
       "13 2016 2014 receita_total less 0.95 0.9991176\n",
       "14 2017 2014 receita_total less 0.95 0.9999960\n",
       "15 2018 2014 receita_total less 0.95 0.9999993\n",
       "16 2016 2015 receita_total less 0.95 0.9914221\n",
       "17 2017 2015 receita_total less 0.95 0.9999777\n",
       "18 2018 2015 receita_total less 0.95 0.9999981\n",
       "19 2017 2016 receita_total less 0.95 0.9960091\n",
       "20 2018 2016 receita_total less 0.95 0.9999359\n",
       "21 2018 2017 receita_total less 0.95 0.9998362"
      ]
     },
     "metadata": {},
     "output_type": "display_data"
    }
   ],
   "source": [
    "# Teste-t Unicaudal Esquerdo:\n",
    "# Definindo um vetor para o primeiro ano do teste:\n",
    "ano1 = c('2012', '2012', '2012','2012', '2012', '2012', '2013', '2013', '2013', '2013', '2013',\n",
    "         '2014', '2014', '2014', '2014', '2015', '2015', '2015', '2016', '2016', '2017')\n",
    "\n",
    "# Definindo um vetor para o segundo ano do teste:\n",
    "ano2 = c('2013', '2014', '2015','2016', '2017', '2018', '2014', '2015', '2016', '2017', '2018',\n",
    "         '2015', '2016', '2017', '2018', '2016', '2017', '2018', '2017', '2018', '2018')\n",
    "\n",
    "# Realizando o teste-t unicaudal esquerdo:\n",
    "df_teste_t = teste_t(ano1, ano2, feature = \"receita_total\", H1 = \"less\", NC = 0.95)\n",
    "\n",
    "# Filtrando os resultados onde \"valor_p < 0.05\":\n",
    "sprintf(\"Resultados para Valor-p < %.2f\", 1 - 0.95)\n",
    "filter(df_teste_t, valor_p < 0.05)\n",
    "\n",
    "# Filtrando os resultados onde \"valor_p >= 0.05\":\n",
    "sprintf(\"Resultados para Valor-p >= %.2f\", 1 - 0.95)\n",
    "filter(df_teste_t, valor_p >= 0.05)"
   ]
  },
  {
   "cell_type": "markdown",
   "metadata": {},
   "source": [
    "**Conclusão:**\n",
    "\n",
    "Se **`valor-p < 0.05`**: rejeitamos a hipótese nula (**H0**), caso contrário falhamos em rejeitar a a hipótese nula.\n",
    "\n",
    "Como o **valor-p é maior ou igual que 0.05** em todos os testes, os dados falharam em fornecer evidências suficientes para rejeitarmos a hipótese nula do `teste-t unicaudal esquerdo`. Portanto, não podemos concluir, por exemplo, que o ano de **2013** possui uma receita total (em média, por trimestre) MENOR em relação ao ano de **2012**. Esta mesma explicação é válida para os demais pares de anos onde tivemos como resultado o **`valor-p >= 0.05`**.\n",
    "\n",
    "Portanto, concluimos que **a *receita total (em média, por trimestre) da empresa* NÃO diminuiu significativamente com o passar dos anos!**"
   ]
  },
  {
   "cell_type": "markdown",
   "metadata": {},
   "source": [
    "### Visualizando os resultados:\n",
    "\n",
    "Agora, vamos apresentar os resultados utilizando um ***Boxplot*** e um ***Barplot***."
   ]
  },
  {
   "cell_type": "code",
   "execution_count": 37,
   "metadata": {},
   "outputs": [
    {
     "name": "stderr",
     "output_type": "stream",
     "text": [
      "Saving 6.67 x 6.67 in image\n"
     ]
    },
    {
     "data": {
      "image/png": "[encoded data removed]",
      "text/plain": [
       "plot without title"
      ]
     },
     "metadata": {},
     "output_type": "display_data"
    }
   ],
   "source": [
    "# Definindo as cores para cada ano:\n",
    "cores = c(\"#EDEDAA\", \"#B4AC45\", \"#AFCAB1\", \"#C2BFB1\", \"#DDEDAA\", \"#F4AC45\", \"#FFCAB1\")\n",
    "# Boxplot:\n",
    "p1 = ggplot(df_data, aes(x = ano_cat, y = receita_total)) +\n",
    "        geom_boxplot(color = \"black\", fill = cores) +\n",
    "        # Definindo os labels e o título do gráfico:\n",
    "        labs(x = \"Ano\", y = \"Valor($) x 1k\", title = \"Receita Total por Trimestre\") +\n",
    "        \n",
    "        # Definindo alguns elementos do \"título\" e dos eixos \"x\" e \"y\":\n",
    "        theme(\n",
    "            plot.title = element_text(color = \"Black\", size = 14, face = \"bold.italic\", hjust = 0.5),\n",
    "            axis.title.x = element_text(color = \"Black\", size = 12, face = \"bold\"),\n",
    "            axis.title.y = element_text(color = \"Black\", size = 12, face = \"bold\")\n",
    "        )\n",
    "\n",
    "print(p1)\n",
    "\n",
    "# Salvando o gráfico:\n",
    "ggsave(filename = \"boxplot_receita_total.pdf\", plot = p1, device = \"pdf\", path = PROJECT_IMG_PATH, dpi = 300)"
   ]
  },
  {
   "cell_type": "code",
   "execution_count": 38,
   "metadata": {},
   "outputs": [
    {
     "name": "stderr",
     "output_type": "stream",
     "text": [
      "Saving 6.67 x 6.67 in image\n"
     ]
    },
    {
     "data": {
      "image/png": "[encoded data removed]",
      "text/plain": [
       "plot without title"
      ]
     },
     "metadata": {},
     "output_type": "display_data"
    }
   ],
   "source": [
    "# Barplot:\n",
    "p1 <- ggplot(media_rec_tot, aes(x = Ano, y = Media_Receita_Total)) +\n",
    "            geom_bar(stat = 'identity', col = \"black\", fill = cores) + theme(axis.text.x = element_text(angle = 0,\n",
    "                                                                                                        hjust = 0.5)) +\n",
    "            guides(fill = FALSE) + coord_cartesian(ylim = c(540000.0, 2000000.0)) +\n",
    "            ggtitle(\"Receita Total (Média) por Trimestre\") + xlab(\"Ano\") + ylab(\"Valor($) x 1k\") + \n",
    "            theme(\n",
    "                plot.title = element_text(color = \"Black\", size = 14, face = \"bold.italic\", hjust = 0.5),\n",
    "                axis.title.x = element_text(color = \"Black\", size = 12, face = \"bold\"),\n",
    "                axis.title.y = element_text(color = \"Black\", size = 12, face = \"bold\")\n",
    "            )\n",
    "\n",
    "print(p1)\n",
    "\n",
    "# Salvando o gráfico:\n",
    "ggsave(filename = \"barplot_media_receita_total.pdf\", plot = p1, device = \"pdf\", path = PROJECT_IMG_PATH, dpi = 300)"
   ]
  },
  {
   "cell_type": "markdown",
   "metadata": {},
   "source": [
    "**Análise:**\n",
    "\n",
    "* O gráfico acima (***Boxplot***) confirma todos os testes estatísticos realizados, ou seja, que **a *receita total (em média, por trimestre) da empresa* aumentou significativamente em todos os anos no período entre 2012 e 2018**;\n",
    "\n",
    "\n",
    "* O gráfico acima (***Barplot***) apresenta a **`média`** da **`Receita Total`** (por **`Trimestre`**) em cada um dos anos."
   ]
  },
  {
   "cell_type": "markdown",
   "metadata": {},
   "source": [
    "### `2.9-` Considerando todo o período (`2012 a 2018`), o *custo total da empresa aumentou e/ou diminuiu*?\n",
    "\n",
    "Para fazermos esta análise, vamos realizar um teste de **Análise de Variância (`ANOVA`)** para concluir se devemos rejeitar ou não a hipótese nula.\n",
    "\n",
    "Então, para realizarmos o *teste de hipóteses* definimos as duas hipóteses:\n",
    "\n",
    ">1. **`H0`:** CTM1 = CTM2 = CTM3 = CTM4 = CTM5 = CTM6 = CTM7, ou seja, o custo total médio (por trimestre) da empresa não difere entre cada um dos anos, ou seja, em todo o período.\n",
    ">2. **`H1`:** o custo total médio (por trimestre) da empresa é diferente em pelo menos um ano dentro do período.\n",
    "\n",
    "Onde:\n",
    "\n",
    ">* **`CTM1`:** custo total médio (por trimestre) da empresa para o ano de ***`2012`***;\n",
    ">* **`CTM2`:** custo total médio (por trimestre) da empresa para o ano de ***`2013`***;\n",
    ">* **`CTM3`:** custo total médio (por trimestre) da empresa para o ano de ***`2014`***;\n",
    ">* **`CTM4`:** custo total médio (por trimestre) da empresa para o ano de ***`2015`***;\n",
    ">* **`CTM5`:** custo total médio (por trimestre) da empresa para o ano de ***`2016`***;\n",
    ">* **`CTM6`:** custo total médio (por trimestre) da empresa para o ano de ***`2017`***;\n",
    ">* **`CTM7`:** custo total médio (por trimestre) da empresa para o ano de ***`2018`***."
   ]
  },
  {
   "cell_type": "code",
   "execution_count": 39,
   "metadata": {},
   "outputs": [
    {
     "data": {
      "text/html": [
       "<table>\n",
       "<thead><tr><th></th><th scope=col>Df</th><th scope=col>Sum Sq</th><th scope=col>Mean Sq</th><th scope=col>F value</th><th scope=col>Pr(&gt;F)</th></tr></thead>\n",
       "<tbody>\n",
       "\t<tr><th scope=row>ano_cat    </th><td> 6          </td><td>1.968140e+12</td><td>328023289793</td><td>99.92647    </td><td>2.445692e-14</td></tr>\n",
       "\t<tr><th scope=row>Residuals  </th><td>21          </td><td>6.893558e+10</td><td>  3282646533</td><td>      NA    </td><td>          NA</td></tr>\n",
       "</tbody>\n",
       "</table>\n"
      ],
      "text/latex": [
       "\\begin{tabular}{r|lllll}\n",
       "  & Df & Sum Sq & Mean Sq & F value & Pr(>F)\\\\\n",
       "\\hline\n",
       "\tano\\_cat     &  6           & 1.968140e+12 & 328023289793 & 99.92647     & 2.445692e-14\\\\\n",
       "\tResiduals   & 21           & 6.893558e+10 &   3282646533 &       NA     &           NA\\\\\n",
       "\\end{tabular}\n"
      ],
      "text/markdown": [
       "\n",
       "| <!--/--> | Df | Sum Sq | Mean Sq | F value | Pr(>F) |\n",
       "|---|---|---|---|---|---|\n",
       "| ano_cat     |  6           | 1.968140e+12 | 328023289793 | 99.92647     | 2.445692e-14 |\n",
       "| Residuals   | 21           | 6.893558e+10 |   3282646533 |       NA     |           NA |\n",
       "\n"
      ],
      "text/plain": [
       "            Df Sum Sq       Mean Sq      F value  Pr(>F)      \n",
       "ano_cat      6 1.968140e+12 328023289793 99.92647 2.445692e-14\n",
       "Residuals   21 6.893558e+10   3282646533       NA           NA"
      ]
     },
     "metadata": {},
     "output_type": "display_data"
    },
    {
     "data": {
      "text/html": [
       "'valor-p do teste: 0.00000000000002445692'"
      ],
      "text/latex": [
       "'valor-p do teste: 0.00000000000002445692'"
      ],
      "text/markdown": [
       "'valor-p do teste: 0.00000000000002445692'"
      ],
      "text/plain": [
       "[1] \"valor-p do teste: 0.00000000000002445692\""
      ]
     },
     "metadata": {},
     "output_type": "display_data"
    }
   ],
   "source": [
    "# Aplicanto análise de variância (ANOVA):\n",
    "resultado_anova <- aov(formula = custo_total ~ ano_cat, data = df_data)\n",
    "\n",
    "# Resumo estatístico do teste ANOVA:\n",
    "anova_table = summary(resultado_anova)\n",
    "anova_table[[1]]\n",
    "\n",
    "# Obtendo o \"valor-p\" do teste:\n",
    "sprintf(\"valor-p do teste: %.20f\", anova_table[[1]]$Pr[[1]])"
   ]
  },
  {
   "cell_type": "markdown",
   "metadata": {},
   "source": [
    "**Conclusão:**\n",
    "\n",
    "Se **`valor-p < 0.05`**: rejeitamos a hipótese nula (**H0**), caso contrário falhamos em rejeitar a a hipótese nula.\n",
    "\n",
    "O **valor-p é menor que 0.05**. Portanto, os resultados não ocorreram por variação aleatória e a hipótese nula é rejeitada, ou seja, há um efeito significativo do ano (variável independente) no custo total (por trimestre) da empresa (variável dependente)."
   ]
  },
  {
   "cell_type": "markdown",
   "metadata": {},
   "source": [
    "### `Comparações Não Planejadas`:\n",
    "\n",
    "Estas comparações também são chamadas de *testes a posteriori*, *testes post hoc* ou simplesmente *comparações não planejadas*.\n",
    "\n",
    "Um dos membros mais conhecidos do mundo *post-hoc* é o **teste HSD** (*Honest Significant Difference* ou Diferença Honestamente Significativa). Esse teste realiza todas as comparações emparelháveis possíveis entre as médias amostrais."
   ]
  },
  {
   "cell_type": "code",
   "execution_count": 40,
   "metadata": {},
   "outputs": [
    {
     "data": {
      "text/plain": [
       "  Tukey multiple comparisons of means\n",
       "    95% family-wise confidence level\n",
       "\n",
       "Fit: aov(formula = custo_total ~ ano_cat, data = df_data)\n",
       "\n",
       "$ano_cat\n",
       "               diff        lwr      upr     p adj\n",
       "2013-2012  73418.00 -58281.787 205117.8 0.5547233\n",
       "2014-2012 165069.50  33369.713 296769.3 0.0083077\n",
       "2015-2012 242475.75 110775.963 374175.5 0.0001084\n",
       "2016-2012 382491.25 250791.463 514191.0 0.0000001\n",
       "2017-2012 559917.25 428217.463 691617.0 0.0000000\n",
       "2018-2012 807202.25 675502.463 938902.0 0.0000000\n",
       "2014-2013  91651.50 -40048.287 223351.3 0.3065933\n",
       "2015-2013 169057.75  37357.963 300757.5 0.0066515\n",
       "2016-2013 309073.25 177373.463 440773.0 0.0000032\n",
       "2017-2013 486499.25 354799.463 618199.0 0.0000000\n",
       "2018-2013 733784.25 602084.463 865484.0 0.0000000\n",
       "2015-2014  77406.25 -54293.537 209106.0 0.4953667\n",
       "2016-2014 217421.75  85721.963 349121.5 0.0004359\n",
       "2017-2014 394847.75 263147.963 526547.5 0.0000001\n",
       "2018-2014 642132.75 510432.963 773832.5 0.0000000\n",
       "2016-2015 140015.50   8315.713 271715.3 0.0324505\n",
       "2017-2015 317441.50 185741.713 449141.3 0.0000021\n",
       "2018-2015 564726.50 433026.713 696426.3 0.0000000\n",
       "2017-2016 177426.00  45726.213 309125.8 0.0041601\n",
       "2018-2016 424711.00 293011.213 556410.8 0.0000000\n",
       "2018-2017 247285.00 115585.213 378984.8 0.0000833\n"
      ]
     },
     "metadata": {},
     "output_type": "display_data"
    }
   ],
   "source": [
    "# Realizando o teste de \"Tukey\":\n",
    "TukeyHSD(resultado_anova, ordered = FALSE, conf.level = 0.95, )"
   ]
  },
  {
   "cell_type": "markdown",
   "metadata": {},
   "source": [
    "**Conclusão:**\n",
    "\n",
    "* De acordo com os resultados do **`teste-HSD`**, **18** pares de anos têm um **valor-p < 0.05**. Isso significa que **há diferença estatisticamente significativa** no custo total da empresa entre cada um dos anos;\n",
    "\n",
    "\n",
    "* De acordo com os resultados do **`teste-HSD`**, **3** pares de anos têm um **valor-p >= 0.05**. Isso significa que **não há diferença estatisticamente significativa** no custo total (por trimestre) da empresa entre cada um dos anos."
   ]
  },
  {
   "cell_type": "markdown",
   "metadata": {},
   "source": [
    "### Vamos agora, verificar se o *custo total da empresa* aumentou com o passar dos anos:"
   ]
  },
  {
   "cell_type": "markdown",
   "metadata": {},
   "source": [
    "Então, realizaremos um `teste-t unicaudal direito` para verificarmos esta condição.\n",
    "\n",
    "Definindo as duas hipóteses:\n",
    "\n",
    ">1. **`H0`:** CTM2 - CTM1 = 0, ou seja, o custo total médio (por trimestre) da empresa não difere entre cada um dos anos \"1\" e \"2\";\n",
    ">2. **`H1`:** CTM2 - CTM1 > 0, ou seja, o custo total médio (por trimestre) da empresa no ano \"2\" é MAIOR que o custo total médio (por trimestre) da empresa no ano \"1\".\n",
    "\n",
    "Onde:\n",
    "\n",
    ">* **`CTM1`:** custo total médio (por trimestre) da empresa para o ano ***`1`***;\n",
    ">* **`CTM2`:** custo total médio (por trimestre) da empresa para o ano ***`2`***."
   ]
  },
  {
   "cell_type": "code",
   "execution_count": 41,
   "metadata": {
    "scrolled": true
   },
   "outputs": [
    {
     "data": {
      "text/html": [
       "'Resultados para Valor-p &lt; 0.05'"
      ],
      "text/latex": [
       "'Resultados para Valor-p < 0.05'"
      ],
      "text/markdown": [
       "'Resultados para Valor-p &lt; 0.05'"
      ],
      "text/plain": [
       "[1] \"Resultados para Valor-p < 0.05\""
      ]
     },
     "metadata": {},
     "output_type": "display_data"
    },
    {
     "data": {
      "text/html": [
       "<table>\n",
       "<thead><tr><th scope=col>ano2</th><th scope=col>ano1</th><th scope=col>feature</th><th scope=col>H1</th><th scope=col>NC</th><th scope=col>valor_p</th></tr></thead>\n",
       "<tbody>\n",
       "\t<tr><td>2013        </td><td>2012        </td><td>custo_total </td><td>greater     </td><td>0.95        </td><td>2.273457e-03</td></tr>\n",
       "\t<tr><td>2014        </td><td>2012        </td><td>custo_total </td><td>greater     </td><td>0.95        </td><td>6.743422e-05</td></tr>\n",
       "\t<tr><td>2015        </td><td>2012        </td><td>custo_total </td><td>greater     </td><td>0.95        </td><td>7.536693e-06</td></tr>\n",
       "\t<tr><td>2016        </td><td>2012        </td><td>custo_total </td><td>greater     </td><td>0.95        </td><td>1.574694e-04</td></tr>\n",
       "\t<tr><td>2017        </td><td>2012        </td><td>custo_total </td><td>greater     </td><td>0.95        </td><td>4.270156e-04</td></tr>\n",
       "\t<tr><td>2018        </td><td>2012        </td><td>custo_total </td><td>greater     </td><td>0.95        </td><td>1.701478e-04</td></tr>\n",
       "\t<tr><td>2014        </td><td>2013        </td><td>custo_total </td><td>greater     </td><td>0.95        </td><td>1.379444e-03</td></tr>\n",
       "\t<tr><td>2015        </td><td>2013        </td><td>custo_total </td><td>greater     </td><td>0.95        </td><td>4.709296e-05</td></tr>\n",
       "\t<tr><td>2016        </td><td>2013        </td><td>custo_total </td><td>greater     </td><td>0.95        </td><td>1.712602e-04</td></tr>\n",
       "\t<tr><td>2017        </td><td>2013        </td><td>custo_total </td><td>greater     </td><td>0.95        </td><td>5.000312e-04</td></tr>\n",
       "\t<tr><td>2018        </td><td>2013        </td><td>custo_total </td><td>greater     </td><td>0.95        </td><td>1.654546e-04</td></tr>\n",
       "\t<tr><td>2015        </td><td>2014        </td><td>custo_total </td><td>greater     </td><td>0.95        </td><td>3.235766e-03</td></tr>\n",
       "\t<tr><td>2016        </td><td>2014        </td><td>custo_total </td><td>greater     </td><td>0.95        </td><td>6.664485e-04</td></tr>\n",
       "\t<tr><td>2017        </td><td>2014        </td><td>custo_total </td><td>greater     </td><td>0.95        </td><td>9.595908e-04</td></tr>\n",
       "\t<tr><td>2018        </td><td>2014        </td><td>custo_total </td><td>greater     </td><td>0.95        </td><td>2.429520e-04</td></tr>\n",
       "\t<tr><td>2016        </td><td>2015        </td><td>custo_total </td><td>greater     </td><td>0.95        </td><td>3.923647e-03</td></tr>\n",
       "\t<tr><td>2017        </td><td>2015        </td><td>custo_total </td><td>greater     </td><td>0.95        </td><td>2.046616e-03</td></tr>\n",
       "\t<tr><td>2018        </td><td>2015        </td><td>custo_total </td><td>greater     </td><td>0.95        </td><td>3.901115e-04</td></tr>\n",
       "\t<tr><td>2017        </td><td>2016        </td><td>custo_total </td><td>greater     </td><td>0.95        </td><td>1.047889e-02</td></tr>\n",
       "\t<tr><td>2018        </td><td>2016        </td><td>custo_total </td><td>greater     </td><td>0.95        </td><td>3.960601e-04</td></tr>\n",
       "\t<tr><td>2018        </td><td>2017        </td><td>custo_total </td><td>greater     </td><td>0.95        </td><td>4.946101e-03</td></tr>\n",
       "</tbody>\n",
       "</table>\n"
      ],
      "text/latex": [
       "\\begin{tabular}{r|llllll}\n",
       " ano2 & ano1 & feature & H1 & NC & valor\\_p\\\\\n",
       "\\hline\n",
       "\t 2013          & 2012          & custo\\_total & greater       & 0.95          & 2.273457e-03 \\\\\n",
       "\t 2014          & 2012          & custo\\_total & greater       & 0.95          & 6.743422e-05 \\\\\n",
       "\t 2015          & 2012          & custo\\_total & greater       & 0.95          & 7.536693e-06 \\\\\n",
       "\t 2016          & 2012          & custo\\_total & greater       & 0.95          & 1.574694e-04 \\\\\n",
       "\t 2017          & 2012          & custo\\_total & greater       & 0.95          & 4.270156e-04 \\\\\n",
       "\t 2018          & 2012          & custo\\_total & greater       & 0.95          & 1.701478e-04 \\\\\n",
       "\t 2014          & 2013          & custo\\_total & greater       & 0.95          & 1.379444e-03 \\\\\n",
       "\t 2015          & 2013          & custo\\_total & greater       & 0.95          & 4.709296e-05 \\\\\n",
       "\t 2016          & 2013          & custo\\_total & greater       & 0.95          & 1.712602e-04 \\\\\n",
       "\t 2017          & 2013          & custo\\_total & greater       & 0.95          & 5.000312e-04 \\\\\n",
       "\t 2018          & 2013          & custo\\_total & greater       & 0.95          & 1.654546e-04 \\\\\n",
       "\t 2015          & 2014          & custo\\_total & greater       & 0.95          & 3.235766e-03 \\\\\n",
       "\t 2016          & 2014          & custo\\_total & greater       & 0.95          & 6.664485e-04 \\\\\n",
       "\t 2017          & 2014          & custo\\_total & greater       & 0.95          & 9.595908e-04 \\\\\n",
       "\t 2018          & 2014          & custo\\_total & greater       & 0.95          & 2.429520e-04 \\\\\n",
       "\t 2016          & 2015          & custo\\_total & greater       & 0.95          & 3.923647e-03 \\\\\n",
       "\t 2017          & 2015          & custo\\_total & greater       & 0.95          & 2.046616e-03 \\\\\n",
       "\t 2018          & 2015          & custo\\_total & greater       & 0.95          & 3.901115e-04 \\\\\n",
       "\t 2017          & 2016          & custo\\_total & greater       & 0.95          & 1.047889e-02 \\\\\n",
       "\t 2018          & 2016          & custo\\_total & greater       & 0.95          & 3.960601e-04 \\\\\n",
       "\t 2018          & 2017          & custo\\_total & greater       & 0.95          & 4.946101e-03 \\\\\n",
       "\\end{tabular}\n"
      ],
      "text/markdown": [
       "\n",
       "| ano2 | ano1 | feature | H1 | NC | valor_p |\n",
       "|---|---|---|---|---|---|\n",
       "| 2013         | 2012         | custo_total  | greater      | 0.95         | 2.273457e-03 |\n",
       "| 2014         | 2012         | custo_total  | greater      | 0.95         | 6.743422e-05 |\n",
       "| 2015         | 2012         | custo_total  | greater      | 0.95         | 7.536693e-06 |\n",
       "| 2016         | 2012         | custo_total  | greater      | 0.95         | 1.574694e-04 |\n",
       "| 2017         | 2012         | custo_total  | greater      | 0.95         | 4.270156e-04 |\n",
       "| 2018         | 2012         | custo_total  | greater      | 0.95         | 1.701478e-04 |\n",
       "| 2014         | 2013         | custo_total  | greater      | 0.95         | 1.379444e-03 |\n",
       "| 2015         | 2013         | custo_total  | greater      | 0.95         | 4.709296e-05 |\n",
       "| 2016         | 2013         | custo_total  | greater      | 0.95         | 1.712602e-04 |\n",
       "| 2017         | 2013         | custo_total  | greater      | 0.95         | 5.000312e-04 |\n",
       "| 2018         | 2013         | custo_total  | greater      | 0.95         | 1.654546e-04 |\n",
       "| 2015         | 2014         | custo_total  | greater      | 0.95         | 3.235766e-03 |\n",
       "| 2016         | 2014         | custo_total  | greater      | 0.95         | 6.664485e-04 |\n",
       "| 2017         | 2014         | custo_total  | greater      | 0.95         | 9.595908e-04 |\n",
       "| 2018         | 2014         | custo_total  | greater      | 0.95         | 2.429520e-04 |\n",
       "| 2016         | 2015         | custo_total  | greater      | 0.95         | 3.923647e-03 |\n",
       "| 2017         | 2015         | custo_total  | greater      | 0.95         | 2.046616e-03 |\n",
       "| 2018         | 2015         | custo_total  | greater      | 0.95         | 3.901115e-04 |\n",
       "| 2017         | 2016         | custo_total  | greater      | 0.95         | 1.047889e-02 |\n",
       "| 2018         | 2016         | custo_total  | greater      | 0.95         | 3.960601e-04 |\n",
       "| 2018         | 2017         | custo_total  | greater      | 0.95         | 4.946101e-03 |\n",
       "\n"
      ],
      "text/plain": [
       "   ano2 ano1 feature     H1      NC   valor_p     \n",
       "1  2013 2012 custo_total greater 0.95 2.273457e-03\n",
       "2  2014 2012 custo_total greater 0.95 6.743422e-05\n",
       "3  2015 2012 custo_total greater 0.95 7.536693e-06\n",
       "4  2016 2012 custo_total greater 0.95 1.574694e-04\n",
       "5  2017 2012 custo_total greater 0.95 4.270156e-04\n",
       "6  2018 2012 custo_total greater 0.95 1.701478e-04\n",
       "7  2014 2013 custo_total greater 0.95 1.379444e-03\n",
       "8  2015 2013 custo_total greater 0.95 4.709296e-05\n",
       "9  2016 2013 custo_total greater 0.95 1.712602e-04\n",
       "10 2017 2013 custo_total greater 0.95 5.000312e-04\n",
       "11 2018 2013 custo_total greater 0.95 1.654546e-04\n",
       "12 2015 2014 custo_total greater 0.95 3.235766e-03\n",
       "13 2016 2014 custo_total greater 0.95 6.664485e-04\n",
       "14 2017 2014 custo_total greater 0.95 9.595908e-04\n",
       "15 2018 2014 custo_total greater 0.95 2.429520e-04\n",
       "16 2016 2015 custo_total greater 0.95 3.923647e-03\n",
       "17 2017 2015 custo_total greater 0.95 2.046616e-03\n",
       "18 2018 2015 custo_total greater 0.95 3.901115e-04\n",
       "19 2017 2016 custo_total greater 0.95 1.047889e-02\n",
       "20 2018 2016 custo_total greater 0.95 3.960601e-04\n",
       "21 2018 2017 custo_total greater 0.95 4.946101e-03"
      ]
     },
     "metadata": {},
     "output_type": "display_data"
    },
    {
     "data": {
      "text/html": [
       "'Resultados para Valor-p &gt;= 0.05'"
      ],
      "text/latex": [
       "'Resultados para Valor-p >= 0.05'"
      ],
      "text/markdown": [
       "'Resultados para Valor-p &gt;= 0.05'"
      ],
      "text/plain": [
       "[1] \"Resultados para Valor-p >= 0.05\""
      ]
     },
     "metadata": {},
     "output_type": "display_data"
    },
    {
     "data": {
      "text/html": [
       "<table>\n",
       "<thead><tr><th scope=col>ano2</th><th scope=col>ano1</th><th scope=col>feature</th><th scope=col>H1</th><th scope=col>NC</th><th scope=col>valor_p</th></tr></thead>\n",
       "<tbody>\n",
       "</tbody>\n",
       "</table>\n"
      ],
      "text/latex": [
       "\\begin{tabular}{r|llllll}\n",
       " ano2 & ano1 & feature & H1 & NC & valor\\_p\\\\\n",
       "\\hline\n",
       "\\end{tabular}\n"
      ],
      "text/markdown": [
       "\n",
       "| ano2 | ano1 | feature | H1 | NC | valor_p |\n",
       "|---|---|---|---|---|---|\n",
       "\n"
      ],
      "text/plain": [
       "     ano2 ano1 feature H1 NC valor_p"
      ]
     },
     "metadata": {},
     "output_type": "display_data"
    }
   ],
   "source": [
    "# Teste-t Unicaudal Direito:\n",
    "# Definindo um vetor para o primeiro ano do teste:\n",
    "ano1 = c('2012', '2012', '2012','2012', '2012', '2012', '2013', '2013', '2013', '2013', '2013',\n",
    "         '2014', '2014', '2014', '2014', '2015', '2015', '2015', '2016', '2016', '2017')\n",
    "\n",
    "# Definindo um vetor para o segundo ano do teste:\n",
    "ano2 = c('2013', '2014', '2015','2016', '2017', '2018', '2014', '2015', '2016', '2017', '2018',\n",
    "         '2015', '2016', '2017', '2018', '2016', '2017', '2018', '2017', '2018', '2018')\n",
    "\n",
    "# Realizando o teste-t unicaudal direito:\n",
    "df_teste_t = teste_t(ano1, ano2, feature = \"custo_total\", H1 = \"greater\", NC = 0.95)\n",
    "\n",
    "# Filtrando os resultados onde \"valor_p < 0.05\":\n",
    "sprintf(\"Resultados para Valor-p < %.2f\", 1 - 0.95)\n",
    "filter(df_teste_t, valor_p < 0.05)\n",
    "\n",
    "# Filtrando os resultados onde \"valor_p >= 0.05\":\n",
    "sprintf(\"Resultados para Valor-p >= %.2f\", 1 - 0.95)\n",
    "filter(df_teste_t, valor_p >= 0.05)"
   ]
  },
  {
   "cell_type": "markdown",
   "metadata": {},
   "source": [
    "**Conclusão:**\n",
    "\n",
    "Se **`valor-p < 0.05`**: rejeitamos a hipótese nula (**H0**), caso contrário falhamos em rejeitar a a hipótese nula.\n",
    "\n",
    "Como o **valor-p é menor que 0.05** em todos os testes, podemos rejeitar a hipótese nula do `teste-t unicaudal direito`. Portanto, podemos concluir, por exemplo, que o ano de **2013** possui um custo total (em média, por trimestre) MAIOR que o do ano de **2012**. Esta mesma explicação é válida para os demais pares de anos onde tivemos como resultado o **`valor-p < 0.05`**.\n",
    "\n",
    "Portanto, concluimos que **o *custo total (em média, por trimestre) da empresa* aumentou significativamente com o passar dos anos!**"
   ]
  },
  {
   "cell_type": "markdown",
   "metadata": {},
   "source": [
    "### O quanto que o *custo total da empresa* aumentou (em média, por trimestre) entre os anos de `2012 e 2018`?"
   ]
  },
  {
   "cell_type": "markdown",
   "metadata": {},
   "source": [
    "Primeiro, vamos calcular as médias por trimestre do *custo total da empresa* em cada um dos anos:"
   ]
  },
  {
   "cell_type": "code",
   "execution_count": 42,
   "metadata": {
    "scrolled": true
   },
   "outputs": [
    {
     "data": {
      "text/html": [
       "<table>\n",
       "<thead><tr><th scope=col>Ano</th><th scope=col>Media_Custo_Total</th></tr></thead>\n",
       "<tbody>\n",
       "\t<tr><td>2012     </td><td> 458734.0</td></tr>\n",
       "\t<tr><td>2013     </td><td> 532152.0</td></tr>\n",
       "\t<tr><td>2014     </td><td> 623803.5</td></tr>\n",
       "\t<tr><td>2015     </td><td> 701209.8</td></tr>\n",
       "\t<tr><td>2016     </td><td> 841225.2</td></tr>\n",
       "\t<tr><td>2017     </td><td>1018651.2</td></tr>\n",
       "\t<tr><td>2018     </td><td>1265936.2</td></tr>\n",
       "</tbody>\n",
       "</table>\n"
      ],
      "text/latex": [
       "\\begin{tabular}{r|ll}\n",
       " Ano & Media\\_Custo\\_Total\\\\\n",
       "\\hline\n",
       "\t 2012      &  458734.0\\\\\n",
       "\t 2013      &  532152.0\\\\\n",
       "\t 2014      &  623803.5\\\\\n",
       "\t 2015      &  701209.8\\\\\n",
       "\t 2016      &  841225.2\\\\\n",
       "\t 2017      & 1018651.2\\\\\n",
       "\t 2018      & 1265936.2\\\\\n",
       "\\end{tabular}\n"
      ],
      "text/markdown": [
       "\n",
       "| Ano | Media_Custo_Total |\n",
       "|---|---|\n",
       "| 2012      |  458734.0 |\n",
       "| 2013      |  532152.0 |\n",
       "| 2014      |  623803.5 |\n",
       "| 2015      |  701209.8 |\n",
       "| 2016      |  841225.2 |\n",
       "| 2017      | 1018651.2 |\n",
       "| 2018      | 1265936.2 |\n",
       "\n"
      ],
      "text/plain": [
       "  Ano  Media_Custo_Total\n",
       "1 2012  458734.0        \n",
       "2 2013  532152.0        \n",
       "3 2014  623803.5        \n",
       "4 2015  701209.8        \n",
       "5 2016  841225.2        \n",
       "6 2017 1018651.2        \n",
       "7 2018 1265936.2        "
      ]
     },
     "metadata": {},
     "output_type": "display_data"
    }
   ],
   "source": [
    "# Calculando as médias do custo total (por trimestre) da empresa por ano:\n",
    "media_custo_tot = aggregate(df_data[, \"custo_total\"], list(df_data$ano_cat), mean)\n",
    "colnames(media_custo_tot) <- c(\"Ano\", \"Media_Custo_Total\")\n",
    "media_custo_tot"
   ]
  },
  {
   "cell_type": "markdown",
   "metadata": {},
   "source": [
    "Em seguida, vamos criar um data frame com os cálculos necessários para identificarmos o *aumento* do custo total (em média, por trimestre) da empresa entre os anos de 2012 e 2018:"
   ]
  },
  {
   "cell_type": "code",
   "execution_count": 43,
   "metadata": {
    "scrolled": true
   },
   "outputs": [
    {
     "data": {
      "text/html": [
       "<table>\n",
       "<thead><tr><th scope=col>ano2</th><th scope=col>ano1</th><th scope=col>valor_p</th><th scope=col>media_ano2</th><th scope=col>media_ano1</th><th scope=col>aumento</th></tr></thead>\n",
       "<tbody>\n",
       "\t<tr><td>2018        </td><td>2012        </td><td>1.701478e-04</td><td>1265936.2   </td><td> 458734.0   </td><td>1.7596303   </td></tr>\n",
       "\t<tr><td>2018        </td><td>2013        </td><td>1.654546e-04</td><td>1265936.2   </td><td> 532152.0   </td><td>1.3788997   </td></tr>\n",
       "\t<tr><td>2017        </td><td>2012        </td><td>4.270156e-04</td><td>1018651.2   </td><td> 458734.0   </td><td>1.2205706   </td></tr>\n",
       "\t<tr><td>2018        </td><td>2014        </td><td>2.429520e-04</td><td>1265936.2   </td><td> 623803.5   </td><td>1.0293831   </td></tr>\n",
       "\t<tr><td>2017        </td><td>2013        </td><td>5.000312e-04</td><td>1018651.2   </td><td> 532152.0   </td><td>0.9142111   </td></tr>\n",
       "\t<tr><td>2016        </td><td>2012        </td><td>1.574694e-04</td><td> 841225.2   </td><td> 458734.0   </td><td>0.8337975   </td></tr>\n",
       "\t<tr><td>2018        </td><td>2015        </td><td>3.901115e-04</td><td>1265936.2   </td><td> 701209.8   </td><td>0.8053603   </td></tr>\n",
       "\t<tr><td>2017        </td><td>2014        </td><td>9.595908e-04</td><td>1018651.2   </td><td> 623803.5   </td><td>0.6329682   </td></tr>\n",
       "\t<tr><td>2016        </td><td>2013        </td><td>1.712602e-04</td><td> 841225.2   </td><td> 532152.0   </td><td>0.5807988   </td></tr>\n",
       "\t<tr><td>2015        </td><td>2012        </td><td>7.536693e-06</td><td> 701209.8   </td><td> 458734.0   </td><td>0.5285759   </td></tr>\n",
       "\t<tr><td>2018        </td><td>2016        </td><td>3.960601e-04</td><td>1265936.2   </td><td> 841225.2   </td><td>0.5048719   </td></tr>\n",
       "\t<tr><td>2017        </td><td>2015        </td><td>2.046616e-03</td><td>1018651.2   </td><td> 701209.8   </td><td>0.4527055   </td></tr>\n",
       "\t<tr><td>2014        </td><td>2012        </td><td>6.743422e-05</td><td> 623803.5   </td><td> 458734.0   </td><td>0.3598371   </td></tr>\n",
       "\t<tr><td>2016        </td><td>2014        </td><td>6.664485e-04</td><td> 841225.2   </td><td> 623803.5   </td><td>0.3485420   </td></tr>\n",
       "\t<tr><td>2015        </td><td>2013        </td><td>4.709296e-05</td><td> 701209.8   </td><td> 532152.0   </td><td>0.3176870   </td></tr>\n",
       "\t<tr><td>2018        </td><td>2017        </td><td>4.946101e-03</td><td>1265936.2   </td><td>1018651.2   </td><td>0.2427573   </td></tr>\n",
       "\t<tr><td>2017        </td><td>2016        </td><td>1.047889e-02</td><td>1018651.2   </td><td> 841225.2   </td><td>0.2109138   </td></tr>\n",
       "\t<tr><td>2016        </td><td>2015        </td><td>3.923647e-03</td><td> 841225.2   </td><td> 701209.8   </td><td>0.1996771   </td></tr>\n",
       "\t<tr><td>2014        </td><td>2013        </td><td>1.379444e-03</td><td> 623803.5   </td><td> 532152.0   </td><td>0.1722280   </td></tr>\n",
       "\t<tr><td>2013        </td><td>2012        </td><td>2.273457e-03</td><td> 532152.0   </td><td> 458734.0   </td><td>0.1600448   </td></tr>\n",
       "\t<tr><td>2015        </td><td>2014        </td><td>3.235766e-03</td><td> 701209.8   </td><td> 623803.5   </td><td>0.1240876   </td></tr>\n",
       "</tbody>\n",
       "</table>\n"
      ],
      "text/latex": [
       "\\begin{tabular}{r|llllll}\n",
       " ano2 & ano1 & valor\\_p & media\\_ano2 & media\\_ano1 & aumento\\\\\n",
       "\\hline\n",
       "\t 2018         & 2012         & 1.701478e-04 & 1265936.2    &  458734.0    & 1.7596303   \\\\\n",
       "\t 2018         & 2013         & 1.654546e-04 & 1265936.2    &  532152.0    & 1.3788997   \\\\\n",
       "\t 2017         & 2012         & 4.270156e-04 & 1018651.2    &  458734.0    & 1.2205706   \\\\\n",
       "\t 2018         & 2014         & 2.429520e-04 & 1265936.2    &  623803.5    & 1.0293831   \\\\\n",
       "\t 2017         & 2013         & 5.000312e-04 & 1018651.2    &  532152.0    & 0.9142111   \\\\\n",
       "\t 2016         & 2012         & 1.574694e-04 &  841225.2    &  458734.0    & 0.8337975   \\\\\n",
       "\t 2018         & 2015         & 3.901115e-04 & 1265936.2    &  701209.8    & 0.8053603   \\\\\n",
       "\t 2017         & 2014         & 9.595908e-04 & 1018651.2    &  623803.5    & 0.6329682   \\\\\n",
       "\t 2016         & 2013         & 1.712602e-04 &  841225.2    &  532152.0    & 0.5807988   \\\\\n",
       "\t 2015         & 2012         & 7.536693e-06 &  701209.8    &  458734.0    & 0.5285759   \\\\\n",
       "\t 2018         & 2016         & 3.960601e-04 & 1265936.2    &  841225.2    & 0.5048719   \\\\\n",
       "\t 2017         & 2015         & 2.046616e-03 & 1018651.2    &  701209.8    & 0.4527055   \\\\\n",
       "\t 2014         & 2012         & 6.743422e-05 &  623803.5    &  458734.0    & 0.3598371   \\\\\n",
       "\t 2016         & 2014         & 6.664485e-04 &  841225.2    &  623803.5    & 0.3485420   \\\\\n",
       "\t 2015         & 2013         & 4.709296e-05 &  701209.8    &  532152.0    & 0.3176870   \\\\\n",
       "\t 2018         & 2017         & 4.946101e-03 & 1265936.2    & 1018651.2    & 0.2427573   \\\\\n",
       "\t 2017         & 2016         & 1.047889e-02 & 1018651.2    &  841225.2    & 0.2109138   \\\\\n",
       "\t 2016         & 2015         & 3.923647e-03 &  841225.2    &  701209.8    & 0.1996771   \\\\\n",
       "\t 2014         & 2013         & 1.379444e-03 &  623803.5    &  532152.0    & 0.1722280   \\\\\n",
       "\t 2013         & 2012         & 2.273457e-03 &  532152.0    &  458734.0    & 0.1600448   \\\\\n",
       "\t 2015         & 2014         & 3.235766e-03 &  701209.8    &  623803.5    & 0.1240876   \\\\\n",
       "\\end{tabular}\n"
      ],
      "text/markdown": [
       "\n",
       "| ano2 | ano1 | valor_p | media_ano2 | media_ano1 | aumento |\n",
       "|---|---|---|---|---|---|\n",
       "| 2018         | 2012         | 1.701478e-04 | 1265936.2    |  458734.0    | 1.7596303    |\n",
       "| 2018         | 2013         | 1.654546e-04 | 1265936.2    |  532152.0    | 1.3788997    |\n",
       "| 2017         | 2012         | 4.270156e-04 | 1018651.2    |  458734.0    | 1.2205706    |\n",
       "| 2018         | 2014         | 2.429520e-04 | 1265936.2    |  623803.5    | 1.0293831    |\n",
       "| 2017         | 2013         | 5.000312e-04 | 1018651.2    |  532152.0    | 0.9142111    |\n",
       "| 2016         | 2012         | 1.574694e-04 |  841225.2    |  458734.0    | 0.8337975    |\n",
       "| 2018         | 2015         | 3.901115e-04 | 1265936.2    |  701209.8    | 0.8053603    |\n",
       "| 2017         | 2014         | 9.595908e-04 | 1018651.2    |  623803.5    | 0.6329682    |\n",
       "| 2016         | 2013         | 1.712602e-04 |  841225.2    |  532152.0    | 0.5807988    |\n",
       "| 2015         | 2012         | 7.536693e-06 |  701209.8    |  458734.0    | 0.5285759    |\n",
       "| 2018         | 2016         | 3.960601e-04 | 1265936.2    |  841225.2    | 0.5048719    |\n",
       "| 2017         | 2015         | 2.046616e-03 | 1018651.2    |  701209.8    | 0.4527055    |\n",
       "| 2014         | 2012         | 6.743422e-05 |  623803.5    |  458734.0    | 0.3598371    |\n",
       "| 2016         | 2014         | 6.664485e-04 |  841225.2    |  623803.5    | 0.3485420    |\n",
       "| 2015         | 2013         | 4.709296e-05 |  701209.8    |  532152.0    | 0.3176870    |\n",
       "| 2018         | 2017         | 4.946101e-03 | 1265936.2    | 1018651.2    | 0.2427573    |\n",
       "| 2017         | 2016         | 1.047889e-02 | 1018651.2    |  841225.2    | 0.2109138    |\n",
       "| 2016         | 2015         | 3.923647e-03 |  841225.2    |  701209.8    | 0.1996771    |\n",
       "| 2014         | 2013         | 1.379444e-03 |  623803.5    |  532152.0    | 0.1722280    |\n",
       "| 2013         | 2012         | 2.273457e-03 |  532152.0    |  458734.0    | 0.1600448    |\n",
       "| 2015         | 2014         | 3.235766e-03 |  701209.8    |  623803.5    | 0.1240876    |\n",
       "\n"
      ],
      "text/plain": [
       "   ano2 ano1 valor_p      media_ano2 media_ano1 aumento  \n",
       "1  2018 2012 1.701478e-04 1265936.2   458734.0  1.7596303\n",
       "2  2018 2013 1.654546e-04 1265936.2   532152.0  1.3788997\n",
       "3  2017 2012 4.270156e-04 1018651.2   458734.0  1.2205706\n",
       "4  2018 2014 2.429520e-04 1265936.2   623803.5  1.0293831\n",
       "5  2017 2013 5.000312e-04 1018651.2   532152.0  0.9142111\n",
       "6  2016 2012 1.574694e-04  841225.2   458734.0  0.8337975\n",
       "7  2018 2015 3.901115e-04 1265936.2   701209.8  0.8053603\n",
       "8  2017 2014 9.595908e-04 1018651.2   623803.5  0.6329682\n",
       "9  2016 2013 1.712602e-04  841225.2   532152.0  0.5807988\n",
       "10 2015 2012 7.536693e-06  701209.8   458734.0  0.5285759\n",
       "11 2018 2016 3.960601e-04 1265936.2   841225.2  0.5048719\n",
       "12 2017 2015 2.046616e-03 1018651.2   701209.8  0.4527055\n",
       "13 2014 2012 6.743422e-05  623803.5   458734.0  0.3598371\n",
       "14 2016 2014 6.664485e-04  841225.2   623803.5  0.3485420\n",
       "15 2015 2013 4.709296e-05  701209.8   532152.0  0.3176870\n",
       "16 2018 2017 4.946101e-03 1265936.2  1018651.2  0.2427573\n",
       "17 2017 2016 1.047889e-02 1018651.2   841225.2  0.2109138\n",
       "18 2016 2015 3.923647e-03  841225.2   701209.8  0.1996771\n",
       "19 2014 2013 1.379444e-03  623803.5   532152.0  0.1722280\n",
       "20 2013 2012 2.273457e-03  532152.0   458734.0  0.1600448\n",
       "21 2015 2014 3.235766e-03  701209.8   623803.5  0.1240876"
      ]
     },
     "metadata": {},
     "output_type": "display_data"
    }
   ],
   "source": [
    "# Selecionando os pares de anos que no teste-t apresentaram \"valor-p < 0.05\":\n",
    "df_volume = select(filter(df_teste_t, valor_p < 0.05), ano2, ano1, valor_p)\n",
    "# Criando variáveis para os cálculos:\n",
    "df_volume$media_ano2 = 0\n",
    "df_volume$media_ano1 = 0\n",
    "df_volume$aumento = 0\n",
    "\n",
    "# Realizando os cálculos:\n",
    "for (i in 1:dim(df_volume)[1]){\n",
    "    # Obtendo a média para o \"ano1\" e \"ano2\":\n",
    "    df_volume[i, \"media_ano1\"] = filter(media_custo_tot, Ano == df_volume[i, \"ano1\"])$Media_Custo_Total\n",
    "    df_volume[i, \"media_ano2\"] = filter(media_custo_tot, Ano == df_volume[i, \"ano2\"])$Media_Custo_Total\n",
    "    \n",
    "    # Calculando o \"aumento\" do custo total médio da empresa:\n",
    "    df_volume[i, \"aumento\"] = (df_volume[i, \"media_ano2\"] - df_volume[i, \"media_ano1\"])/df_volume[i, \"media_ano1\"]\n",
    "}\n",
    "\n",
    "# Classificando o resultado em ordem \"decrescente\":\n",
    "arrange(df_volume, desc(aumento))"
   ]
  },
  {
   "cell_type": "markdown",
   "metadata": {},
   "source": [
    "**Conclusão:** o *`custo total da empresa`* *aumentou (em média, por trimestre)* **`~176.0%`** em **7 anos**, ou seja, de **`~460 milhões`** em **`2012`** para **`~1.3 bilhões`** em **`2018`**."
   ]
  },
  {
   "cell_type": "markdown",
   "metadata": {},
   "source": [
    "### Vamos agora, verificar se o *custo total da empresa* diminuiu com o passar dos anos:"
   ]
  },
  {
   "cell_type": "markdown",
   "metadata": {},
   "source": [
    "Então, realizaremos um `teste-t unicaudal esquerdo` para verificarmos esta condição.\n",
    "\n",
    "Definindo as duas hipóteses:\n",
    "\n",
    ">1. **`H0`:** CTM2 - CTM1 = 0, ou seja, o custo total médio (por trimestre) da empresa não difere entre cada um dos anos \"1\" e \"2\";\n",
    ">2. **`H1`:** CTM2 - CTM1 < 0, ou seja, o custo total médio (por trimestre) da empresa no ano \"2\" é MENOR que o custo total médio (por trimestre) da empresa no ano \"1\".\n",
    "\n",
    "Onde:\n",
    "\n",
    ">* **`CTM1`:** custo total médio (por trimestre) da empresa para o ano ***`1`***;\n",
    ">* **`CTM2`:** custo total médio (por trimestre) da empresa para o ano ***`2`***."
   ]
  },
  {
   "cell_type": "code",
   "execution_count": 44,
   "metadata": {
    "scrolled": true
   },
   "outputs": [
    {
     "data": {
      "text/html": [
       "'Resultados para Valor-p &lt; 0.05'"
      ],
      "text/latex": [
       "'Resultados para Valor-p < 0.05'"
      ],
      "text/markdown": [
       "'Resultados para Valor-p &lt; 0.05'"
      ],
      "text/plain": [
       "[1] \"Resultados para Valor-p < 0.05\""
      ]
     },
     "metadata": {},
     "output_type": "display_data"
    },
    {
     "data": {
      "text/html": [
       "<table>\n",
       "<thead><tr><th scope=col>ano2</th><th scope=col>ano1</th><th scope=col>feature</th><th scope=col>H1</th><th scope=col>NC</th><th scope=col>valor_p</th></tr></thead>\n",
       "<tbody>\n",
       "</tbody>\n",
       "</table>\n"
      ],
      "text/latex": [
       "\\begin{tabular}{r|llllll}\n",
       " ano2 & ano1 & feature & H1 & NC & valor\\_p\\\\\n",
       "\\hline\n",
       "\\end{tabular}\n"
      ],
      "text/markdown": [
       "\n",
       "| ano2 | ano1 | feature | H1 | NC | valor_p |\n",
       "|---|---|---|---|---|---|\n",
       "\n"
      ],
      "text/plain": [
       "     ano2 ano1 feature H1 NC valor_p"
      ]
     },
     "metadata": {},
     "output_type": "display_data"
    },
    {
     "data": {
      "text/html": [
       "'Resultados para Valor-p &gt;= 0.05'"
      ],
      "text/latex": [
       "'Resultados para Valor-p >= 0.05'"
      ],
      "text/markdown": [
       "'Resultados para Valor-p &gt;= 0.05'"
      ],
      "text/plain": [
       "[1] \"Resultados para Valor-p >= 0.05\""
      ]
     },
     "metadata": {},
     "output_type": "display_data"
    },
    {
     "data": {
      "text/html": [
       "<table>\n",
       "<thead><tr><th scope=col>ano2</th><th scope=col>ano1</th><th scope=col>feature</th><th scope=col>H1</th><th scope=col>NC</th><th scope=col>valor_p</th></tr></thead>\n",
       "<tbody>\n",
       "\t<tr><td>2013       </td><td>2012       </td><td>custo_total</td><td>less       </td><td>0.95       </td><td>0.9977265  </td></tr>\n",
       "\t<tr><td>2014       </td><td>2012       </td><td>custo_total</td><td>less       </td><td>0.95       </td><td>0.9999326  </td></tr>\n",
       "\t<tr><td>2015       </td><td>2012       </td><td>custo_total</td><td>less       </td><td>0.95       </td><td>0.9999925  </td></tr>\n",
       "\t<tr><td>2016       </td><td>2012       </td><td>custo_total</td><td>less       </td><td>0.95       </td><td>0.9998425  </td></tr>\n",
       "\t<tr><td>2017       </td><td>2012       </td><td>custo_total</td><td>less       </td><td>0.95       </td><td>0.9995730  </td></tr>\n",
       "\t<tr><td>2018       </td><td>2012       </td><td>custo_total</td><td>less       </td><td>0.95       </td><td>0.9998299  </td></tr>\n",
       "\t<tr><td>2014       </td><td>2013       </td><td>custo_total</td><td>less       </td><td>0.95       </td><td>0.9986206  </td></tr>\n",
       "\t<tr><td>2015       </td><td>2013       </td><td>custo_total</td><td>less       </td><td>0.95       </td><td>0.9999529  </td></tr>\n",
       "\t<tr><td>2016       </td><td>2013       </td><td>custo_total</td><td>less       </td><td>0.95       </td><td>0.9998287  </td></tr>\n",
       "\t<tr><td>2017       </td><td>2013       </td><td>custo_total</td><td>less       </td><td>0.95       </td><td>0.9995000  </td></tr>\n",
       "\t<tr><td>2018       </td><td>2013       </td><td>custo_total</td><td>less       </td><td>0.95       </td><td>0.9998345  </td></tr>\n",
       "\t<tr><td>2015       </td><td>2014       </td><td>custo_total</td><td>less       </td><td>0.95       </td><td>0.9967642  </td></tr>\n",
       "\t<tr><td>2016       </td><td>2014       </td><td>custo_total</td><td>less       </td><td>0.95       </td><td>0.9993336  </td></tr>\n",
       "\t<tr><td>2017       </td><td>2014       </td><td>custo_total</td><td>less       </td><td>0.95       </td><td>0.9990404  </td></tr>\n",
       "\t<tr><td>2018       </td><td>2014       </td><td>custo_total</td><td>less       </td><td>0.95       </td><td>0.9997570  </td></tr>\n",
       "\t<tr><td>2016       </td><td>2015       </td><td>custo_total</td><td>less       </td><td>0.95       </td><td>0.9960764  </td></tr>\n",
       "\t<tr><td>2017       </td><td>2015       </td><td>custo_total</td><td>less       </td><td>0.95       </td><td>0.9979534  </td></tr>\n",
       "\t<tr><td>2018       </td><td>2015       </td><td>custo_total</td><td>less       </td><td>0.95       </td><td>0.9996099  </td></tr>\n",
       "\t<tr><td>2017       </td><td>2016       </td><td>custo_total</td><td>less       </td><td>0.95       </td><td>0.9895211  </td></tr>\n",
       "\t<tr><td>2018       </td><td>2016       </td><td>custo_total</td><td>less       </td><td>0.95       </td><td>0.9996039  </td></tr>\n",
       "\t<tr><td>2018       </td><td>2017       </td><td>custo_total</td><td>less       </td><td>0.95       </td><td>0.9950539  </td></tr>\n",
       "</tbody>\n",
       "</table>\n"
      ],
      "text/latex": [
       "\\begin{tabular}{r|llllll}\n",
       " ano2 & ano1 & feature & H1 & NC & valor\\_p\\\\\n",
       "\\hline\n",
       "\t 2013          & 2012          & custo\\_total & less          & 0.95          & 0.9977265    \\\\\n",
       "\t 2014          & 2012          & custo\\_total & less          & 0.95          & 0.9999326    \\\\\n",
       "\t 2015          & 2012          & custo\\_total & less          & 0.95          & 0.9999925    \\\\\n",
       "\t 2016          & 2012          & custo\\_total & less          & 0.95          & 0.9998425    \\\\\n",
       "\t 2017          & 2012          & custo\\_total & less          & 0.95          & 0.9995730    \\\\\n",
       "\t 2018          & 2012          & custo\\_total & less          & 0.95          & 0.9998299    \\\\\n",
       "\t 2014          & 2013          & custo\\_total & less          & 0.95          & 0.9986206    \\\\\n",
       "\t 2015          & 2013          & custo\\_total & less          & 0.95          & 0.9999529    \\\\\n",
       "\t 2016          & 2013          & custo\\_total & less          & 0.95          & 0.9998287    \\\\\n",
       "\t 2017          & 2013          & custo\\_total & less          & 0.95          & 0.9995000    \\\\\n",
       "\t 2018          & 2013          & custo\\_total & less          & 0.95          & 0.9998345    \\\\\n",
       "\t 2015          & 2014          & custo\\_total & less          & 0.95          & 0.9967642    \\\\\n",
       "\t 2016          & 2014          & custo\\_total & less          & 0.95          & 0.9993336    \\\\\n",
       "\t 2017          & 2014          & custo\\_total & less          & 0.95          & 0.9990404    \\\\\n",
       "\t 2018          & 2014          & custo\\_total & less          & 0.95          & 0.9997570    \\\\\n",
       "\t 2016          & 2015          & custo\\_total & less          & 0.95          & 0.9960764    \\\\\n",
       "\t 2017          & 2015          & custo\\_total & less          & 0.95          & 0.9979534    \\\\\n",
       "\t 2018          & 2015          & custo\\_total & less          & 0.95          & 0.9996099    \\\\\n",
       "\t 2017          & 2016          & custo\\_total & less          & 0.95          & 0.9895211    \\\\\n",
       "\t 2018          & 2016          & custo\\_total & less          & 0.95          & 0.9996039    \\\\\n",
       "\t 2018          & 2017          & custo\\_total & less          & 0.95          & 0.9950539    \\\\\n",
       "\\end{tabular}\n"
      ],
      "text/markdown": [
       "\n",
       "| ano2 | ano1 | feature | H1 | NC | valor_p |\n",
       "|---|---|---|---|---|---|\n",
       "| 2013        | 2012        | custo_total | less        | 0.95        | 0.9977265   |\n",
       "| 2014        | 2012        | custo_total | less        | 0.95        | 0.9999326   |\n",
       "| 2015        | 2012        | custo_total | less        | 0.95        | 0.9999925   |\n",
       "| 2016        | 2012        | custo_total | less        | 0.95        | 0.9998425   |\n",
       "| 2017        | 2012        | custo_total | less        | 0.95        | 0.9995730   |\n",
       "| 2018        | 2012        | custo_total | less        | 0.95        | 0.9998299   |\n",
       "| 2014        | 2013        | custo_total | less        | 0.95        | 0.9986206   |\n",
       "| 2015        | 2013        | custo_total | less        | 0.95        | 0.9999529   |\n",
       "| 2016        | 2013        | custo_total | less        | 0.95        | 0.9998287   |\n",
       "| 2017        | 2013        | custo_total | less        | 0.95        | 0.9995000   |\n",
       "| 2018        | 2013        | custo_total | less        | 0.95        | 0.9998345   |\n",
       "| 2015        | 2014        | custo_total | less        | 0.95        | 0.9967642   |\n",
       "| 2016        | 2014        | custo_total | less        | 0.95        | 0.9993336   |\n",
       "| 2017        | 2014        | custo_total | less        | 0.95        | 0.9990404   |\n",
       "| 2018        | 2014        | custo_total | less        | 0.95        | 0.9997570   |\n",
       "| 2016        | 2015        | custo_total | less        | 0.95        | 0.9960764   |\n",
       "| 2017        | 2015        | custo_total | less        | 0.95        | 0.9979534   |\n",
       "| 2018        | 2015        | custo_total | less        | 0.95        | 0.9996099   |\n",
       "| 2017        | 2016        | custo_total | less        | 0.95        | 0.9895211   |\n",
       "| 2018        | 2016        | custo_total | less        | 0.95        | 0.9996039   |\n",
       "| 2018        | 2017        | custo_total | less        | 0.95        | 0.9950539   |\n",
       "\n"
      ],
      "text/plain": [
       "   ano2 ano1 feature     H1   NC   valor_p  \n",
       "1  2013 2012 custo_total less 0.95 0.9977265\n",
       "2  2014 2012 custo_total less 0.95 0.9999326\n",
       "3  2015 2012 custo_total less 0.95 0.9999925\n",
       "4  2016 2012 custo_total less 0.95 0.9998425\n",
       "5  2017 2012 custo_total less 0.95 0.9995730\n",
       "6  2018 2012 custo_total less 0.95 0.9998299\n",
       "7  2014 2013 custo_total less 0.95 0.9986206\n",
       "8  2015 2013 custo_total less 0.95 0.9999529\n",
       "9  2016 2013 custo_total less 0.95 0.9998287\n",
       "10 2017 2013 custo_total less 0.95 0.9995000\n",
       "11 2018 2013 custo_total less 0.95 0.9998345\n",
       "12 2015 2014 custo_total less 0.95 0.9967642\n",
       "13 2016 2014 custo_total less 0.95 0.9993336\n",
       "14 2017 2014 custo_total less 0.95 0.9990404\n",
       "15 2018 2014 custo_total less 0.95 0.9997570\n",
       "16 2016 2015 custo_total less 0.95 0.9960764\n",
       "17 2017 2015 custo_total less 0.95 0.9979534\n",
       "18 2018 2015 custo_total less 0.95 0.9996099\n",
       "19 2017 2016 custo_total less 0.95 0.9895211\n",
       "20 2018 2016 custo_total less 0.95 0.9996039\n",
       "21 2018 2017 custo_total less 0.95 0.9950539"
      ]
     },
     "metadata": {},
     "output_type": "display_data"
    }
   ],
   "source": [
    "# Teste-t Unicaudal Esquerdo:\n",
    "# Definindo um vetor para o primeiro ano do teste:\n",
    "ano1 = c('2012', '2012', '2012','2012', '2012', '2012', '2013', '2013', '2013', '2013', '2013',\n",
    "         '2014', '2014', '2014', '2014', '2015', '2015', '2015', '2016', '2016', '2017')\n",
    "\n",
    "# Definindo um vetor para o segundo ano do teste:\n",
    "ano2 = c('2013', '2014', '2015','2016', '2017', '2018', '2014', '2015', '2016', '2017', '2018',\n",
    "         '2015', '2016', '2017', '2018', '2016', '2017', '2018', '2017', '2018', '2018')\n",
    "\n",
    "# Realizando o teste-t unicaudal esquerdo:\n",
    "df_teste_t = teste_t(ano1, ano2, feature = \"custo_total\", H1 = \"less\", NC = 0.95)\n",
    "\n",
    "# Filtrando os resultados onde \"valor_p < 0.05\":\n",
    "sprintf(\"Resultados para Valor-p < %.2f\", 1 - 0.95)\n",
    "filter(df_teste_t, valor_p < 0.05)\n",
    "\n",
    "# Filtrando os resultados onde \"valor_p >= 0.05\":\n",
    "sprintf(\"Resultados para Valor-p >= %.2f\", 1 - 0.95)\n",
    "filter(df_teste_t, valor_p >= 0.05)"
   ]
  },
  {
   "cell_type": "markdown",
   "metadata": {},
   "source": [
    "**Conclusão:**\n",
    "\n",
    "Se **`valor-p < 0.05`**: rejeitamos a hipótese nula (**H0**), caso contrário falhamos em rejeitar a a hipótese nula.\n",
    "\n",
    "Como o **valor-p é maior ou igual que 0.05** em todos os testes, os dados falharam em fornecer evidências suficientes para rejeitarmos a hipótese nula do `teste-t unicaudal esquerdo`. Portanto, não podemos concluir, por exemplo, que o ano de **2013** possui um custo total (em média, por trimestre) MENOR em relação ao ano de **2012**. Esta mesma explicação é válida para os demais pares de anos onde tivemos como resultado o **`valor-p >= 0.05`**.\n",
    "\n",
    "Portanto, concluimos que **o *custo total (em média, por trimestre) da empresa* NÃO diminuiu significativamente com o passar dos anos!**"
   ]
  },
  {
   "cell_type": "markdown",
   "metadata": {},
   "source": [
    "### Visualizando os resultados:\n",
    "\n",
    "Agora, vamos apresentar os resultados utilizando um ***Boxplot*** e um ***Barplot***."
   ]
  },
  {
   "cell_type": "code",
   "execution_count": 45,
   "metadata": {},
   "outputs": [
    {
     "name": "stderr",
     "output_type": "stream",
     "text": [
      "Saving 6.67 x 6.67 in image\n"
     ]
    },
    {
     "data": {
      "image/png": "[encoded data removed]",
      "text/plain": [
       "plot without title"
      ]
     },
     "metadata": {},
     "output_type": "display_data"
    }
   ],
   "source": [
    "# Definindo as cores para cada ano:\n",
    "cores = c(\"lightblue\", \"lightpink\", \"lightcoral\", \"lightgoldenrod\", \"lightsalmon\", \"lightgray\", \"lightgreen\")\n",
    "# Boxplot:\n",
    "p1 = ggplot(df_data, aes(x = ano_cat, y = custo_total)) +\n",
    "        geom_boxplot(color = \"black\", fill = cores) +\n",
    "        # Definindo os labels e o título do gráfico:\n",
    "        labs(x = \"Ano\", y = \"Valor($) x 1k\", title = \"Custo Total por Trimestre\") +\n",
    "        \n",
    "        # Definindo alguns elementos do \"título\" e dos eixos \"x\" e \"y\":\n",
    "        theme(\n",
    "            plot.title = element_text(color = \"Black\", size = 14, face = \"bold.italic\", hjust = 0.5),\n",
    "            axis.title.x = element_text(color = \"Black\", size = 12, face = \"bold\"),\n",
    "            axis.title.y = element_text(color = \"Black\", size = 12, face = \"bold\")\n",
    "        )\n",
    "\n",
    "print(p1)\n",
    "\n",
    "# Salvando o gráfico:\n",
    "ggsave(filename = \"boxplot_custo_total.pdf\", plot = p1, device = \"pdf\", path = PROJECT_IMG_PATH, dpi = 300)"
   ]
  },
  {
   "cell_type": "code",
   "execution_count": 46,
   "metadata": {},
   "outputs": [
    {
     "name": "stderr",
     "output_type": "stream",
     "text": [
      "Saving 6.67 x 6.67 in image\n"
     ]
    },
    {
     "data": {
      "image/png": "[encoded data removed]",
      "text/plain": [
       "plot without title"
      ]
     },
     "metadata": {},
     "output_type": "display_data"
    }
   ],
   "source": [
    "# Barplot:\n",
    "p1 <- ggplot(media_custo_tot, aes(x = Ano, y = Media_Custo_Total)) +\n",
    "            geom_bar(stat = 'identity', col = \"black\", fill = cores) + theme(axis.text.x = element_text(angle = 0,\n",
    "                                                                                                        hjust = 0.5)) +\n",
    "            guides(fill = FALSE) + coord_cartesian(ylim = c(400000.0, 1250000.0)) +\n",
    "            ggtitle(\"Custo Total (Média) por Trimestre\") + xlab(\"Ano\") + ylab(\"Valor($) x 1k\") + \n",
    "            theme(\n",
    "                plot.title = element_text(color = \"Black\", size = 14, face = \"bold.italic\", hjust = 0.5),\n",
    "                axis.title.x = element_text(color = \"Black\", size = 12, face = \"bold\"),\n",
    "                axis.title.y = element_text(color = \"Black\", size = 12, face = \"bold\")\n",
    "            )\n",
    "\n",
    "print(p1)\n",
    "\n",
    "# Salvando o gráfico:\n",
    "ggsave(filename = \"barplot_media_custo_total.pdf\", plot = p1, device = \"pdf\", path = PROJECT_IMG_PATH, dpi = 300)"
   ]
  },
  {
   "cell_type": "markdown",
   "metadata": {},
   "source": [
    "**Análise:**\n",
    "\n",
    "* O gráfico acima (***Boxplot***) confirma todos os testes estatísticos realizados, ou seja, que **o *custo total (em média, por trimestre) da empresa* aumentou significativamente em todos os anos no período entre 2012 e 2018**;\n",
    "\n",
    "\n",
    "* O gráfico acima (***Barplot***) apresenta a **`média`** do **`Custo Total`** (por **`Trimestre`**) em cada um dos anos."
   ]
  },
  {
   "cell_type": "markdown",
   "metadata": {},
   "source": [
    "### `2.10-` Considerando todo o período (`2012 a 2018`), os *custos de marketing aumentaram e/ou diminuíram*?\n",
    "\n",
    "Para fazermos esta análise, vamos realizar um teste de **Análise de Variância (`ANOVA`)** para concluir se devemos rejeitar ou não a hipótese nula.\n",
    "\n",
    "Então, para realizarmos o *teste de hipóteses* definimos as duas hipóteses:\n",
    "\n",
    ">1. **`H0`:** CMM1 = CMM2 = CMM3 = CMM4 = CMM5 = CMM6 = CMM7, ou seja, o custo médio de marketing (por trimestre) não difere entre cada um dos anos, ou seja, em todo o período.\n",
    ">2. **`H1`:** o custo médio de marketing (por trimestre) é diferente em pelo menos um ano dentro do período.\n",
    "\n",
    "Onde:\n",
    "\n",
    ">* **`CMM1`:** custo médio de marketing (por trimestre) para o ano de ***`2012`***;\n",
    ">* **`CMM2`:** custo médio de marketing (por trimestre) para o ano de ***`2013`***;\n",
    ">* **`CMM3`:** custo médio de marketing (por trimestre) para o ano de ***`2014`***;\n",
    ">* **`CMM4`:** custo médio de marketing (por trimestre) para o ano de ***`2015`***;\n",
    ">* **`CMM5`:** custo médio de marketing (por trimestre) para o ano de ***`2016`***;\n",
    ">* **`CMM6`:** custo médio de marketing (por trimestre) para o ano de ***`2017`***;\n",
    ">* **`CMM7`:** custo médio de marketing (por trimestre) para o ano de ***`2018`***;"
   ]
  },
  {
   "cell_type": "code",
   "execution_count": 47,
   "metadata": {},
   "outputs": [
    {
     "data": {
      "text/html": [
       "<table>\n",
       "<thead><tr><th></th><th scope=col>Df</th><th scope=col>Sum Sq</th><th scope=col>Mean Sq</th><th scope=col>F value</th><th scope=col>Pr(&gt;F)</th></tr></thead>\n",
       "<tbody>\n",
       "\t<tr><th scope=row>ano_cat    </th><td> 6          </td><td>115543417066</td><td>19257236178 </td><td>34.24793    </td><td>8.612104e-10</td></tr>\n",
       "\t<tr><th scope=row>Residuals  </th><td>21          </td><td> 11808068780</td><td>  562288990 </td><td>      NA    </td><td>          NA</td></tr>\n",
       "</tbody>\n",
       "</table>\n"
      ],
      "text/latex": [
       "\\begin{tabular}{r|lllll}\n",
       "  & Df & Sum Sq & Mean Sq & F value & Pr(>F)\\\\\n",
       "\\hline\n",
       "\tano\\_cat     &  6           & 115543417066 & 19257236178  & 34.24793     & 8.612104e-10\\\\\n",
       "\tResiduals   & 21           &  11808068780 &   562288990  &       NA     &           NA\\\\\n",
       "\\end{tabular}\n"
      ],
      "text/markdown": [
       "\n",
       "| <!--/--> | Df | Sum Sq | Mean Sq | F value | Pr(>F) |\n",
       "|---|---|---|---|---|---|\n",
       "| ano_cat     |  6           | 115543417066 | 19257236178  | 34.24793     | 8.612104e-10 |\n",
       "| Residuals   | 21           |  11808068780 |   562288990  |       NA     |           NA |\n",
       "\n"
      ],
      "text/plain": [
       "            Df Sum Sq       Mean Sq     F value  Pr(>F)      \n",
       "ano_cat      6 115543417066 19257236178 34.24793 8.612104e-10\n",
       "Residuals   21  11808068780   562288990       NA           NA"
      ]
     },
     "metadata": {},
     "output_type": "display_data"
    },
    {
     "data": {
      "text/html": [
       "'valor-p do teste: 0.00000000086121038940'"
      ],
      "text/latex": [
       "'valor-p do teste: 0.00000000086121038940'"
      ],
      "text/markdown": [
       "'valor-p do teste: 0.00000000086121038940'"
      ],
      "text/plain": [
       "[1] \"valor-p do teste: 0.00000000086121038940\""
      ]
     },
     "metadata": {},
     "output_type": "display_data"
    }
   ],
   "source": [
    "# Aplicanto análise de variância (ANOVA):\n",
    "resultado_anova <- aov(formula = custo_marketing ~ ano_cat, data = df_data)\n",
    "\n",
    "# Resumo estatístico do teste ANOVA:\n",
    "anova_table = summary(resultado_anova)\n",
    "anova_table[[1]]\n",
    "\n",
    "# Obtendo o \"valor-p\" do teste:\n",
    "sprintf(\"valor-p do teste: %.20f\", anova_table[[1]]$Pr[[1]])"
   ]
  },
  {
   "cell_type": "markdown",
   "metadata": {},
   "source": [
    "**Conclusão:**\n",
    "\n",
    "Se **`valor-p < 0.05`**: rejeitamos a hipótese nula (**H0**), caso contrário falhamos em rejeitar a a hipótese nula.\n",
    "\n",
    "O **valor-p é menor que 0.05**. Portanto, os resultados não ocorreram por variação aleatória e a hipótese nula é rejeitada, ou seja, há um efeito significativo do ano (variável independente) no custo de marketing (variável dependente) por trimestre."
   ]
  },
  {
   "cell_type": "markdown",
   "metadata": {},
   "source": [
    "### `Comparações Não Planejadas`:\n",
    "\n",
    "Estas comparações também são chamadas de *testes a posteriori*, *testes post hoc* ou simplesmente *comparações não planejadas*.\n",
    "\n",
    "Um dos membros mais conhecidos do mundo *post-hoc* é o **teste HSD** (*Honest Significant Difference* ou Diferença Honestamente Significativa). Esse teste realiza todas as comparações emparelháveis possíveis entre as médias amostrais."
   ]
  },
  {
   "cell_type": "code",
   "execution_count": 48,
   "metadata": {},
   "outputs": [
    {
     "data": {
      "text/plain": [
       "  Tukey multiple comparisons of means\n",
       "    95% family-wise confidence level\n",
       "\n",
       "Fit: aov(formula = custo_marketing ~ ano_cat, data = df_data)\n",
       "\n",
       "$ano_cat\n",
       "               diff        lwr       upr     p adj\n",
       "2013-2012  -2710.00 -57217.065  51797.07 0.9999981\n",
       "2014-2012   4345.25 -50161.815  58852.32 0.9999681\n",
       "2015-2012  10393.50 -44113.565  64900.57 0.9953641\n",
       "2016-2012  34214.00 -20293.065  88721.07 0.4204308\n",
       "2017-2012  81918.50  27411.435 136425.57 0.0013072\n",
       "2018-2012 187319.75 132812.685 241826.82 0.0000000\n",
       "2014-2013   7055.25 -47451.815  61562.32 0.9994655\n",
       "2015-2013  13103.50 -41403.565  67610.57 0.9843539\n",
       "2016-2013  36924.00 -17583.065  91431.07 0.3354028\n",
       "2017-2013  84628.50  30121.435 139135.57 0.0009031\n",
       "2018-2013 190029.75 135522.685 244536.82 0.0000000\n",
       "2015-2014   6048.25 -48458.815  60555.32 0.9997797\n",
       "2016-2014  29868.75 -24638.315  84375.82 0.5735585\n",
       "2017-2014  77573.25  23066.185 132080.32 0.0023661\n",
       "2018-2014 182974.50 128467.435 237481.57 0.0000000\n",
       "2016-2015  23820.50 -30686.565  78327.57 0.7850801\n",
       "2017-2015  71525.00  17017.935 126032.07 0.0053889\n",
       "2018-2015 176926.25 122419.185 231433.32 0.0000000\n",
       "2017-2016  47704.50  -6802.565 102211.57 0.1122241\n",
       "2018-2016 153105.75  98598.685 207612.82 0.0000002\n",
       "2018-2017 105401.25  50894.185 159908.32 0.0000558\n"
      ]
     },
     "metadata": {},
     "output_type": "display_data"
    }
   ],
   "source": [
    "# Realizando o teste de \"Tukey\":\n",
    "TukeyHSD(resultado_anova, ordered = FALSE, conf.level = 0.95, )"
   ]
  },
  {
   "cell_type": "markdown",
   "metadata": {},
   "source": [
    "**Conclusão:**\n",
    "\n",
    "* De acordo com os resultados do **`teste-HSD`**, **dez** pares de anos têm um **valor-p < 0.05**. Isso significa que **há diferença estatisticamente significativa** no custo de marketing (por trimestre) entre cada um dos anos;\n",
    "\n",
    "\n",
    "* De acordo com os resultados do **`teste-HSD`**, **onze** pares de anos têm um **valor-p >= 0.05**. Isso significa que **não há diferença estatisticamente significativa** no custo de marketing (por trimestre) entre cada um dos anos."
   ]
  },
  {
   "cell_type": "markdown",
   "metadata": {},
   "source": [
    "### Vamos agora, verificar se os *custos de marketing* aumentaram com o passar dos anos:"
   ]
  },
  {
   "cell_type": "markdown",
   "metadata": {},
   "source": [
    "Então, realizaremos um `teste-t unicaudal direito` para verificarmos esta condição.\n",
    "\n",
    "Definindo as duas hipóteses:\n",
    "\n",
    ">1. **`H0`:** CMM2 - CMM1 = 0, ou seja, o custo médio de marketing (por trimestre) não difere entre cada um dos anos \"1\" e \"2\";\n",
    ">2. **`H1`:** CMM2 - CMM1 > 0, ou seja, o custo médio de marketing (por trimestre) no ano \"2\" é MAIOR que o custo médio de marketing (por trimestre) no ano \"1\".\n",
    "\n",
    "Onde:\n",
    "\n",
    ">* **`CMM1`:** custo médio de marketing (por trimestre) para o ano ***`1`***;\n",
    ">* **`CMM2`:** custo médio de marketing (por trimestre) para o ano ***`2`***."
   ]
  },
  {
   "cell_type": "code",
   "execution_count": 49,
   "metadata": {
    "scrolled": false
   },
   "outputs": [
    {
     "data": {
      "text/html": [
       "'Resultados para Valor-p &lt; 0.05'"
      ],
      "text/latex": [
       "'Resultados para Valor-p < 0.05'"
      ],
      "text/markdown": [
       "'Resultados para Valor-p &lt; 0.05'"
      ],
      "text/plain": [
       "[1] \"Resultados para Valor-p < 0.05\""
      ]
     },
     "metadata": {},
     "output_type": "display_data"
    },
    {
     "data": {
      "text/html": [
       "<table>\n",
       "<thead><tr><th scope=col>ano2</th><th scope=col>ano1</th><th scope=col>feature</th><th scope=col>H1</th><th scope=col>NC</th><th scope=col>valor_p</th></tr></thead>\n",
       "<tbody>\n",
       "\t<tr><td>2016           </td><td>2012           </td><td>custo_marketing</td><td>greater        </td><td>0.95           </td><td>0.0046586720   </td></tr>\n",
       "\t<tr><td>2017           </td><td>2012           </td><td>custo_marketing</td><td>greater        </td><td>0.95           </td><td>0.0126188670   </td></tr>\n",
       "\t<tr><td>2018           </td><td>2012           </td><td>custo_marketing</td><td>greater        </td><td>0.95           </td><td>0.0011833804   </td></tr>\n",
       "\t<tr><td>2015           </td><td>2013           </td><td>custo_marketing</td><td>greater        </td><td>0.95           </td><td>0.0140092840   </td></tr>\n",
       "\t<tr><td>2016           </td><td>2013           </td><td>custo_marketing</td><td>greater        </td><td>0.95           </td><td>0.0052182077   </td></tr>\n",
       "\t<tr><td>2017           </td><td>2013           </td><td>custo_marketing</td><td>greater        </td><td>0.95           </td><td>0.0123908866   </td></tr>\n",
       "\t<tr><td>2018           </td><td>2013           </td><td>custo_marketing</td><td>greater        </td><td>0.95           </td><td>0.0013553105   </td></tr>\n",
       "\t<tr><td>2016           </td><td>2014           </td><td>custo_marketing</td><td>greater        </td><td>0.95           </td><td>0.0099609836   </td></tr>\n",
       "\t<tr><td>2017           </td><td>2014           </td><td>custo_marketing</td><td>greater        </td><td>0.95           </td><td>0.0134367455   </td></tr>\n",
       "\t<tr><td>2018           </td><td>2014           </td><td>custo_marketing</td><td>greater        </td><td>0.95           </td><td>0.0009674119   </td></tr>\n",
       "\t<tr><td>2016           </td><td>2015           </td><td>custo_marketing</td><td>greater        </td><td>0.95           </td><td>0.0173440403   </td></tr>\n",
       "\t<tr><td>2017           </td><td>2015           </td><td>custo_marketing</td><td>greater        </td><td>0.95           </td><td>0.0185545955   </td></tr>\n",
       "\t<tr><td>2018           </td><td>2015           </td><td>custo_marketing</td><td>greater        </td><td>0.95           </td><td>0.0014853545   </td></tr>\n",
       "\t<tr><td>2017           </td><td>2016           </td><td>custo_marketing</td><td>greater        </td><td>0.95           </td><td>0.0484312701   </td></tr>\n",
       "\t<tr><td>2018           </td><td>2016           </td><td>custo_marketing</td><td>greater        </td><td>0.95           </td><td>0.0015929715   </td></tr>\n",
       "\t<tr><td>2018           </td><td>2017           </td><td>custo_marketing</td><td>greater        </td><td>0.95           </td><td>0.0057344201   </td></tr>\n",
       "</tbody>\n",
       "</table>\n"
      ],
      "text/latex": [
       "\\begin{tabular}{r|llllll}\n",
       " ano2 & ano1 & feature & H1 & NC & valor\\_p\\\\\n",
       "\\hline\n",
       "\t 2016              & 2012              & custo\\_marketing & greater           & 0.95              & 0.0046586720     \\\\\n",
       "\t 2017              & 2012              & custo\\_marketing & greater           & 0.95              & 0.0126188670     \\\\\n",
       "\t 2018              & 2012              & custo\\_marketing & greater           & 0.95              & 0.0011833804     \\\\\n",
       "\t 2015              & 2013              & custo\\_marketing & greater           & 0.95              & 0.0140092840     \\\\\n",
       "\t 2016              & 2013              & custo\\_marketing & greater           & 0.95              & 0.0052182077     \\\\\n",
       "\t 2017              & 2013              & custo\\_marketing & greater           & 0.95              & 0.0123908866     \\\\\n",
       "\t 2018              & 2013              & custo\\_marketing & greater           & 0.95              & 0.0013553105     \\\\\n",
       "\t 2016              & 2014              & custo\\_marketing & greater           & 0.95              & 0.0099609836     \\\\\n",
       "\t 2017              & 2014              & custo\\_marketing & greater           & 0.95              & 0.0134367455     \\\\\n",
       "\t 2018              & 2014              & custo\\_marketing & greater           & 0.95              & 0.0009674119     \\\\\n",
       "\t 2016              & 2015              & custo\\_marketing & greater           & 0.95              & 0.0173440403     \\\\\n",
       "\t 2017              & 2015              & custo\\_marketing & greater           & 0.95              & 0.0185545955     \\\\\n",
       "\t 2018              & 2015              & custo\\_marketing & greater           & 0.95              & 0.0014853545     \\\\\n",
       "\t 2017              & 2016              & custo\\_marketing & greater           & 0.95              & 0.0484312701     \\\\\n",
       "\t 2018              & 2016              & custo\\_marketing & greater           & 0.95              & 0.0015929715     \\\\\n",
       "\t 2018              & 2017              & custo\\_marketing & greater           & 0.95              & 0.0057344201     \\\\\n",
       "\\end{tabular}\n"
      ],
      "text/markdown": [
       "\n",
       "| ano2 | ano1 | feature | H1 | NC | valor_p |\n",
       "|---|---|---|---|---|---|\n",
       "| 2016            | 2012            | custo_marketing | greater         | 0.95            | 0.0046586720    |\n",
       "| 2017            | 2012            | custo_marketing | greater         | 0.95            | 0.0126188670    |\n",
       "| 2018            | 2012            | custo_marketing | greater         | 0.95            | 0.0011833804    |\n",
       "| 2015            | 2013            | custo_marketing | greater         | 0.95            | 0.0140092840    |\n",
       "| 2016            | 2013            | custo_marketing | greater         | 0.95            | 0.0052182077    |\n",
       "| 2017            | 2013            | custo_marketing | greater         | 0.95            | 0.0123908866    |\n",
       "| 2018            | 2013            | custo_marketing | greater         | 0.95            | 0.0013553105    |\n",
       "| 2016            | 2014            | custo_marketing | greater         | 0.95            | 0.0099609836    |\n",
       "| 2017            | 2014            | custo_marketing | greater         | 0.95            | 0.0134367455    |\n",
       "| 2018            | 2014            | custo_marketing | greater         | 0.95            | 0.0009674119    |\n",
       "| 2016            | 2015            | custo_marketing | greater         | 0.95            | 0.0173440403    |\n",
       "| 2017            | 2015            | custo_marketing | greater         | 0.95            | 0.0185545955    |\n",
       "| 2018            | 2015            | custo_marketing | greater         | 0.95            | 0.0014853545    |\n",
       "| 2017            | 2016            | custo_marketing | greater         | 0.95            | 0.0484312701    |\n",
       "| 2018            | 2016            | custo_marketing | greater         | 0.95            | 0.0015929715    |\n",
       "| 2018            | 2017            | custo_marketing | greater         | 0.95            | 0.0057344201    |\n",
       "\n"
      ],
      "text/plain": [
       "   ano2 ano1 feature         H1      NC   valor_p     \n",
       "1  2016 2012 custo_marketing greater 0.95 0.0046586720\n",
       "2  2017 2012 custo_marketing greater 0.95 0.0126188670\n",
       "3  2018 2012 custo_marketing greater 0.95 0.0011833804\n",
       "4  2015 2013 custo_marketing greater 0.95 0.0140092840\n",
       "5  2016 2013 custo_marketing greater 0.95 0.0052182077\n",
       "6  2017 2013 custo_marketing greater 0.95 0.0123908866\n",
       "7  2018 2013 custo_marketing greater 0.95 0.0013553105\n",
       "8  2016 2014 custo_marketing greater 0.95 0.0099609836\n",
       "9  2017 2014 custo_marketing greater 0.95 0.0134367455\n",
       "10 2018 2014 custo_marketing greater 0.95 0.0009674119\n",
       "11 2016 2015 custo_marketing greater 0.95 0.0173440403\n",
       "12 2017 2015 custo_marketing greater 0.95 0.0185545955\n",
       "13 2018 2015 custo_marketing greater 0.95 0.0014853545\n",
       "14 2017 2016 custo_marketing greater 0.95 0.0484312701\n",
       "15 2018 2016 custo_marketing greater 0.95 0.0015929715\n",
       "16 2018 2017 custo_marketing greater 0.95 0.0057344201"
      ]
     },
     "metadata": {},
     "output_type": "display_data"
    },
    {
     "data": {
      "text/html": [
       "'Resultados para Valor-p &gt;= 0.05'"
      ],
      "text/latex": [
       "'Resultados para Valor-p >= 0.05'"
      ],
      "text/markdown": [
       "'Resultados para Valor-p &gt;= 0.05'"
      ],
      "text/plain": [
       "[1] \"Resultados para Valor-p >= 0.05\""
      ]
     },
     "metadata": {},
     "output_type": "display_data"
    },
    {
     "data": {
      "text/html": [
       "<table>\n",
       "<thead><tr><th scope=col>ano2</th><th scope=col>ano1</th><th scope=col>feature</th><th scope=col>H1</th><th scope=col>NC</th><th scope=col>valor_p</th></tr></thead>\n",
       "<tbody>\n",
       "\t<tr><td>2013           </td><td>2012           </td><td>custo_marketing</td><td>greater        </td><td>0.95           </td><td>0.70671107     </td></tr>\n",
       "\t<tr><td>2014           </td><td>2012           </td><td>custo_marketing</td><td>greater        </td><td>0.95           </td><td>0.29359912     </td></tr>\n",
       "\t<tr><td>2015           </td><td>2012           </td><td>custo_marketing</td><td>greater        </td><td>0.95           </td><td>0.05475649     </td></tr>\n",
       "\t<tr><td>2014           </td><td>2013           </td><td>custo_marketing</td><td>greater        </td><td>0.95           </td><td>0.17529588     </td></tr>\n",
       "\t<tr><td>2015           </td><td>2014           </td><td>custo_marketing</td><td>greater        </td><td>0.95           </td><td>0.22183273     </td></tr>\n",
       "</tbody>\n",
       "</table>\n"
      ],
      "text/latex": [
       "\\begin{tabular}{r|llllll}\n",
       " ano2 & ano1 & feature & H1 & NC & valor\\_p\\\\\n",
       "\\hline\n",
       "\t 2013              & 2012              & custo\\_marketing & greater           & 0.95              & 0.70671107       \\\\\n",
       "\t 2014              & 2012              & custo\\_marketing & greater           & 0.95              & 0.29359912       \\\\\n",
       "\t 2015              & 2012              & custo\\_marketing & greater           & 0.95              & 0.05475649       \\\\\n",
       "\t 2014              & 2013              & custo\\_marketing & greater           & 0.95              & 0.17529588       \\\\\n",
       "\t 2015              & 2014              & custo\\_marketing & greater           & 0.95              & 0.22183273       \\\\\n",
       "\\end{tabular}\n"
      ],
      "text/markdown": [
       "\n",
       "| ano2 | ano1 | feature | H1 | NC | valor_p |\n",
       "|---|---|---|---|---|---|\n",
       "| 2013            | 2012            | custo_marketing | greater         | 0.95            | 0.70671107      |\n",
       "| 2014            | 2012            | custo_marketing | greater         | 0.95            | 0.29359912      |\n",
       "| 2015            | 2012            | custo_marketing | greater         | 0.95            | 0.05475649      |\n",
       "| 2014            | 2013            | custo_marketing | greater         | 0.95            | 0.17529588      |\n",
       "| 2015            | 2014            | custo_marketing | greater         | 0.95            | 0.22183273      |\n",
       "\n"
      ],
      "text/plain": [
       "  ano2 ano1 feature         H1      NC   valor_p   \n",
       "1 2013 2012 custo_marketing greater 0.95 0.70671107\n",
       "2 2014 2012 custo_marketing greater 0.95 0.29359912\n",
       "3 2015 2012 custo_marketing greater 0.95 0.05475649\n",
       "4 2014 2013 custo_marketing greater 0.95 0.17529588\n",
       "5 2015 2014 custo_marketing greater 0.95 0.22183273"
      ]
     },
     "metadata": {},
     "output_type": "display_data"
    }
   ],
   "source": [
    "# Teste-t Unicaudal Direito:\n",
    "# Definindo um vetor para o primeiro ano do teste:\n",
    "ano1 = c('2012', '2012', '2012','2012', '2012', '2012', '2013', '2013', '2013', '2013', '2013',\n",
    "         '2014', '2014', '2014', '2014', '2015', '2015', '2015', '2016', '2016', '2017')\n",
    "\n",
    "# Definindo um vetor para o segundo ano do teste:\n",
    "ano2 = c('2013', '2014', '2015','2016', '2017', '2018', '2014', '2015', '2016', '2017', '2018',\n",
    "         '2015', '2016', '2017', '2018', '2016', '2017', '2018', '2017', '2018', '2018')\n",
    "\n",
    "# Realizando o teste-t unicaudal direito:\n",
    "df_teste_t = teste_t(ano1, ano2, feature = \"custo_marketing\", H1 = \"greater\", NC = 0.95)\n",
    "\n",
    "# Filtrando os resultados onde \"valor_p < 0.05\":\n",
    "sprintf(\"Resultados para Valor-p < %.2f\", 1 - 0.95)\n",
    "filter(df_teste_t, valor_p < 0.05)\n",
    "\n",
    "# Filtrando os resultados onde \"valor_p >= 0.05\":\n",
    "sprintf(\"Resultados para Valor-p >= %.2f\", 1 - 0.95)\n",
    "filter(df_teste_t, valor_p >= 0.05)"
   ]
  },
  {
   "cell_type": "markdown",
   "metadata": {},
   "source": [
    "**Conclusão:**\n",
    "\n",
    "Se **`valor-p < 0.05`**: rejeitamos a hipótese nula (**H0**), caso contrário falhamos em rejeitar a a hipótese nula.\n",
    "\n",
    "Como o **valor-p é menor que 0.05** na maioria dos testes (16), podemos rejeitar a hipótese nula do `teste-t unicaudal direito`. Portanto, podemos concluir, por exemplo, que o ano de **2016** possui um custo de marketing (em média, por trimestre) MAIOR que o do ano de **2012**. Esta mesma explicação é válida para os demais pares de anos onde tivemos como resultado o **`valor-p < 0.05`**.\n",
    "\n",
    "Portanto, concluimos que **o *custo de marketing (em média, por trimestre)* aumentou significativamente a partir de 2015!**"
   ]
  },
  {
   "cell_type": "markdown",
   "metadata": {},
   "source": [
    "### O quanto que os *custos de marketing* aumentaram (em média, por trimestre) entre os anos de `2012 e 2018`?"
   ]
  },
  {
   "cell_type": "markdown",
   "metadata": {},
   "source": [
    "Primeiro, vamos calcular as médias por trimestre do *custo de marketing* em cada um dos anos:"
   ]
  },
  {
   "cell_type": "code",
   "execution_count": 50,
   "metadata": {
    "scrolled": true
   },
   "outputs": [
    {
     "data": {
      "text/html": [
       "<table>\n",
       "<thead><tr><th scope=col>Ano</th><th scope=col>Media_Custo_Marketing</th></tr></thead>\n",
       "<tbody>\n",
       "\t<tr><td>2012     </td><td> 69018.00</td></tr>\n",
       "\t<tr><td>2013     </td><td> 66308.00</td></tr>\n",
       "\t<tr><td>2014     </td><td> 73363.25</td></tr>\n",
       "\t<tr><td>2015     </td><td> 79411.50</td></tr>\n",
       "\t<tr><td>2016     </td><td>103232.00</td></tr>\n",
       "\t<tr><td>2017     </td><td>150936.50</td></tr>\n",
       "\t<tr><td>2018     </td><td>256337.75</td></tr>\n",
       "</tbody>\n",
       "</table>\n"
      ],
      "text/latex": [
       "\\begin{tabular}{r|ll}\n",
       " Ano & Media\\_Custo\\_Marketing\\\\\n",
       "\\hline\n",
       "\t 2012      &  69018.00\\\\\n",
       "\t 2013      &  66308.00\\\\\n",
       "\t 2014      &  73363.25\\\\\n",
       "\t 2015      &  79411.50\\\\\n",
       "\t 2016      & 103232.00\\\\\n",
       "\t 2017      & 150936.50\\\\\n",
       "\t 2018      & 256337.75\\\\\n",
       "\\end{tabular}\n"
      ],
      "text/markdown": [
       "\n",
       "| Ano | Media_Custo_Marketing |\n",
       "|---|---|\n",
       "| 2012      |  69018.00 |\n",
       "| 2013      |  66308.00 |\n",
       "| 2014      |  73363.25 |\n",
       "| 2015      |  79411.50 |\n",
       "| 2016      | 103232.00 |\n",
       "| 2017      | 150936.50 |\n",
       "| 2018      | 256337.75 |\n",
       "\n"
      ],
      "text/plain": [
       "  Ano  Media_Custo_Marketing\n",
       "1 2012  69018.00            \n",
       "2 2013  66308.00            \n",
       "3 2014  73363.25            \n",
       "4 2015  79411.50            \n",
       "5 2016 103232.00            \n",
       "6 2017 150936.50            \n",
       "7 2018 256337.75            "
      ]
     },
     "metadata": {},
     "output_type": "display_data"
    }
   ],
   "source": [
    "# Calculando as médias do custo de marketing por ano:\n",
    "media_custo_mkt = aggregate(df_data[, \"custo_marketing\"], list(df_data$ano_cat), mean)\n",
    "colnames(media_custo_mkt) <- c(\"Ano\", \"Media_Custo_Marketing\")\n",
    "media_custo_mkt"
   ]
  },
  {
   "cell_type": "markdown",
   "metadata": {},
   "source": [
    "Em seguida, vamos criar um data frame com os cálculos necessários para identificarmos o *aumento* do custo de marketing (em média, por trimestre) entre os anos de 2012 e 2018:"
   ]
  },
  {
   "cell_type": "code",
   "execution_count": 51,
   "metadata": {
    "scrolled": true
   },
   "outputs": [
    {
     "data": {
      "text/html": [
       "<table>\n",
       "<thead><tr><th scope=col>ano2</th><th scope=col>ano1</th><th scope=col>valor_p</th><th scope=col>media_ano2</th><th scope=col>media_ano1</th><th scope=col>aumento</th></tr></thead>\n",
       "<tbody>\n",
       "\t<tr><td>2018        </td><td>2013        </td><td>0.0013553105</td><td>256337.8    </td><td> 66308.00   </td><td>2.8658646   </td></tr>\n",
       "\t<tr><td>2018        </td><td>2012        </td><td>0.0011833804</td><td>256337.8    </td><td> 69018.00   </td><td>2.7140710   </td></tr>\n",
       "\t<tr><td>2018        </td><td>2014        </td><td>0.0009674119</td><td>256337.8    </td><td> 73363.25   </td><td>2.4940893   </td></tr>\n",
       "\t<tr><td>2018        </td><td>2015        </td><td>0.0014853545</td><td>256337.8    </td><td> 79411.50   </td><td>2.2279676   </td></tr>\n",
       "\t<tr><td>2018        </td><td>2016        </td><td>0.0015929715</td><td>256337.8    </td><td>103232.00   </td><td>1.4831230   </td></tr>\n",
       "\t<tr><td>2017        </td><td>2013        </td><td>0.0123908866</td><td>150936.5    </td><td> 66308.00   </td><td>1.2762940   </td></tr>\n",
       "\t<tr><td>2017        </td><td>2012        </td><td>0.0126188670</td><td>150936.5    </td><td> 69018.00   </td><td>1.1869150   </td></tr>\n",
       "\t<tr><td>2017        </td><td>2014        </td><td>0.0134367455</td><td>150936.5    </td><td> 73363.25   </td><td>1.0573857   </td></tr>\n",
       "\t<tr><td>2017        </td><td>2015        </td><td>0.0185545955</td><td>150936.5    </td><td> 79411.50   </td><td>0.9006882   </td></tr>\n",
       "\t<tr><td>2018        </td><td>2017        </td><td>0.0057344201</td><td>256337.8    </td><td>150936.50   </td><td>0.6983152   </td></tr>\n",
       "\t<tr><td>2016        </td><td>2013        </td><td>0.0052182077</td><td>103232.0    </td><td> 66308.00   </td><td>0.5568559   </td></tr>\n",
       "\t<tr><td>2016        </td><td>2012        </td><td>0.0046586720</td><td>103232.0    </td><td> 69018.00   </td><td>0.4957258   </td></tr>\n",
       "\t<tr><td>2017        </td><td>2016        </td><td>0.0484312701</td><td>150936.5    </td><td>103232.00   </td><td>0.4621096   </td></tr>\n",
       "\t<tr><td>2016        </td><td>2014        </td><td>0.0099609836</td><td>103232.0    </td><td> 73363.25   </td><td>0.4071350   </td></tr>\n",
       "\t<tr><td>2016        </td><td>2015        </td><td>0.0173440403</td><td>103232.0    </td><td> 79411.50   </td><td>0.2999629   </td></tr>\n",
       "\t<tr><td>2015        </td><td>2013        </td><td>0.0140092840</td><td> 79411.5    </td><td> 66308.00   </td><td>0.1976157   </td></tr>\n",
       "</tbody>\n",
       "</table>\n"
      ],
      "text/latex": [
       "\\begin{tabular}{r|llllll}\n",
       " ano2 & ano1 & valor\\_p & media\\_ano2 & media\\_ano1 & aumento\\\\\n",
       "\\hline\n",
       "\t 2018         & 2013         & 0.0013553105 & 256337.8     &  66308.00    & 2.8658646   \\\\\n",
       "\t 2018         & 2012         & 0.0011833804 & 256337.8     &  69018.00    & 2.7140710   \\\\\n",
       "\t 2018         & 2014         & 0.0009674119 & 256337.8     &  73363.25    & 2.4940893   \\\\\n",
       "\t 2018         & 2015         & 0.0014853545 & 256337.8     &  79411.50    & 2.2279676   \\\\\n",
       "\t 2018         & 2016         & 0.0015929715 & 256337.8     & 103232.00    & 1.4831230   \\\\\n",
       "\t 2017         & 2013         & 0.0123908866 & 150936.5     &  66308.00    & 1.2762940   \\\\\n",
       "\t 2017         & 2012         & 0.0126188670 & 150936.5     &  69018.00    & 1.1869150   \\\\\n",
       "\t 2017         & 2014         & 0.0134367455 & 150936.5     &  73363.25    & 1.0573857   \\\\\n",
       "\t 2017         & 2015         & 0.0185545955 & 150936.5     &  79411.50    & 0.9006882   \\\\\n",
       "\t 2018         & 2017         & 0.0057344201 & 256337.8     & 150936.50    & 0.6983152   \\\\\n",
       "\t 2016         & 2013         & 0.0052182077 & 103232.0     &  66308.00    & 0.5568559   \\\\\n",
       "\t 2016         & 2012         & 0.0046586720 & 103232.0     &  69018.00    & 0.4957258   \\\\\n",
       "\t 2017         & 2016         & 0.0484312701 & 150936.5     & 103232.00    & 0.4621096   \\\\\n",
       "\t 2016         & 2014         & 0.0099609836 & 103232.0     &  73363.25    & 0.4071350   \\\\\n",
       "\t 2016         & 2015         & 0.0173440403 & 103232.0     &  79411.50    & 0.2999629   \\\\\n",
       "\t 2015         & 2013         & 0.0140092840 &  79411.5     &  66308.00    & 0.1976157   \\\\\n",
       "\\end{tabular}\n"
      ],
      "text/markdown": [
       "\n",
       "| ano2 | ano1 | valor_p | media_ano2 | media_ano1 | aumento |\n",
       "|---|---|---|---|---|---|\n",
       "| 2018         | 2013         | 0.0013553105 | 256337.8     |  66308.00    | 2.8658646    |\n",
       "| 2018         | 2012         | 0.0011833804 | 256337.8     |  69018.00    | 2.7140710    |\n",
       "| 2018         | 2014         | 0.0009674119 | 256337.8     |  73363.25    | 2.4940893    |\n",
       "| 2018         | 2015         | 0.0014853545 | 256337.8     |  79411.50    | 2.2279676    |\n",
       "| 2018         | 2016         | 0.0015929715 | 256337.8     | 103232.00    | 1.4831230    |\n",
       "| 2017         | 2013         | 0.0123908866 | 150936.5     |  66308.00    | 1.2762940    |\n",
       "| 2017         | 2012         | 0.0126188670 | 150936.5     |  69018.00    | 1.1869150    |\n",
       "| 2017         | 2014         | 0.0134367455 | 150936.5     |  73363.25    | 1.0573857    |\n",
       "| 2017         | 2015         | 0.0185545955 | 150936.5     |  79411.50    | 0.9006882    |\n",
       "| 2018         | 2017         | 0.0057344201 | 256337.8     | 150936.50    | 0.6983152    |\n",
       "| 2016         | 2013         | 0.0052182077 | 103232.0     |  66308.00    | 0.5568559    |\n",
       "| 2016         | 2012         | 0.0046586720 | 103232.0     |  69018.00    | 0.4957258    |\n",
       "| 2017         | 2016         | 0.0484312701 | 150936.5     | 103232.00    | 0.4621096    |\n",
       "| 2016         | 2014         | 0.0099609836 | 103232.0     |  73363.25    | 0.4071350    |\n",
       "| 2016         | 2015         | 0.0173440403 | 103232.0     |  79411.50    | 0.2999629    |\n",
       "| 2015         | 2013         | 0.0140092840 |  79411.5     |  66308.00    | 0.1976157    |\n",
       "\n"
      ],
      "text/plain": [
       "   ano2 ano1 valor_p      media_ano2 media_ano1 aumento  \n",
       "1  2018 2013 0.0013553105 256337.8    66308.00  2.8658646\n",
       "2  2018 2012 0.0011833804 256337.8    69018.00  2.7140710\n",
       "3  2018 2014 0.0009674119 256337.8    73363.25  2.4940893\n",
       "4  2018 2015 0.0014853545 256337.8    79411.50  2.2279676\n",
       "5  2018 2016 0.0015929715 256337.8   103232.00  1.4831230\n",
       "6  2017 2013 0.0123908866 150936.5    66308.00  1.2762940\n",
       "7  2017 2012 0.0126188670 150936.5    69018.00  1.1869150\n",
       "8  2017 2014 0.0134367455 150936.5    73363.25  1.0573857\n",
       "9  2017 2015 0.0185545955 150936.5    79411.50  0.9006882\n",
       "10 2018 2017 0.0057344201 256337.8   150936.50  0.6983152\n",
       "11 2016 2013 0.0052182077 103232.0    66308.00  0.5568559\n",
       "12 2016 2012 0.0046586720 103232.0    69018.00  0.4957258\n",
       "13 2017 2016 0.0484312701 150936.5   103232.00  0.4621096\n",
       "14 2016 2014 0.0099609836 103232.0    73363.25  0.4071350\n",
       "15 2016 2015 0.0173440403 103232.0    79411.50  0.2999629\n",
       "16 2015 2013 0.0140092840  79411.5    66308.00  0.1976157"
      ]
     },
     "metadata": {},
     "output_type": "display_data"
    }
   ],
   "source": [
    "# Selecionando os pares de anos que no teste-t apresentaram \"valor-p < 0.05\":\n",
    "df_volume = select(filter(df_teste_t, valor_p < 0.05), ano2, ano1, valor_p)\n",
    "# Criando variáveis para os cálculos:\n",
    "df_volume$media_ano2 = 0\n",
    "df_volume$media_ano1 = 0\n",
    "df_volume$aumento = 0\n",
    "\n",
    "# Realizando os cálculos:\n",
    "for (i in 1:dim(df_volume)[1]){\n",
    "    # Obtendo a média para o \"ano1\" e \"ano2\":\n",
    "    df_volume[i, \"media_ano1\"] = filter(media_custo_mkt, Ano == df_volume[i, \"ano1\"])$Media_Custo_Marketing\n",
    "    df_volume[i, \"media_ano2\"] = filter(media_custo_mkt, Ano == df_volume[i, \"ano2\"])$Media_Custo_Marketing\n",
    "    \n",
    "    # Calculando o \"aumento\" do custo médio de marketing:\n",
    "    df_volume[i, \"aumento\"] = (df_volume[i, \"media_ano2\"] - df_volume[i, \"media_ano1\"])/df_volume[i, \"media_ano1\"]\n",
    "}\n",
    "\n",
    "# Classificando o resultado em ordem \"decrescente\":\n",
    "arrange(df_volume, desc(aumento))"
   ]
  },
  {
   "cell_type": "markdown",
   "metadata": {},
   "source": [
    "**Conclusão:** o *`custo de marketing`* *aumentou (em média, por trimestre)* **`~271.4%`** em **7 anos**, ou seja, de **`~69 milhões`** em **`2012`** para **`~256 milhões`** em **`2018`**."
   ]
  },
  {
   "cell_type": "markdown",
   "metadata": {},
   "source": [
    "### Vamos agora, verificar se os *custos de marketing* diminuíram com o passar dos anos:"
   ]
  },
  {
   "cell_type": "markdown",
   "metadata": {},
   "source": [
    "Então, realizaremos um `teste-t unicaudal esquerdo` para verificarmos esta condição.\n",
    "\n",
    "Definindo as duas hipóteses:\n",
    "\n",
    ">1. **`H0`:** CMM2 - CMM1 = 0, ou seja, o custo médio de marketing (por trimestre) não difere entre cada um dos anos \"1\" e \"2\";\n",
    ">2. **`H1`:** CMM2 - CMM1 < 0, ou seja, o custo médio de marketing (por trimestre) no ano \"2\" é MENOR que o custo médio de marketing (por trimestre) no ano \"1\".\n",
    "\n",
    "Onde:\n",
    "\n",
    ">* **`CMM1`:** custo médio de marketing (por trimestre) para o ano ***`1`***;\n",
    ">* **`CMM2`:** custo médio de marketing (por trimestre) para o ano ***`2`***."
   ]
  },
  {
   "cell_type": "code",
   "execution_count": 52,
   "metadata": {
    "scrolled": true
   },
   "outputs": [
    {
     "data": {
      "text/html": [
       "'Resultados para Valor-p &lt; 0.05'"
      ],
      "text/latex": [
       "'Resultados para Valor-p < 0.05'"
      ],
      "text/markdown": [
       "'Resultados para Valor-p &lt; 0.05'"
      ],
      "text/plain": [
       "[1] \"Resultados para Valor-p < 0.05\""
      ]
     },
     "metadata": {},
     "output_type": "display_data"
    },
    {
     "data": {
      "text/html": [
       "<table>\n",
       "<thead><tr><th scope=col>ano2</th><th scope=col>ano1</th><th scope=col>feature</th><th scope=col>H1</th><th scope=col>NC</th><th scope=col>valor_p</th></tr></thead>\n",
       "<tbody>\n",
       "</tbody>\n",
       "</table>\n"
      ],
      "text/latex": [
       "\\begin{tabular}{r|llllll}\n",
       " ano2 & ano1 & feature & H1 & NC & valor\\_p\\\\\n",
       "\\hline\n",
       "\\end{tabular}\n"
      ],
      "text/markdown": [
       "\n",
       "| ano2 | ano1 | feature | H1 | NC | valor_p |\n",
       "|---|---|---|---|---|---|\n",
       "\n"
      ],
      "text/plain": [
       "     ano2 ano1 feature H1 NC valor_p"
      ]
     },
     "metadata": {},
     "output_type": "display_data"
    },
    {
     "data": {
      "text/html": [
       "'Resultados para Valor-p &gt;= 0.05'"
      ],
      "text/latex": [
       "'Resultados para Valor-p >= 0.05'"
      ],
      "text/markdown": [
       "'Resultados para Valor-p &gt;= 0.05'"
      ],
      "text/plain": [
       "[1] \"Resultados para Valor-p >= 0.05\""
      ]
     },
     "metadata": {},
     "output_type": "display_data"
    },
    {
     "data": {
      "text/html": [
       "<table>\n",
       "<thead><tr><th scope=col>ano2</th><th scope=col>ano1</th><th scope=col>feature</th><th scope=col>H1</th><th scope=col>NC</th><th scope=col>valor_p</th></tr></thead>\n",
       "<tbody>\n",
       "\t<tr><td>2013           </td><td>2012           </td><td>custo_marketing</td><td>less           </td><td>0.95           </td><td>0.2932889      </td></tr>\n",
       "\t<tr><td>2014           </td><td>2012           </td><td>custo_marketing</td><td>less           </td><td>0.95           </td><td>0.7064009      </td></tr>\n",
       "\t<tr><td>2015           </td><td>2012           </td><td>custo_marketing</td><td>less           </td><td>0.95           </td><td>0.9452435      </td></tr>\n",
       "\t<tr><td>2016           </td><td>2012           </td><td>custo_marketing</td><td>less           </td><td>0.95           </td><td>0.9953413      </td></tr>\n",
       "\t<tr><td>2017           </td><td>2012           </td><td>custo_marketing</td><td>less           </td><td>0.95           </td><td>0.9873811      </td></tr>\n",
       "\t<tr><td>2018           </td><td>2012           </td><td>custo_marketing</td><td>less           </td><td>0.95           </td><td>0.9988166      </td></tr>\n",
       "\t<tr><td>2014           </td><td>2013           </td><td>custo_marketing</td><td>less           </td><td>0.95           </td><td>0.8247041      </td></tr>\n",
       "\t<tr><td>2015           </td><td>2013           </td><td>custo_marketing</td><td>less           </td><td>0.95           </td><td>0.9859907      </td></tr>\n",
       "\t<tr><td>2016           </td><td>2013           </td><td>custo_marketing</td><td>less           </td><td>0.95           </td><td>0.9947818      </td></tr>\n",
       "\t<tr><td>2017           </td><td>2013           </td><td>custo_marketing</td><td>less           </td><td>0.95           </td><td>0.9876091      </td></tr>\n",
       "\t<tr><td>2018           </td><td>2013           </td><td>custo_marketing</td><td>less           </td><td>0.95           </td><td>0.9986447      </td></tr>\n",
       "\t<tr><td>2015           </td><td>2014           </td><td>custo_marketing</td><td>less           </td><td>0.95           </td><td>0.7781673      </td></tr>\n",
       "\t<tr><td>2016           </td><td>2014           </td><td>custo_marketing</td><td>less           </td><td>0.95           </td><td>0.9900390      </td></tr>\n",
       "\t<tr><td>2017           </td><td>2014           </td><td>custo_marketing</td><td>less           </td><td>0.95           </td><td>0.9865633      </td></tr>\n",
       "\t<tr><td>2018           </td><td>2014           </td><td>custo_marketing</td><td>less           </td><td>0.95           </td><td>0.9990326      </td></tr>\n",
       "\t<tr><td>2016           </td><td>2015           </td><td>custo_marketing</td><td>less           </td><td>0.95           </td><td>0.9826560      </td></tr>\n",
       "\t<tr><td>2017           </td><td>2015           </td><td>custo_marketing</td><td>less           </td><td>0.95           </td><td>0.9814454      </td></tr>\n",
       "\t<tr><td>2018           </td><td>2015           </td><td>custo_marketing</td><td>less           </td><td>0.95           </td><td>0.9985146      </td></tr>\n",
       "\t<tr><td>2017           </td><td>2016           </td><td>custo_marketing</td><td>less           </td><td>0.95           </td><td>0.9515687      </td></tr>\n",
       "\t<tr><td>2018           </td><td>2016           </td><td>custo_marketing</td><td>less           </td><td>0.95           </td><td>0.9984070      </td></tr>\n",
       "\t<tr><td>2018           </td><td>2017           </td><td>custo_marketing</td><td>less           </td><td>0.95           </td><td>0.9942656      </td></tr>\n",
       "</tbody>\n",
       "</table>\n"
      ],
      "text/latex": [
       "\\begin{tabular}{r|llllll}\n",
       " ano2 & ano1 & feature & H1 & NC & valor\\_p\\\\\n",
       "\\hline\n",
       "\t 2013              & 2012              & custo\\_marketing & less              & 0.95              & 0.2932889        \\\\\n",
       "\t 2014              & 2012              & custo\\_marketing & less              & 0.95              & 0.7064009        \\\\\n",
       "\t 2015              & 2012              & custo\\_marketing & less              & 0.95              & 0.9452435        \\\\\n",
       "\t 2016              & 2012              & custo\\_marketing & less              & 0.95              & 0.9953413        \\\\\n",
       "\t 2017              & 2012              & custo\\_marketing & less              & 0.95              & 0.9873811        \\\\\n",
       "\t 2018              & 2012              & custo\\_marketing & less              & 0.95              & 0.9988166        \\\\\n",
       "\t 2014              & 2013              & custo\\_marketing & less              & 0.95              & 0.8247041        \\\\\n",
       "\t 2015              & 2013              & custo\\_marketing & less              & 0.95              & 0.9859907        \\\\\n",
       "\t 2016              & 2013              & custo\\_marketing & less              & 0.95              & 0.9947818        \\\\\n",
       "\t 2017              & 2013              & custo\\_marketing & less              & 0.95              & 0.9876091        \\\\\n",
       "\t 2018              & 2013              & custo\\_marketing & less              & 0.95              & 0.9986447        \\\\\n",
       "\t 2015              & 2014              & custo\\_marketing & less              & 0.95              & 0.7781673        \\\\\n",
       "\t 2016              & 2014              & custo\\_marketing & less              & 0.95              & 0.9900390        \\\\\n",
       "\t 2017              & 2014              & custo\\_marketing & less              & 0.95              & 0.9865633        \\\\\n",
       "\t 2018              & 2014              & custo\\_marketing & less              & 0.95              & 0.9990326        \\\\\n",
       "\t 2016              & 2015              & custo\\_marketing & less              & 0.95              & 0.9826560        \\\\\n",
       "\t 2017              & 2015              & custo\\_marketing & less              & 0.95              & 0.9814454        \\\\\n",
       "\t 2018              & 2015              & custo\\_marketing & less              & 0.95              & 0.9985146        \\\\\n",
       "\t 2017              & 2016              & custo\\_marketing & less              & 0.95              & 0.9515687        \\\\\n",
       "\t 2018              & 2016              & custo\\_marketing & less              & 0.95              & 0.9984070        \\\\\n",
       "\t 2018              & 2017              & custo\\_marketing & less              & 0.95              & 0.9942656        \\\\\n",
       "\\end{tabular}\n"
      ],
      "text/markdown": [
       "\n",
       "| ano2 | ano1 | feature | H1 | NC | valor_p |\n",
       "|---|---|---|---|---|---|\n",
       "| 2013            | 2012            | custo_marketing | less            | 0.95            | 0.2932889       |\n",
       "| 2014            | 2012            | custo_marketing | less            | 0.95            | 0.7064009       |\n",
       "| 2015            | 2012            | custo_marketing | less            | 0.95            | 0.9452435       |\n",
       "| 2016            | 2012            | custo_marketing | less            | 0.95            | 0.9953413       |\n",
       "| 2017            | 2012            | custo_marketing | less            | 0.95            | 0.9873811       |\n",
       "| 2018            | 2012            | custo_marketing | less            | 0.95            | 0.9988166       |\n",
       "| 2014            | 2013            | custo_marketing | less            | 0.95            | 0.8247041       |\n",
       "| 2015            | 2013            | custo_marketing | less            | 0.95            | 0.9859907       |\n",
       "| 2016            | 2013            | custo_marketing | less            | 0.95            | 0.9947818       |\n",
       "| 2017            | 2013            | custo_marketing | less            | 0.95            | 0.9876091       |\n",
       "| 2018            | 2013            | custo_marketing | less            | 0.95            | 0.9986447       |\n",
       "| 2015            | 2014            | custo_marketing | less            | 0.95            | 0.7781673       |\n",
       "| 2016            | 2014            | custo_marketing | less            | 0.95            | 0.9900390       |\n",
       "| 2017            | 2014            | custo_marketing | less            | 0.95            | 0.9865633       |\n",
       "| 2018            | 2014            | custo_marketing | less            | 0.95            | 0.9990326       |\n",
       "| 2016            | 2015            | custo_marketing | less            | 0.95            | 0.9826560       |\n",
       "| 2017            | 2015            | custo_marketing | less            | 0.95            | 0.9814454       |\n",
       "| 2018            | 2015            | custo_marketing | less            | 0.95            | 0.9985146       |\n",
       "| 2017            | 2016            | custo_marketing | less            | 0.95            | 0.9515687       |\n",
       "| 2018            | 2016            | custo_marketing | less            | 0.95            | 0.9984070       |\n",
       "| 2018            | 2017            | custo_marketing | less            | 0.95            | 0.9942656       |\n",
       "\n"
      ],
      "text/plain": [
       "   ano2 ano1 feature         H1   NC   valor_p  \n",
       "1  2013 2012 custo_marketing less 0.95 0.2932889\n",
       "2  2014 2012 custo_marketing less 0.95 0.7064009\n",
       "3  2015 2012 custo_marketing less 0.95 0.9452435\n",
       "4  2016 2012 custo_marketing less 0.95 0.9953413\n",
       "5  2017 2012 custo_marketing less 0.95 0.9873811\n",
       "6  2018 2012 custo_marketing less 0.95 0.9988166\n",
       "7  2014 2013 custo_marketing less 0.95 0.8247041\n",
       "8  2015 2013 custo_marketing less 0.95 0.9859907\n",
       "9  2016 2013 custo_marketing less 0.95 0.9947818\n",
       "10 2017 2013 custo_marketing less 0.95 0.9876091\n",
       "11 2018 2013 custo_marketing less 0.95 0.9986447\n",
       "12 2015 2014 custo_marketing less 0.95 0.7781673\n",
       "13 2016 2014 custo_marketing less 0.95 0.9900390\n",
       "14 2017 2014 custo_marketing less 0.95 0.9865633\n",
       "15 2018 2014 custo_marketing less 0.95 0.9990326\n",
       "16 2016 2015 custo_marketing less 0.95 0.9826560\n",
       "17 2017 2015 custo_marketing less 0.95 0.9814454\n",
       "18 2018 2015 custo_marketing less 0.95 0.9985146\n",
       "19 2017 2016 custo_marketing less 0.95 0.9515687\n",
       "20 2018 2016 custo_marketing less 0.95 0.9984070\n",
       "21 2018 2017 custo_marketing less 0.95 0.9942656"
      ]
     },
     "metadata": {},
     "output_type": "display_data"
    }
   ],
   "source": [
    "# Teste-t Unicaudal Esquerdo:\n",
    "# Definindo um vetor para o primeiro ano do teste:\n",
    "ano1 = c('2012', '2012', '2012','2012', '2012', '2012', '2013', '2013', '2013', '2013', '2013',\n",
    "         '2014', '2014', '2014', '2014', '2015', '2015', '2015', '2016', '2016', '2017')\n",
    "\n",
    "# Definindo um vetor para o segundo ano do teste:\n",
    "ano2 = c('2013', '2014', '2015','2016', '2017', '2018', '2014', '2015', '2016', '2017', '2018',\n",
    "         '2015', '2016', '2017', '2018', '2016', '2017', '2018', '2017', '2018', '2018')\n",
    "\n",
    "# Realizando o teste-t unicaudal esquerdo:\n",
    "df_teste_t = teste_t(ano1, ano2, feature = \"custo_marketing\", H1 = \"less\", NC = 0.95)\n",
    "\n",
    "# Filtrando os resultados onde \"valor_p < 0.05\":\n",
    "sprintf(\"Resultados para Valor-p < %.2f\", 1 - 0.95)\n",
    "filter(df_teste_t, valor_p < 0.05)\n",
    "\n",
    "# Filtrando os resultados onde \"valor_p >= 0.05\":\n",
    "sprintf(\"Resultados para Valor-p >= %.2f\", 1 - 0.95)\n",
    "filter(df_teste_t, valor_p >= 0.05)"
   ]
  },
  {
   "cell_type": "markdown",
   "metadata": {},
   "source": [
    "**Conclusão:**\n",
    "\n",
    "Se **`valor-p < 0.05`**: rejeitamos a hipótese nula (**H0**), caso contrário falhamos em rejeitar a a hipótese nula.\n",
    "\n",
    "Como o **valor-p é maior ou igual que 0.05** em todos os testes, os dados falharam em fornecer evidências suficientes para rejeitarmos a hipótese nula do `teste-t unicaudal esquerdo`. Portanto, não podemos concluir, por exemplo, que o ano de **2013** possui um custo de marketing (em média, por trimestre) MENOR em relação ao ano de **2012**. Esta mesma explicação é válida para os demais pares de anos onde tivemos como resultado o **`valor-p >= 0.05`**.\n",
    "\n",
    "Portanto, concluimos que **os *custos de marketing (em média, por trimestre)* NÃO diminuíram significativamente com o passar dos anos!**"
   ]
  },
  {
   "cell_type": "markdown",
   "metadata": {},
   "source": [
    "### Visualizando os resultados:\n",
    "\n",
    "Agora, vamos apresentar os resultados utilizando um ***Boxplot*** e um ***Barplot***."
   ]
  },
  {
   "cell_type": "code",
   "execution_count": 53,
   "metadata": {},
   "outputs": [
    {
     "name": "stderr",
     "output_type": "stream",
     "text": [
      "Saving 6.67 x 6.67 in image\n"
     ]
    },
    {
     "data": {
      "image/png": "[encoded data removed]",
      "text/plain": [
       "plot without title"
      ]
     },
     "metadata": {},
     "output_type": "display_data"
    }
   ],
   "source": [
    "# Definindo as cores para cada ano:\n",
    "cores = c(\"lightblue\", \"lightpink\", \"lightcoral\", \"lightgoldenrod\", \"lightsalmon\", \"lightgray\", \"lightgreen\")\n",
    "# Boxplot:\n",
    "p1 = ggplot(df_data, aes(x = ano_cat, y = custo_marketing)) +\n",
    "        geom_boxplot(color = \"black\", fill = cores) +\n",
    "        # Definindo os labels e o título do gráfico:\n",
    "        labs(x = \"Ano\", y = \"Valor($) x 1k\", title = \"Custos de Marketing por Trimestre\") +\n",
    "        \n",
    "        # Definindo alguns elementos do \"título\" e dos eixos \"x\" e \"y\":\n",
    "        theme(\n",
    "            plot.title = element_text(color = \"Black\", size = 14, face = \"bold.italic\", hjust = 0.5),\n",
    "            axis.title.x = element_text(color = \"Black\", size = 12, face = \"bold\"),\n",
    "            axis.title.y = element_text(color = \"Black\", size = 12, face = \"bold\")\n",
    "        )\n",
    "\n",
    "print(p1)\n",
    "\n",
    "# Salvando o gráfico:\n",
    "ggsave(filename = \"boxplot_custo_marketing.pdf\", plot = p1, device = \"pdf\", path = PROJECT_IMG_PATH, dpi = 300)"
   ]
  },
  {
   "cell_type": "code",
   "execution_count": 54,
   "metadata": {},
   "outputs": [
    {
     "name": "stderr",
     "output_type": "stream",
     "text": [
      "Saving 6.67 x 6.67 in image\n"
     ]
    },
    {
     "data": {
      "image/png": "[encoded data removed]",
      "text/plain": [
       "plot without title"
      ]
     },
     "metadata": {},
     "output_type": "display_data"
    }
   ],
   "source": [
    "# Barplot:\n",
    "p1 <- ggplot(media_custo_mkt, aes(x = Ano, y = Media_Custo_Marketing)) +\n",
    "            geom_bar(stat = 'identity', col = \"black\", fill = cores) + theme(axis.text.x = element_text(angle = 0,\n",
    "                                                                                                        hjust = 0.5)) +\n",
    "            guides(fill = FALSE) + coord_cartesian(ylim = c(65000.0, 260000.0)) +\n",
    "            ggtitle(\"Custo de Marketing (Média) por Trimestre\") + xlab(\"Ano\") + ylab(\"Valor($) x 1k\") + \n",
    "            theme(\n",
    "                plot.title = element_text(color = \"Black\", size = 14, face = \"bold.italic\", hjust = 0.5),\n",
    "                axis.title.x = element_text(color = \"Black\", size = 12, face = \"bold\"),\n",
    "                axis.title.y = element_text(color = \"Black\", size = 12, face = \"bold\")\n",
    "            )\n",
    "\n",
    "print(p1)\n",
    "\n",
    "# Salvando o gráfico:\n",
    "ggsave(filename = \"barplot_media_custo_marketing.pdf\", plot = p1, device = \"pdf\", path = PROJECT_IMG_PATH, dpi = 300)"
   ]
  },
  {
   "cell_type": "markdown",
   "metadata": {},
   "source": [
    "**Análise:**\n",
    "\n",
    "* O gráfico acima (***Boxplot***) confirma todos os testes estatísticos realizados, ou seja, que **os *custos de marketing (em média, por trimestre)* aumentaram significativamente no período entre 2015 e 2018**;\n",
    "\n",
    "\n",
    "* O gráfico acima (***Barplot***) apresenta a **`média`** do **`Custo de Marketing`** (por **`Trimestre`**) em cada um dos anos."
   ]
  },
  {
   "cell_type": "markdown",
   "metadata": {},
   "source": [
    "### `2.11-` Considerando todo o período (`2012 a 2018`), as *margens de contribuição aumentaram e/ou diminuíram*?\n",
    "\n",
    "Para fazermos esta análise, vamos realizar um teste de **Análise de Variância (`ANOVA`)** para concluir se devemos rejeitar ou não a hipótese nula.\n",
    "\n",
    "Então, para realizarmos o *teste de hipóteses* definimos as duas hipóteses:\n",
    "\n",
    ">1. **`H0`:** MMC1 = MMC2 = MMC3 = MMC4 = MMC5 = MMC6 = MMC7, ou seja, a margem média de contribuição (por trimestre) não difere entre cada um dos anos, ou seja, em todo o período.\n",
    ">2. **`H1`:** a margem média de contribuição (por trimestre) é diferente em pelo menos um ano dentro do período.\n",
    "\n",
    "Onde:\n",
    "\n",
    ">* **`MMC1`:** margem média de contribuição (por trimestre) para o ano de ***`2012`***;\n",
    ">* **`MMC2`:** margem média de contribuição (por trimestre) para o ano de ***`2013`***;\n",
    ">* **`MMC3`:** margem média de contribuição (por trimestre) para o ano de ***`2014`***;\n",
    ">* **`MMC4`:** margem média de contribuição (por trimestre) para o ano de ***`2015`***;\n",
    ">* **`MMC5`:** margem média de contribuição (por trimestre) para o ano de ***`2016`***;\n",
    ">* **`MMC6`:** margem média de contribuição (por trimestre) para o ano de ***`2017`***;\n",
    ">* **`MMC7`:** margem média de contribuição (por trimestre) para o ano de ***`2018`***;"
   ]
  },
  {
   "cell_type": "code",
   "execution_count": 55,
   "metadata": {},
   "outputs": [
    {
     "data": {
      "text/html": [
       "<table>\n",
       "<thead><tr><th></th><th scope=col>Df</th><th scope=col>Sum Sq</th><th scope=col>Mean Sq</th><th scope=col>F value</th><th scope=col>Pr(&gt;F)</th></tr></thead>\n",
       "<tbody>\n",
       "\t<tr><th scope=row>ano_cat    </th><td> 6          </td><td>0.1194739   </td><td>0.019912310 </td><td>45.60568    </td><td>5.675141e-11</td></tr>\n",
       "\t<tr><th scope=row>Residuals  </th><td>21          </td><td>0.0091690   </td><td>0.000436619 </td><td>      NA    </td><td>          NA</td></tr>\n",
       "</tbody>\n",
       "</table>\n"
      ],
      "text/latex": [
       "\\begin{tabular}{r|lllll}\n",
       "  & Df & Sum Sq & Mean Sq & F value & Pr(>F)\\\\\n",
       "\\hline\n",
       "\tano\\_cat     &  6           & 0.1194739    & 0.019912310  & 45.60568     & 5.675141e-11\\\\\n",
       "\tResiduals   & 21           & 0.0091690    & 0.000436619  &       NA     &           NA\\\\\n",
       "\\end{tabular}\n"
      ],
      "text/markdown": [
       "\n",
       "| <!--/--> | Df | Sum Sq | Mean Sq | F value | Pr(>F) |\n",
       "|---|---|---|---|---|---|\n",
       "| ano_cat     |  6           | 0.1194739    | 0.019912310  | 45.60568     | 5.675141e-11 |\n",
       "| Residuals   | 21           | 0.0091690    | 0.000436619  |       NA     |           NA |\n",
       "\n"
      ],
      "text/plain": [
       "            Df Sum Sq    Mean Sq     F value  Pr(>F)      \n",
       "ano_cat      6 0.1194739 0.019912310 45.60568 5.675141e-11\n",
       "Residuals   21 0.0091690 0.000436619       NA           NA"
      ]
     },
     "metadata": {},
     "output_type": "display_data"
    },
    {
     "data": {
      "text/html": [
       "'valor-p do teste: 0.00000000005675140907'"
      ],
      "text/latex": [
       "'valor-p do teste: 0.00000000005675140907'"
      ],
      "text/markdown": [
       "'valor-p do teste: 0.00000000005675140907'"
      ],
      "text/plain": [
       "[1] \"valor-p do teste: 0.00000000005675140907\""
      ]
     },
     "metadata": {},
     "output_type": "display_data"
    }
   ],
   "source": [
    "# Aplicanto análise de variância (ANOVA):\n",
    "resultado_anova <- aov(formula = margem_de_contribuicao ~ ano_cat, data = df_data)\n",
    "\n",
    "# Resumo estatístico do teste ANOVA:\n",
    "anova_table = summary(resultado_anova)\n",
    "anova_table[[1]]\n",
    "\n",
    "# Obtendo o \"valor-p\" do teste:\n",
    "sprintf(\"valor-p do teste: %.20f\", anova_table[[1]]$Pr[[1]])"
   ]
  },
  {
   "cell_type": "markdown",
   "metadata": {},
   "source": [
    "**Conclusão:**\n",
    "\n",
    "Se **`valor-p < 0.05`**: rejeitamos a hipótese nula (**H0**), caso contrário falhamos em rejeitar a a hipótese nula.\n",
    "\n",
    "O **valor-p é menor que 0.05**. Portanto, os resultados não ocorreram por variação aleatória e a hipótese nula é rejeitada, ou seja, há um efeito significativo do ano (variável independente) na margem de contribuição (variável dependente) por trimestre."
   ]
  },
  {
   "cell_type": "markdown",
   "metadata": {},
   "source": [
    "### `Comparações Não Planejadas`:\n",
    "\n",
    "Estas comparações também são chamadas de *testes a posteriori*, *testes post hoc* ou simplesmente *comparações não planejadas*.\n",
    "\n",
    "Um dos membros mais conhecidos do mundo *post-hoc* é o **teste HSD** (*Honest Significant Difference* ou Diferença Honestamente Significativa). Esse teste realiza todas as comparações emparelháveis possíveis entre as médias amostrais."
   ]
  },
  {
   "cell_type": "code",
   "execution_count": 56,
   "metadata": {},
   "outputs": [
    {
     "data": {
      "text/plain": [
       "  Tukey multiple comparisons of means\n",
       "    95% family-wise confidence level\n",
       "\n",
       "Fit: aov(formula = margem_de_contribuicao ~ ano_cat, data = df_data)\n",
       "\n",
       "$ano_cat\n",
       "              diff          lwr       upr     p adj\n",
       "2013-2012  0.06650  0.018468699 0.1145313 0.0031541\n",
       "2014-2012  0.11325  0.065218699 0.1612813 0.0000030\n",
       "2015-2012  0.16975  0.121718699 0.2177813 0.0000000\n",
       "2016-2012  0.17725  0.129218699 0.2252813 0.0000000\n",
       "2017-2012  0.17975  0.131718699 0.2277813 0.0000000\n",
       "2018-2012  0.17950  0.131468699 0.2275313 0.0000000\n",
       "2014-2013  0.04675 -0.001281301 0.0947813 0.0597685\n",
       "2015-2013  0.10325  0.055218699 0.1512813 0.0000123\n",
       "2016-2013  0.11075  0.062718699 0.1587813 0.0000043\n",
       "2017-2013  0.11325  0.065218699 0.1612813 0.0000030\n",
       "2018-2013  0.11300  0.064968699 0.1610313 0.0000031\n",
       "2015-2014  0.05650  0.008468699 0.1045313 0.0145490\n",
       "2016-2014  0.06400  0.015968699 0.1120313 0.0046397\n",
       "2017-2014  0.06650  0.018468699 0.1145313 0.0031541\n",
       "2018-2014  0.06625  0.018218699 0.1142813 0.0032784\n",
       "2016-2015  0.00750 -0.040531301 0.0555313 0.9984555\n",
       "2017-2015  0.01000 -0.038031301 0.0580313 0.9925826\n",
       "2018-2015  0.00975 -0.038281301 0.0577813 0.9935156\n",
       "2017-2016  0.00250 -0.045531301 0.0505313 0.9999975\n",
       "2018-2016  0.00225 -0.045781301 0.0502813 0.9999986\n",
       "2018-2017 -0.00025 -0.048281301 0.0477813 1.0000000\n"
      ]
     },
     "metadata": {},
     "output_type": "display_data"
    }
   ],
   "source": [
    "# Realizando o teste de \"Tukey\":\n",
    "TukeyHSD(resultado_anova, ordered = FALSE, conf.level = 0.95, )"
   ]
  },
  {
   "cell_type": "markdown",
   "metadata": {},
   "source": [
    "**Conclusão:**\n",
    "\n",
    "* De acordo com os resultados do **`teste-HSD`**, **quatorze** pares de anos têm um **valor-p < 0.05**. Isso significa que **há diferença estatisticamente significativa** na margem de contribuição (por trimestre) entre cada um dos anos;\n",
    "\n",
    "\n",
    "* De acordo com os resultados do **`teste-HSD`**, **sete** pares de anos têm um **valor-p >= 0.05**. Isso significa que **não há diferença estatisticamente significativa** na margem de contribuição (por trimestre) entre cada um dos anos."
   ]
  },
  {
   "cell_type": "markdown",
   "metadata": {},
   "source": [
    "### Vamos agora, verificar se as *margens de contribuição* aumentaram com o passar dos anos:"
   ]
  },
  {
   "cell_type": "markdown",
   "metadata": {},
   "source": [
    "Então, realizaremos um `teste-t unicaudal direito` para verificarmos esta condição.\n",
    "\n",
    "Definindo as duas hipóteses:\n",
    "\n",
    ">1. **`H0`:** MMC2 - MMC1 = 0, ou seja, a margem média de contribuição (por trimestre) não difere entre cada um dos anos \"1\" e \"2\";\n",
    ">2. **`H1`:** MMC2 - MMC1 > 0, ou seja, a margem média de contribuição (por trimestre) no ano \"2\" é MAIOR que a margem média de contribuição (por trimestre) no ano \"1\".\n",
    "\n",
    "Onde:\n",
    "\n",
    ">* **`MMC1`:** margem média de contribuição (por trimestre) para o ano ***`1`***;\n",
    ">* **`MMC2`:** margem média de contribuição (por trimestre) para o ano ***`2`***."
   ]
  },
  {
   "cell_type": "code",
   "execution_count": 57,
   "metadata": {
    "scrolled": false
   },
   "outputs": [
    {
     "data": {
      "text/html": [
       "'Resultados para Valor-p &lt; 0.05'"
      ],
      "text/latex": [
       "'Resultados para Valor-p < 0.05'"
      ],
      "text/markdown": [
       "'Resultados para Valor-p &lt; 0.05'"
      ],
      "text/plain": [
       "[1] \"Resultados para Valor-p < 0.05\""
      ]
     },
     "metadata": {},
     "output_type": "display_data"
    },
    {
     "data": {
      "text/html": [
       "<table>\n",
       "<thead><tr><th scope=col>ano2</th><th scope=col>ano1</th><th scope=col>feature</th><th scope=col>H1</th><th scope=col>NC</th><th scope=col>valor_p</th></tr></thead>\n",
       "<tbody>\n",
       "\t<tr><td>2013                  </td><td>2012                  </td><td>margem_de_contribuicao</td><td>greater               </td><td>0.95                  </td><td>1.922551e-03          </td></tr>\n",
       "\t<tr><td>2014                  </td><td>2012                  </td><td>margem_de_contribuicao</td><td>greater               </td><td>0.95                  </td><td>1.538884e-04          </td></tr>\n",
       "\t<tr><td>2015                  </td><td>2012                  </td><td>margem_de_contribuicao</td><td>greater               </td><td>0.95                  </td><td>4.603173e-05          </td></tr>\n",
       "\t<tr><td>2016                  </td><td>2012                  </td><td>margem_de_contribuicao</td><td>greater               </td><td>0.95                  </td><td>1.390625e-05          </td></tr>\n",
       "\t<tr><td>2017                  </td><td>2012                  </td><td>margem_de_contribuicao</td><td>greater               </td><td>0.95                  </td><td>6.930096e-05          </td></tr>\n",
       "\t<tr><td>2018                  </td><td>2012                  </td><td>margem_de_contribuicao</td><td>greater               </td><td>0.95                  </td><td>4.288504e-05          </td></tr>\n",
       "\t<tr><td>2014                  </td><td>2013                  </td><td>margem_de_contribuicao</td><td>greater               </td><td>0.95                  </td><td>1.886345e-03          </td></tr>\n",
       "\t<tr><td>2015                  </td><td>2013                  </td><td>margem_de_contribuicao</td><td>greater               </td><td>0.95                  </td><td>1.764087e-05          </td></tr>\n",
       "\t<tr><td>2016                  </td><td>2013                  </td><td>margem_de_contribuicao</td><td>greater               </td><td>0.95                  </td><td>2.483884e-05          </td></tr>\n",
       "\t<tr><td>2017                  </td><td>2013                  </td><td>margem_de_contribuicao</td><td>greater               </td><td>0.95                  </td><td>1.114493e-03          </td></tr>\n",
       "\t<tr><td>2018                  </td><td>2013                  </td><td>margem_de_contribuicao</td><td>greater               </td><td>0.95                  </td><td>7.393800e-04          </td></tr>\n",
       "\t<tr><td>2015                  </td><td>2014                  </td><td>margem_de_contribuicao</td><td>greater               </td><td>0.95                  </td><td>5.882827e-04          </td></tr>\n",
       "\t<tr><td>2016                  </td><td>2014                  </td><td>margem_de_contribuicao</td><td>greater               </td><td>0.95                  </td><td>5.430989e-04          </td></tr>\n",
       "\t<tr><td>2017                  </td><td>2014                  </td><td>margem_de_contribuicao</td><td>greater               </td><td>0.95                  </td><td>7.709678e-03          </td></tr>\n",
       "\t<tr><td>2018                  </td><td>2014                  </td><td>margem_de_contribuicao</td><td>greater               </td><td>0.95                  </td><td>5.686367e-03          </td></tr>\n",
       "</tbody>\n",
       "</table>\n"
      ],
      "text/latex": [
       "\\begin{tabular}{r|llllll}\n",
       " ano2 & ano1 & feature & H1 & NC & valor\\_p\\\\\n",
       "\\hline\n",
       "\t 2013                       & 2012                       & margem\\_de\\_contribuicao & greater                    & 0.95                       & 1.922551e-03              \\\\\n",
       "\t 2014                       & 2012                       & margem\\_de\\_contribuicao & greater                    & 0.95                       & 1.538884e-04              \\\\\n",
       "\t 2015                       & 2012                       & margem\\_de\\_contribuicao & greater                    & 0.95                       & 4.603173e-05              \\\\\n",
       "\t 2016                       & 2012                       & margem\\_de\\_contribuicao & greater                    & 0.95                       & 1.390625e-05              \\\\\n",
       "\t 2017                       & 2012                       & margem\\_de\\_contribuicao & greater                    & 0.95                       & 6.930096e-05              \\\\\n",
       "\t 2018                       & 2012                       & margem\\_de\\_contribuicao & greater                    & 0.95                       & 4.288504e-05              \\\\\n",
       "\t 2014                       & 2013                       & margem\\_de\\_contribuicao & greater                    & 0.95                       & 1.886345e-03              \\\\\n",
       "\t 2015                       & 2013                       & margem\\_de\\_contribuicao & greater                    & 0.95                       & 1.764087e-05              \\\\\n",
       "\t 2016                       & 2013                       & margem\\_de\\_contribuicao & greater                    & 0.95                       & 2.483884e-05              \\\\\n",
       "\t 2017                       & 2013                       & margem\\_de\\_contribuicao & greater                    & 0.95                       & 1.114493e-03              \\\\\n",
       "\t 2018                       & 2013                       & margem\\_de\\_contribuicao & greater                    & 0.95                       & 7.393800e-04              \\\\\n",
       "\t 2015                       & 2014                       & margem\\_de\\_contribuicao & greater                    & 0.95                       & 5.882827e-04              \\\\\n",
       "\t 2016                       & 2014                       & margem\\_de\\_contribuicao & greater                    & 0.95                       & 5.430989e-04              \\\\\n",
       "\t 2017                       & 2014                       & margem\\_de\\_contribuicao & greater                    & 0.95                       & 7.709678e-03              \\\\\n",
       "\t 2018                       & 2014                       & margem\\_de\\_contribuicao & greater                    & 0.95                       & 5.686367e-03              \\\\\n",
       "\\end{tabular}\n"
      ],
      "text/markdown": [
       "\n",
       "| ano2 | ano1 | feature | H1 | NC | valor_p |\n",
       "|---|---|---|---|---|---|\n",
       "| 2013                   | 2012                   | margem_de_contribuicao | greater                | 0.95                   | 1.922551e-03           |\n",
       "| 2014                   | 2012                   | margem_de_contribuicao | greater                | 0.95                   | 1.538884e-04           |\n",
       "| 2015                   | 2012                   | margem_de_contribuicao | greater                | 0.95                   | 4.603173e-05           |\n",
       "| 2016                   | 2012                   | margem_de_contribuicao | greater                | 0.95                   | 1.390625e-05           |\n",
       "| 2017                   | 2012                   | margem_de_contribuicao | greater                | 0.95                   | 6.930096e-05           |\n",
       "| 2018                   | 2012                   | margem_de_contribuicao | greater                | 0.95                   | 4.288504e-05           |\n",
       "| 2014                   | 2013                   | margem_de_contribuicao | greater                | 0.95                   | 1.886345e-03           |\n",
       "| 2015                   | 2013                   | margem_de_contribuicao | greater                | 0.95                   | 1.764087e-05           |\n",
       "| 2016                   | 2013                   | margem_de_contribuicao | greater                | 0.95                   | 2.483884e-05           |\n",
       "| 2017                   | 2013                   | margem_de_contribuicao | greater                | 0.95                   | 1.114493e-03           |\n",
       "| 2018                   | 2013                   | margem_de_contribuicao | greater                | 0.95                   | 7.393800e-04           |\n",
       "| 2015                   | 2014                   | margem_de_contribuicao | greater                | 0.95                   | 5.882827e-04           |\n",
       "| 2016                   | 2014                   | margem_de_contribuicao | greater                | 0.95                   | 5.430989e-04           |\n",
       "| 2017                   | 2014                   | margem_de_contribuicao | greater                | 0.95                   | 7.709678e-03           |\n",
       "| 2018                   | 2014                   | margem_de_contribuicao | greater                | 0.95                   | 5.686367e-03           |\n",
       "\n"
      ],
      "text/plain": [
       "   ano2 ano1 feature                H1      NC   valor_p     \n",
       "1  2013 2012 margem_de_contribuicao greater 0.95 1.922551e-03\n",
       "2  2014 2012 margem_de_contribuicao greater 0.95 1.538884e-04\n",
       "3  2015 2012 margem_de_contribuicao greater 0.95 4.603173e-05\n",
       "4  2016 2012 margem_de_contribuicao greater 0.95 1.390625e-05\n",
       "5  2017 2012 margem_de_contribuicao greater 0.95 6.930096e-05\n",
       "6  2018 2012 margem_de_contribuicao greater 0.95 4.288504e-05\n",
       "7  2014 2013 margem_de_contribuicao greater 0.95 1.886345e-03\n",
       "8  2015 2013 margem_de_contribuicao greater 0.95 1.764087e-05\n",
       "9  2016 2013 margem_de_contribuicao greater 0.95 2.483884e-05\n",
       "10 2017 2013 margem_de_contribuicao greater 0.95 1.114493e-03\n",
       "11 2018 2013 margem_de_contribuicao greater 0.95 7.393800e-04\n",
       "12 2015 2014 margem_de_contribuicao greater 0.95 5.882827e-04\n",
       "13 2016 2014 margem_de_contribuicao greater 0.95 5.430989e-04\n",
       "14 2017 2014 margem_de_contribuicao greater 0.95 7.709678e-03\n",
       "15 2018 2014 margem_de_contribuicao greater 0.95 5.686367e-03"
      ]
     },
     "metadata": {},
     "output_type": "display_data"
    },
    {
     "data": {
      "text/html": [
       "'Resultados para Valor-p &gt;= 0.05'"
      ],
      "text/latex": [
       "'Resultados para Valor-p >= 0.05'"
      ],
      "text/markdown": [
       "'Resultados para Valor-p &gt;= 0.05'"
      ],
      "text/plain": [
       "[1] \"Resultados para Valor-p >= 0.05\""
      ]
     },
     "metadata": {},
     "output_type": "display_data"
    },
    {
     "data": {
      "text/html": [
       "<table>\n",
       "<thead><tr><th scope=col>ano2</th><th scope=col>ano1</th><th scope=col>feature</th><th scope=col>H1</th><th scope=col>NC</th><th scope=col>valor_p</th></tr></thead>\n",
       "<tbody>\n",
       "\t<tr><td>2016                  </td><td>2015                  </td><td>margem_de_contribuicao</td><td>greater               </td><td>0.95                  </td><td>0.2359124             </td></tr>\n",
       "\t<tr><td>2017                  </td><td>2015                  </td><td>margem_de_contribuicao</td><td>greater               </td><td>0.95                  </td><td>0.2885216             </td></tr>\n",
       "\t<tr><td>2018                  </td><td>2015                  </td><td>margem_de_contribuicao</td><td>greater               </td><td>0.95                  </td><td>0.2798031             </td></tr>\n",
       "\t<tr><td>2017                  </td><td>2016                  </td><td>margem_de_contribuicao</td><td>greater               </td><td>0.95                  </td><td>0.4458898             </td></tr>\n",
       "\t<tr><td>2018                  </td><td>2016                  </td><td>margem_de_contribuicao</td><td>greater               </td><td>0.95                  </td><td>0.4480565             </td></tr>\n",
       "\t<tr><td>2018                  </td><td>2017                  </td><td>margem_de_contribuicao</td><td>greater               </td><td>0.95                  </td><td>0.5045509             </td></tr>\n",
       "</tbody>\n",
       "</table>\n"
      ],
      "text/latex": [
       "\\begin{tabular}{r|llllll}\n",
       " ano2 & ano1 & feature & H1 & NC & valor\\_p\\\\\n",
       "\\hline\n",
       "\t 2016                       & 2015                       & margem\\_de\\_contribuicao & greater                    & 0.95                       & 0.2359124                 \\\\\n",
       "\t 2017                       & 2015                       & margem\\_de\\_contribuicao & greater                    & 0.95                       & 0.2885216                 \\\\\n",
       "\t 2018                       & 2015                       & margem\\_de\\_contribuicao & greater                    & 0.95                       & 0.2798031                 \\\\\n",
       "\t 2017                       & 2016                       & margem\\_de\\_contribuicao & greater                    & 0.95                       & 0.4458898                 \\\\\n",
       "\t 2018                       & 2016                       & margem\\_de\\_contribuicao & greater                    & 0.95                       & 0.4480565                 \\\\\n",
       "\t 2018                       & 2017                       & margem\\_de\\_contribuicao & greater                    & 0.95                       & 0.5045509                 \\\\\n",
       "\\end{tabular}\n"
      ],
      "text/markdown": [
       "\n",
       "| ano2 | ano1 | feature | H1 | NC | valor_p |\n",
       "|---|---|---|---|---|---|\n",
       "| 2016                   | 2015                   | margem_de_contribuicao | greater                | 0.95                   | 0.2359124              |\n",
       "| 2017                   | 2015                   | margem_de_contribuicao | greater                | 0.95                   | 0.2885216              |\n",
       "| 2018                   | 2015                   | margem_de_contribuicao | greater                | 0.95                   | 0.2798031              |\n",
       "| 2017                   | 2016                   | margem_de_contribuicao | greater                | 0.95                   | 0.4458898              |\n",
       "| 2018                   | 2016                   | margem_de_contribuicao | greater                | 0.95                   | 0.4480565              |\n",
       "| 2018                   | 2017                   | margem_de_contribuicao | greater                | 0.95                   | 0.5045509              |\n",
       "\n"
      ],
      "text/plain": [
       "  ano2 ano1 feature                H1      NC   valor_p  \n",
       "1 2016 2015 margem_de_contribuicao greater 0.95 0.2359124\n",
       "2 2017 2015 margem_de_contribuicao greater 0.95 0.2885216\n",
       "3 2018 2015 margem_de_contribuicao greater 0.95 0.2798031\n",
       "4 2017 2016 margem_de_contribuicao greater 0.95 0.4458898\n",
       "5 2018 2016 margem_de_contribuicao greater 0.95 0.4480565\n",
       "6 2018 2017 margem_de_contribuicao greater 0.95 0.5045509"
      ]
     },
     "metadata": {},
     "output_type": "display_data"
    }
   ],
   "source": [
    "# Teste-t Unicaudal Direito:\n",
    "# Definindo um vetor para o primeiro ano do teste:\n",
    "ano1 = c('2012', '2012', '2012','2012', '2012', '2012', '2013', '2013', '2013', '2013', '2013',\n",
    "         '2014', '2014', '2014', '2014', '2015', '2015', '2015', '2016', '2016', '2017')\n",
    "\n",
    "# Definindo um vetor para o segundo ano do teste:\n",
    "ano2 = c('2013', '2014', '2015','2016', '2017', '2018', '2014', '2015', '2016', '2017', '2018',\n",
    "         '2015', '2016', '2017', '2018', '2016', '2017', '2018', '2017', '2018', '2018')\n",
    "\n",
    "# Realizando o teste-t unicaudal direito:\n",
    "df_teste_t = teste_t(ano1, ano2, feature = \"margem_de_contribuicao\", H1 = \"greater\", NC = 0.95)\n",
    "\n",
    "# Filtrando os resultados onde \"valor_p < 0.05\":\n",
    "sprintf(\"Resultados para Valor-p < %.2f\", 1 - 0.95)\n",
    "filter(df_teste_t, valor_p < 0.05)\n",
    "\n",
    "# Filtrando os resultados onde \"valor_p >= 0.05\":\n",
    "sprintf(\"Resultados para Valor-p >= %.2f\", 1 - 0.95)\n",
    "filter(df_teste_t, valor_p >= 0.05)"
   ]
  },
  {
   "cell_type": "markdown",
   "metadata": {},
   "source": [
    "**Conclusão:**\n",
    "\n",
    "Se **`valor-p < 0.05`**: rejeitamos a hipótese nula (**H0**), caso contrário falhamos em rejeitar a a hipótese nula.\n",
    "\n",
    "Como o **valor-p é menor que 0.05** na maioria dos testes (15), podemos rejeitar a hipótese nula do `teste-t unicaudal direito`. Portanto, podemos concluir, por exemplo, que o ano de **2013** possui uma margem de contribuição (em média, por trimestre) MAIOR que a do ano de **2012**. Esta mesma explicação é válida para os demais pares de anos onde tivemos como resultado o **`valor-p < 0.05`**.\n",
    "\n",
    "Portanto, concluimos que **a *margem de contribuição (em média, por trimestre)* aumentou significativamente até 2015!**"
   ]
  },
  {
   "cell_type": "markdown",
   "metadata": {},
   "source": [
    "### O quanto que as *margens de contribuição* aumentaram (em média, por trimestre) entre os anos de `2012 e 2018`?"
   ]
  },
  {
   "cell_type": "markdown",
   "metadata": {},
   "source": [
    "Primeiro, vamos calcular as médias (por trimestre) da *margem de contribuição* em cada um dos anos:"
   ]
  },
  {
   "cell_type": "code",
   "execution_count": 58,
   "metadata": {
    "scrolled": true
   },
   "outputs": [
    {
     "data": {
      "text/html": [
       "<table>\n",
       "<thead><tr><th scope=col>Ano</th><th scope=col>Media_Margem_Contribuicao</th></tr></thead>\n",
       "<tbody>\n",
       "\t<tr><td>2012   </td><td>0.15900</td></tr>\n",
       "\t<tr><td>2013   </td><td>0.22550</td></tr>\n",
       "\t<tr><td>2014   </td><td>0.27225</td></tr>\n",
       "\t<tr><td>2015   </td><td>0.32875</td></tr>\n",
       "\t<tr><td>2016   </td><td>0.33625</td></tr>\n",
       "\t<tr><td>2017   </td><td>0.33875</td></tr>\n",
       "\t<tr><td>2018   </td><td>0.33850</td></tr>\n",
       "</tbody>\n",
       "</table>\n"
      ],
      "text/latex": [
       "\\begin{tabular}{r|ll}\n",
       " Ano & Media\\_Margem\\_Contribuicao\\\\\n",
       "\\hline\n",
       "\t 2012    & 0.15900\\\\\n",
       "\t 2013    & 0.22550\\\\\n",
       "\t 2014    & 0.27225\\\\\n",
       "\t 2015    & 0.32875\\\\\n",
       "\t 2016    & 0.33625\\\\\n",
       "\t 2017    & 0.33875\\\\\n",
       "\t 2018    & 0.33850\\\\\n",
       "\\end{tabular}\n"
      ],
      "text/markdown": [
       "\n",
       "| Ano | Media_Margem_Contribuicao |\n",
       "|---|---|\n",
       "| 2012    | 0.15900 |\n",
       "| 2013    | 0.22550 |\n",
       "| 2014    | 0.27225 |\n",
       "| 2015    | 0.32875 |\n",
       "| 2016    | 0.33625 |\n",
       "| 2017    | 0.33875 |\n",
       "| 2018    | 0.33850 |\n",
       "\n"
      ],
      "text/plain": [
       "  Ano  Media_Margem_Contribuicao\n",
       "1 2012 0.15900                  \n",
       "2 2013 0.22550                  \n",
       "3 2014 0.27225                  \n",
       "4 2015 0.32875                  \n",
       "5 2016 0.33625                  \n",
       "6 2017 0.33875                  \n",
       "7 2018 0.33850                  "
      ]
     },
     "metadata": {},
     "output_type": "display_data"
    }
   ],
   "source": [
    "# Calculando as médias do custo de marketing por ano:\n",
    "media_margem_ctb = aggregate(df_data[, \"margem_de_contribuicao\"], list(df_data$ano_cat), mean)\n",
    "colnames(media_margem_ctb) <- c(\"Ano\", \"Media_Margem_Contribuicao\")\n",
    "media_margem_ctb"
   ]
  },
  {
   "cell_type": "markdown",
   "metadata": {},
   "source": [
    "Em seguida, vamos criar um data frame com os cálculos necessários para identificarmos o *aumento* da margem de contribuicao (em média, por trimestre) entre os anos de 2012 e 2018:"
   ]
  },
  {
   "cell_type": "code",
   "execution_count": 59,
   "metadata": {
    "scrolled": false
   },
   "outputs": [
    {
     "data": {
      "text/html": [
       "<table>\n",
       "<thead><tr><th scope=col>ano2</th><th scope=col>ano1</th><th scope=col>valor_p</th><th scope=col>media_ano2</th><th scope=col>media_ano1</th><th scope=col>aumento</th></tr></thead>\n",
       "<tbody>\n",
       "\t<tr><td>2017        </td><td>2012        </td><td>6.930096e-05</td><td>0.33875     </td><td>0.15900     </td><td>1.1305031   </td></tr>\n",
       "\t<tr><td>2018        </td><td>2012        </td><td>4.288504e-05</td><td>0.33850     </td><td>0.15900     </td><td>1.1289308   </td></tr>\n",
       "\t<tr><td>2016        </td><td>2012        </td><td>1.390625e-05</td><td>0.33625     </td><td>0.15900     </td><td>1.1147799   </td></tr>\n",
       "\t<tr><td>2015        </td><td>2012        </td><td>4.603173e-05</td><td>0.32875     </td><td>0.15900     </td><td>1.0676101   </td></tr>\n",
       "\t<tr><td>2014        </td><td>2012        </td><td>1.538884e-04</td><td>0.27225     </td><td>0.15900     </td><td>0.7122642   </td></tr>\n",
       "\t<tr><td>2017        </td><td>2013        </td><td>1.114493e-03</td><td>0.33875     </td><td>0.22550     </td><td>0.5022173   </td></tr>\n",
       "\t<tr><td>2018        </td><td>2013        </td><td>7.393800e-04</td><td>0.33850     </td><td>0.22550     </td><td>0.5011086   </td></tr>\n",
       "\t<tr><td>2016        </td><td>2013        </td><td>2.483884e-05</td><td>0.33625     </td><td>0.22550     </td><td>0.4911308   </td></tr>\n",
       "\t<tr><td>2015        </td><td>2013        </td><td>1.764087e-05</td><td>0.32875     </td><td>0.22550     </td><td>0.4578714   </td></tr>\n",
       "\t<tr><td>2013        </td><td>2012        </td><td>1.922551e-03</td><td>0.22550     </td><td>0.15900     </td><td>0.4182390   </td></tr>\n",
       "\t<tr><td>2017        </td><td>2014        </td><td>7.709678e-03</td><td>0.33875     </td><td>0.27225     </td><td>0.2442608   </td></tr>\n",
       "\t<tr><td>2018        </td><td>2014        </td><td>5.686367e-03</td><td>0.33850     </td><td>0.27225     </td><td>0.2433425   </td></tr>\n",
       "\t<tr><td>2016        </td><td>2014        </td><td>5.430989e-04</td><td>0.33625     </td><td>0.27225     </td><td>0.2350781   </td></tr>\n",
       "\t<tr><td>2015        </td><td>2014        </td><td>5.882827e-04</td><td>0.32875     </td><td>0.27225     </td><td>0.2075298   </td></tr>\n",
       "\t<tr><td>2014        </td><td>2013        </td><td>1.886345e-03</td><td>0.27225     </td><td>0.22550     </td><td>0.2073171   </td></tr>\n",
       "</tbody>\n",
       "</table>\n"
      ],
      "text/latex": [
       "\\begin{tabular}{r|llllll}\n",
       " ano2 & ano1 & valor\\_p & media\\_ano2 & media\\_ano1 & aumento\\\\\n",
       "\\hline\n",
       "\t 2017         & 2012         & 6.930096e-05 & 0.33875      & 0.15900      & 1.1305031   \\\\\n",
       "\t 2018         & 2012         & 4.288504e-05 & 0.33850      & 0.15900      & 1.1289308   \\\\\n",
       "\t 2016         & 2012         & 1.390625e-05 & 0.33625      & 0.15900      & 1.1147799   \\\\\n",
       "\t 2015         & 2012         & 4.603173e-05 & 0.32875      & 0.15900      & 1.0676101   \\\\\n",
       "\t 2014         & 2012         & 1.538884e-04 & 0.27225      & 0.15900      & 0.7122642   \\\\\n",
       "\t 2017         & 2013         & 1.114493e-03 & 0.33875      & 0.22550      & 0.5022173   \\\\\n",
       "\t 2018         & 2013         & 7.393800e-04 & 0.33850      & 0.22550      & 0.5011086   \\\\\n",
       "\t 2016         & 2013         & 2.483884e-05 & 0.33625      & 0.22550      & 0.4911308   \\\\\n",
       "\t 2015         & 2013         & 1.764087e-05 & 0.32875      & 0.22550      & 0.4578714   \\\\\n",
       "\t 2013         & 2012         & 1.922551e-03 & 0.22550      & 0.15900      & 0.4182390   \\\\\n",
       "\t 2017         & 2014         & 7.709678e-03 & 0.33875      & 0.27225      & 0.2442608   \\\\\n",
       "\t 2018         & 2014         & 5.686367e-03 & 0.33850      & 0.27225      & 0.2433425   \\\\\n",
       "\t 2016         & 2014         & 5.430989e-04 & 0.33625      & 0.27225      & 0.2350781   \\\\\n",
       "\t 2015         & 2014         & 5.882827e-04 & 0.32875      & 0.27225      & 0.2075298   \\\\\n",
       "\t 2014         & 2013         & 1.886345e-03 & 0.27225      & 0.22550      & 0.2073171   \\\\\n",
       "\\end{tabular}\n"
      ],
      "text/markdown": [
       "\n",
       "| ano2 | ano1 | valor_p | media_ano2 | media_ano1 | aumento |\n",
       "|---|---|---|---|---|---|\n",
       "| 2017         | 2012         | 6.930096e-05 | 0.33875      | 0.15900      | 1.1305031    |\n",
       "| 2018         | 2012         | 4.288504e-05 | 0.33850      | 0.15900      | 1.1289308    |\n",
       "| 2016         | 2012         | 1.390625e-05 | 0.33625      | 0.15900      | 1.1147799    |\n",
       "| 2015         | 2012         | 4.603173e-05 | 0.32875      | 0.15900      | 1.0676101    |\n",
       "| 2014         | 2012         | 1.538884e-04 | 0.27225      | 0.15900      | 0.7122642    |\n",
       "| 2017         | 2013         | 1.114493e-03 | 0.33875      | 0.22550      | 0.5022173    |\n",
       "| 2018         | 2013         | 7.393800e-04 | 0.33850      | 0.22550      | 0.5011086    |\n",
       "| 2016         | 2013         | 2.483884e-05 | 0.33625      | 0.22550      | 0.4911308    |\n",
       "| 2015         | 2013         | 1.764087e-05 | 0.32875      | 0.22550      | 0.4578714    |\n",
       "| 2013         | 2012         | 1.922551e-03 | 0.22550      | 0.15900      | 0.4182390    |\n",
       "| 2017         | 2014         | 7.709678e-03 | 0.33875      | 0.27225      | 0.2442608    |\n",
       "| 2018         | 2014         | 5.686367e-03 | 0.33850      | 0.27225      | 0.2433425    |\n",
       "| 2016         | 2014         | 5.430989e-04 | 0.33625      | 0.27225      | 0.2350781    |\n",
       "| 2015         | 2014         | 5.882827e-04 | 0.32875      | 0.27225      | 0.2075298    |\n",
       "| 2014         | 2013         | 1.886345e-03 | 0.27225      | 0.22550      | 0.2073171    |\n",
       "\n"
      ],
      "text/plain": [
       "   ano2 ano1 valor_p      media_ano2 media_ano1 aumento  \n",
       "1  2017 2012 6.930096e-05 0.33875    0.15900    1.1305031\n",
       "2  2018 2012 4.288504e-05 0.33850    0.15900    1.1289308\n",
       "3  2016 2012 1.390625e-05 0.33625    0.15900    1.1147799\n",
       "4  2015 2012 4.603173e-05 0.32875    0.15900    1.0676101\n",
       "5  2014 2012 1.538884e-04 0.27225    0.15900    0.7122642\n",
       "6  2017 2013 1.114493e-03 0.33875    0.22550    0.5022173\n",
       "7  2018 2013 7.393800e-04 0.33850    0.22550    0.5011086\n",
       "8  2016 2013 2.483884e-05 0.33625    0.22550    0.4911308\n",
       "9  2015 2013 1.764087e-05 0.32875    0.22550    0.4578714\n",
       "10 2013 2012 1.922551e-03 0.22550    0.15900    0.4182390\n",
       "11 2017 2014 7.709678e-03 0.33875    0.27225    0.2442608\n",
       "12 2018 2014 5.686367e-03 0.33850    0.27225    0.2433425\n",
       "13 2016 2014 5.430989e-04 0.33625    0.27225    0.2350781\n",
       "14 2015 2014 5.882827e-04 0.32875    0.27225    0.2075298\n",
       "15 2014 2013 1.886345e-03 0.27225    0.22550    0.2073171"
      ]
     },
     "metadata": {},
     "output_type": "display_data"
    }
   ],
   "source": [
    "# Selecionando os pares de anos que no teste-t apresentaram \"valor-p < 0.05\":\n",
    "df_volume = select(filter(df_teste_t, valor_p < 0.05), ano2, ano1, valor_p)\n",
    "# Criando variáveis para os cálculos:\n",
    "df_volume$media_ano2 = 0\n",
    "df_volume$media_ano1 = 0\n",
    "df_volume$aumento = 0\n",
    "\n",
    "# Realizando os cálculos:\n",
    "for (i in 1:dim(df_volume)[1]){\n",
    "    # Obtendo a média para o \"ano1\" e \"ano2\":\n",
    "    df_volume[i, \"media_ano1\"] = filter(media_margem_ctb, Ano == df_volume[i, \"ano1\"])$Media_Margem_Contribuicao\n",
    "    df_volume[i, \"media_ano2\"] = filter(media_margem_ctb, Ano == df_volume[i, \"ano2\"])$Media_Margem_Contribuicao\n",
    "    \n",
    "    # Calculando o \"aumento\" da margem médio de contribuição:\n",
    "    df_volume[i, \"aumento\"] = (df_volume[i, \"media_ano2\"] - df_volume[i, \"media_ano1\"])/df_volume[i, \"media_ano1\"]\n",
    "}\n",
    "\n",
    "# Classificando o resultado em ordem \"decrescente\":\n",
    "arrange(df_volume, desc(aumento))"
   ]
  },
  {
   "cell_type": "markdown",
   "metadata": {},
   "source": [
    "**Conclusão:** o *`margem de contribuição`* *aumentou (em média, por trimestre)* **`~113.0%`** em **7 anos**, ou seja, de **`~16%`** em **`2012`** para **`~34%`** em **`2018`**."
   ]
  },
  {
   "cell_type": "markdown",
   "metadata": {},
   "source": [
    "### Vamos agora, verificar se as *margens de contribuição* diminuíram com o passar dos anos:"
   ]
  },
  {
   "cell_type": "markdown",
   "metadata": {},
   "source": [
    "Então, realizaremos um `teste-t unicaudal esquerdo` para verificarmos esta condição.\n",
    "\n",
    "Definindo as duas hipóteses:\n",
    "\n",
    ">1. **`H0`:** MMC2 - MMC1 = 0, ou seja, a margem média de contribuição (por trimestre) não difere entre cada um dos anos \"1\" e \"2\";\n",
    ">2. **`H1`:** MMC2 - MMC1 < 0, ou seja, a margem média de contribuição (por trimestre) no ano \"2\" é MENOR que a margem média de contribuição (por trimestre) no ano \"1\".\n",
    "\n",
    "Onde:\n",
    "\n",
    ">* **`MMC1`:** margem média de contribuição (por trimestre) para o ano ***`1`***;\n",
    ">* **`MMC2`:** margem média de contribuição (por trimestre) para o ano ***`2`***."
   ]
  },
  {
   "cell_type": "code",
   "execution_count": 60,
   "metadata": {
    "scrolled": true
   },
   "outputs": [
    {
     "data": {
      "text/html": [
       "'Resultados para Valor-p &lt; 0.05'"
      ],
      "text/latex": [
       "'Resultados para Valor-p < 0.05'"
      ],
      "text/markdown": [
       "'Resultados para Valor-p &lt; 0.05'"
      ],
      "text/plain": [
       "[1] \"Resultados para Valor-p < 0.05\""
      ]
     },
     "metadata": {},
     "output_type": "display_data"
    },
    {
     "data": {
      "text/html": [
       "<table>\n",
       "<thead><tr><th scope=col>ano2</th><th scope=col>ano1</th><th scope=col>feature</th><th scope=col>H1</th><th scope=col>NC</th><th scope=col>valor_p</th></tr></thead>\n",
       "<tbody>\n",
       "</tbody>\n",
       "</table>\n"
      ],
      "text/latex": [
       "\\begin{tabular}{r|llllll}\n",
       " ano2 & ano1 & feature & H1 & NC & valor\\_p\\\\\n",
       "\\hline\n",
       "\\end{tabular}\n"
      ],
      "text/markdown": [
       "\n",
       "| ano2 | ano1 | feature | H1 | NC | valor_p |\n",
       "|---|---|---|---|---|---|\n",
       "\n"
      ],
      "text/plain": [
       "     ano2 ano1 feature H1 NC valor_p"
      ]
     },
     "metadata": {},
     "output_type": "display_data"
    },
    {
     "data": {
      "text/html": [
       "'Resultados para Valor-p &gt;= 0.05'"
      ],
      "text/latex": [
       "'Resultados para Valor-p >= 0.05'"
      ],
      "text/markdown": [
       "'Resultados para Valor-p &gt;= 0.05'"
      ],
      "text/plain": [
       "[1] \"Resultados para Valor-p >= 0.05\""
      ]
     },
     "metadata": {},
     "output_type": "display_data"
    },
    {
     "data": {
      "text/html": [
       "<table>\n",
       "<thead><tr><th scope=col>ano2</th><th scope=col>ano1</th><th scope=col>feature</th><th scope=col>H1</th><th scope=col>NC</th><th scope=col>valor_p</th></tr></thead>\n",
       "<tbody>\n",
       "\t<tr><td>2013                  </td><td>2012                  </td><td>margem_de_contribuicao</td><td>less                  </td><td>0.95                  </td><td>0.9980774             </td></tr>\n",
       "\t<tr><td>2014                  </td><td>2012                  </td><td>margem_de_contribuicao</td><td>less                  </td><td>0.95                  </td><td>0.9998461             </td></tr>\n",
       "\t<tr><td>2015                  </td><td>2012                  </td><td>margem_de_contribuicao</td><td>less                  </td><td>0.95                  </td><td>0.9999540             </td></tr>\n",
       "\t<tr><td>2016                  </td><td>2012                  </td><td>margem_de_contribuicao</td><td>less                  </td><td>0.95                  </td><td>0.9999861             </td></tr>\n",
       "\t<tr><td>2017                  </td><td>2012                  </td><td>margem_de_contribuicao</td><td>less                  </td><td>0.95                  </td><td>0.9999307             </td></tr>\n",
       "\t<tr><td>2018                  </td><td>2012                  </td><td>margem_de_contribuicao</td><td>less                  </td><td>0.95                  </td><td>0.9999571             </td></tr>\n",
       "\t<tr><td>2014                  </td><td>2013                  </td><td>margem_de_contribuicao</td><td>less                  </td><td>0.95                  </td><td>0.9981137             </td></tr>\n",
       "\t<tr><td>2015                  </td><td>2013                  </td><td>margem_de_contribuicao</td><td>less                  </td><td>0.95                  </td><td>0.9999824             </td></tr>\n",
       "\t<tr><td>2016                  </td><td>2013                  </td><td>margem_de_contribuicao</td><td>less                  </td><td>0.95                  </td><td>0.9999752             </td></tr>\n",
       "\t<tr><td>2017                  </td><td>2013                  </td><td>margem_de_contribuicao</td><td>less                  </td><td>0.95                  </td><td>0.9988855             </td></tr>\n",
       "\t<tr><td>2018                  </td><td>2013                  </td><td>margem_de_contribuicao</td><td>less                  </td><td>0.95                  </td><td>0.9992606             </td></tr>\n",
       "\t<tr><td>2015                  </td><td>2014                  </td><td>margem_de_contribuicao</td><td>less                  </td><td>0.95                  </td><td>0.9994117             </td></tr>\n",
       "\t<tr><td>2016                  </td><td>2014                  </td><td>margem_de_contribuicao</td><td>less                  </td><td>0.95                  </td><td>0.9994569             </td></tr>\n",
       "\t<tr><td>2017                  </td><td>2014                  </td><td>margem_de_contribuicao</td><td>less                  </td><td>0.95                  </td><td>0.9922903             </td></tr>\n",
       "\t<tr><td>2018                  </td><td>2014                  </td><td>margem_de_contribuicao</td><td>less                  </td><td>0.95                  </td><td>0.9943136             </td></tr>\n",
       "\t<tr><td>2016                  </td><td>2015                  </td><td>margem_de_contribuicao</td><td>less                  </td><td>0.95                  </td><td>0.7640876             </td></tr>\n",
       "\t<tr><td>2017                  </td><td>2015                  </td><td>margem_de_contribuicao</td><td>less                  </td><td>0.95                  </td><td>0.7114784             </td></tr>\n",
       "\t<tr><td>2018                  </td><td>2015                  </td><td>margem_de_contribuicao</td><td>less                  </td><td>0.95                  </td><td>0.7201969             </td></tr>\n",
       "\t<tr><td>2017                  </td><td>2016                  </td><td>margem_de_contribuicao</td><td>less                  </td><td>0.95                  </td><td>0.5541102             </td></tr>\n",
       "\t<tr><td>2018                  </td><td>2016                  </td><td>margem_de_contribuicao</td><td>less                  </td><td>0.95                  </td><td>0.5519435             </td></tr>\n",
       "\t<tr><td>2018                  </td><td>2017                  </td><td>margem_de_contribuicao</td><td>less                  </td><td>0.95                  </td><td>0.4954491             </td></tr>\n",
       "</tbody>\n",
       "</table>\n"
      ],
      "text/latex": [
       "\\begin{tabular}{r|llllll}\n",
       " ano2 & ano1 & feature & H1 & NC & valor\\_p\\\\\n",
       "\\hline\n",
       "\t 2013                       & 2012                       & margem\\_de\\_contribuicao & less                       & 0.95                       & 0.9980774                 \\\\\n",
       "\t 2014                       & 2012                       & margem\\_de\\_contribuicao & less                       & 0.95                       & 0.9998461                 \\\\\n",
       "\t 2015                       & 2012                       & margem\\_de\\_contribuicao & less                       & 0.95                       & 0.9999540                 \\\\\n",
       "\t 2016                       & 2012                       & margem\\_de\\_contribuicao & less                       & 0.95                       & 0.9999861                 \\\\\n",
       "\t 2017                       & 2012                       & margem\\_de\\_contribuicao & less                       & 0.95                       & 0.9999307                 \\\\\n",
       "\t 2018                       & 2012                       & margem\\_de\\_contribuicao & less                       & 0.95                       & 0.9999571                 \\\\\n",
       "\t 2014                       & 2013                       & margem\\_de\\_contribuicao & less                       & 0.95                       & 0.9981137                 \\\\\n",
       "\t 2015                       & 2013                       & margem\\_de\\_contribuicao & less                       & 0.95                       & 0.9999824                 \\\\\n",
       "\t 2016                       & 2013                       & margem\\_de\\_contribuicao & less                       & 0.95                       & 0.9999752                 \\\\\n",
       "\t 2017                       & 2013                       & margem\\_de\\_contribuicao & less                       & 0.95                       & 0.9988855                 \\\\\n",
       "\t 2018                       & 2013                       & margem\\_de\\_contribuicao & less                       & 0.95                       & 0.9992606                 \\\\\n",
       "\t 2015                       & 2014                       & margem\\_de\\_contribuicao & less                       & 0.95                       & 0.9994117                 \\\\\n",
       "\t 2016                       & 2014                       & margem\\_de\\_contribuicao & less                       & 0.95                       & 0.9994569                 \\\\\n",
       "\t 2017                       & 2014                       & margem\\_de\\_contribuicao & less                       & 0.95                       & 0.9922903                 \\\\\n",
       "\t 2018                       & 2014                       & margem\\_de\\_contribuicao & less                       & 0.95                       & 0.9943136                 \\\\\n",
       "\t 2016                       & 2015                       & margem\\_de\\_contribuicao & less                       & 0.95                       & 0.7640876                 \\\\\n",
       "\t 2017                       & 2015                       & margem\\_de\\_contribuicao & less                       & 0.95                       & 0.7114784                 \\\\\n",
       "\t 2018                       & 2015                       & margem\\_de\\_contribuicao & less                       & 0.95                       & 0.7201969                 \\\\\n",
       "\t 2017                       & 2016                       & margem\\_de\\_contribuicao & less                       & 0.95                       & 0.5541102                 \\\\\n",
       "\t 2018                       & 2016                       & margem\\_de\\_contribuicao & less                       & 0.95                       & 0.5519435                 \\\\\n",
       "\t 2018                       & 2017                       & margem\\_de\\_contribuicao & less                       & 0.95                       & 0.4954491                 \\\\\n",
       "\\end{tabular}\n"
      ],
      "text/markdown": [
       "\n",
       "| ano2 | ano1 | feature | H1 | NC | valor_p |\n",
       "|---|---|---|---|---|---|\n",
       "| 2013                   | 2012                   | margem_de_contribuicao | less                   | 0.95                   | 0.9980774              |\n",
       "| 2014                   | 2012                   | margem_de_contribuicao | less                   | 0.95                   | 0.9998461              |\n",
       "| 2015                   | 2012                   | margem_de_contribuicao | less                   | 0.95                   | 0.9999540              |\n",
       "| 2016                   | 2012                   | margem_de_contribuicao | less                   | 0.95                   | 0.9999861              |\n",
       "| 2017                   | 2012                   | margem_de_contribuicao | less                   | 0.95                   | 0.9999307              |\n",
       "| 2018                   | 2012                   | margem_de_contribuicao | less                   | 0.95                   | 0.9999571              |\n",
       "| 2014                   | 2013                   | margem_de_contribuicao | less                   | 0.95                   | 0.9981137              |\n",
       "| 2015                   | 2013                   | margem_de_contribuicao | less                   | 0.95                   | 0.9999824              |\n",
       "| 2016                   | 2013                   | margem_de_contribuicao | less                   | 0.95                   | 0.9999752              |\n",
       "| 2017                   | 2013                   | margem_de_contribuicao | less                   | 0.95                   | 0.9988855              |\n",
       "| 2018                   | 2013                   | margem_de_contribuicao | less                   | 0.95                   | 0.9992606              |\n",
       "| 2015                   | 2014                   | margem_de_contribuicao | less                   | 0.95                   | 0.9994117              |\n",
       "| 2016                   | 2014                   | margem_de_contribuicao | less                   | 0.95                   | 0.9994569              |\n",
       "| 2017                   | 2014                   | margem_de_contribuicao | less                   | 0.95                   | 0.9922903              |\n",
       "| 2018                   | 2014                   | margem_de_contribuicao | less                   | 0.95                   | 0.9943136              |\n",
       "| 2016                   | 2015                   | margem_de_contribuicao | less                   | 0.95                   | 0.7640876              |\n",
       "| 2017                   | 2015                   | margem_de_contribuicao | less                   | 0.95                   | 0.7114784              |\n",
       "| 2018                   | 2015                   | margem_de_contribuicao | less                   | 0.95                   | 0.7201969              |\n",
       "| 2017                   | 2016                   | margem_de_contribuicao | less                   | 0.95                   | 0.5541102              |\n",
       "| 2018                   | 2016                   | margem_de_contribuicao | less                   | 0.95                   | 0.5519435              |\n",
       "| 2018                   | 2017                   | margem_de_contribuicao | less                   | 0.95                   | 0.4954491              |\n",
       "\n"
      ],
      "text/plain": [
       "   ano2 ano1 feature                H1   NC   valor_p  \n",
       "1  2013 2012 margem_de_contribuicao less 0.95 0.9980774\n",
       "2  2014 2012 margem_de_contribuicao less 0.95 0.9998461\n",
       "3  2015 2012 margem_de_contribuicao less 0.95 0.9999540\n",
       "4  2016 2012 margem_de_contribuicao less 0.95 0.9999861\n",
       "5  2017 2012 margem_de_contribuicao less 0.95 0.9999307\n",
       "6  2018 2012 margem_de_contribuicao less 0.95 0.9999571\n",
       "7  2014 2013 margem_de_contribuicao less 0.95 0.9981137\n",
       "8  2015 2013 margem_de_contribuicao less 0.95 0.9999824\n",
       "9  2016 2013 margem_de_contribuicao less 0.95 0.9999752\n",
       "10 2017 2013 margem_de_contribuicao less 0.95 0.9988855\n",
       "11 2018 2013 margem_de_contribuicao less 0.95 0.9992606\n",
       "12 2015 2014 margem_de_contribuicao less 0.95 0.9994117\n",
       "13 2016 2014 margem_de_contribuicao less 0.95 0.9994569\n",
       "14 2017 2014 margem_de_contribuicao less 0.95 0.9922903\n",
       "15 2018 2014 margem_de_contribuicao less 0.95 0.9943136\n",
       "16 2016 2015 margem_de_contribuicao less 0.95 0.7640876\n",
       "17 2017 2015 margem_de_contribuicao less 0.95 0.7114784\n",
       "18 2018 2015 margem_de_contribuicao less 0.95 0.7201969\n",
       "19 2017 2016 margem_de_contribuicao less 0.95 0.5541102\n",
       "20 2018 2016 margem_de_contribuicao less 0.95 0.5519435\n",
       "21 2018 2017 margem_de_contribuicao less 0.95 0.4954491"
      ]
     },
     "metadata": {},
     "output_type": "display_data"
    }
   ],
   "source": [
    "# Teste-t Unicaudal Esquerdo:\n",
    "# Definindo um vetor para o primeiro ano do teste:\n",
    "ano1 = c('2012', '2012', '2012','2012', '2012', '2012', '2013', '2013', '2013', '2013', '2013',\n",
    "         '2014', '2014', '2014', '2014', '2015', '2015', '2015', '2016', '2016', '2017')\n",
    "\n",
    "# Definindo um vetor para o segundo ano do teste:\n",
    "ano2 = c('2013', '2014', '2015','2016', '2017', '2018', '2014', '2015', '2016', '2017', '2018',\n",
    "         '2015', '2016', '2017', '2018', '2016', '2017', '2018', '2017', '2018', '2018')\n",
    "\n",
    "# Realizando o teste-t unicaudal esquerdo:\n",
    "df_teste_t = teste_t(ano1, ano2, feature = \"margem_de_contribuicao\", H1 = \"less\", NC = 0.95)\n",
    "\n",
    "# Filtrando os resultados onde \"valor_p < 0.05\":\n",
    "sprintf(\"Resultados para Valor-p < %.2f\", 1 - 0.95)\n",
    "filter(df_teste_t, valor_p < 0.05)\n",
    "\n",
    "# Filtrando os resultados onde \"valor_p >= 0.05\":\n",
    "sprintf(\"Resultados para Valor-p >= %.2f\", 1 - 0.95)\n",
    "filter(df_teste_t, valor_p >= 0.05)"
   ]
  },
  {
   "cell_type": "markdown",
   "metadata": {},
   "source": [
    "**Conclusão:**\n",
    "\n",
    "Se **`valor-p < 0.05`**: rejeitamos a hipótese nula (**H0**), caso contrário falhamos em rejeitar a a hipótese nula.\n",
    "\n",
    "Como o **valor-p é maior ou igual que 0.05** em todos os testes, os dados falharam em fornecer evidências suficientes para rejeitarmos a hipótese nula do `teste-t unicaudal esquerdo`. Portanto, não podemos concluir, por exemplo, que o ano de **2013** possui uma margem de contribuição (em média, por trimestre) MENOR em relação ao ano de **2012**. Esta mesma explicação é válida para os demais pares de anos onde tivemos como resultado o **`valor-p >= 0.05`**.\n",
    "\n",
    "Portanto, concluimos que **as *margens de contribuição (em média, por trimestre)* NÃO diminuíram significativamente com o passar dos anos!**"
   ]
  },
  {
   "cell_type": "markdown",
   "metadata": {},
   "source": [
    "### Visualizando os resultados:\n",
    "\n",
    "Agora, vamos apresentar os resultados utilizando um ***Boxplot*** e um ***Barplot***."
   ]
  },
  {
   "cell_type": "code",
   "execution_count": 61,
   "metadata": {},
   "outputs": [
    {
     "name": "stderr",
     "output_type": "stream",
     "text": [
      "Saving 6.67 x 6.67 in image\n"
     ]
    },
    {
     "data": {
      "image/png": "[encoded data removed]",
      "text/plain": [
       "plot without title"
      ]
     },
     "metadata": {},
     "output_type": "display_data"
    }
   ],
   "source": [
    "# Definindo as cores para cada ano:\n",
    "cores = c(\"lightblue\", \"lightpink\", \"lightcoral\", \"lightgoldenrod\", \"lightsalmon\", \"lightgray\", \"lightgreen\")\n",
    "# Boxplot:\n",
    "p1 = ggplot(df_data, aes(x = ano_cat, y = margem_de_contribuicao)) +\n",
    "        geom_boxplot(color = \"black\", fill = cores) +\n",
    "        # Definindo os labels e o título do gráfico:\n",
    "        labs(x = \"Ano\", y = \"\", title = \"Margens de Contribuição por Trimestre\") +\n",
    "        \n",
    "        # Agora, vamos formatar os valores em \"%\":\n",
    "        scale_y_continuous(labels = scales::percent) +\n",
    "\n",
    "        # Definindo alguns elementos do \"título\" e dos eixos \"x\" e \"y\":\n",
    "        theme(\n",
    "            plot.title = element_text(color = \"Black\", size = 14, face = \"bold.italic\", hjust = 0.5),\n",
    "            axis.title.x = element_text(color = \"Black\", size = 12, face = \"bold\"),\n",
    "            axis.title.y = element_text(color = \"Black\", size = 12, face = \"bold\")\n",
    "        )\n",
    "\n",
    "print(p1)\n",
    "\n",
    "# Salvando o gráfico:\n",
    "ggsave(filename = \"boxplot_margem_contribuicao.pdf\", plot = p1, device = \"pdf\", path = PROJECT_IMG_PATH, dpi = 300)"
   ]
  },
  {
   "cell_type": "code",
   "execution_count": 62,
   "metadata": {},
   "outputs": [
    {
     "name": "stderr",
     "output_type": "stream",
     "text": [
      "Saving 6.67 x 6.67 in image\n"
     ]
    },
    {
     "data": {
      "image/png": "[encoded data removed]",
      "text/plain": [
       "plot without title"
      ]
     },
     "metadata": {},
     "output_type": "display_data"
    }
   ],
   "source": [
    "# Barplot:\n",
    "p1 <- ggplot(media_margem_ctb, aes(x = Ano, y = Media_Margem_Contribuicao)) +\n",
    "            geom_bar(stat = 'identity', col = \"black\", fill = cores) + theme(axis.text.x = element_text(angle = 0,\n",
    "                                                                                                        hjust = 0.5)) +\n",
    "            guides(fill = FALSE) + coord_cartesian(ylim = c(0.15, 0.35)) +\n",
    "            ggtitle(\"Margem de Contribuição (Média) por Trimestre\") + xlab(\"Ano\") + ylab(\"\") +\n",
    "            scale_y_continuous(labels = scales::percent) +\n",
    "            theme(\n",
    "                plot.title = element_text(color = \"Black\", size = 14, face = \"bold.italic\", hjust = 0.5),\n",
    "                axis.title.x = element_text(color = \"Black\", size = 12, face = \"bold\"),\n",
    "                axis.title.y = element_text(color = \"Black\", size = 12, face = \"bold\")\n",
    "            )\n",
    "\n",
    "print(p1)\n",
    "\n",
    "# Salvando o gráfico:\n",
    "ggsave(filename = \"barplot_media_margem_contribuicao.pdf\", plot = p1, device = \"pdf\", path = PROJECT_IMG_PATH, dpi = 300)"
   ]
  },
  {
   "cell_type": "markdown",
   "metadata": {},
   "source": [
    "**Análise:**\n",
    "\n",
    "* O gráfico acima (***Boxplot***) confirma todos os testes estatísticos realizados, ou seja, que **as *margens de contribuição (em média, por trimestre)* aumentaram significativamente no período entre 2012 e 2015**;\n",
    "\n",
    "\n",
    "* O gráfico acima (***Barplot***) apresenta a **`média`** da **`Margem de Contribuição`** (por **`Trimestre`**) em cada um dos anos."
   ]
  },
  {
   "cell_type": "markdown",
   "metadata": {},
   "source": [
    "### `2.12-` Considerando todo o período (`2012 a 2018`), os *rendimentos por cliente aumentaram e/ou diminuíram*?\n",
    "\n",
    "Para fazermos esta análise, vamos realizar um teste de **Análise de Variância (`ANOVA`)** para concluir se devemos rejeitar ou não a hipótese nula.\n",
    "\n",
    "Então, para realizarmos o *teste de hipóteses* definimos as duas hipóteses:\n",
    "\n",
    ">1. **`H0`:** RMPC1 = RMPC2 = RMPC3 = RMPC4 = RMPC5 = RMPC6 = RMPC7, ou seja, o rendimento médio por cliente (por trimestre) não difere entre cada um dos anos, ou seja, em todo o período.\n",
    ">2. **`H1`:** o rendimento médio por cliente (por trimestre) é diferente em pelo menos um ano dentro do período.\n",
    "\n",
    "Onde:\n",
    "\n",
    ">* **`RMPC1`:** rendimento médio por cliente (por trimestre) para o ano de ***`2012`***;\n",
    ">* **`RMPC2`:** rendimento médio por cliente (por trimestre) para o ano de ***`2013`***;\n",
    ">* **`RMPC3`:** rendimento médio por cliente (por trimestre) para o ano de ***`2014`***;\n",
    ">* **`RMPC4`:** rendimento médio por cliente (por trimestre) para o ano de ***`2015`***;\n",
    ">* **`RMPC5`:** rendimento médio por cliente (por trimestre) para o ano de ***`2016`***;\n",
    ">* **`RMPC6`:** rendimento médio por cliente (por trimestre) para o ano de ***`2017`***;\n",
    ">* **`RMPC7`:** rendimento médio por cliente (por trimestre) para o ano de ***`2018`***."
   ]
  },
  {
   "cell_type": "code",
   "execution_count": 63,
   "metadata": {},
   "outputs": [
    {
     "data": {
      "text/html": [
       "<table>\n",
       "<thead><tr><th></th><th scope=col>Df</th><th scope=col>Sum Sq</th><th scope=col>Mean Sq</th><th scope=col>F value</th><th scope=col>Pr(&gt;F)</th></tr></thead>\n",
       "<tbody>\n",
       "\t<tr><th scope=row>ano_cat    </th><td> 6          </td><td>285.006836  </td><td>47.5011394  </td><td>136.4691    </td><td>1.037277e-15</td></tr>\n",
       "\t<tr><th scope=row>Residuals  </th><td>21          </td><td>  7.309521  </td><td> 0.3480724  </td><td>      NA    </td><td>          NA</td></tr>\n",
       "</tbody>\n",
       "</table>\n"
      ],
      "text/latex": [
       "\\begin{tabular}{r|lllll}\n",
       "  & Df & Sum Sq & Mean Sq & F value & Pr(>F)\\\\\n",
       "\\hline\n",
       "\tano\\_cat     &  6           & 285.006836   & 47.5011394   & 136.4691     & 1.037277e-15\\\\\n",
       "\tResiduals   & 21           &   7.309521   &  0.3480724   &       NA     &           NA\\\\\n",
       "\\end{tabular}\n"
      ],
      "text/markdown": [
       "\n",
       "| <!--/--> | Df | Sum Sq | Mean Sq | F value | Pr(>F) |\n",
       "|---|---|---|---|---|---|\n",
       "| ano_cat     |  6           | 285.006836   | 47.5011394   | 136.4691     | 1.037277e-15 |\n",
       "| Residuals   | 21           |   7.309521   |  0.3480724   |       NA     |           NA |\n",
       "\n"
      ],
      "text/plain": [
       "            Df Sum Sq     Mean Sq    F value  Pr(>F)      \n",
       "ano_cat      6 285.006836 47.5011394 136.4691 1.037277e-15\n",
       "Residuals   21   7.309521  0.3480724       NA           NA"
      ]
     },
     "metadata": {},
     "output_type": "display_data"
    },
    {
     "data": {
      "text/html": [
       "'valor-p do teste: 0.00000000000000103728'"
      ],
      "text/latex": [
       "'valor-p do teste: 0.00000000000000103728'"
      ],
      "text/markdown": [
       "'valor-p do teste: 0.00000000000000103728'"
      ],
      "text/plain": [
       "[1] \"valor-p do teste: 0.00000000000000103728\""
      ]
     },
     "metadata": {},
     "output_type": "display_data"
    }
   ],
   "source": [
    "# Aplicanto análise de variância (ANOVA):\n",
    "resultado_anova <- aov(formula = rendimento_por_cliente ~ ano_cat, data = df_data)\n",
    "\n",
    "# Resumo estatístico do teste ANOVA:\n",
    "anova_table = summary(resultado_anova)\n",
    "anova_table[[1]]\n",
    "\n",
    "# Obtendo o \"valor-p\" do teste:\n",
    "sprintf(\"valor-p do teste: %.20f\", anova_table[[1]]$Pr[[1]])"
   ]
  },
  {
   "cell_type": "markdown",
   "metadata": {},
   "source": [
    "**Conclusão:**\n",
    "\n",
    "Se **`valor-p < 0.05`**: rejeitamos a hipótese nula (**H0**), caso contrário falhamos em rejeitar a a hipótese nula.\n",
    "\n",
    "O **valor-p é menor que 0.05**. Portanto, os resultados não ocorreram por variação aleatória e a hipótese nula é rejeitada, ou seja, há um efeito significativo do ano (variável independente) no rendimento por cliente (variável dependente) por trimestre."
   ]
  },
  {
   "cell_type": "markdown",
   "metadata": {},
   "source": [
    "### `Comparações Não Planejadas`:\n",
    "\n",
    "Estas comparações também são chamadas de *testes a posteriori*, *testes post hoc* ou simplesmente *comparações não planejadas*.\n",
    "\n",
    "Um dos membros mais conhecidos do mundo *post-hoc* é o **teste HSD** (*Honest Significant Difference* ou Diferença Honestamente Significativa). Esse teste realiza todas as comparações emparelháveis possíveis entre as médias amostrais."
   ]
  },
  {
   "cell_type": "code",
   "execution_count": 64,
   "metadata": {},
   "outputs": [
    {
     "data": {
      "text/plain": [
       "  Tukey multiple comparisons of means\n",
       "    95% family-wise confidence level\n",
       "\n",
       "Fit: aov(formula = rendimento_por_cliente ~ ano_cat, data = df_data)\n",
       "\n",
       "$ano_cat\n",
       "               diff        lwr       upr     p adj\n",
       "2013-2012 0.8964275 -0.4597228  2.252578 0.3622925\n",
       "2014-2012 1.9948165  0.6386662  3.350967 0.0016582\n",
       "2015-2012 3.5727494  2.2165991  4.928900 0.0000005\n",
       "2016-2012 5.1149285  3.7587782  6.471079 0.0000000\n",
       "2017-2012 6.8718068  5.5156565  8.227957 0.0000000\n",
       "2018-2012 9.6504305  8.2942802 11.006581 0.0000000\n",
       "2014-2013 1.0983890 -0.2577613  2.454539 0.1659341\n",
       "2015-2013 2.6763219  1.3201716  4.032472 0.0000420\n",
       "2016-2013 4.2185010  2.8623507  5.574651 0.0000000\n",
       "2017-2013 5.9753793  4.6192290  7.331530 0.0000000\n",
       "2018-2013 8.7540030  7.3978527 10.110153 0.0000000\n",
       "2015-2014 1.5779329  0.2217826  2.934083 0.0159506\n",
       "2016-2014 3.1201120  1.7639617  4.476262 0.0000044\n",
       "2017-2014 4.8769903  3.5208400  6.233141 0.0000000\n",
       "2018-2014 7.6556140  6.2994637  9.011764 0.0000000\n",
       "2016-2015 1.5421791  0.1860288  2.898329 0.0192643\n",
       "2017-2015 3.2990574  1.9429071  4.655208 0.0000018\n",
       "2018-2015 6.0776811  4.7215308  7.433831 0.0000000\n",
       "2017-2016 1.7568783  0.4007280  3.113029 0.0060966\n",
       "2018-2016 4.5355020  3.1793517  5.891652 0.0000000\n",
       "2018-2017 2.7786237  1.4224734  4.134774 0.0000247\n"
      ]
     },
     "metadata": {},
     "output_type": "display_data"
    }
   ],
   "source": [
    "# Realizando o teste de \"Tukey\":\n",
    "TukeyHSD(resultado_anova, ordered = FALSE, conf.level = 0.95, )"
   ]
  },
  {
   "cell_type": "markdown",
   "metadata": {},
   "source": [
    "**Conclusão:**\n",
    "\n",
    "* De acordo com os resultados do **`teste-HSD`**, **dezenove** pares de anos têm um **valor-p < 0.05**. Isso significa que **há diferença estatisticamente significativa** no rendimento por cliente (por trimestre) entre cada um dos anos;\n",
    "\n",
    "\n",
    "* De acordo com os resultados do **`teste-HSD`**, **dois** pares de anos têm um **valor-p >= 0.05**. Isso significa que **não há diferença estatisticamente significativa** no rendimento por cliente (por trimestre) entre cada um dos anos."
   ]
  },
  {
   "cell_type": "markdown",
   "metadata": {},
   "source": [
    "### Vamos agora, verificar se os *rendimentos por cliente* aumentaram com o passar dos anos:"
   ]
  },
  {
   "cell_type": "markdown",
   "metadata": {},
   "source": [
    "Então, realizaremos um `teste-t unicaudal direito` para verificarmos esta condição.\n",
    "\n",
    "Definindo as duas hipóteses:\n",
    "\n",
    ">1. **`H0`:** RMPC2 - RMPC1 = 0, ou seja, o rendimento médio por cliente (por trimestre) não difere entre cada um dos anos \"1\" e \"2\";\n",
    ">2. **`H1`:** RMPC2 - RMPC1 > 0, ou seja, o rendimento médio por cliente (por trimestre) no ano \"2\" é MAIOR que o rendimento médio por cliente (por trimestre) no ano \"1\".\n",
    "\n",
    "Onde:\n",
    "\n",
    ">* **`RMPC1`:** rendimento médio por cliente (por trimestre) para o ano ***`1`***;\n",
    ">* **`RMPC2`:** rendimento médio por cliente (por trimestre) para o ano ***`2`***."
   ]
  },
  {
   "cell_type": "code",
   "execution_count": 65,
   "metadata": {
    "scrolled": true
   },
   "outputs": [
    {
     "data": {
      "text/html": [
       "'Resultados para Valor-p &lt; 0.05'"
      ],
      "text/latex": [
       "'Resultados para Valor-p < 0.05'"
      ],
      "text/markdown": [
       "'Resultados para Valor-p &lt; 0.05'"
      ],
      "text/plain": [
       "[1] \"Resultados para Valor-p < 0.05\""
      ]
     },
     "metadata": {},
     "output_type": "display_data"
    },
    {
     "data": {
      "text/html": [
       "<table>\n",
       "<thead><tr><th scope=col>ano2</th><th scope=col>ano1</th><th scope=col>feature</th><th scope=col>H1</th><th scope=col>NC</th><th scope=col>valor_p</th></tr></thead>\n",
       "<tbody>\n",
       "\t<tr><td>2013                  </td><td>2012                  </td><td>rendimento_por_cliente</td><td>greater               </td><td>0.95                  </td><td>1.595232e-03          </td></tr>\n",
       "\t<tr><td>2014                  </td><td>2012                  </td><td>rendimento_por_cliente</td><td>greater               </td><td>0.95                  </td><td>7.070928e-04          </td></tr>\n",
       "\t<tr><td>2015                  </td><td>2012                  </td><td>rendimento_por_cliente</td><td>greater               </td><td>0.95                  </td><td>1.028165e-05          </td></tr>\n",
       "\t<tr><td>2016                  </td><td>2012                  </td><td>rendimento_por_cliente</td><td>greater               </td><td>0.95                  </td><td>1.724685e-03          </td></tr>\n",
       "\t<tr><td>2017                  </td><td>2012                  </td><td>rendimento_por_cliente</td><td>greater               </td><td>0.95                  </td><td>9.021739e-05          </td></tr>\n",
       "\t<tr><td>2018                  </td><td>2012                  </td><td>rendimento_por_cliente</td><td>greater               </td><td>0.95                  </td><td>6.323803e-06          </td></tr>\n",
       "\t<tr><td>2014                  </td><td>2013                  </td><td>rendimento_por_cliente</td><td>greater               </td><td>0.95                  </td><td>2.735546e-03          </td></tr>\n",
       "\t<tr><td>2015                  </td><td>2013                  </td><td>rendimento_por_cliente</td><td>greater               </td><td>0.95                  </td><td>3.470840e-06          </td></tr>\n",
       "\t<tr><td>2016                  </td><td>2013                  </td><td>rendimento_por_cliente</td><td>greater               </td><td>0.95                  </td><td>2.533446e-03          </td></tr>\n",
       "\t<tr><td>2017                  </td><td>2013                  </td><td>rendimento_por_cliente</td><td>greater               </td><td>0.95                  </td><td>4.125613e-05          </td></tr>\n",
       "\t<tr><td>2018                  </td><td>2013                  </td><td>rendimento_por_cliente</td><td>greater               </td><td>0.95                  </td><td>3.462075e-07          </td></tr>\n",
       "\t<tr><td>2015                  </td><td>2014                  </td><td>rendimento_por_cliente</td><td>greater               </td><td>0.95                  </td><td>5.266605e-04          </td></tr>\n",
       "\t<tr><td>2016                  </td><td>2014                  </td><td>rendimento_por_cliente</td><td>greater               </td><td>0.95                  </td><td>5.309043e-03          </td></tr>\n",
       "\t<tr><td>2017                  </td><td>2014                  </td><td>rendimento_por_cliente</td><td>greater               </td><td>0.95                  </td><td>2.772657e-05          </td></tr>\n",
       "\t<tr><td>2018                  </td><td>2014                  </td><td>rendimento_por_cliente</td><td>greater               </td><td>0.95                  </td><td>1.395983e-07          </td></tr>\n",
       "\t<tr><td>2016                  </td><td>2015                  </td><td>rendimento_por_cliente</td><td>greater               </td><td>0.95                  </td><td>4.170296e-02          </td></tr>\n",
       "\t<tr><td>2017                  </td><td>2015                  </td><td>rendimento_por_cliente</td><td>greater               </td><td>0.95                  </td><td>3.810504e-04          </td></tr>\n",
       "\t<tr><td>2018                  </td><td>2015                  </td><td>rendimento_por_cliente</td><td>greater               </td><td>0.95                  </td><td>1.711205e-06          </td></tr>\n",
       "\t<tr><td>2017                  </td><td>2016                  </td><td>rendimento_por_cliente</td><td>greater               </td><td>0.95                  </td><td>2.840628e-02          </td></tr>\n",
       "\t<tr><td>2018                  </td><td>2016                  </td><td>rendimento_por_cliente</td><td>greater               </td><td>0.95                  </td><td>1.365594e-03          </td></tr>\n",
       "\t<tr><td>2018                  </td><td>2017                  </td><td>rendimento_por_cliente</td><td>greater               </td><td>0.95                  </td><td>3.562996e-04          </td></tr>\n",
       "</tbody>\n",
       "</table>\n"
      ],
      "text/latex": [
       "\\begin{tabular}{r|llllll}\n",
       " ano2 & ano1 & feature & H1 & NC & valor\\_p\\\\\n",
       "\\hline\n",
       "\t 2013                       & 2012                       & rendimento\\_por\\_cliente & greater                    & 0.95                       & 1.595232e-03              \\\\\n",
       "\t 2014                       & 2012                       & rendimento\\_por\\_cliente & greater                    & 0.95                       & 7.070928e-04              \\\\\n",
       "\t 2015                       & 2012                       & rendimento\\_por\\_cliente & greater                    & 0.95                       & 1.028165e-05              \\\\\n",
       "\t 2016                       & 2012                       & rendimento\\_por\\_cliente & greater                    & 0.95                       & 1.724685e-03              \\\\\n",
       "\t 2017                       & 2012                       & rendimento\\_por\\_cliente & greater                    & 0.95                       & 9.021739e-05              \\\\\n",
       "\t 2018                       & 2012                       & rendimento\\_por\\_cliente & greater                    & 0.95                       & 6.323803e-06              \\\\\n",
       "\t 2014                       & 2013                       & rendimento\\_por\\_cliente & greater                    & 0.95                       & 2.735546e-03              \\\\\n",
       "\t 2015                       & 2013                       & rendimento\\_por\\_cliente & greater                    & 0.95                       & 3.470840e-06              \\\\\n",
       "\t 2016                       & 2013                       & rendimento\\_por\\_cliente & greater                    & 0.95                       & 2.533446e-03              \\\\\n",
       "\t 2017                       & 2013                       & rendimento\\_por\\_cliente & greater                    & 0.95                       & 4.125613e-05              \\\\\n",
       "\t 2018                       & 2013                       & rendimento\\_por\\_cliente & greater                    & 0.95                       & 3.462075e-07              \\\\\n",
       "\t 2015                       & 2014                       & rendimento\\_por\\_cliente & greater                    & 0.95                       & 5.266605e-04              \\\\\n",
       "\t 2016                       & 2014                       & rendimento\\_por\\_cliente & greater                    & 0.95                       & 5.309043e-03              \\\\\n",
       "\t 2017                       & 2014                       & rendimento\\_por\\_cliente & greater                    & 0.95                       & 2.772657e-05              \\\\\n",
       "\t 2018                       & 2014                       & rendimento\\_por\\_cliente & greater                    & 0.95                       & 1.395983e-07              \\\\\n",
       "\t 2016                       & 2015                       & rendimento\\_por\\_cliente & greater                    & 0.95                       & 4.170296e-02              \\\\\n",
       "\t 2017                       & 2015                       & rendimento\\_por\\_cliente & greater                    & 0.95                       & 3.810504e-04              \\\\\n",
       "\t 2018                       & 2015                       & rendimento\\_por\\_cliente & greater                    & 0.95                       & 1.711205e-06              \\\\\n",
       "\t 2017                       & 2016                       & rendimento\\_por\\_cliente & greater                    & 0.95                       & 2.840628e-02              \\\\\n",
       "\t 2018                       & 2016                       & rendimento\\_por\\_cliente & greater                    & 0.95                       & 1.365594e-03              \\\\\n",
       "\t 2018                       & 2017                       & rendimento\\_por\\_cliente & greater                    & 0.95                       & 3.562996e-04              \\\\\n",
       "\\end{tabular}\n"
      ],
      "text/markdown": [
       "\n",
       "| ano2 | ano1 | feature | H1 | NC | valor_p |\n",
       "|---|---|---|---|---|---|\n",
       "| 2013                   | 2012                   | rendimento_por_cliente | greater                | 0.95                   | 1.595232e-03           |\n",
       "| 2014                   | 2012                   | rendimento_por_cliente | greater                | 0.95                   | 7.070928e-04           |\n",
       "| 2015                   | 2012                   | rendimento_por_cliente | greater                | 0.95                   | 1.028165e-05           |\n",
       "| 2016                   | 2012                   | rendimento_por_cliente | greater                | 0.95                   | 1.724685e-03           |\n",
       "| 2017                   | 2012                   | rendimento_por_cliente | greater                | 0.95                   | 9.021739e-05           |\n",
       "| 2018                   | 2012                   | rendimento_por_cliente | greater                | 0.95                   | 6.323803e-06           |\n",
       "| 2014                   | 2013                   | rendimento_por_cliente | greater                | 0.95                   | 2.735546e-03           |\n",
       "| 2015                   | 2013                   | rendimento_por_cliente | greater                | 0.95                   | 3.470840e-06           |\n",
       "| 2016                   | 2013                   | rendimento_por_cliente | greater                | 0.95                   | 2.533446e-03           |\n",
       "| 2017                   | 2013                   | rendimento_por_cliente | greater                | 0.95                   | 4.125613e-05           |\n",
       "| 2018                   | 2013                   | rendimento_por_cliente | greater                | 0.95                   | 3.462075e-07           |\n",
       "| 2015                   | 2014                   | rendimento_por_cliente | greater                | 0.95                   | 5.266605e-04           |\n",
       "| 2016                   | 2014                   | rendimento_por_cliente | greater                | 0.95                   | 5.309043e-03           |\n",
       "| 2017                   | 2014                   | rendimento_por_cliente | greater                | 0.95                   | 2.772657e-05           |\n",
       "| 2018                   | 2014                   | rendimento_por_cliente | greater                | 0.95                   | 1.395983e-07           |\n",
       "| 2016                   | 2015                   | rendimento_por_cliente | greater                | 0.95                   | 4.170296e-02           |\n",
       "| 2017                   | 2015                   | rendimento_por_cliente | greater                | 0.95                   | 3.810504e-04           |\n",
       "| 2018                   | 2015                   | rendimento_por_cliente | greater                | 0.95                   | 1.711205e-06           |\n",
       "| 2017                   | 2016                   | rendimento_por_cliente | greater                | 0.95                   | 2.840628e-02           |\n",
       "| 2018                   | 2016                   | rendimento_por_cliente | greater                | 0.95                   | 1.365594e-03           |\n",
       "| 2018                   | 2017                   | rendimento_por_cliente | greater                | 0.95                   | 3.562996e-04           |\n",
       "\n"
      ],
      "text/plain": [
       "   ano2 ano1 feature                H1      NC   valor_p     \n",
       "1  2013 2012 rendimento_por_cliente greater 0.95 1.595232e-03\n",
       "2  2014 2012 rendimento_por_cliente greater 0.95 7.070928e-04\n",
       "3  2015 2012 rendimento_por_cliente greater 0.95 1.028165e-05\n",
       "4  2016 2012 rendimento_por_cliente greater 0.95 1.724685e-03\n",
       "5  2017 2012 rendimento_por_cliente greater 0.95 9.021739e-05\n",
       "6  2018 2012 rendimento_por_cliente greater 0.95 6.323803e-06\n",
       "7  2014 2013 rendimento_por_cliente greater 0.95 2.735546e-03\n",
       "8  2015 2013 rendimento_por_cliente greater 0.95 3.470840e-06\n",
       "9  2016 2013 rendimento_por_cliente greater 0.95 2.533446e-03\n",
       "10 2017 2013 rendimento_por_cliente greater 0.95 4.125613e-05\n",
       "11 2018 2013 rendimento_por_cliente greater 0.95 3.462075e-07\n",
       "12 2015 2014 rendimento_por_cliente greater 0.95 5.266605e-04\n",
       "13 2016 2014 rendimento_por_cliente greater 0.95 5.309043e-03\n",
       "14 2017 2014 rendimento_por_cliente greater 0.95 2.772657e-05\n",
       "15 2018 2014 rendimento_por_cliente greater 0.95 1.395983e-07\n",
       "16 2016 2015 rendimento_por_cliente greater 0.95 4.170296e-02\n",
       "17 2017 2015 rendimento_por_cliente greater 0.95 3.810504e-04\n",
       "18 2018 2015 rendimento_por_cliente greater 0.95 1.711205e-06\n",
       "19 2017 2016 rendimento_por_cliente greater 0.95 2.840628e-02\n",
       "20 2018 2016 rendimento_por_cliente greater 0.95 1.365594e-03\n",
       "21 2018 2017 rendimento_por_cliente greater 0.95 3.562996e-04"
      ]
     },
     "metadata": {},
     "output_type": "display_data"
    },
    {
     "data": {
      "text/html": [
       "'Resultados para Valor-p &gt;= 0.05'"
      ],
      "text/latex": [
       "'Resultados para Valor-p >= 0.05'"
      ],
      "text/markdown": [
       "'Resultados para Valor-p &gt;= 0.05'"
      ],
      "text/plain": [
       "[1] \"Resultados para Valor-p >= 0.05\""
      ]
     },
     "metadata": {},
     "output_type": "display_data"
    },
    {
     "data": {
      "text/html": [
       "<table>\n",
       "<thead><tr><th scope=col>ano2</th><th scope=col>ano1</th><th scope=col>feature</th><th scope=col>H1</th><th scope=col>NC</th><th scope=col>valor_p</th></tr></thead>\n",
       "<tbody>\n",
       "</tbody>\n",
       "</table>\n"
      ],
      "text/latex": [
       "\\begin{tabular}{r|llllll}\n",
       " ano2 & ano1 & feature & H1 & NC & valor\\_p\\\\\n",
       "\\hline\n",
       "\\end{tabular}\n"
      ],
      "text/markdown": [
       "\n",
       "| ano2 | ano1 | feature | H1 | NC | valor_p |\n",
       "|---|---|---|---|---|---|\n",
       "\n"
      ],
      "text/plain": [
       "     ano2 ano1 feature H1 NC valor_p"
      ]
     },
     "metadata": {},
     "output_type": "display_data"
    }
   ],
   "source": [
    "# Teste-t Unicaudal Direito:\n",
    "# Definindo um vetor para o primeiro ano do teste:\n",
    "ano1 = c('2012', '2012', '2012','2012', '2012', '2012', '2013', '2013', '2013', '2013', '2013',\n",
    "         '2014', '2014', '2014', '2014', '2015', '2015', '2015', '2016', '2016', '2017')\n",
    "\n",
    "# Definindo um vetor para o segundo ano do teste:\n",
    "ano2 = c('2013', '2014', '2015','2016', '2017', '2018', '2014', '2015', '2016', '2017', '2018',\n",
    "         '2015', '2016', '2017', '2018', '2016', '2017', '2018', '2017', '2018', '2018')\n",
    "\n",
    "# Realizando o teste-t unicaudal direito:\n",
    "df_teste_t = teste_t(ano1, ano2, feature = \"rendimento_por_cliente\", H1 = \"greater\", NC = 0.95)\n",
    "\n",
    "# Filtrando os resultados onde \"valor_p < 0.05\":\n",
    "sprintf(\"Resultados para Valor-p < %.2f\", 1 - 0.95)\n",
    "filter(df_teste_t, valor_p < 0.05)\n",
    "\n",
    "# Filtrando os resultados onde \"valor_p >= 0.05\":\n",
    "sprintf(\"Resultados para Valor-p >= %.2f\", 1 - 0.95)\n",
    "filter(df_teste_t, valor_p >= 0.05)"
   ]
  },
  {
   "cell_type": "markdown",
   "metadata": {},
   "source": [
    "**Conclusão:**\n",
    "\n",
    "Se **`valor-p < 0.05`**: rejeitamos a hipótese nula (**H0**), caso contrário falhamos em rejeitar a a hipótese nula.\n",
    "\n",
    "Como o **valor-p é menor que 0.05** em todos os testes (21), podemos rejeitar a hipótese nula do `teste-t unicaudal direito`. Portanto, podemos concluir, por exemplo, que o ano de **2013** possui um rendimento por cliente (em média, por trimestre) MAIOR que o rendimento por cliente do ano de **2012**. Esta mesma explicação é válida para os demais pares de anos onde tivemos como resultado o **`valor-p < 0.05`**.\n",
    "\n",
    "Portanto, concluimos que **os *rendimentos por cliente (em média, por trimestre)* aumentaram significativamente em todos os anos!**"
   ]
  },
  {
   "cell_type": "markdown",
   "metadata": {},
   "source": [
    "### O quanto que os *rendimentos por cliente* aumentaram (em média, por trimestre) entre os anos de `2012 e 2018`?"
   ]
  },
  {
   "cell_type": "markdown",
   "metadata": {},
   "source": [
    "Primeiro, vamos calcular as médias (por trimestre) do *rendimento por cliente* em cada um dos anos:"
   ]
  },
  {
   "cell_type": "code",
   "execution_count": 66,
   "metadata": {
    "scrolled": true
   },
   "outputs": [
    {
     "data": {
      "text/html": [
       "<table>\n",
       "<thead><tr><th scope=col>Ano</th><th scope=col>Media_Rendimento_Cliente</th></tr></thead>\n",
       "<tbody>\n",
       "\t<tr><td>2012     </td><td> 6.287528</td></tr>\n",
       "\t<tr><td>2013     </td><td> 7.183956</td></tr>\n",
       "\t<tr><td>2014     </td><td> 8.282345</td></tr>\n",
       "\t<tr><td>2015     </td><td> 9.860278</td></tr>\n",
       "\t<tr><td>2016     </td><td>11.402457</td></tr>\n",
       "\t<tr><td>2017     </td><td>13.159335</td></tr>\n",
       "\t<tr><td>2018     </td><td>15.937959</td></tr>\n",
       "</tbody>\n",
       "</table>\n"
      ],
      "text/latex": [
       "\\begin{tabular}{r|ll}\n",
       " Ano & Media\\_Rendimento\\_Cliente\\\\\n",
       "\\hline\n",
       "\t 2012      &  6.287528\\\\\n",
       "\t 2013      &  7.183956\\\\\n",
       "\t 2014      &  8.282345\\\\\n",
       "\t 2015      &  9.860278\\\\\n",
       "\t 2016      & 11.402457\\\\\n",
       "\t 2017      & 13.159335\\\\\n",
       "\t 2018      & 15.937959\\\\\n",
       "\\end{tabular}\n"
      ],
      "text/markdown": [
       "\n",
       "| Ano | Media_Rendimento_Cliente |\n",
       "|---|---|\n",
       "| 2012      |  6.287528 |\n",
       "| 2013      |  7.183956 |\n",
       "| 2014      |  8.282345 |\n",
       "| 2015      |  9.860278 |\n",
       "| 2016      | 11.402457 |\n",
       "| 2017      | 13.159335 |\n",
       "| 2018      | 15.937959 |\n",
       "\n"
      ],
      "text/plain": [
       "  Ano  Media_Rendimento_Cliente\n",
       "1 2012  6.287528               \n",
       "2 2013  7.183956               \n",
       "3 2014  8.282345               \n",
       "4 2015  9.860278               \n",
       "5 2016 11.402457               \n",
       "6 2017 13.159335               \n",
       "7 2018 15.937959               "
      ]
     },
     "metadata": {},
     "output_type": "display_data"
    }
   ],
   "source": [
    "# Calculando as médias do rendimento por cliente por ano:\n",
    "media_rend_cliente = aggregate(df_data[, \"rendimento_por_cliente\"], list(df_data$ano_cat), mean)\n",
    "colnames(media_rend_cliente) <- c(\"Ano\", \"Media_Rendimento_Cliente\")\n",
    "media_rend_cliente"
   ]
  },
  {
   "cell_type": "markdown",
   "metadata": {},
   "source": [
    "Em seguida, vamos criar um data frame com os cálculos necessários para identificarmos o *aumento* do rendimento por cliente (em média, por trimestre) entre os anos de 2012 e 2018:"
   ]
  },
  {
   "cell_type": "code",
   "execution_count": 67,
   "metadata": {
    "scrolled": true
   },
   "outputs": [
    {
     "data": {
      "text/html": [
       "<table>\n",
       "<thead><tr><th scope=col>ano2</th><th scope=col>ano1</th><th scope=col>valor_p</th><th scope=col>media_ano2</th><th scope=col>media_ano1</th><th scope=col>aumento</th></tr></thead>\n",
       "<tbody>\n",
       "\t<tr><td>2018        </td><td>2012        </td><td>6.323803e-06</td><td>15.937959   </td><td> 6.287528   </td><td>1.5348528   </td></tr>\n",
       "\t<tr><td>2018        </td><td>2013        </td><td>3.462075e-07</td><td>15.937959   </td><td> 7.183956   </td><td>1.2185491   </td></tr>\n",
       "\t<tr><td>2017        </td><td>2012        </td><td>9.021739e-05</td><td>13.159335   </td><td> 6.287528   </td><td>1.0929266   </td></tr>\n",
       "\t<tr><td>2018        </td><td>2014        </td><td>1.395983e-07</td><td>15.937959   </td><td> 8.282345   </td><td>0.9243293   </td></tr>\n",
       "\t<tr><td>2017        </td><td>2013        </td><td>4.125613e-05</td><td>13.159335   </td><td> 7.183956   </td><td>0.8317673   </td></tr>\n",
       "\t<tr><td>2016        </td><td>2012        </td><td>1.724685e-03</td><td>11.402457   </td><td> 6.287528   </td><td>0.8135039   </td></tr>\n",
       "\t<tr><td>2018        </td><td>2015        </td><td>1.711205e-06</td><td>15.937959   </td><td> 9.860278   </td><td>0.6163803   </td></tr>\n",
       "\t<tr><td>2017        </td><td>2014        </td><td>2.772657e-05</td><td>13.159335   </td><td> 8.282345   </td><td>0.5888417   </td></tr>\n",
       "\t<tr><td>2016        </td><td>2013        </td><td>2.533446e-03</td><td>11.402457   </td><td> 7.183956   </td><td>0.5872114   </td></tr>\n",
       "\t<tr><td>2015        </td><td>2012        </td><td>1.028165e-05</td><td> 9.860278   </td><td> 6.287528   </td><td>0.5682280   </td></tr>\n",
       "\t<tr><td>2018        </td><td>2016        </td><td>1.365594e-03</td><td>15.937959   </td><td>11.402457   </td><td>0.3977653   </td></tr>\n",
       "\t<tr><td>2016        </td><td>2014        </td><td>5.309043e-03</td><td>11.402457   </td><td> 8.282345   </td><td>0.3767184   </td></tr>\n",
       "\t<tr><td>2015        </td><td>2013        </td><td>3.470840e-06</td><td> 9.860278   </td><td> 7.183956   </td><td>0.3725415   </td></tr>\n",
       "\t<tr><td>2017        </td><td>2015        </td><td>3.810504e-04</td><td>13.159335   </td><td> 9.860278   </td><td>0.3345806   </td></tr>\n",
       "\t<tr><td>2014        </td><td>2012        </td><td>7.070928e-04</td><td> 8.282345   </td><td> 6.287528   </td><td>0.3172656   </td></tr>\n",
       "\t<tr><td>2018        </td><td>2017        </td><td>3.562996e-04</td><td>15.937959   </td><td>13.159335   </td><td>0.2111523   </td></tr>\n",
       "\t<tr><td>2015        </td><td>2014        </td><td>5.266605e-04</td><td> 9.860278   </td><td> 8.282345   </td><td>0.1905177   </td></tr>\n",
       "\t<tr><td>2016        </td><td>2015        </td><td>4.170296e-02</td><td>11.402457   </td><td> 9.860278   </td><td>0.1564032   </td></tr>\n",
       "\t<tr><td>2017        </td><td>2016        </td><td>2.840628e-02</td><td>13.159335   </td><td>11.402457   </td><td>0.1540789   </td></tr>\n",
       "\t<tr><td>2014        </td><td>2013        </td><td>2.735546e-03</td><td> 8.282345   </td><td> 7.183956   </td><td>0.1528947   </td></tr>\n",
       "\t<tr><td>2013        </td><td>2012        </td><td>1.595232e-03</td><td> 7.183956   </td><td> 6.287528   </td><td>0.1425723   </td></tr>\n",
       "</tbody>\n",
       "</table>\n"
      ],
      "text/latex": [
       "\\begin{tabular}{r|llllll}\n",
       " ano2 & ano1 & valor\\_p & media\\_ano2 & media\\_ano1 & aumento\\\\\n",
       "\\hline\n",
       "\t 2018         & 2012         & 6.323803e-06 & 15.937959    &  6.287528    & 1.5348528   \\\\\n",
       "\t 2018         & 2013         & 3.462075e-07 & 15.937959    &  7.183956    & 1.2185491   \\\\\n",
       "\t 2017         & 2012         & 9.021739e-05 & 13.159335    &  6.287528    & 1.0929266   \\\\\n",
       "\t 2018         & 2014         & 1.395983e-07 & 15.937959    &  8.282345    & 0.9243293   \\\\\n",
       "\t 2017         & 2013         & 4.125613e-05 & 13.159335    &  7.183956    & 0.8317673   \\\\\n",
       "\t 2016         & 2012         & 1.724685e-03 & 11.402457    &  6.287528    & 0.8135039   \\\\\n",
       "\t 2018         & 2015         & 1.711205e-06 & 15.937959    &  9.860278    & 0.6163803   \\\\\n",
       "\t 2017         & 2014         & 2.772657e-05 & 13.159335    &  8.282345    & 0.5888417   \\\\\n",
       "\t 2016         & 2013         & 2.533446e-03 & 11.402457    &  7.183956    & 0.5872114   \\\\\n",
       "\t 2015         & 2012         & 1.028165e-05 &  9.860278    &  6.287528    & 0.5682280   \\\\\n",
       "\t 2018         & 2016         & 1.365594e-03 & 15.937959    & 11.402457    & 0.3977653   \\\\\n",
       "\t 2016         & 2014         & 5.309043e-03 & 11.402457    &  8.282345    & 0.3767184   \\\\\n",
       "\t 2015         & 2013         & 3.470840e-06 &  9.860278    &  7.183956    & 0.3725415   \\\\\n",
       "\t 2017         & 2015         & 3.810504e-04 & 13.159335    &  9.860278    & 0.3345806   \\\\\n",
       "\t 2014         & 2012         & 7.070928e-04 &  8.282345    &  6.287528    & 0.3172656   \\\\\n",
       "\t 2018         & 2017         & 3.562996e-04 & 15.937959    & 13.159335    & 0.2111523   \\\\\n",
       "\t 2015         & 2014         & 5.266605e-04 &  9.860278    &  8.282345    & 0.1905177   \\\\\n",
       "\t 2016         & 2015         & 4.170296e-02 & 11.402457    &  9.860278    & 0.1564032   \\\\\n",
       "\t 2017         & 2016         & 2.840628e-02 & 13.159335    & 11.402457    & 0.1540789   \\\\\n",
       "\t 2014         & 2013         & 2.735546e-03 &  8.282345    &  7.183956    & 0.1528947   \\\\\n",
       "\t 2013         & 2012         & 1.595232e-03 &  7.183956    &  6.287528    & 0.1425723   \\\\\n",
       "\\end{tabular}\n"
      ],
      "text/markdown": [
       "\n",
       "| ano2 | ano1 | valor_p | media_ano2 | media_ano1 | aumento |\n",
       "|---|---|---|---|---|---|\n",
       "| 2018         | 2012         | 6.323803e-06 | 15.937959    |  6.287528    | 1.5348528    |\n",
       "| 2018         | 2013         | 3.462075e-07 | 15.937959    |  7.183956    | 1.2185491    |\n",
       "| 2017         | 2012         | 9.021739e-05 | 13.159335    |  6.287528    | 1.0929266    |\n",
       "| 2018         | 2014         | 1.395983e-07 | 15.937959    |  8.282345    | 0.9243293    |\n",
       "| 2017         | 2013         | 4.125613e-05 | 13.159335    |  7.183956    | 0.8317673    |\n",
       "| 2016         | 2012         | 1.724685e-03 | 11.402457    |  6.287528    | 0.8135039    |\n",
       "| 2018         | 2015         | 1.711205e-06 | 15.937959    |  9.860278    | 0.6163803    |\n",
       "| 2017         | 2014         | 2.772657e-05 | 13.159335    |  8.282345    | 0.5888417    |\n",
       "| 2016         | 2013         | 2.533446e-03 | 11.402457    |  7.183956    | 0.5872114    |\n",
       "| 2015         | 2012         | 1.028165e-05 |  9.860278    |  6.287528    | 0.5682280    |\n",
       "| 2018         | 2016         | 1.365594e-03 | 15.937959    | 11.402457    | 0.3977653    |\n",
       "| 2016         | 2014         | 5.309043e-03 | 11.402457    |  8.282345    | 0.3767184    |\n",
       "| 2015         | 2013         | 3.470840e-06 |  9.860278    |  7.183956    | 0.3725415    |\n",
       "| 2017         | 2015         | 3.810504e-04 | 13.159335    |  9.860278    | 0.3345806    |\n",
       "| 2014         | 2012         | 7.070928e-04 |  8.282345    |  6.287528    | 0.3172656    |\n",
       "| 2018         | 2017         | 3.562996e-04 | 15.937959    | 13.159335    | 0.2111523    |\n",
       "| 2015         | 2014         | 5.266605e-04 |  9.860278    |  8.282345    | 0.1905177    |\n",
       "| 2016         | 2015         | 4.170296e-02 | 11.402457    |  9.860278    | 0.1564032    |\n",
       "| 2017         | 2016         | 2.840628e-02 | 13.159335    | 11.402457    | 0.1540789    |\n",
       "| 2014         | 2013         | 2.735546e-03 |  8.282345    |  7.183956    | 0.1528947    |\n",
       "| 2013         | 2012         | 1.595232e-03 |  7.183956    |  6.287528    | 0.1425723    |\n",
       "\n"
      ],
      "text/plain": [
       "   ano2 ano1 valor_p      media_ano2 media_ano1 aumento  \n",
       "1  2018 2012 6.323803e-06 15.937959   6.287528  1.5348528\n",
       "2  2018 2013 3.462075e-07 15.937959   7.183956  1.2185491\n",
       "3  2017 2012 9.021739e-05 13.159335   6.287528  1.0929266\n",
       "4  2018 2014 1.395983e-07 15.937959   8.282345  0.9243293\n",
       "5  2017 2013 4.125613e-05 13.159335   7.183956  0.8317673\n",
       "6  2016 2012 1.724685e-03 11.402457   6.287528  0.8135039\n",
       "7  2018 2015 1.711205e-06 15.937959   9.860278  0.6163803\n",
       "8  2017 2014 2.772657e-05 13.159335   8.282345  0.5888417\n",
       "9  2016 2013 2.533446e-03 11.402457   7.183956  0.5872114\n",
       "10 2015 2012 1.028165e-05  9.860278   6.287528  0.5682280\n",
       "11 2018 2016 1.365594e-03 15.937959  11.402457  0.3977653\n",
       "12 2016 2014 5.309043e-03 11.402457   8.282345  0.3767184\n",
       "13 2015 2013 3.470840e-06  9.860278   7.183956  0.3725415\n",
       "14 2017 2015 3.810504e-04 13.159335   9.860278  0.3345806\n",
       "15 2014 2012 7.070928e-04  8.282345   6.287528  0.3172656\n",
       "16 2018 2017 3.562996e-04 15.937959  13.159335  0.2111523\n",
       "17 2015 2014 5.266605e-04  9.860278   8.282345  0.1905177\n",
       "18 2016 2015 4.170296e-02 11.402457   9.860278  0.1564032\n",
       "19 2017 2016 2.840628e-02 13.159335  11.402457  0.1540789\n",
       "20 2014 2013 2.735546e-03  8.282345   7.183956  0.1528947\n",
       "21 2013 2012 1.595232e-03  7.183956   6.287528  0.1425723"
      ]
     },
     "metadata": {},
     "output_type": "display_data"
    }
   ],
   "source": [
    "# Selecionando os pares de anos que no teste-t apresentaram \"valor-p < 0.05\":\n",
    "df_volume = select(filter(df_teste_t, valor_p < 0.05), ano2, ano1, valor_p)\n",
    "# Criando variáveis para os cálculos:\n",
    "df_volume$media_ano2 = 0\n",
    "df_volume$media_ano1 = 0\n",
    "df_volume$aumento = 0\n",
    "\n",
    "# Realizando os cálculos:\n",
    "for (i in 1:dim(df_volume)[1]){\n",
    "    # Obtendo a média para o \"ano1\" e \"ano2\":\n",
    "    df_volume[i, \"media_ano1\"] = filter(media_rend_cliente, Ano == df_volume[i, \"ano1\"])$Media_Rendimento_Cliente\n",
    "    df_volume[i, \"media_ano2\"] = filter(media_rend_cliente, Ano == df_volume[i, \"ano2\"])$Media_Rendimento_Cliente\n",
    "    \n",
    "    # Calculando o \"aumento\" do rendimento por cliente:\n",
    "    df_volume[i, \"aumento\"] = (df_volume[i, \"media_ano2\"] - df_volume[i, \"media_ano1\"])/df_volume[i, \"media_ano1\"]\n",
    "}\n",
    "\n",
    "# Classificando o resultado em ordem \"decrescente\":\n",
    "arrange(df_volume, desc(aumento))"
   ]
  },
  {
   "cell_type": "markdown",
   "metadata": {},
   "source": [
    "**Conclusão:** os *`rendimentos por cliente`* *aumentaram (em média, por trimestre)* **`~153.5%`**, entre os anos de **`2012 e 2018`**, ou seja, em **6 anos**."
   ]
  },
  {
   "cell_type": "markdown",
   "metadata": {},
   "source": [
    "### Vamos agora, verificar se os *rendimentos por cliente* diminuíram com o passar dos anos:"
   ]
  },
  {
   "cell_type": "markdown",
   "metadata": {},
   "source": [
    "Então, realizaremos um `teste-t unicaudal esquerdo` para verificarmos esta condição.\n",
    "\n",
    "Definindo as duas hipóteses:\n",
    "\n",
    ">1. **`H0`:** RMPC2 - RMPC1 = 0, ou seja, o rendimento médio por cliente (por trimestre) não difere entre cada um dos anos \"1\" e \"2\";\n",
    ">2. **`H1`:** RMPC2 - RMPC1 < 0, ou seja, o rendimento médio por cliente (por trimestre) no ano \"2\" é MENOR que o rendimento médio por cliente (por trimestre) no ano \"1\".\n",
    "\n",
    "Onde:\n",
    "\n",
    ">* **`RMPC1`:** rendimento médio por cliente (por trimestre) para o ano ***`1`***;\n",
    ">* **`RMPC2`:** rendimento médio por cliente (por trimestre) para o ano ***`2`***."
   ]
  },
  {
   "cell_type": "code",
   "execution_count": 68,
   "metadata": {
    "scrolled": true
   },
   "outputs": [
    {
     "data": {
      "text/html": [
       "'Resultados para Valor-p &lt; 0.05'"
      ],
      "text/latex": [
       "'Resultados para Valor-p < 0.05'"
      ],
      "text/markdown": [
       "'Resultados para Valor-p &lt; 0.05'"
      ],
      "text/plain": [
       "[1] \"Resultados para Valor-p < 0.05\""
      ]
     },
     "metadata": {},
     "output_type": "display_data"
    },
    {
     "data": {
      "text/html": [
       "<table>\n",
       "<thead><tr><th scope=col>ano2</th><th scope=col>ano1</th><th scope=col>feature</th><th scope=col>H1</th><th scope=col>NC</th><th scope=col>valor_p</th></tr></thead>\n",
       "<tbody>\n",
       "</tbody>\n",
       "</table>\n"
      ],
      "text/latex": [
       "\\begin{tabular}{r|llllll}\n",
       " ano2 & ano1 & feature & H1 & NC & valor\\_p\\\\\n",
       "\\hline\n",
       "\\end{tabular}\n"
      ],
      "text/markdown": [
       "\n",
       "| ano2 | ano1 | feature | H1 | NC | valor_p |\n",
       "|---|---|---|---|---|---|\n",
       "\n"
      ],
      "text/plain": [
       "     ano2 ano1 feature H1 NC valor_p"
      ]
     },
     "metadata": {},
     "output_type": "display_data"
    },
    {
     "data": {
      "text/html": [
       "'Resultados para Valor-p &gt;= 0.05'"
      ],
      "text/latex": [
       "'Resultados para Valor-p >= 0.05'"
      ],
      "text/markdown": [
       "'Resultados para Valor-p &gt;= 0.05'"
      ],
      "text/plain": [
       "[1] \"Resultados para Valor-p >= 0.05\""
      ]
     },
     "metadata": {},
     "output_type": "display_data"
    },
    {
     "data": {
      "text/html": [
       "<table>\n",
       "<thead><tr><th scope=col>ano2</th><th scope=col>ano1</th><th scope=col>feature</th><th scope=col>H1</th><th scope=col>NC</th><th scope=col>valor_p</th></tr></thead>\n",
       "<tbody>\n",
       "\t<tr><td>2013                  </td><td>2012                  </td><td>rendimento_por_cliente</td><td>less                  </td><td>0.95                  </td><td>0.9984048             </td></tr>\n",
       "\t<tr><td>2014                  </td><td>2012                  </td><td>rendimento_por_cliente</td><td>less                  </td><td>0.95                  </td><td>0.9992929             </td></tr>\n",
       "\t<tr><td>2015                  </td><td>2012                  </td><td>rendimento_por_cliente</td><td>less                  </td><td>0.95                  </td><td>0.9999897             </td></tr>\n",
       "\t<tr><td>2016                  </td><td>2012                  </td><td>rendimento_por_cliente</td><td>less                  </td><td>0.95                  </td><td>0.9982753             </td></tr>\n",
       "\t<tr><td>2017                  </td><td>2012                  </td><td>rendimento_por_cliente</td><td>less                  </td><td>0.95                  </td><td>0.9999098             </td></tr>\n",
       "\t<tr><td>2018                  </td><td>2012                  </td><td>rendimento_por_cliente</td><td>less                  </td><td>0.95                  </td><td>0.9999937             </td></tr>\n",
       "\t<tr><td>2014                  </td><td>2013                  </td><td>rendimento_por_cliente</td><td>less                  </td><td>0.95                  </td><td>0.9972645             </td></tr>\n",
       "\t<tr><td>2015                  </td><td>2013                  </td><td>rendimento_por_cliente</td><td>less                  </td><td>0.95                  </td><td>0.9999965             </td></tr>\n",
       "\t<tr><td>2016                  </td><td>2013                  </td><td>rendimento_por_cliente</td><td>less                  </td><td>0.95                  </td><td>0.9974666             </td></tr>\n",
       "\t<tr><td>2017                  </td><td>2013                  </td><td>rendimento_por_cliente</td><td>less                  </td><td>0.95                  </td><td>0.9999587             </td></tr>\n",
       "\t<tr><td>2018                  </td><td>2013                  </td><td>rendimento_por_cliente</td><td>less                  </td><td>0.95                  </td><td>0.9999997             </td></tr>\n",
       "\t<tr><td>2015                  </td><td>2014                  </td><td>rendimento_por_cliente</td><td>less                  </td><td>0.95                  </td><td>0.9994733             </td></tr>\n",
       "\t<tr><td>2016                  </td><td>2014                  </td><td>rendimento_por_cliente</td><td>less                  </td><td>0.95                  </td><td>0.9946910             </td></tr>\n",
       "\t<tr><td>2017                  </td><td>2014                  </td><td>rendimento_por_cliente</td><td>less                  </td><td>0.95                  </td><td>0.9999723             </td></tr>\n",
       "\t<tr><td>2018                  </td><td>2014                  </td><td>rendimento_por_cliente</td><td>less                  </td><td>0.95                  </td><td>0.9999999             </td></tr>\n",
       "\t<tr><td>2016                  </td><td>2015                  </td><td>rendimento_por_cliente</td><td>less                  </td><td>0.95                  </td><td>0.9582970             </td></tr>\n",
       "\t<tr><td>2017                  </td><td>2015                  </td><td>rendimento_por_cliente</td><td>less                  </td><td>0.95                  </td><td>0.9996189             </td></tr>\n",
       "\t<tr><td>2018                  </td><td>2015                  </td><td>rendimento_por_cliente</td><td>less                  </td><td>0.95                  </td><td>0.9999983             </td></tr>\n",
       "\t<tr><td>2017                  </td><td>2016                  </td><td>rendimento_por_cliente</td><td>less                  </td><td>0.95                  </td><td>0.9715937             </td></tr>\n",
       "\t<tr><td>2018                  </td><td>2016                  </td><td>rendimento_por_cliente</td><td>less                  </td><td>0.95                  </td><td>0.9986344             </td></tr>\n",
       "\t<tr><td>2018                  </td><td>2017                  </td><td>rendimento_por_cliente</td><td>less                  </td><td>0.95                  </td><td>0.9996437             </td></tr>\n",
       "</tbody>\n",
       "</table>\n"
      ],
      "text/latex": [
       "\\begin{tabular}{r|llllll}\n",
       " ano2 & ano1 & feature & H1 & NC & valor\\_p\\\\\n",
       "\\hline\n",
       "\t 2013                       & 2012                       & rendimento\\_por\\_cliente & less                       & 0.95                       & 0.9984048                 \\\\\n",
       "\t 2014                       & 2012                       & rendimento\\_por\\_cliente & less                       & 0.95                       & 0.9992929                 \\\\\n",
       "\t 2015                       & 2012                       & rendimento\\_por\\_cliente & less                       & 0.95                       & 0.9999897                 \\\\\n",
       "\t 2016                       & 2012                       & rendimento\\_por\\_cliente & less                       & 0.95                       & 0.9982753                 \\\\\n",
       "\t 2017                       & 2012                       & rendimento\\_por\\_cliente & less                       & 0.95                       & 0.9999098                 \\\\\n",
       "\t 2018                       & 2012                       & rendimento\\_por\\_cliente & less                       & 0.95                       & 0.9999937                 \\\\\n",
       "\t 2014                       & 2013                       & rendimento\\_por\\_cliente & less                       & 0.95                       & 0.9972645                 \\\\\n",
       "\t 2015                       & 2013                       & rendimento\\_por\\_cliente & less                       & 0.95                       & 0.9999965                 \\\\\n",
       "\t 2016                       & 2013                       & rendimento\\_por\\_cliente & less                       & 0.95                       & 0.9974666                 \\\\\n",
       "\t 2017                       & 2013                       & rendimento\\_por\\_cliente & less                       & 0.95                       & 0.9999587                 \\\\\n",
       "\t 2018                       & 2013                       & rendimento\\_por\\_cliente & less                       & 0.95                       & 0.9999997                 \\\\\n",
       "\t 2015                       & 2014                       & rendimento\\_por\\_cliente & less                       & 0.95                       & 0.9994733                 \\\\\n",
       "\t 2016                       & 2014                       & rendimento\\_por\\_cliente & less                       & 0.95                       & 0.9946910                 \\\\\n",
       "\t 2017                       & 2014                       & rendimento\\_por\\_cliente & less                       & 0.95                       & 0.9999723                 \\\\\n",
       "\t 2018                       & 2014                       & rendimento\\_por\\_cliente & less                       & 0.95                       & 0.9999999                 \\\\\n",
       "\t 2016                       & 2015                       & rendimento\\_por\\_cliente & less                       & 0.95                       & 0.9582970                 \\\\\n",
       "\t 2017                       & 2015                       & rendimento\\_por\\_cliente & less                       & 0.95                       & 0.9996189                 \\\\\n",
       "\t 2018                       & 2015                       & rendimento\\_por\\_cliente & less                       & 0.95                       & 0.9999983                 \\\\\n",
       "\t 2017                       & 2016                       & rendimento\\_por\\_cliente & less                       & 0.95                       & 0.9715937                 \\\\\n",
       "\t 2018                       & 2016                       & rendimento\\_por\\_cliente & less                       & 0.95                       & 0.9986344                 \\\\\n",
       "\t 2018                       & 2017                       & rendimento\\_por\\_cliente & less                       & 0.95                       & 0.9996437                 \\\\\n",
       "\\end{tabular}\n"
      ],
      "text/markdown": [
       "\n",
       "| ano2 | ano1 | feature | H1 | NC | valor_p |\n",
       "|---|---|---|---|---|---|\n",
       "| 2013                   | 2012                   | rendimento_por_cliente | less                   | 0.95                   | 0.9984048              |\n",
       "| 2014                   | 2012                   | rendimento_por_cliente | less                   | 0.95                   | 0.9992929              |\n",
       "| 2015                   | 2012                   | rendimento_por_cliente | less                   | 0.95                   | 0.9999897              |\n",
       "| 2016                   | 2012                   | rendimento_por_cliente | less                   | 0.95                   | 0.9982753              |\n",
       "| 2017                   | 2012                   | rendimento_por_cliente | less                   | 0.95                   | 0.9999098              |\n",
       "| 2018                   | 2012                   | rendimento_por_cliente | less                   | 0.95                   | 0.9999937              |\n",
       "| 2014                   | 2013                   | rendimento_por_cliente | less                   | 0.95                   | 0.9972645              |\n",
       "| 2015                   | 2013                   | rendimento_por_cliente | less                   | 0.95                   | 0.9999965              |\n",
       "| 2016                   | 2013                   | rendimento_por_cliente | less                   | 0.95                   | 0.9974666              |\n",
       "| 2017                   | 2013                   | rendimento_por_cliente | less                   | 0.95                   | 0.9999587              |\n",
       "| 2018                   | 2013                   | rendimento_por_cliente | less                   | 0.95                   | 0.9999997              |\n",
       "| 2015                   | 2014                   | rendimento_por_cliente | less                   | 0.95                   | 0.9994733              |\n",
       "| 2016                   | 2014                   | rendimento_por_cliente | less                   | 0.95                   | 0.9946910              |\n",
       "| 2017                   | 2014                   | rendimento_por_cliente | less                   | 0.95                   | 0.9999723              |\n",
       "| 2018                   | 2014                   | rendimento_por_cliente | less                   | 0.95                   | 0.9999999              |\n",
       "| 2016                   | 2015                   | rendimento_por_cliente | less                   | 0.95                   | 0.9582970              |\n",
       "| 2017                   | 2015                   | rendimento_por_cliente | less                   | 0.95                   | 0.9996189              |\n",
       "| 2018                   | 2015                   | rendimento_por_cliente | less                   | 0.95                   | 0.9999983              |\n",
       "| 2017                   | 2016                   | rendimento_por_cliente | less                   | 0.95                   | 0.9715937              |\n",
       "| 2018                   | 2016                   | rendimento_por_cliente | less                   | 0.95                   | 0.9986344              |\n",
       "| 2018                   | 2017                   | rendimento_por_cliente | less                   | 0.95                   | 0.9996437              |\n",
       "\n"
      ],
      "text/plain": [
       "   ano2 ano1 feature                H1   NC   valor_p  \n",
       "1  2013 2012 rendimento_por_cliente less 0.95 0.9984048\n",
       "2  2014 2012 rendimento_por_cliente less 0.95 0.9992929\n",
       "3  2015 2012 rendimento_por_cliente less 0.95 0.9999897\n",
       "4  2016 2012 rendimento_por_cliente less 0.95 0.9982753\n",
       "5  2017 2012 rendimento_por_cliente less 0.95 0.9999098\n",
       "6  2018 2012 rendimento_por_cliente less 0.95 0.9999937\n",
       "7  2014 2013 rendimento_por_cliente less 0.95 0.9972645\n",
       "8  2015 2013 rendimento_por_cliente less 0.95 0.9999965\n",
       "9  2016 2013 rendimento_por_cliente less 0.95 0.9974666\n",
       "10 2017 2013 rendimento_por_cliente less 0.95 0.9999587\n",
       "11 2018 2013 rendimento_por_cliente less 0.95 0.9999997\n",
       "12 2015 2014 rendimento_por_cliente less 0.95 0.9994733\n",
       "13 2016 2014 rendimento_por_cliente less 0.95 0.9946910\n",
       "14 2017 2014 rendimento_por_cliente less 0.95 0.9999723\n",
       "15 2018 2014 rendimento_por_cliente less 0.95 0.9999999\n",
       "16 2016 2015 rendimento_por_cliente less 0.95 0.9582970\n",
       "17 2017 2015 rendimento_por_cliente less 0.95 0.9996189\n",
       "18 2018 2015 rendimento_por_cliente less 0.95 0.9999983\n",
       "19 2017 2016 rendimento_por_cliente less 0.95 0.9715937\n",
       "20 2018 2016 rendimento_por_cliente less 0.95 0.9986344\n",
       "21 2018 2017 rendimento_por_cliente less 0.95 0.9996437"
      ]
     },
     "metadata": {},
     "output_type": "display_data"
    }
   ],
   "source": [
    "# Teste-t Unicaudal Esquerdo:\n",
    "# Definindo um vetor para o primeiro ano do teste:\n",
    "ano1 = c('2012', '2012', '2012','2012', '2012', '2012', '2013', '2013', '2013', '2013', '2013',\n",
    "         '2014', '2014', '2014', '2014', '2015', '2015', '2015', '2016', '2016', '2017')\n",
    "\n",
    "# Definindo um vetor para o segundo ano do teste:\n",
    "ano2 = c('2013', '2014', '2015','2016', '2017', '2018', '2014', '2015', '2016', '2017', '2018',\n",
    "         '2015', '2016', '2017', '2018', '2016', '2017', '2018', '2017', '2018', '2018')\n",
    "\n",
    "# Realizando o teste-t unicaudal esquerdo:\n",
    "df_teste_t = teste_t(ano1, ano2, feature = \"rendimento_por_cliente\", H1 = \"less\", NC = 0.95)\n",
    "\n",
    "# Filtrando os resultados onde \"valor_p < 0.05\":\n",
    "sprintf(\"Resultados para Valor-p < %.2f\", 1 - 0.95)\n",
    "filter(df_teste_t, valor_p < 0.05)\n",
    "\n",
    "# Filtrando os resultados onde \"valor_p >= 0.05\":\n",
    "sprintf(\"Resultados para Valor-p >= %.2f\", 1 - 0.95)\n",
    "filter(df_teste_t, valor_p >= 0.05)"
   ]
  },
  {
   "cell_type": "markdown",
   "metadata": {},
   "source": [
    "**Conclusão:**\n",
    "\n",
    "Se **`valor-p < 0.05`**: rejeitamos a hipótese nula (**H0**), caso contrário falhamos em rejeitar a a hipótese nula.\n",
    "\n",
    "Como o **valor-p é maior ou igual que 0.05** em todos os testes (21), os dados falharam em fornecer evidências suficientes para rejeitarmos a hipótese nula do `teste-t unicaudal esquerdo`. Portanto, não podemos concluir, por exemplo, que o ano de **2013** possui um rendimento por cliente (em média, por trimestre) MENOR em relação ao ano de **2012**. Esta mesma explicação é válida para os demais pares de anos onde tivemos como resultado o **`valor-p >= 0.05`**.\n",
    "\n",
    "Portanto, concluimos que **os *rendimentos por cliente (em média, por trimestre)* NÃO diminuíram significativamente com o passar dos anos!**"
   ]
  },
  {
   "cell_type": "markdown",
   "metadata": {},
   "source": [
    "### Visualizando os resultados:\n",
    "\n",
    "Agora, vamos apresentar os resultados utilizando um ***Boxplot*** e um ***Barplot***."
   ]
  },
  {
   "cell_type": "code",
   "execution_count": 69,
   "metadata": {},
   "outputs": [
    {
     "name": "stderr",
     "output_type": "stream",
     "text": [
      "Saving 6.67 x 6.67 in image\n"
     ]
    },
    {
     "data": {
      "image/png": "[encoded data removed]",
      "text/plain": [
       "plot without title"
      ]
     },
     "metadata": {},
     "output_type": "display_data"
    }
   ],
   "source": [
    "# Definindo as cores para cada ano:\n",
    "cores = c(\"lightblue\", \"lightpink\", \"lightcoral\", \"lightgoldenrod\", \"lightsalmon\", \"lightgray\", \"lightgreen\")\n",
    "# Boxplot:\n",
    "p1 = ggplot(df_data, aes(x = ano_cat, y = rendimento_por_cliente)) +\n",
    "        geom_boxplot(color = \"black\", fill = cores) +\n",
    "        # Definindo os labels e o título do gráfico:\n",
    "        labs(x = \"Ano\", y = \"Valor($) x 1k\", title = \"Rendimentos por Cliente por Trimestre\") +\n",
    "        \n",
    "        # Definindo alguns elementos do \"título\" e dos eixos \"x\" e \"y\":\n",
    "        theme(\n",
    "            plot.title = element_text(color = \"Black\", size = 14, face = \"bold.italic\", hjust = 0.5),\n",
    "            axis.title.x = element_text(color = \"Black\", size = 12, face = \"bold\"),\n",
    "            axis.title.y = element_text(color = \"Black\", size = 12, face = \"bold\")\n",
    "        )\n",
    "\n",
    "print(p1)\n",
    "\n",
    "# Salvando o gráfico:\n",
    "ggsave(filename = \"boxplot_rendimento_cliente.pdf\", plot = p1, device = \"pdf\", path = PROJECT_IMG_PATH, dpi = 300)"
   ]
  },
  {
   "cell_type": "code",
   "execution_count": 70,
   "metadata": {},
   "outputs": [
    {
     "name": "stderr",
     "output_type": "stream",
     "text": [
      "Saving 6.67 x 6.67 in image\n"
     ]
    },
    {
     "data": {
      "image/png": "[encoded data removed]",
      "text/plain": [
       "plot without title"
      ]
     },
     "metadata": {},
     "output_type": "display_data"
    }
   ],
   "source": [
    "# Barplot:\n",
    "p1 <- ggplot(media_rend_cliente, aes(x = Ano, y = Media_Rendimento_Cliente)) +\n",
    "            geom_bar(stat = 'identity', col = \"black\", fill = cores) + theme(axis.text.x = element_text(angle = 0,\n",
    "                                                                                                        hjust = 0.5)) +\n",
    "            guides(fill = FALSE) + coord_cartesian(ylim = c(6.0, 16.0)) +\n",
    "            ggtitle(\"Rendimentos por Cliente (Média) por Trimestre\") + xlab(\"Ano\") + ylab(\"Valor($) x 1k\") +\n",
    "            theme(\n",
    "                plot.title = element_text(color = \"Black\", size = 14, face = \"bold.italic\", hjust = 0.5),\n",
    "                axis.title.x = element_text(color = \"Black\", size = 12, face = \"bold\"),\n",
    "                axis.title.y = element_text(color = \"Black\", size = 12, face = \"bold\")\n",
    "            )\n",
    "\n",
    "print(p1)\n",
    "\n",
    "# Salvando o gráfico:\n",
    "ggsave(filename = \"barplot_media_rendimento_cliente.pdf\", plot = p1, device = \"pdf\", path = PROJECT_IMG_PATH, dpi = 300)"
   ]
  },
  {
   "cell_type": "markdown",
   "metadata": {},
   "source": [
    "**Análise:**\n",
    "\n",
    "* O gráfico acima (***Boxplot***) confirma todos os testes estatísticos realizados, ou seja, que **os *rendimentos por cliente (em média, por trimestre)* aumentaram significativamente em todos os anos**;\n",
    "\n",
    "\n",
    "* O gráfico acima (***Barplot***) apresenta a **`média`** dos **`Rendimentos por Cliente`** (por **`Trimestre`**) em cada um dos anos."
   ]
  },
  {
   "cell_type": "markdown",
   "metadata": {},
   "source": [
    "## <font color='black'>FIM</font>"
   ]
  }
 ],
 "metadata": {
  "kernelspec": {
   "display_name": "R",
   "language": "R",
   "name": "ir"
  },
  "language_info": {
   "codemirror_mode": "r",
   "file_extension": ".r",
   "mimetype": "text/x-r-source",
   "name": "R",
   "pygments_lexer": "r",
   "version": "3.6.1"
  }
 },
 "nbformat": 4,
 "nbformat_minor": 2
}
