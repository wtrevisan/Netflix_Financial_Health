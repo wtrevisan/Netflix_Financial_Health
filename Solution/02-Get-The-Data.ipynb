{
 "cells": [
  {
   "cell_type": "markdown",
   "metadata": {},
   "source": [
    "***\n",
    "![Netflix-Logo.png](..\\Images\\Netflix-Logo.png)\n",
    "# `Projeto:` Análise da Saúde Financeira da Empresa Netflix\n",
    "\n",
    "## `Data:` novembro, 2020\n",
    "\n",
    "## `Cientista de Dados:` Walter Trevisan\n",
    "***"
   ]
  },
  {
   "cell_type": "markdown",
   "metadata": {},
   "source": [
    "## `02-` Get The Data:\n",
    "\n",
    "Nesta fase, vamos realizar as seguintes atividades:\n",
    "\n",
    "1. **Carregar** o nosso dataset;\n",
    "\n",
    "2. Analisar se existem **Registros duplicados** em nosso dataset;\n",
    "\n",
    "3. Analisar se existem **Missing Values** em nosso dataset;\n",
    "\n",
    "4. Realizar o pré-processamento dos dados como *limpeza* e *transformação* (***Feature Engineering***);\n",
    "\n",
    "5. Salvar os datasets como um objeto *dataframe*, em um formato específico chamado de **feather**."
   ]
  },
  {
   "cell_type": "markdown",
   "metadata": {},
   "source": [
    "## Descrição do Dataset:\n",
    "\n",
    ">**Netflix_Data.xlsx**: este é o “dataset” que será utilizado em nosso projeto. Este dataset possui dados financeiros da **`Netflix`**, no período de **2012 até 2018**."
   ]
  },
  {
   "cell_type": "markdown",
   "metadata": {},
   "source": [
    "## Descrição das Variáveis:"
   ]
  },
  {
   "cell_type": "markdown",
   "metadata": {},
   "source": [
    "O nosso dataset possui **`13`** variáveis, descritas a seguir:\n",
    "01. **`Time`**: é a data do último dia de cada trimestre de cada ano;\n",
    "\n",
    "\n",
    "02. **`Total subscriptions at end of period`**(`Total de assinaturas no final do período`): é o volume total de clientes (assinaturas), **`acumulado`**, no último dia de cada trimestre de cada ano. Portanto, o volume informado no dia **31/12** é o volume total de clientes em cada ano. É também a **soma** das **Assinaturas pagas** e **Avaliações Gratuitas**;\n",
    "\n",
    "\n",
    "03. **`Paid subscriptions at end of period`**(`Assinaturas pagas no final do período`): é o volume total de clientes (assinaturas), **`acumulado`**, que pagaram suas assinaturas no último dia de cada trimestre de cada ano. Portanto, o volume informado no dia **31/12** é o volume total de clientes *pagantes* em cada ano;\n",
    "\n",
    "\n",
    "04. **`Free Trials`**(`Avaliações Gratuitas`): é o volume total de clientes (assinaturas), **`acumulado`**, que estão avaliando gratuitamente o plano do segmento de transmissão doméstica (*Domestic Streaming*), no último dia de cada trimestre de cada ano, ou seja, estes clientes ainda não estão pagando suas assinaturas. O volume informado no dia **31/12** é o volume total de clientes *não pagantes* em cada ano;\n",
    "\n",
    "\n",
    "05. **`Revenue`**(`Receita`): é o valor total da receita no último dia de cada **trimestre** de cada ano. Portanto, o **valor total da receita** em cada **ano** é a **`soma`** do valor total da receita em cada trimestre do respectivo ano;\n",
    "\n",
    "\n",
    "06. **`Cost of revenues`**(`Custo das receitas`): é o valor total do custo das receitas no último dia de cada **trimestre** de cada ano. Portanto, o **valor total dos custos das receitas** em cada **ano** é a **`soma`** do valor total dos custos das receitas em cada trimestre do respectivo ano;\n",
    "\n",
    "\n",
    "07. **`Marketing`**: é o valor total dos custos de marketing no último dia de cada **trimestre** de cada ano. Portanto, o **valor total dos custos de marketing** em cada **ano** é a **`soma`** do valor total dos custos de marketing em cada trimestre do respectivo ano;\n",
    "\n",
    "\n",
    "08. **`Contribution profit`**(`Lucro de Contribuição`): é calculado, no último dia de cada **trimestre** de cada ano, pela seguinte fórmula: `Lucro de contribuição = Receita - Custo das receitas - Marketing`. Portanto, o **valor total dos lucros de contribuição** em cada **ano** é a **`soma`** do valor total dos lucros de contribuição em cada trimestre do respectivo ano;\n",
    "\n",
    "\n",
    "09. **`Contribution Margin`**(`Margem de Contribuição`): é calculado, no último dia de cada **trimestre** de cada ano, pela seguinte fórmula: `Margem de contribuição = Lucro de contribuição/Receita`. Portanto, a **margem de contribuição** em cada **ano** é a **`soma`** do valor total dos lucros de contribuição em cada trimestre, **`dividido`** pela **`soma`** do valor total da receita em cada trimestre do respectivo ano. Para maiores informações sobre *margem de contribuição* **[clique aqui](https://pt.wikipedia.org/wiki/Margem_de_contribui%C3%A7%C3%A3o)**;\n",
    "\n",
    "\n",
    "10. **`Cost per Customer`**(`Custo por Cliente`), excluindo Marketing: é calculado, no último dia de cada **trimestre** de cada ano, pela seguinte fórmula: `Custo por Cliente = Custos das receitas/Total de assinaturas`. Portanto, o **custo por cliente** em cada **ano** é a **`soma`** do valor total dos custos das receitas em cada trimestre, **`dividido`** pelo **volume total de clientes** (assinaturas) informado no dia **31/12** (**Q4**), do respectivo ano;\n",
    "\n",
    "\n",
    "11. **`Revenue per Customer`**(`Receita por Cliente`): é calculado, no último dia de cada **trimestre** de cada ano, pela seguinte fórmula: `Receita por Cliente = Receita/Total de assinaturas`. Portanto, a **receita por cliente** em cada **ano** é a **`soma`** do valor total das receitas em cada trimestre, **`dividido`** pelo volume total de clientes (assinaturas) informado no dia **31/12** (**Q4**), do respectivo ano;\n",
    "\n",
    "\n",
    "12. **`Earnings per Customer`**(`Ganhos/Rendimentos por Cliente`): é calculado, no último dia de cada **trimestre** de cada ano, pela seguinte fórmula: `Rendimentos por Cliente = Receita por Cliente - Custo por Cliente`. Portanto, os **ganhos (rendimentos) por cliente** em cada **ano**, é a receita por cliente **`menos`** o custo por cliente do respectivo ano;\n",
    "\n",
    "\n",
    "13. **`Segment`**(`Segmento`): é o tipo de segmento (negócio) ao qual se referem os dados. Neste caso é o segmento  de **Transmissão Doméstica** (***Domestic Streaming***), ou simplesmente ***Streaming***."
   ]
  },
  {
   "cell_type": "markdown",
   "metadata": {},
   "source": [
    "***\n",
    "## Setup\n",
    ">### Pacotes e Funções"
   ]
  },
  {
   "cell_type": "code",
   "execution_count": 1,
   "metadata": {},
   "outputs": [
    {
     "data": {
      "text/html": [
       "'Loading \"feather\" package...'"
      ],
      "text/latex": [
       "'Loading \"feather\" package...'"
      ],
      "text/markdown": [
       "'Loading \"feather\" package...'"
      ],
      "text/plain": [
       "[1] \"Loading \\\"feather\\\" package...\""
      ]
     },
     "metadata": {},
     "output_type": "display_data"
    },
    {
     "data": {
      "text/html": [
       "'Loading \"readxl\" package...'"
      ],
      "text/latex": [
       "'Loading \"readxl\" package...'"
      ],
      "text/markdown": [
       "'Loading \"readxl\" package...'"
      ],
      "text/plain": [
       "[1] \"Loading \\\"readxl\\\" package...\""
      ]
     },
     "metadata": {},
     "output_type": "display_data"
    },
    {
     "data": {
      "text/html": [
       "'Loading \"lubridate\" package...'"
      ],
      "text/latex": [
       "'Loading \"lubridate\" package...'"
      ],
      "text/markdown": [
       "'Loading \"lubridate\" package...'"
      ],
      "text/plain": [
       "[1] \"Loading \\\"lubridate\\\" package...\""
      ]
     },
     "metadata": {},
     "output_type": "display_data"
    },
    {
     "name": "stderr",
     "output_type": "stream",
     "text": [
      "\n",
      "Attaching package: 'lubridate'\n",
      "\n",
      "The following object is masked from 'package:base':\n",
      "\n",
      "    date\n",
      "\n"
     ]
    },
    {
     "data": {
      "text/html": [
       "'Loading \"tidyverse\" package...'"
      ],
      "text/latex": [
       "'Loading \"tidyverse\" package...'"
      ],
      "text/markdown": [
       "'Loading \"tidyverse\" package...'"
      ],
      "text/plain": [
       "[1] \"Loading \\\"tidyverse\\\" package...\""
      ]
     },
     "metadata": {},
     "output_type": "display_data"
    },
    {
     "name": "stderr",
     "output_type": "stream",
     "text": [
      "Registered S3 method overwritten by 'rvest':\n",
      "  method            from\n",
      "  read_xml.response xml2\n",
      "-- Attaching packages --------------------------------------- tidyverse 1.2.1 --\n",
      "v ggplot2 3.3.2     v purrr   0.3.4\n",
      "v tibble  3.0.1     v dplyr   1.0.0\n",
      "v tidyr   0.8.3     v stringr 1.4.0\n",
      "v readr   1.3.1     v forcats 0.4.0\n",
      "Warning message:\n",
      "\"package 'ggplot2' was built under R version 3.6.3\"Warning message:\n",
      "\"package 'tibble' was built under R version 3.6.3\"Warning message:\n",
      "\"package 'purrr' was built under R version 3.6.3\"Warning message:\n",
      "\"package 'dplyr' was built under R version 3.6.3\"-- Conflicts ------------------------------------------ tidyverse_conflicts() --\n",
      "x lubridate::as.difftime() masks base::as.difftime()\n",
      "x lubridate::date()        masks base::date()\n",
      "x dplyr::filter()          masks stats::filter()\n",
      "x lubridate::intersect()   masks base::intersect()\n",
      "x dplyr::lag()             masks stats::lag()\n",
      "x lubridate::setdiff()     masks base::setdiff()\n",
      "x lubridate::union()       masks base::union()\n"
     ]
    },
    {
     "data": {
      "text/html": [
       "'Diretórios do projeto:'"
      ],
      "text/latex": [
       "'Diretórios do projeto:'"
      ],
      "text/markdown": [
       "'Diretórios do projeto:'"
      ],
      "text/plain": [
       "[1] \"Diretórios do projeto:\""
      ]
     },
     "metadata": {},
     "output_type": "display_data"
    },
    {
     "data": {
      "text/html": [
       "<ol class=list-inline>\n",
       "\t<li>'..'</li>\n",
       "\t<li>'../BusinessProblem'</li>\n",
       "\t<li>'../Datasets'</li>\n",
       "\t<li>'../Images'</li>\n",
       "\t<li>'../Solution'</li>\n",
       "\t<li>'../Solution/.ipynb_checkpoints'</li>\n",
       "\t<li>'../Solution/Data'</li>\n",
       "\t<li>'../Solution/Images'</li>\n",
       "\t<li>'../Solution/Images/03-Explore_The_Data'</li>\n",
       "\t<li>'../Solution/Images/04-Statistic_Inference'</li>\n",
       "\t<li>'../StoryTelling'</li>\n",
       "</ol>\n"
      ],
      "text/latex": [
       "\\begin{enumerate*}\n",
       "\\item '..'\n",
       "\\item '../BusinessProblem'\n",
       "\\item '../Datasets'\n",
       "\\item '../Images'\n",
       "\\item '../Solution'\n",
       "\\item '../Solution/.ipynb\\_checkpoints'\n",
       "\\item '../Solution/Data'\n",
       "\\item '../Solution/Images'\n",
       "\\item '../Solution/Images/03-Explore\\_The\\_Data'\n",
       "\\item '../Solution/Images/04-Statistic\\_Inference'\n",
       "\\item '../StoryTelling'\n",
       "\\end{enumerate*}\n"
      ],
      "text/markdown": [
       "1. '..'\n",
       "2. '../BusinessProblem'\n",
       "3. '../Datasets'\n",
       "4. '../Images'\n",
       "5. '../Solution'\n",
       "6. '../Solution/.ipynb_checkpoints'\n",
       "7. '../Solution/Data'\n",
       "8. '../Solution/Images'\n",
       "9. '../Solution/Images/03-Explore_The_Data'\n",
       "10. '../Solution/Images/04-Statistic_Inference'\n",
       "11. '../StoryTelling'\n",
       "\n",
       "\n"
      ],
      "text/plain": [
       " [1] \"..\"                                       \n",
       " [2] \"../BusinessProblem\"                       \n",
       " [3] \"../Datasets\"                              \n",
       " [4] \"../Images\"                                \n",
       " [5] \"../Solution\"                              \n",
       " [6] \"../Solution/.ipynb_checkpoints\"           \n",
       " [7] \"../Solution/Data\"                         \n",
       " [8] \"../Solution/Images\"                       \n",
       " [9] \"../Solution/Images/03-Explore_The_Data\"   \n",
       "[10] \"../Solution/Images/04-Statistic_Inference\"\n",
       "[11] \"../StoryTelling\"                          "
      ]
     },
     "metadata": {},
     "output_type": "display_data"
    },
    {
     "data": {
      "text/html": [
       "'Setup Complete!'"
      ],
      "text/latex": [
       "'Setup Complete!'"
      ],
      "text/markdown": [
       "'Setup Complete!'"
      ],
      "text/plain": [
       "[1] \"Setup Complete!\""
      ]
     },
     "metadata": {},
     "output_type": "display_data"
    }
   ],
   "source": [
    "# Carregando os pacotes:\n",
    "sprintf('Loading \"feather\" package...')\n",
    "library(feather)\n",
    "\n",
    "sprintf('Loading \"readxl\" package...')\n",
    "library(readxl)\n",
    "\n",
    "sprintf('Loading \"lubridate\" package...')\n",
    "library(lubridate)\n",
    "\n",
    "sprintf('Loading \"tidyverse\" package...')\n",
    "library(tidyverse)\n",
    "\n",
    "# Configurando o diretório de trabalho:\n",
    "setwd(\"D:/Portfolio/Netflix-Analise_Saude_Financeira/Solution\")\n",
    "\n",
    "# Definindo o diretório e o nome onde está armazenado o dataset original do projeto:\n",
    "PROJECT_DATASET_DIR = \"../Datasets/\"\n",
    "PROJECT_DATASET_FILE = \"Netflix_Data.xlsx\"\n",
    "\n",
    "# Definindo o nome completo (path) onde está armazenado o dataset original do projeto:\n",
    "PROJECT_DATASET_PATH = paste(PROJECT_DATASET_DIR,PROJECT_DATASET_FILE, sep = \"\")\n",
    "\n",
    "# Definindo o diretório onde ficará armazenado o \"dataset\" do projeto como um objeto \"dataframe\":\n",
    "PROJECT_DATA_PATH = \"./Data/\"\n",
    "# Criando o diretório, se ele não existir:\n",
    "if (dir.exists(PROJECT_DATA_PATH) == FALSE){\n",
    "    dir.create(PROJECT_DATA_PATH)\n",
    "}\n",
    "\n",
    "sprintf(\"Diretórios do projeto:\")\n",
    "list.dirs(path = \"..\", full.names = TRUE, recursive = TRUE)\n",
    "\n",
    "# Configura a linguagem para o ambiente de desenvolvimento:\n",
    "Sys.setenv(LANGUAGE = \"en\")\n",
    "\n",
    "sprintf(\"Setup Complete!\")"
   ]
  },
  {
   "cell_type": "markdown",
   "metadata": {},
   "source": [
    "## `01-` Carregando o Dataset:"
   ]
  },
  {
   "cell_type": "code",
   "execution_count": 2,
   "metadata": {},
   "outputs": [
    {
     "data": {
      "text/html": [
       "<table>\n",
       "<thead><tr><th scope=col>Time</th><th scope=col>Total subscriptions at end of period</th><th scope=col>Paid subscriptions at end of period</th><th scope=col>Free Trials</th><th scope=col>Revenue</th><th scope=col>Cost of revenues</th><th scope=col>Marketing</th><th scope=col>Contribution profit</th><th scope=col>Contribution Margin</th><th scope=col>Cost per Customer (excluding marketing)</th><th scope=col>Revenue per Customer</th><th scope=col>Earnings per Customer</th><th scope=col>Segment</th></tr></thead>\n",
       "<tbody>\n",
       "\t<tr><td>March 31,2012    </td><td>23410            </td><td>22022            </td><td>1388             </td><td>506665           </td><td>360776           </td><td>79381            </td><td> 66508           </td><td>0.131            </td><td>15.41119         </td><td>21.64310         </td><td>6.231909         </td><td>Streaming        </td></tr>\n",
       "\t<tr><td>June 30,2012     </td><td>23938            </td><td>22686            </td><td>1252             </td><td>532705           </td><td>378574           </td><td>70959            </td><td> 83172           </td><td>0.156            </td><td>15.81477         </td><td>22.25353         </td><td>6.438758         </td><td>Streaming        </td></tr>\n",
       "\t<tr><td>September 30,2012</td><td>25101            </td><td>23801            </td><td>1300             </td><td>556027           </td><td>399124           </td><td>65955            </td><td> 90948           </td><td>0.164            </td><td>15.90072         </td><td>22.15159         </td><td>6.250866         </td><td>Streaming        </td></tr>\n",
       "\t<tr><td>December 31,2012 </td><td>27146            </td><td>25471            </td><td>1675             </td><td>589471           </td><td>420390           </td><td>59777            </td><td>109304           </td><td>0.185            </td><td>15.48626         </td><td>21.71484         </td><td>6.228579         </td><td>Streaming        </td></tr>\n",
       "\t<tr><td>March 31,2013    </td><td>29174            </td><td>27913            </td><td>1261             </td><td>638649           </td><td>440334           </td><td>66965            </td><td>131350           </td><td>0.206            </td><td>15.09337         </td><td>21.89103         </td><td>6.797662         </td><td>Streaming        </td></tr>\n",
       "\t<tr><td>June 30,2013     </td><td>29807            </td><td>28624            </td><td>1183             </td><td>671089           </td><td>452598           </td><td>67177            </td><td>151314           </td><td>0.225            </td><td>15.18429         </td><td>22.51448         </td><td>7.330191         </td><td>Streaming        </td></tr>\n",
       "</tbody>\n",
       "</table>\n"
      ],
      "text/latex": [
       "\\begin{tabular}{r|lllllllllllll}\n",
       " Time & Total subscriptions at end of period & Paid subscriptions at end of period & Free Trials & Revenue & Cost of revenues & Marketing & Contribution profit & Contribution Margin & Cost per Customer (excluding marketing) & Revenue per Customer & Earnings per Customer & Segment\\\\\n",
       "\\hline\n",
       "\t March 31,2012     & 23410             & 22022             & 1388              & 506665            & 360776            & 79381             &  66508            & 0.131             & 15.41119          & 21.64310          & 6.231909          & Streaming        \\\\\n",
       "\t June 30,2012      & 23938             & 22686             & 1252              & 532705            & 378574            & 70959             &  83172            & 0.156             & 15.81477          & 22.25353          & 6.438758          & Streaming        \\\\\n",
       "\t September 30,2012 & 25101             & 23801             & 1300              & 556027            & 399124            & 65955             &  90948            & 0.164             & 15.90072          & 22.15159          & 6.250866          & Streaming        \\\\\n",
       "\t December 31,2012  & 27146             & 25471             & 1675              & 589471            & 420390            & 59777             & 109304            & 0.185             & 15.48626          & 21.71484          & 6.228579          & Streaming        \\\\\n",
       "\t March 31,2013     & 29174             & 27913             & 1261              & 638649            & 440334            & 66965             & 131350            & 0.206             & 15.09337          & 21.89103          & 6.797662          & Streaming        \\\\\n",
       "\t June 30,2013      & 29807             & 28624             & 1183              & 671089            & 452598            & 67177             & 151314            & 0.225             & 15.18429          & 22.51448          & 7.330191          & Streaming        \\\\\n",
       "\\end{tabular}\n"
      ],
      "text/markdown": [
       "\n",
       "| Time | Total subscriptions at end of period | Paid subscriptions at end of period | Free Trials | Revenue | Cost of revenues | Marketing | Contribution profit | Contribution Margin | Cost per Customer (excluding marketing) | Revenue per Customer | Earnings per Customer | Segment |\n",
       "|---|---|---|---|---|---|---|---|---|---|---|---|---|\n",
       "| March 31,2012     | 23410             | 22022             | 1388              | 506665            | 360776            | 79381             |  66508            | 0.131             | 15.41119          | 21.64310          | 6.231909          | Streaming         |\n",
       "| June 30,2012      | 23938             | 22686             | 1252              | 532705            | 378574            | 70959             |  83172            | 0.156             | 15.81477          | 22.25353          | 6.438758          | Streaming         |\n",
       "| September 30,2012 | 25101             | 23801             | 1300              | 556027            | 399124            | 65955             |  90948            | 0.164             | 15.90072          | 22.15159          | 6.250866          | Streaming         |\n",
       "| December 31,2012  | 27146             | 25471             | 1675              | 589471            | 420390            | 59777             | 109304            | 0.185             | 15.48626          | 21.71484          | 6.228579          | Streaming         |\n",
       "| March 31,2013     | 29174             | 27913             | 1261              | 638649            | 440334            | 66965             | 131350            | 0.206             | 15.09337          | 21.89103          | 6.797662          | Streaming         |\n",
       "| June 30,2013      | 29807             | 28624             | 1183              | 671089            | 452598            | 67177             | 151314            | 0.225             | 15.18429          | 22.51448          | 7.330191          | Streaming         |\n",
       "\n"
      ],
      "text/plain": [
       "  Time              Total subscriptions at end of period\n",
       "1 March 31,2012     23410                               \n",
       "2 June 30,2012      23938                               \n",
       "3 September 30,2012 25101                               \n",
       "4 December 31,2012  27146                               \n",
       "5 March 31,2013     29174                               \n",
       "6 June 30,2013      29807                               \n",
       "  Paid subscriptions at end of period Free Trials Revenue Cost of revenues\n",
       "1 22022                               1388        506665  360776          \n",
       "2 22686                               1252        532705  378574          \n",
       "3 23801                               1300        556027  399124          \n",
       "4 25471                               1675        589471  420390          \n",
       "5 27913                               1261        638649  440334          \n",
       "6 28624                               1183        671089  452598          \n",
       "  Marketing Contribution profit Contribution Margin\n",
       "1 79381      66508              0.131              \n",
       "2 70959      83172              0.156              \n",
       "3 65955      90948              0.164              \n",
       "4 59777     109304              0.185              \n",
       "5 66965     131350              0.206              \n",
       "6 67177     151314              0.225              \n",
       "  Cost per Customer (excluding marketing) Revenue per Customer\n",
       "1 15.41119                                21.64310            \n",
       "2 15.81477                                22.25353            \n",
       "3 15.90072                                22.15159            \n",
       "4 15.48626                                21.71484            \n",
       "5 15.09337                                21.89103            \n",
       "6 15.18429                                22.51448            \n",
       "  Earnings per Customer Segment  \n",
       "1 6.231909              Streaming\n",
       "2 6.438758              Streaming\n",
       "3 6.250866              Streaming\n",
       "4 6.228579              Streaming\n",
       "5 6.797662              Streaming\n",
       "6 7.330191              Streaming"
      ]
     },
     "metadata": {},
     "output_type": "display_data"
    }
   ],
   "source": [
    "# Fazendo a leitura do dataset e salvando os dados em um objeto \"dataframe\":\n",
    "df_data <- read_xlsx(path = PROJECT_DATASET_PATH, sheet = \"Dados\")\n",
    "head(df_data)"
   ]
  },
  {
   "cell_type": "code",
   "execution_count": 3,
   "metadata": {},
   "outputs": [
    {
     "name": "stdout",
     "output_type": "stream",
     "text": [
      "tibble [28 x 13] (S3: tbl_df/tbl/data.frame)\n",
      " $ Time                                   : chr [1:28] \"March 31,2012\" \"June 30,2012\" \"September 30,2012\" \"December 31,2012\" ...\n",
      " $ Total subscriptions at end of period   : num [1:28] 23410 23938 25101 27146 29174 ...\n",
      " $ Paid subscriptions at end of period    : num [1:28] 22022 22686 23801 25471 27913 ...\n",
      " $ Free Trials                            : num [1:28] 1388 1252 1300 1675 1261 ...\n",
      " $ Revenue                                : num [1:28] 506665 532705 556027 589471 638649 ...\n",
      " $ Cost of revenues                       : num [1:28] 360776 378574 399124 420390 440334 ...\n",
      " $ Marketing                              : num [1:28] 79381 70959 65955 59777 66965 ...\n",
      " $ Contribution profit                    : num [1:28] 66508 83172 90948 109304 131350 ...\n",
      " $ Contribution Margin                    : num [1:28] 0.131 0.156 0.164 0.185 0.206 0.225 0.237 0.234 0.252 0.271 ...\n",
      " $ Cost per Customer (excluding marketing): num [1:28] 15.4 15.8 15.9 15.5 15.1 ...\n",
      " $ Revenue per Customer                   : num [1:28] 21.6 22.3 22.2 21.7 21.9 ...\n",
      " $ Earnings per Customer                  : num [1:28] 6.23 6.44 6.25 6.23 6.8 ...\n",
      " $ Segment                                : chr [1:28] \"Streaming\" \"Streaming\" \"Streaming\" \"Streaming\" ...\n"
     ]
    }
   ],
   "source": [
    "# Resumo dos dados:\n",
    "str(df_data)"
   ]
  },
  {
   "cell_type": "markdown",
   "metadata": {},
   "source": [
    "## `02-` Analisando Informações (Observações) Duplicadas no Dataset:"
   ]
  },
  {
   "cell_type": "code",
   "execution_count": 4,
   "metadata": {},
   "outputs": [
    {
     "data": {
      "text/html": [
       "0"
      ],
      "text/latex": [
       "0"
      ],
      "text/markdown": [
       "0"
      ],
      "text/plain": [
       "[1] 0"
      ]
     },
     "metadata": {},
     "output_type": "display_data"
    }
   ],
   "source": [
    "# Verificando se existem registros/linhas duplicadas no DataFrame \"df_data\":\n",
    "anyDuplicated(df_data)"
   ]
  },
  {
   "cell_type": "markdown",
   "metadata": {},
   "source": [
    "## `03-` Analisando *Missing Values* (*`NaN`*) no Dataset:"
   ]
  },
  {
   "cell_type": "code",
   "execution_count": 5,
   "metadata": {
    "scrolled": true
   },
   "outputs": [
    {
     "data": {
      "text/html": [
       "0"
      ],
      "text/latex": [
       "0"
      ],
      "text/markdown": [
       "0"
      ],
      "text/plain": [
       "[1] 0"
      ]
     },
     "metadata": {},
     "output_type": "display_data"
    }
   ],
   "source": [
    "# Verificando se existem valores ausentes no DataFrame \"df_data\":\n",
    "sum(is.na(df_data))"
   ]
  },
  {
   "cell_type": "markdown",
   "metadata": {},
   "source": [
    "## `04-` Realizando o pré-processamento dos dados:"
   ]
  },
  {
   "cell_type": "markdown",
   "metadata": {},
   "source": [
    "Nesta etapa vamos realizar as seguintes tarefas de pré-processamento:\n",
    "\n",
    "* Trocar os nomes das variáveis (colunas);\n",
    "\n",
    "\n",
    "* Converter a variável `Data` para *datetime* (formato data/hora);\n",
    "\n",
    "\n",
    "* Criar a variável `Trimestre` e depois convertê-la para categórica ordinal (classes: `Q1`, `Q2`, `Q3` e `Q4`);\n",
    "\n",
    "\n",
    "* Criar a variável `Ano` e depois convertê-la para categórica ordinal (classes: `2012`, `2013`, ...`2018`);\n",
    "\n",
    "\n",
    "* Converter a variável `Segmento` para categórica nominal;\n",
    "\n",
    "\n",
    "* Criar a variável `custo_total`, cujo cálculo é dado por: `custo_total = custo_da_receita + custo_marketing`;\n",
    "\n",
    "\n",
    "* Criar a variável `prop_clientes_novos`, cujo cálculo é dado por: `prop_clientes_novos = clientes_novos/total_clientes`;\n",
    "\n",
    "\n",
    "* Criar um outro dataframe, agrupando os dados por **`ano`**. "
   ]
  },
  {
   "cell_type": "markdown",
   "metadata": {},
   "source": [
    "### `4.1-` Substituindo os nomes das colunas (`variáveis`) do nosso dataset:"
   ]
  },
  {
   "cell_type": "code",
   "execution_count": 6,
   "metadata": {},
   "outputs": [
    {
     "data": {
      "text/html": [
       "<ol class=list-inline>\n",
       "\t<li>'data'</li>\n",
       "\t<li>'total_clientes'</li>\n",
       "\t<li>'clientes_atuais'</li>\n",
       "\t<li>'clientes_novos'</li>\n",
       "\t<li>'receita_total'</li>\n",
       "\t<li>'custo_da_receita'</li>\n",
       "\t<li>'custo_marketing'</li>\n",
       "\t<li>'lucro_de_contribuicao'</li>\n",
       "\t<li>'margem_de_contribuicao'</li>\n",
       "\t<li>'custo_por_cliente'</li>\n",
       "\t<li>'receita_por_cliente'</li>\n",
       "\t<li>'rendimento_por_cliente'</li>\n",
       "\t<li>'segmento'</li>\n",
       "</ol>\n"
      ],
      "text/latex": [
       "\\begin{enumerate*}\n",
       "\\item 'data'\n",
       "\\item 'total\\_clientes'\n",
       "\\item 'clientes\\_atuais'\n",
       "\\item 'clientes\\_novos'\n",
       "\\item 'receita\\_total'\n",
       "\\item 'custo\\_da\\_receita'\n",
       "\\item 'custo\\_marketing'\n",
       "\\item 'lucro\\_de\\_contribuicao'\n",
       "\\item 'margem\\_de\\_contribuicao'\n",
       "\\item 'custo\\_por\\_cliente'\n",
       "\\item 'receita\\_por\\_cliente'\n",
       "\\item 'rendimento\\_por\\_cliente'\n",
       "\\item 'segmento'\n",
       "\\end{enumerate*}\n"
      ],
      "text/markdown": [
       "1. 'data'\n",
       "2. 'total_clientes'\n",
       "3. 'clientes_atuais'\n",
       "4. 'clientes_novos'\n",
       "5. 'receita_total'\n",
       "6. 'custo_da_receita'\n",
       "7. 'custo_marketing'\n",
       "8. 'lucro_de_contribuicao'\n",
       "9. 'margem_de_contribuicao'\n",
       "10. 'custo_por_cliente'\n",
       "11. 'receita_por_cliente'\n",
       "12. 'rendimento_por_cliente'\n",
       "13. 'segmento'\n",
       "\n",
       "\n"
      ],
      "text/plain": [
       " [1] \"data\"                   \"total_clientes\"         \"clientes_atuais\"       \n",
       " [4] \"clientes_novos\"         \"receita_total\"          \"custo_da_receita\"      \n",
       " [7] \"custo_marketing\"        \"lucro_de_contribuicao\"  \"margem_de_contribuicao\"\n",
       "[10] \"custo_por_cliente\"      \"receita_por_cliente\"    \"rendimento_por_cliente\"\n",
       "[13] \"segmento\"              "
      ]
     },
     "metadata": {},
     "output_type": "display_data"
    }
   ],
   "source": [
    "# Substituindo os nomes das colunas (variáveis) do nosso dataset:\n",
    "features_names <- c('data', 'total_clientes', 'clientes_atuais', 'clientes_novos', 'receita_total', 'custo_da_receita',\n",
    "                    'custo_marketing', 'lucro_de_contribuicao', 'margem_de_contribuicao', 'custo_por_cliente',\n",
    "                    'receita_por_cliente', 'rendimento_por_cliente', 'segmento'\n",
    "                   )\n",
    "\n",
    "# Alterando os nomes das colunas (variáveis):\n",
    "colnames(df_data) <- features_names\n",
    "\n",
    "# Verificando os nomes das colunas (variáveis) alterados:\n",
    "colnames(df_data)"
   ]
  },
  {
   "cell_type": "markdown",
   "metadata": {},
   "source": [
    "### `4.2-` Feature Engineering:"
   ]
  },
  {
   "cell_type": "code",
   "execution_count": 7,
   "metadata": {
    "scrolled": false
   },
   "outputs": [],
   "source": [
    "# Realizando \"Feature Engineering\" nos dados:\n",
    "df_data <- mutate(df_data,\n",
    "                  # Convertendo a variável \"data\" para o tipo \"date\" (data):\n",
    "                  data = mdy(data),\n",
    "                  # Criando a variável \"trimestre\":\n",
    "                  trimestre = quarter(x = data, with_year = FALSE),\n",
    "                  # Criando a variável \"ano\":\n",
    "                  ano = year(x = data),\n",
    "                  # Convertendo a variável \"segmento\" para o tipo \"factor\" (categórica nominal):\n",
    "                  segmento = factor(segmento, sort(unique(segmento))),\n",
    "                  # Criando a variável \"custo_total\" em cada trimestre:\n",
    "                  custo_total = custo_da_receita + custo_marketing,\n",
    "                  # Criando a variável \"prop_clientes_novos\", acumulada, em cada trimestre:\n",
    "                  prop_clientes_novos = clientes_novos/total_clientes,\n",
    "                  # Convertendo a variável \"trimestre\" para o tipo \"factor\" (categórica ordinal):\n",
    "                  trimestre_cat = factor(trimestre, sort(unique(trimestre)), c(\"Q1\",\"Q2\", \"Q3\", \"Q4\"), \n",
    "                                         ordered = TRUE),\n",
    "                  # Convertendo a variável \"ano\" para o tipo \"factor\" (categórica ordinal):\n",
    "                  ano_cat = factor(ano, sort(unique(ano)), ordered = TRUE)\n",
    "                 )"
   ]
  },
  {
   "cell_type": "code",
   "execution_count": 8,
   "metadata": {},
   "outputs": [
    {
     "name": "stdout",
     "output_type": "stream",
     "text": [
      "tibble [28 x 19] (S3: tbl_df/tbl/data.frame)\n",
      " $ data                  : Date[1:28], format: \"2012-03-31\" \"2012-06-30\" ...\n",
      " $ total_clientes        : num [1:28] 23410 23938 25101 27146 29174 ...\n",
      " $ clientes_atuais       : num [1:28] 22022 22686 23801 25471 27913 ...\n",
      " $ clientes_novos        : num [1:28] 1388 1252 1300 1675 1261 ...\n",
      " $ receita_total         : num [1:28] 506665 532705 556027 589471 638649 ...\n",
      " $ custo_da_receita      : num [1:28] 360776 378574 399124 420390 440334 ...\n",
      " $ custo_marketing       : num [1:28] 79381 70959 65955 59777 66965 ...\n",
      " $ lucro_de_contribuicao : num [1:28] 66508 83172 90948 109304 131350 ...\n",
      " $ margem_de_contribuicao: num [1:28] 0.131 0.156 0.164 0.185 0.206 0.225 0.237 0.234 0.252 0.271 ...\n",
      " $ custo_por_cliente     : num [1:28] 15.4 15.8 15.9 15.5 15.1 ...\n",
      " $ receita_por_cliente   : num [1:28] 21.6 22.3 22.2 21.7 21.9 ...\n",
      " $ rendimento_por_cliente: num [1:28] 6.23 6.44 6.25 6.23 6.8 ...\n",
      " $ segmento              : Factor w/ 1 level \"Streaming\": 1 1 1 1 1 1 1 1 1 1 ...\n",
      " $ trimestre             : int [1:28] 1 2 3 4 1 2 3 4 1 2 ...\n",
      " $ ano                   : num [1:28] 2012 2012 2012 2012 2013 ...\n",
      " $ custo_total           : num [1:28] 440157 449533 465079 480167 507299 ...\n",
      " $ prop_clientes_novos   : num [1:28] 0.0593 0.0523 0.0518 0.0617 0.0432 ...\n",
      " $ trimestre_cat         : Ord.factor w/ 4 levels \"Q1\"<\"Q2\"<\"Q3\"<..: 1 2 3 4 1 2 3 4 1 2 ...\n",
      " $ ano_cat               : Ord.factor w/ 7 levels \"2012\"<\"2013\"<..: 1 1 1 1 2 2 2 2 3 3 ...\n"
     ]
    }
   ],
   "source": [
    "# Resumo dos dados atualizados:\n",
    "str(df_data)"
   ]
  },
  {
   "cell_type": "markdown",
   "metadata": {},
   "source": [
    "### Agora, vamos resumir os dados por `ano`, criando um outro *`dataframe`*:"
   ]
  },
  {
   "cell_type": "code",
   "execution_count": 9,
   "metadata": {},
   "outputs": [
    {
     "name": "stderr",
     "output_type": "stream",
     "text": [
      "`summarise()` ungrouping output (override with `.groups` argument)\n"
     ]
    },
    {
     "data": {
      "text/html": [
       "<table>\n",
       "<thead><tr><th scope=col>ano</th><th scope=col>receita_total</th><th scope=col>custo_da_receita</th><th scope=col>custo_marketing</th><th scope=col>lucro_de_contribuicao</th><th scope=col>total_clientes</th><th scope=col>clientes_atuais</th><th scope=col>clientes_novos</th><th scope=col>margem_de_contribuicao</th><th scope=col>custo_por_cliente</th><th scope=col>receita_por_cliente</th><th scope=col>rendimento_por_cliente</th><th scope=col>custo_total</th><th scope=col>prop_clientes_novos</th><th scope=col>ano_cat</th></tr></thead>\n",
       "<tbody>\n",
       "\t<tr><td>2012      </td><td>2184868   </td><td>1558864   </td><td> 276072   </td><td> 349932   </td><td>27146     </td><td>25471     </td><td>1675      </td><td>0.1601616 </td><td>57.42518  </td><td> 80.48582 </td><td>23.06064  </td><td>1834936   </td><td>0.06170338</td><td>2012      </td></tr>\n",
       "\t<tr><td>2013      </td><td>2751375   </td><td>1863376   </td><td> 265232   </td><td> 622767   </td><td>33420     </td><td>31712     </td><td>1708      </td><td>0.2263476 </td><td>55.75631  </td><td> 82.32720 </td><td>26.57089  </td><td>2128608   </td><td>0.05110712</td><td>2013      </td></tr>\n",
       "\t<tr><td>2014      </td><td>3431434   </td><td>2201761   </td><td> 293453   </td><td> 936220   </td><td>39114     </td><td>37698     </td><td>1416      </td><td>0.2728364 </td><td>56.29087  </td><td> 87.72905 </td><td>31.43818  </td><td>2495214   </td><td>0.03620187</td><td>2014      </td></tr>\n",
       "\t<tr><td>2015      </td><td>4180339   </td><td>2487193   </td><td> 317646   </td><td>1375500   </td><td>44738     </td><td>43401     </td><td>1337      </td><td>0.3290403 </td><td>55.59464  </td><td> 93.44045 </td><td>37.84581  </td><td>2804839   </td><td>0.02988511</td><td>2015      </td></tr>\n",
       "\t<tr><td>2016      </td><td>5077307   </td><td>2951973   </td><td> 412928   </td><td>1712406   </td><td>47905     </td><td>46379     </td><td>1526      </td><td>0.3372666 </td><td>61.62140  </td><td>105.98700 </td><td>44.36560  </td><td>3364901   </td><td>0.03185471</td><td>2016      </td></tr>\n",
       "\t<tr><td>2017      </td><td>6153025   </td><td>3470859   </td><td> 603746   </td><td>2078420   </td><td>52810     </td><td>50870     </td><td>1940      </td><td>0.3377883 </td><td>65.72352  </td><td>116.51250 </td><td>50.78898  </td><td>4074605   </td><td>0.03673547</td><td>2017      </td></tr>\n",
       "\t<tr><td>2018      </td><td>7646647   </td><td>4038394   </td><td>1025351   </td><td>2582902   </td><td>58486     </td><td>56421     </td><td>2065      </td><td>0.3377823 </td><td>69.04890  </td><td>130.74320 </td><td>61.69430  </td><td>5063745   </td><td>0.03530759</td><td>2018      </td></tr>\n",
       "</tbody>\n",
       "</table>\n"
      ],
      "text/latex": [
       "\\begin{tabular}{r|lllllllllllllll}\n",
       " ano & receita\\_total & custo\\_da\\_receita & custo\\_marketing & lucro\\_de\\_contribuicao & total\\_clientes & clientes\\_atuais & clientes\\_novos & margem\\_de\\_contribuicao & custo\\_por\\_cliente & receita\\_por\\_cliente & rendimento\\_por\\_cliente & custo\\_total & prop\\_clientes\\_novos & ano\\_cat\\\\\n",
       "\\hline\n",
       "\t 2012       & 2184868    & 1558864    &  276072    &  349932    & 27146      & 25471      & 1675       & 0.1601616  & 57.42518   &  80.48582  & 23.06064   & 1834936    & 0.06170338 & 2012      \\\\\n",
       "\t 2013       & 2751375    & 1863376    &  265232    &  622767    & 33420      & 31712      & 1708       & 0.2263476  & 55.75631   &  82.32720  & 26.57089   & 2128608    & 0.05110712 & 2013      \\\\\n",
       "\t 2014       & 3431434    & 2201761    &  293453    &  936220    & 39114      & 37698      & 1416       & 0.2728364  & 56.29087   &  87.72905  & 31.43818   & 2495214    & 0.03620187 & 2014      \\\\\n",
       "\t 2015       & 4180339    & 2487193    &  317646    & 1375500    & 44738      & 43401      & 1337       & 0.3290403  & 55.59464   &  93.44045  & 37.84581   & 2804839    & 0.02988511 & 2015      \\\\\n",
       "\t 2016       & 5077307    & 2951973    &  412928    & 1712406    & 47905      & 46379      & 1526       & 0.3372666  & 61.62140   & 105.98700  & 44.36560   & 3364901    & 0.03185471 & 2016      \\\\\n",
       "\t 2017       & 6153025    & 3470859    &  603746    & 2078420    & 52810      & 50870      & 1940       & 0.3377883  & 65.72352   & 116.51250  & 50.78898   & 4074605    & 0.03673547 & 2017      \\\\\n",
       "\t 2018       & 7646647    & 4038394    & 1025351    & 2582902    & 58486      & 56421      & 2065       & 0.3377823  & 69.04890   & 130.74320  & 61.69430   & 5063745    & 0.03530759 & 2018      \\\\\n",
       "\\end{tabular}\n"
      ],
      "text/markdown": [
       "\n",
       "| ano | receita_total | custo_da_receita | custo_marketing | lucro_de_contribuicao | total_clientes | clientes_atuais | clientes_novos | margem_de_contribuicao | custo_por_cliente | receita_por_cliente | rendimento_por_cliente | custo_total | prop_clientes_novos | ano_cat |\n",
       "|---|---|---|---|---|---|---|---|---|---|---|---|---|---|---|\n",
       "| 2012       | 2184868    | 1558864    |  276072    |  349932    | 27146      | 25471      | 1675       | 0.1601616  | 57.42518   |  80.48582  | 23.06064   | 1834936    | 0.06170338 | 2012       |\n",
       "| 2013       | 2751375    | 1863376    |  265232    |  622767    | 33420      | 31712      | 1708       | 0.2263476  | 55.75631   |  82.32720  | 26.57089   | 2128608    | 0.05110712 | 2013       |\n",
       "| 2014       | 3431434    | 2201761    |  293453    |  936220    | 39114      | 37698      | 1416       | 0.2728364  | 56.29087   |  87.72905  | 31.43818   | 2495214    | 0.03620187 | 2014       |\n",
       "| 2015       | 4180339    | 2487193    |  317646    | 1375500    | 44738      | 43401      | 1337       | 0.3290403  | 55.59464   |  93.44045  | 37.84581   | 2804839    | 0.02988511 | 2015       |\n",
       "| 2016       | 5077307    | 2951973    |  412928    | 1712406    | 47905      | 46379      | 1526       | 0.3372666  | 61.62140   | 105.98700  | 44.36560   | 3364901    | 0.03185471 | 2016       |\n",
       "| 2017       | 6153025    | 3470859    |  603746    | 2078420    | 52810      | 50870      | 1940       | 0.3377883  | 65.72352   | 116.51250  | 50.78898   | 4074605    | 0.03673547 | 2017       |\n",
       "| 2018       | 7646647    | 4038394    | 1025351    | 2582902    | 58486      | 56421      | 2065       | 0.3377823  | 69.04890   | 130.74320  | 61.69430   | 5063745    | 0.03530759 | 2018       |\n",
       "\n"
      ],
      "text/plain": [
       "  ano  receita_total custo_da_receita custo_marketing lucro_de_contribuicao\n",
       "1 2012 2184868       1558864           276072          349932              \n",
       "2 2013 2751375       1863376           265232          622767              \n",
       "3 2014 3431434       2201761           293453          936220              \n",
       "4 2015 4180339       2487193           317646         1375500              \n",
       "5 2016 5077307       2951973           412928         1712406              \n",
       "6 2017 6153025       3470859           603746         2078420              \n",
       "7 2018 7646647       4038394          1025351         2582902              \n",
       "  total_clientes clientes_atuais clientes_novos margem_de_contribuicao\n",
       "1 27146          25471           1675           0.1601616             \n",
       "2 33420          31712           1708           0.2263476             \n",
       "3 39114          37698           1416           0.2728364             \n",
       "4 44738          43401           1337           0.3290403             \n",
       "5 47905          46379           1526           0.3372666             \n",
       "6 52810          50870           1940           0.3377883             \n",
       "7 58486          56421           2065           0.3377823             \n",
       "  custo_por_cliente receita_por_cliente rendimento_por_cliente custo_total\n",
       "1 57.42518           80.48582           23.06064               1834936    \n",
       "2 55.75631           82.32720           26.57089               2128608    \n",
       "3 56.29087           87.72905           31.43818               2495214    \n",
       "4 55.59464           93.44045           37.84581               2804839    \n",
       "5 61.62140          105.98700           44.36560               3364901    \n",
       "6 65.72352          116.51250           50.78898               4074605    \n",
       "7 69.04890          130.74320           61.69430               5063745    \n",
       "  prop_clientes_novos ano_cat\n",
       "1 0.06170338          2012   \n",
       "2 0.05110712          2013   \n",
       "3 0.03620187          2014   \n",
       "4 0.02988511          2015   \n",
       "5 0.03185471          2016   \n",
       "6 0.03673547          2017   \n",
       "7 0.03530759          2018   "
      ]
     },
     "metadata": {},
     "output_type": "display_data"
    }
   ],
   "source": [
    "# Criando um dataframe temporário, onde algumas informações foram somadas e agrupadas por \"ano\":\n",
    "df_temp1_by_year <- df_data %>%\n",
    "    group_by(ano) %>%\n",
    "    summarise(\n",
    "        receita_total = sum(receita_total, na.rm = TRUE),\n",
    "        custo_da_receita = sum(custo_da_receita, na.rm = TRUE),\n",
    "        custo_marketing = sum(custo_marketing, na.rm = TRUE),\n",
    "        lucro_de_contribuicao = sum(lucro_de_contribuicao, na.rm = TRUE),\n",
    "        n = n()\n",
    "    )\n",
    "\n",
    "# Criando um segundo dataframe temporário, onde selecionamos algumas informações por \"ano\":\n",
    "df_temp2_by_year <- filter(select(df_data, total_clientes, clientes_atuais, clientes_novos, trimestre_cat),\n",
    "                           trimestre_cat == \"Q4\")\n",
    "\n",
    "# Juntando os dois dataframes:\n",
    "df_data_by_year <- cbind(df_temp1_by_year, df_temp2_by_year)\n",
    "# Eliminando as colunas que não serão utilizadas:\n",
    "df_data_by_year$n = NULL\n",
    "df_data_by_year$trimestre_cat = NULL\n",
    "\n",
    "# Calculando outras informações importantes por ano:\n",
    "df_data_by_year <- mutate(df_data_by_year,\n",
    "                          # Calculando a margem de contribuição por ano:\n",
    "                          margem_de_contribuicao = lucro_de_contribuicao/receita_total,\n",
    "                          # Calculando o custo por cliente por ano:\n",
    "                          custo_por_cliente = custo_da_receita/total_clientes,\n",
    "                          # Calculando a receita por cliente por ano:\n",
    "                          receita_por_cliente = receita_total/total_clientes,\n",
    "                          # Calculando o rendimento por cliente por ano:\n",
    "                          rendimento_por_cliente = receita_por_cliente - custo_por_cliente,\n",
    "                          # Calculando o custo total por ano:\n",
    "                          custo_total = custo_da_receita + custo_marketing,\n",
    "                          # Calculando a proporção de clientes novos, acumulada, por ano:\n",
    "                          prop_clientes_novos = clientes_novos/total_clientes,\n",
    "                          # Convertendo a variável \"ano\" para o tipo \"factor\" (categórica ordinal):\n",
    "                          ano_cat = factor(ano, sort(unique(ano)), ordered = TRUE)\n",
    "                         )\n",
    "\n",
    "# Visualizando o dataframe com todas as variáveis criadas:\n",
    "df_data_by_year"
   ]
  },
  {
   "cell_type": "code",
   "execution_count": 10,
   "metadata": {},
   "outputs": [
    {
     "name": "stdout",
     "output_type": "stream",
     "text": [
      "'data.frame':\t7 obs. of  15 variables:\n",
      " $ ano                   : num  2012 2013 2014 2015 2016 ...\n",
      " $ receita_total         : num  2184868 2751375 3431434 4180339 5077307 ...\n",
      " $ custo_da_receita      : num  1558864 1863376 2201761 2487193 2951973 ...\n",
      " $ custo_marketing       : num  276072 265232 293453 317646 412928 ...\n",
      " $ lucro_de_contribuicao : num  349932 622767 936220 1375500 1712406 ...\n",
      " $ total_clientes        : num  27146 33420 39114 44738 47905 ...\n",
      " $ clientes_atuais       : num  25471 31712 37698 43401 46379 ...\n",
      " $ clientes_novos        : num  1675 1708 1416 1337 1526 ...\n",
      " $ margem_de_contribuicao: num  0.16 0.226 0.273 0.329 0.337 ...\n",
      " $ custo_por_cliente     : num  57.4 55.8 56.3 55.6 61.6 ...\n",
      " $ receita_por_cliente   : num  80.5 82.3 87.7 93.4 106 ...\n",
      " $ rendimento_por_cliente: num  23.1 26.6 31.4 37.8 44.4 ...\n",
      " $ custo_total           : num  1834936 2128608 2495214 2804839 3364901 ...\n",
      " $ prop_clientes_novos   : num  0.0617 0.0511 0.0362 0.0299 0.0319 ...\n",
      " $ ano_cat               : Ord.factor w/ 7 levels \"2012\"<\"2013\"<..: 1 2 3 4 5 6 7\n"
     ]
    }
   ],
   "source": [
    "# Resumo dos dados:\n",
    "str(df_data_by_year)"
   ]
  },
  {
   "cell_type": "markdown",
   "metadata": {},
   "source": [
    "## `05-` Salvando os objetos *dataframe* em um formato específico chamado de `feather`:"
   ]
  },
  {
   "cell_type": "markdown",
   "metadata": {},
   "source": [
    "### `5.1-` Salvando a base de dados completa:"
   ]
  },
  {
   "cell_type": "code",
   "execution_count": 11,
   "metadata": {},
   "outputs": [],
   "source": [
    "# Definindo o \"path completo\" onde será salvo o arquivo:\n",
    "file_path = paste(PROJECT_DATA_PATH,\"netflix_df.feather\", sep = \"\")\n",
    "\n",
    "# Salvando o dataframe \"df_data\" com todos os dados transformados:\n",
    "write_feather(x = df_data, path = file_path)"
   ]
  },
  {
   "cell_type": "markdown",
   "metadata": {},
   "source": [
    "### `5.2-` Salvando a base de dados agrupada por `ano`:"
   ]
  },
  {
   "cell_type": "code",
   "execution_count": 12,
   "metadata": {},
   "outputs": [
    {
     "data": {
      "text/html": [
       "<ol class=list-inline>\n",
       "\t<li>'netflix_by_year_df.feather'</li>\n",
       "\t<li>'netflix_df.feather'</li>\n",
       "</ol>\n"
      ],
      "text/latex": [
       "\\begin{enumerate*}\n",
       "\\item 'netflix\\_by\\_year\\_df.feather'\n",
       "\\item 'netflix\\_df.feather'\n",
       "\\end{enumerate*}\n"
      ],
      "text/markdown": [
       "1. 'netflix_by_year_df.feather'\n",
       "2. 'netflix_df.feather'\n",
       "\n",
       "\n"
      ],
      "text/plain": [
       "[1] \"netflix_by_year_df.feather\" \"netflix_df.feather\"        "
      ]
     },
     "metadata": {},
     "output_type": "display_data"
    }
   ],
   "source": [
    "# Definindo o \"path completo\" onde será salvo o arquivo:\n",
    "file_path = paste(PROJECT_DATA_PATH,\"netflix_by_year_df.feather\", sep = \"\")\n",
    "\n",
    "# Salvando o dataframe \"df_data\" com todos os dados transformados:\n",
    "write_feather(x = df_data_by_year, path = file_path)\n",
    "\n",
    "# Verificando se os arquivos foram salvos com sucesso:\n",
    "list.files(PROJECT_DATA_PATH)"
   ]
  },
  {
   "cell_type": "markdown",
   "metadata": {},
   "source": [
    "## <font color='black'>FIM</font>"
   ]
  }
 ],
 "metadata": {
  "kernelspec": {
   "display_name": "R",
   "language": "R",
   "name": "ir"
  },
  "language_info": {
   "codemirror_mode": "r",
   "file_extension": ".r",
   "mimetype": "text/x-r-source",
   "name": "R",
   "pygments_lexer": "r",
   "version": "3.6.1"
  }
 },
 "nbformat": 4,
 "nbformat_minor": 2
}
